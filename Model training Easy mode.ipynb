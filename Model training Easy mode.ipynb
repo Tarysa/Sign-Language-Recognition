{
 "cells": [
  {
   "cell_type": "code",
   "execution_count": 1,
   "id": "fc4d9ef6-488c-4c5c-a322-a8da8fabebe5",
   "metadata": {},
   "outputs": [],
   "source": [
    "import tensorflow as tf\n",
    "import pandas as pd\n",
    "import pickle\n",
    "import seaborn as sns\n",
    "import numpy as np\n",
    "import matplotlib.pyplot as plt\n",
    "from sklearn.preprocessing import OneHotEncoder\n",
    "from sklearn.preprocessing import LabelEncoder\n",
    "\n",
    "from sklearn.model_selection import StratifiedShuffleSplit\n",
    "from tensorflow.keras.models import Sequential\n",
    "from sklearn.metrics import confusion_matrix, plot_confusion_matrix, f1_score, accuracy_score, precision_score, recall_score\n",
    "\n",
    "from keras.layers import Input, Dense, GlobalAveragePooling2D, UpSampling2D, add, concatenate, Conv2D, Lambda, BatchNormalization, LeakyReLU, MaxPool2D, LSTM, GRU"
   ]
  },
  {
   "cell_type": "code",
   "execution_count": 2,
   "id": "e2ad36b6-24d1-49f4-a42f-6ce2a4275432",
   "metadata": {},
   "outputs": [],
   "source": [
    "df = pd.read_csv(\"dataset/Video Information Extraction.csv\")"
   ]
  },
  {
   "cell_type": "code",
   "execution_count": 3,
   "id": "eb6cceb5-1bad-4cca-8275-58667f5b8342",
   "metadata": {},
   "outputs": [
    {
     "data": {
      "text/html": [
       "<div>\n",
       "<style scoped>\n",
       "    .dataframe tbody tr th:only-of-type {\n",
       "        vertical-align: middle;\n",
       "    }\n",
       "\n",
       "    .dataframe tbody tr th {\n",
       "        vertical-align: top;\n",
       "    }\n",
       "\n",
       "    .dataframe thead th {\n",
       "        text-align: right;\n",
       "    }\n",
       "</style>\n",
       "<table border=\"1\" class=\"dataframe\">\n",
       "  <thead>\n",
       "    <tr style=\"text-align: right;\">\n",
       "      <th></th>\n",
       "      <th>fps</th>\n",
       "      <th>frame_end</th>\n",
       "      <th>frame_start</th>\n",
       "      <th>instance_id</th>\n",
       "      <th>signer_id</th>\n",
       "      <th>source</th>\n",
       "      <th>split</th>\n",
       "      <th>url</th>\n",
       "      <th>variation_id</th>\n",
       "      <th>video_id</th>\n",
       "      <th>bbox_xmin</th>\n",
       "      <th>bbox_ymin</th>\n",
       "      <th>bbox_xmax</th>\n",
       "      <th>bbox_ymax</th>\n",
       "      <th>gloss</th>\n",
       "    </tr>\n",
       "  </thead>\n",
       "  <tbody>\n",
       "    <tr>\n",
       "      <th>0</th>\n",
       "      <td>25</td>\n",
       "      <td>-1</td>\n",
       "      <td>1</td>\n",
       "      <td>0</td>\n",
       "      <td>118</td>\n",
       "      <td>aslbrick</td>\n",
       "      <td>train</td>\n",
       "      <td>http://aslbricks.org/New/ASL-Videos/book.mp4</td>\n",
       "      <td>0</td>\n",
       "      <td>69241</td>\n",
       "      <td>385</td>\n",
       "      <td>37</td>\n",
       "      <td>885</td>\n",
       "      <td>720</td>\n",
       "      <td>book</td>\n",
       "    </tr>\n",
       "    <tr>\n",
       "      <th>1</th>\n",
       "      <td>25</td>\n",
       "      <td>-1</td>\n",
       "      <td>1</td>\n",
       "      <td>10</td>\n",
       "      <td>31</td>\n",
       "      <td>signschool</td>\n",
       "      <td>train</td>\n",
       "      <td>https://signstock.blob.core.windows.net/signsc...</td>\n",
       "      <td>0</td>\n",
       "      <td>7069</td>\n",
       "      <td>462</td>\n",
       "      <td>44</td>\n",
       "      <td>949</td>\n",
       "      <td>720</td>\n",
       "      <td>book</td>\n",
       "    </tr>\n",
       "    <tr>\n",
       "      <th>2</th>\n",
       "      <td>25</td>\n",
       "      <td>-1</td>\n",
       "      <td>1</td>\n",
       "      <td>17</td>\n",
       "      <td>36</td>\n",
       "      <td>startasl</td>\n",
       "      <td>train</td>\n",
       "      <td>https://s3-us-west-1.amazonaws.com/files.start...</td>\n",
       "      <td>0</td>\n",
       "      <td>7068</td>\n",
       "      <td>234</td>\n",
       "      <td>17</td>\n",
       "      <td>524</td>\n",
       "      <td>414</td>\n",
       "      <td>book</td>\n",
       "    </tr>\n",
       "    <tr>\n",
       "      <th>3</th>\n",
       "      <td>25</td>\n",
       "      <td>-1</td>\n",
       "      <td>1</td>\n",
       "      <td>22</td>\n",
       "      <td>59</td>\n",
       "      <td>asldeafined</td>\n",
       "      <td>train</td>\n",
       "      <td>https://media.asldeafined.com/vocabulary/14666...</td>\n",
       "      <td>0</td>\n",
       "      <td>7070</td>\n",
       "      <td>131</td>\n",
       "      <td>26</td>\n",
       "      <td>526</td>\n",
       "      <td>480</td>\n",
       "      <td>book</td>\n",
       "    </tr>\n",
       "    <tr>\n",
       "      <th>4</th>\n",
       "      <td>25</td>\n",
       "      <td>-1</td>\n",
       "      <td>1</td>\n",
       "      <td>24</td>\n",
       "      <td>12</td>\n",
       "      <td>aslsearch</td>\n",
       "      <td>val</td>\n",
       "      <td>http://www.aslsearch.com/signs/videos/book.mp4</td>\n",
       "      <td>0</td>\n",
       "      <td>7099</td>\n",
       "      <td>162</td>\n",
       "      <td>54</td>\n",
       "      <td>528</td>\n",
       "      <td>400</td>\n",
       "      <td>book</td>\n",
       "    </tr>\n",
       "  </tbody>\n",
       "</table>\n",
       "</div>"
      ],
      "text/plain": [
       "   fps  frame_end  frame_start  instance_id  signer_id       source  split  \\\n",
       "0   25         -1            1            0        118     aslbrick  train   \n",
       "1   25         -1            1           10         31   signschool  train   \n",
       "2   25         -1            1           17         36     startasl  train   \n",
       "3   25         -1            1           22         59  asldeafined  train   \n",
       "4   25         -1            1           24         12    aslsearch    val   \n",
       "\n",
       "                                                 url  variation_id  video_id  \\\n",
       "0       http://aslbricks.org/New/ASL-Videos/book.mp4             0     69241   \n",
       "1  https://signstock.blob.core.windows.net/signsc...             0      7069   \n",
       "2  https://s3-us-west-1.amazonaws.com/files.start...             0      7068   \n",
       "3  https://media.asldeafined.com/vocabulary/14666...             0      7070   \n",
       "4     http://www.aslsearch.com/signs/videos/book.mp4             0      7099   \n",
       "\n",
       "   bbox_xmin  bbox_ymin  bbox_xmax  bbox_ymax gloss  \n",
       "0        385         37        885        720  book  \n",
       "1        462         44        949        720  book  \n",
       "2        234         17        524        414  book  \n",
       "3        131         26        526        480  book  \n",
       "4        162         54        528        400  book  "
      ]
     },
     "execution_count": 3,
     "metadata": {},
     "output_type": "execute_result"
    }
   ],
   "source": [
    "df.head()"
   ]
  },
  {
   "cell_type": "markdown",
   "id": "eb29c2d2-5f32-4917-b408-988cb02054df",
   "metadata": {},
   "source": [
    "We need to remove the identity of the unpreserved video"
   ]
  },
  {
   "cell_type": "code",
   "execution_count": 5,
   "id": "a77c5707-2173-42e3-a8ea-5d137bd57cdc",
   "metadata": {},
   "outputs": [],
   "source": [
    "record = pickle.load(open(\"final_record_cleaned.pkl\", \"rb\"))"
   ]
  },
  {
   "cell_type": "code",
   "execution_count": 6,
   "id": "a0e3f844-4279-4379-afd6-1c17d275d3d5",
   "metadata": {},
   "outputs": [],
   "source": [
    "video_id_kept = list(record.keys())\n",
    "video_id_kept = [int(id.replace('.mp4', '')) for id in video_id_kept]"
   ]
  },
  {
   "cell_type": "code",
   "execution_count": 7,
   "id": "61f08ff2-cf8a-4d2d-9129-a253c2c42d5a",
   "metadata": {},
   "outputs": [],
   "source": [
    "new_df = df[df[\"video_id\"].isin(video_id_kept)]"
   ]
  },
  {
   "cell_type": "code",
   "execution_count": 8,
   "id": "5a6388c9-f088-4828-821b-67916ea4a40f",
   "metadata": {},
   "outputs": [
    {
     "data": {
      "text/html": [
       "<div>\n",
       "<style scoped>\n",
       "    .dataframe tbody tr th:only-of-type {\n",
       "        vertical-align: middle;\n",
       "    }\n",
       "\n",
       "    .dataframe tbody tr th {\n",
       "        vertical-align: top;\n",
       "    }\n",
       "\n",
       "    .dataframe thead th {\n",
       "        text-align: right;\n",
       "    }\n",
       "</style>\n",
       "<table border=\"1\" class=\"dataframe\">\n",
       "  <thead>\n",
       "    <tr style=\"text-align: right;\">\n",
       "      <th></th>\n",
       "      <th>fps</th>\n",
       "      <th>frame_end</th>\n",
       "      <th>frame_start</th>\n",
       "      <th>instance_id</th>\n",
       "      <th>signer_id</th>\n",
       "      <th>source</th>\n",
       "      <th>split</th>\n",
       "      <th>url</th>\n",
       "      <th>variation_id</th>\n",
       "      <th>video_id</th>\n",
       "      <th>bbox_xmin</th>\n",
       "      <th>bbox_ymin</th>\n",
       "      <th>bbox_xmax</th>\n",
       "      <th>bbox_ymax</th>\n",
       "      <th>gloss</th>\n",
       "    </tr>\n",
       "  </thead>\n",
       "  <tbody>\n",
       "    <tr>\n",
       "      <th>0</th>\n",
       "      <td>25</td>\n",
       "      <td>-1</td>\n",
       "      <td>1</td>\n",
       "      <td>0</td>\n",
       "      <td>118</td>\n",
       "      <td>aslbrick</td>\n",
       "      <td>train</td>\n",
       "      <td>http://aslbricks.org/New/ASL-Videos/book.mp4</td>\n",
       "      <td>0</td>\n",
       "      <td>69241</td>\n",
       "      <td>385</td>\n",
       "      <td>37</td>\n",
       "      <td>885</td>\n",
       "      <td>720</td>\n",
       "      <td>book</td>\n",
       "    </tr>\n",
       "    <tr>\n",
       "      <th>8</th>\n",
       "      <td>25</td>\n",
       "      <td>-1</td>\n",
       "      <td>1</td>\n",
       "      <td>11</td>\n",
       "      <td>36</td>\n",
       "      <td>startasl</td>\n",
       "      <td>train</td>\n",
       "      <td>https://s3-us-west-1.amazonaws.com/files.start...</td>\n",
       "      <td>0</td>\n",
       "      <td>17710</td>\n",
       "      <td>196</td>\n",
       "      <td>15</td>\n",
       "      <td>521</td>\n",
       "      <td>414</td>\n",
       "      <td>drink</td>\n",
       "    </tr>\n",
       "    <tr>\n",
       "      <th>12</th>\n",
       "      <td>25</td>\n",
       "      <td>-1</td>\n",
       "      <td>1</td>\n",
       "      <td>19</td>\n",
       "      <td>52</td>\n",
       "      <td>signschool</td>\n",
       "      <td>train</td>\n",
       "      <td>https://signstock.blob.core.windows.net/signsc...</td>\n",
       "      <td>0</td>\n",
       "      <td>17711</td>\n",
       "      <td>289</td>\n",
       "      <td>9</td>\n",
       "      <td>783</td>\n",
       "      <td>480</td>\n",
       "      <td>drink</td>\n",
       "    </tr>\n",
       "    <tr>\n",
       "      <th>14</th>\n",
       "      <td>25</td>\n",
       "      <td>-1</td>\n",
       "      <td>1</td>\n",
       "      <td>21</td>\n",
       "      <td>21</td>\n",
       "      <td>asldeafined</td>\n",
       "      <td>test</td>\n",
       "      <td>https://media.asldeafined.com/vocabulary/14677...</td>\n",
       "      <td>0</td>\n",
       "      <td>17713</td>\n",
       "      <td>28</td>\n",
       "      <td>0</td>\n",
       "      <td>542</td>\n",
       "      <td>480</td>\n",
       "      <td>drink</td>\n",
       "    </tr>\n",
       "    <tr>\n",
       "      <th>15</th>\n",
       "      <td>25</td>\n",
       "      <td>-1</td>\n",
       "      <td>1</td>\n",
       "      <td>27</td>\n",
       "      <td>2</td>\n",
       "      <td>spreadthesign</td>\n",
       "      <td>train</td>\n",
       "      <td>https://media.spreadthesign.com/video/mp4/13/1...</td>\n",
       "      <td>0</td>\n",
       "      <td>17709</td>\n",
       "      <td>41</td>\n",
       "      <td>9</td>\n",
       "      <td>257</td>\n",
       "      <td>240</td>\n",
       "      <td>drink</td>\n",
       "    </tr>\n",
       "    <tr>\n",
       "      <th>...</th>\n",
       "      <td>...</td>\n",
       "      <td>...</td>\n",
       "      <td>...</td>\n",
       "      <td>...</td>\n",
       "      <td>...</td>\n",
       "      <td>...</td>\n",
       "      <td>...</td>\n",
       "      <td>...</td>\n",
       "      <td>...</td>\n",
       "      <td>...</td>\n",
       "      <td>...</td>\n",
       "      <td>...</td>\n",
       "      <td>...</td>\n",
       "      <td>...</td>\n",
       "      <td>...</td>\n",
       "    </tr>\n",
       "    <tr>\n",
       "      <th>11968</th>\n",
       "      <td>25</td>\n",
       "      <td>-1</td>\n",
       "      <td>1</td>\n",
       "      <td>5</td>\n",
       "      <td>11</td>\n",
       "      <td>signingsavvy</td>\n",
       "      <td>train</td>\n",
       "      <td>https://www.signingsavvy.com/signs/mp4/7/7474.mp4</td>\n",
       "      <td>0</td>\n",
       "      <td>62492</td>\n",
       "      <td>69</td>\n",
       "      <td>16</td>\n",
       "      <td>219</td>\n",
       "      <td>192</td>\n",
       "      <td>waterfall</td>\n",
       "    </tr>\n",
       "    <tr>\n",
       "      <th>11969</th>\n",
       "      <td>25</td>\n",
       "      <td>-1</td>\n",
       "      <td>1</td>\n",
       "      <td>6</td>\n",
       "      <td>12</td>\n",
       "      <td>aslsearch</td>\n",
       "      <td>train</td>\n",
       "      <td>http://www.aslsearch.com/signs/videos/waterfal...</td>\n",
       "      <td>0</td>\n",
       "      <td>62493</td>\n",
       "      <td>203</td>\n",
       "      <td>55</td>\n",
       "      <td>549</td>\n",
       "      <td>400</td>\n",
       "      <td>waterfall</td>\n",
       "    </tr>\n",
       "    <tr>\n",
       "      <th>11970</th>\n",
       "      <td>25</td>\n",
       "      <td>-1</td>\n",
       "      <td>1</td>\n",
       "      <td>3</td>\n",
       "      <td>19</td>\n",
       "      <td>elementalasl</td>\n",
       "      <td>train</td>\n",
       "      <td>https://elementalaslconcepts.weebly.com/upload...</td>\n",
       "      <td>0</td>\n",
       "      <td>62782</td>\n",
       "      <td>89</td>\n",
       "      <td>4</td>\n",
       "      <td>242</td>\n",
       "      <td>180</td>\n",
       "      <td>weigh</td>\n",
       "    </tr>\n",
       "    <tr>\n",
       "      <th>11973</th>\n",
       "      <td>25</td>\n",
       "      <td>-1</td>\n",
       "      <td>1</td>\n",
       "      <td>2</td>\n",
       "      <td>4</td>\n",
       "      <td>signschool</td>\n",
       "      <td>test</td>\n",
       "      <td>https://signstock.blob.core.windows.net/signsc...</td>\n",
       "      <td>0</td>\n",
       "      <td>63044</td>\n",
       "      <td>415</td>\n",
       "      <td>86</td>\n",
       "      <td>1811</td>\n",
       "      <td>1080</td>\n",
       "      <td>wheelchair</td>\n",
       "    </tr>\n",
       "    <tr>\n",
       "      <th>11977</th>\n",
       "      <td>25</td>\n",
       "      <td>-1</td>\n",
       "      <td>1</td>\n",
       "      <td>2</td>\n",
       "      <td>2</td>\n",
       "      <td>spreadthesign</td>\n",
       "      <td>train</td>\n",
       "      <td>https://media.spreadthesign.com/video/mp4/13/9...</td>\n",
       "      <td>0</td>\n",
       "      <td>63186</td>\n",
       "      <td>76</td>\n",
       "      <td>17</td>\n",
       "      <td>236</td>\n",
       "      <td>240</td>\n",
       "      <td>whistle</td>\n",
       "    </tr>\n",
       "  </tbody>\n",
       "</table>\n",
       "<p>5533 rows × 15 columns</p>\n",
       "</div>"
      ],
      "text/plain": [
       "       fps  frame_end  frame_start  instance_id  signer_id         source  \\\n",
       "0       25         -1            1            0        118       aslbrick   \n",
       "8       25         -1            1           11         36       startasl   \n",
       "12      25         -1            1           19         52     signschool   \n",
       "14      25         -1            1           21         21    asldeafined   \n",
       "15      25         -1            1           27          2  spreadthesign   \n",
       "...    ...        ...          ...          ...        ...            ...   \n",
       "11968   25         -1            1            5         11   signingsavvy   \n",
       "11969   25         -1            1            6         12      aslsearch   \n",
       "11970   25         -1            1            3         19   elementalasl   \n",
       "11973   25         -1            1            2          4     signschool   \n",
       "11977   25         -1            1            2          2  spreadthesign   \n",
       "\n",
       "       split                                                url  variation_id  \\\n",
       "0      train       http://aslbricks.org/New/ASL-Videos/book.mp4             0   \n",
       "8      train  https://s3-us-west-1.amazonaws.com/files.start...             0   \n",
       "12     train  https://signstock.blob.core.windows.net/signsc...             0   \n",
       "14      test  https://media.asldeafined.com/vocabulary/14677...             0   \n",
       "15     train  https://media.spreadthesign.com/video/mp4/13/1...             0   \n",
       "...      ...                                                ...           ...   \n",
       "11968  train  https://www.signingsavvy.com/signs/mp4/7/7474.mp4             0   \n",
       "11969  train  http://www.aslsearch.com/signs/videos/waterfal...             0   \n",
       "11970  train  https://elementalaslconcepts.weebly.com/upload...             0   \n",
       "11973   test  https://signstock.blob.core.windows.net/signsc...             0   \n",
       "11977  train  https://media.spreadthesign.com/video/mp4/13/9...             0   \n",
       "\n",
       "       video_id  bbox_xmin  bbox_ymin  bbox_xmax  bbox_ymax       gloss  \n",
       "0         69241        385         37        885        720        book  \n",
       "8         17710        196         15        521        414       drink  \n",
       "12        17711        289          9        783        480       drink  \n",
       "14        17713         28          0        542        480       drink  \n",
       "15        17709         41          9        257        240       drink  \n",
       "...         ...        ...        ...        ...        ...         ...  \n",
       "11968     62492         69         16        219        192   waterfall  \n",
       "11969     62493        203         55        549        400   waterfall  \n",
       "11970     62782         89          4        242        180       weigh  \n",
       "11973     63044        415         86       1811       1080  wheelchair  \n",
       "11977     63186         76         17        236        240     whistle  \n",
       "\n",
       "[5533 rows x 15 columns]"
      ]
     },
     "execution_count": 8,
     "metadata": {},
     "output_type": "execute_result"
    }
   ],
   "source": [
    "new_df"
   ]
  },
  {
   "cell_type": "markdown",
   "id": "9edba1bd-ffe5-482c-b1be-dd28046097a3",
   "metadata": {},
   "source": [
    "Reordering dataframe"
   ]
  },
  {
   "cell_type": "code",
   "execution_count": 9,
   "id": "9d96246b-722c-4671-b0e8-5657763a0ddb",
   "metadata": {},
   "outputs": [],
   "source": [
    "new_df = new_df.sort_values(by=[\"video_id\"]) "
   ]
  },
  {
   "cell_type": "code",
   "execution_count": 10,
   "id": "7b2995c2-b970-4194-90f8-222f3e2e4760",
   "metadata": {},
   "outputs": [
    {
     "data": {
      "text/html": [
       "<div>\n",
       "<style scoped>\n",
       "    .dataframe tbody tr th:only-of-type {\n",
       "        vertical-align: middle;\n",
       "    }\n",
       "\n",
       "    .dataframe tbody tr th {\n",
       "        vertical-align: top;\n",
       "    }\n",
       "\n",
       "    .dataframe thead th {\n",
       "        text-align: right;\n",
       "    }\n",
       "</style>\n",
       "<table border=\"1\" class=\"dataframe\">\n",
       "  <thead>\n",
       "    <tr style=\"text-align: right;\">\n",
       "      <th></th>\n",
       "      <th>fps</th>\n",
       "      <th>frame_end</th>\n",
       "      <th>frame_start</th>\n",
       "      <th>instance_id</th>\n",
       "      <th>signer_id</th>\n",
       "      <th>source</th>\n",
       "      <th>split</th>\n",
       "      <th>url</th>\n",
       "      <th>variation_id</th>\n",
       "      <th>video_id</th>\n",
       "      <th>bbox_xmin</th>\n",
       "      <th>bbox_ymin</th>\n",
       "      <th>bbox_xmax</th>\n",
       "      <th>bbox_ymax</th>\n",
       "      <th>gloss</th>\n",
       "    </tr>\n",
       "  </thead>\n",
       "  <tbody>\n",
       "    <tr>\n",
       "      <th>8751</th>\n",
       "      <td>25</td>\n",
       "      <td>-1</td>\n",
       "      <td>1</td>\n",
       "      <td>2</td>\n",
       "      <td>2</td>\n",
       "      <td>spreadthesign</td>\n",
       "      <td>test</td>\n",
       "      <td>https://media.spreadthesign.com/video/mp4/13/1...</td>\n",
       "      <td>0</td>\n",
       "      <td>335</td>\n",
       "      <td>57</td>\n",
       "      <td>5</td>\n",
       "      <td>246</td>\n",
       "      <td>240</td>\n",
       "      <td>abdomen</td>\n",
       "    </tr>\n",
       "    <tr>\n",
       "      <th>8752</th>\n",
       "      <td>25</td>\n",
       "      <td>-1</td>\n",
       "      <td>1</td>\n",
       "      <td>3</td>\n",
       "      <td>13</td>\n",
       "      <td>asldeafined</td>\n",
       "      <td>train</td>\n",
       "      <td>https://media.asldeafined.com/vocabulary/14688...</td>\n",
       "      <td>0</td>\n",
       "      <td>336</td>\n",
       "      <td>103</td>\n",
       "      <td>0</td>\n",
       "      <td>565</td>\n",
       "      <td>480</td>\n",
       "      <td>abdomen</td>\n",
       "    </tr>\n",
       "    <tr>\n",
       "      <th>8756</th>\n",
       "      <td>25</td>\n",
       "      <td>-1</td>\n",
       "      <td>1</td>\n",
       "      <td>1</td>\n",
       "      <td>2</td>\n",
       "      <td>spreadthesign</td>\n",
       "      <td>test</td>\n",
       "      <td>https://media.spreadthesign.com/video/mp4/13/1...</td>\n",
       "      <td>0</td>\n",
       "      <td>376</td>\n",
       "      <td>61</td>\n",
       "      <td>5</td>\n",
       "      <td>247</td>\n",
       "      <td>240</td>\n",
       "      <td>able</td>\n",
       "    </tr>\n",
       "    <tr>\n",
       "      <th>8757</th>\n",
       "      <td>25</td>\n",
       "      <td>-1</td>\n",
       "      <td>1</td>\n",
       "      <td>2</td>\n",
       "      <td>15</td>\n",
       "      <td>asldeafined</td>\n",
       "      <td>train</td>\n",
       "      <td>https://media.asldeafined.com/vocabulary/14667...</td>\n",
       "      <td>0</td>\n",
       "      <td>377</td>\n",
       "      <td>69</td>\n",
       "      <td>17</td>\n",
       "      <td>552</td>\n",
       "      <td>480</td>\n",
       "      <td>able</td>\n",
       "    </tr>\n",
       "    <tr>\n",
       "      <th>1709</th>\n",
       "      <td>25</td>\n",
       "      <td>-1</td>\n",
       "      <td>1</td>\n",
       "      <td>12</td>\n",
       "      <td>26</td>\n",
       "      <td>spreadthesign</td>\n",
       "      <td>train</td>\n",
       "      <td>https://media.spreadthesign.com/video/mp4/13/3...</td>\n",
       "      <td>0</td>\n",
       "      <td>414</td>\n",
       "      <td>64</td>\n",
       "      <td>27</td>\n",
       "      <td>241</td>\n",
       "      <td>240</td>\n",
       "      <td>about</td>\n",
       "    </tr>\n",
       "    <tr>\n",
       "      <th>...</th>\n",
       "      <td>...</td>\n",
       "      <td>...</td>\n",
       "      <td>...</td>\n",
       "      <td>...</td>\n",
       "      <td>...</td>\n",
       "      <td>...</td>\n",
       "      <td>...</td>\n",
       "      <td>...</td>\n",
       "      <td>...</td>\n",
       "      <td>...</td>\n",
       "      <td>...</td>\n",
       "      <td>...</td>\n",
       "      <td>...</td>\n",
       "      <td>...</td>\n",
       "      <td>...</td>\n",
       "    </tr>\n",
       "    <tr>\n",
       "      <th>537</th>\n",
       "      <td>25</td>\n",
       "      <td>-1</td>\n",
       "      <td>1</td>\n",
       "      <td>1</td>\n",
       "      <td>118</td>\n",
       "      <td>aslbrick</td>\n",
       "      <td>val</td>\n",
       "      <td>http://aslbricks.org/New/ASL-Videos/white.mp4</td>\n",
       "      <td>0</td>\n",
       "      <td>69533</td>\n",
       "      <td>366</td>\n",
       "      <td>40</td>\n",
       "      <td>875</td>\n",
       "      <td>720</td>\n",
       "      <td>white</td>\n",
       "    </tr>\n",
       "    <tr>\n",
       "      <th>7446</th>\n",
       "      <td>25</td>\n",
       "      <td>-1</td>\n",
       "      <td>1</td>\n",
       "      <td>1</td>\n",
       "      <td>116</td>\n",
       "      <td>aslbrick</td>\n",
       "      <td>train</td>\n",
       "      <td>http://aslbricks.org/New/ASL-Videos/worm.mp4</td>\n",
       "      <td>0</td>\n",
       "      <td>69541</td>\n",
       "      <td>282</td>\n",
       "      <td>4</td>\n",
       "      <td>937</td>\n",
       "      <td>720</td>\n",
       "      <td>worm</td>\n",
       "    </tr>\n",
       "    <tr>\n",
       "      <th>1331</th>\n",
       "      <td>25</td>\n",
       "      <td>-1</td>\n",
       "      <td>1</td>\n",
       "      <td>1</td>\n",
       "      <td>115</td>\n",
       "      <td>aslbrick</td>\n",
       "      <td>test</td>\n",
       "      <td>http://aslbricks.org/New/ASL-Videos/write.mp4</td>\n",
       "      <td>0</td>\n",
       "      <td>69544</td>\n",
       "      <td>375</td>\n",
       "      <td>42</td>\n",
       "      <td>940</td>\n",
       "      <td>720</td>\n",
       "      <td>write</td>\n",
       "    </tr>\n",
       "    <tr>\n",
       "      <th>1049</th>\n",
       "      <td>25</td>\n",
       "      <td>-1</td>\n",
       "      <td>1</td>\n",
       "      <td>1</td>\n",
       "      <td>118</td>\n",
       "      <td>aslbrick</td>\n",
       "      <td>test</td>\n",
       "      <td>http://aslbricks.org/New/ASL-Videos/yellow.mp4</td>\n",
       "      <td>0</td>\n",
       "      <td>69545</td>\n",
       "      <td>256</td>\n",
       "      <td>41</td>\n",
       "      <td>883</td>\n",
       "      <td>720</td>\n",
       "      <td>yellow</td>\n",
       "    </tr>\n",
       "    <tr>\n",
       "      <th>201</th>\n",
       "      <td>25</td>\n",
       "      <td>-1</td>\n",
       "      <td>1</td>\n",
       "      <td>1</td>\n",
       "      <td>118</td>\n",
       "      <td>aslbrick</td>\n",
       "      <td>val</td>\n",
       "      <td>http://aslbricks.org/New/ASL-Videos/yes.mp4</td>\n",
       "      <td>0</td>\n",
       "      <td>69546</td>\n",
       "      <td>214</td>\n",
       "      <td>41</td>\n",
       "      <td>881</td>\n",
       "      <td>720</td>\n",
       "      <td>yes</td>\n",
       "    </tr>\n",
       "  </tbody>\n",
       "</table>\n",
       "<p>5533 rows × 15 columns</p>\n",
       "</div>"
      ],
      "text/plain": [
       "      fps  frame_end  frame_start  instance_id  signer_id         source  \\\n",
       "8751   25         -1            1            2          2  spreadthesign   \n",
       "8752   25         -1            1            3         13    asldeafined   \n",
       "8756   25         -1            1            1          2  spreadthesign   \n",
       "8757   25         -1            1            2         15    asldeafined   \n",
       "1709   25         -1            1           12         26  spreadthesign   \n",
       "...   ...        ...          ...          ...        ...            ...   \n",
       "537    25         -1            1            1        118       aslbrick   \n",
       "7446   25         -1            1            1        116       aslbrick   \n",
       "1331   25         -1            1            1        115       aslbrick   \n",
       "1049   25         -1            1            1        118       aslbrick   \n",
       "201    25         -1            1            1        118       aslbrick   \n",
       "\n",
       "      split                                                url  variation_id  \\\n",
       "8751   test  https://media.spreadthesign.com/video/mp4/13/1...             0   \n",
       "8752  train  https://media.asldeafined.com/vocabulary/14688...             0   \n",
       "8756   test  https://media.spreadthesign.com/video/mp4/13/1...             0   \n",
       "8757  train  https://media.asldeafined.com/vocabulary/14667...             0   \n",
       "1709  train  https://media.spreadthesign.com/video/mp4/13/3...             0   \n",
       "...     ...                                                ...           ...   \n",
       "537     val      http://aslbricks.org/New/ASL-Videos/white.mp4             0   \n",
       "7446  train       http://aslbricks.org/New/ASL-Videos/worm.mp4             0   \n",
       "1331   test      http://aslbricks.org/New/ASL-Videos/write.mp4             0   \n",
       "1049   test     http://aslbricks.org/New/ASL-Videos/yellow.mp4             0   \n",
       "201     val        http://aslbricks.org/New/ASL-Videos/yes.mp4             0   \n",
       "\n",
       "      video_id  bbox_xmin  bbox_ymin  bbox_xmax  bbox_ymax    gloss  \n",
       "8751       335         57          5        246        240  abdomen  \n",
       "8752       336        103          0        565        480  abdomen  \n",
       "8756       376         61          5        247        240     able  \n",
       "8757       377         69         17        552        480     able  \n",
       "1709       414         64         27        241        240    about  \n",
       "...        ...        ...        ...        ...        ...      ...  \n",
       "537      69533        366         40        875        720    white  \n",
       "7446     69541        282          4        937        720     worm  \n",
       "1331     69544        375         42        940        720    write  \n",
       "1049     69545        256         41        883        720   yellow  \n",
       "201      69546        214         41        881        720      yes  \n",
       "\n",
       "[5533 rows x 15 columns]"
      ]
     },
     "execution_count": 10,
     "metadata": {},
     "output_type": "execute_result"
    }
   ],
   "source": [
    "new_df"
   ]
  },
  {
   "cell_type": "code",
   "execution_count": 11,
   "id": "b7ff3a95-2ff2-4c13-8b91-af46cb5ba1ee",
   "metadata": {},
   "outputs": [
    {
     "name": "stderr",
     "output_type": "stream",
     "text": [
      "C:\\Users\\thoma\\AppData\\Local\\Programs\\Python\\Python39\\lib\\site-packages\\seaborn\\distributions.py:2619: FutureWarning: `distplot` is a deprecated function and will be removed in a future version. Please adapt your code to use either `displot` (a figure-level function with similar flexibility) or `histplot` (an axes-level function for histograms).\n",
      "  warnings.warn(msg, FutureWarning)\n"
     ]
    },
    {
     "data": {
      "text/plain": [
       "<AxesSubplot:ylabel='Density'>"
      ]
     },
     "execution_count": 11,
     "metadata": {},
     "output_type": "execute_result"
    },
    {
     "data": {
      "image/png": "[encoded data removed]",
      "text/plain": [
       "<Figure size 432x288 with 1 Axes>"
      ]
     },
     "metadata": {
      "needs_background": "light"
     },
     "output_type": "display_data"
    }
   ],
   "source": [
    "sns.distplot(np.array(new_df[\"gloss\"].value_counts()))"
   ]
  },
  {
   "cell_type": "markdown",
   "id": "0e352e8a-0f29-4124-87f6-1e2899b24128",
   "metadata": {},
   "source": [
    "Easy mode : Removing classes with less than 5 elements"
   ]
  },
  {
   "cell_type": "code",
   "execution_count": 12,
   "id": "daed5e85-0b92-4d02-aeb3-d81440bcd92a",
   "metadata": {},
   "outputs": [],
   "source": [
    "val_count = dict(new_df[\"gloss\"].value_counts())"
   ]
  },
  {
   "cell_type": "code",
   "execution_count": 13,
   "id": "0f3bb4db-b322-48ff-91dd-886e1025cfe3",
   "metadata": {},
   "outputs": [],
   "source": [
    "single_classes = [key for key in val_count.keys() if val_count[key] < 5]"
   ]
  },
  {
   "cell_type": "code",
   "execution_count": 14,
   "id": "5b0e289e-ae19-4f60-9d65-bf2a48cf4951",
   "metadata": {
    "tags": []
   },
   "outputs": [
    {
     "data": {
      "text/plain": [
       "1724"
      ]
     },
     "execution_count": 14,
     "metadata": {},
     "output_type": "execute_result"
    }
   ],
   "source": [
    "len(single_classes)"
   ]
  },
  {
   "cell_type": "code",
   "execution_count": 15,
   "id": "3862619e-ead5-4557-80ea-8498d4e3f9fb",
   "metadata": {},
   "outputs": [],
   "source": [
    "new_df = new_df[~new_df[\"gloss\"].isin(single_classes)]"
   ]
  },
  {
   "cell_type": "code",
   "execution_count": 16,
   "id": "69f1fa51-1efb-476a-838f-d4e4baa13f54",
   "metadata": {},
   "outputs": [
    {
     "data": {
      "text/html": [
       "<div>\n",
       "<style scoped>\n",
       "    .dataframe tbody tr th:only-of-type {\n",
       "        vertical-align: middle;\n",
       "    }\n",
       "\n",
       "    .dataframe tbody tr th {\n",
       "        vertical-align: top;\n",
       "    }\n",
       "\n",
       "    .dataframe thead th {\n",
       "        text-align: right;\n",
       "    }\n",
       "</style>\n",
       "<table border=\"1\" class=\"dataframe\">\n",
       "  <thead>\n",
       "    <tr style=\"text-align: right;\">\n",
       "      <th></th>\n",
       "      <th>fps</th>\n",
       "      <th>frame_end</th>\n",
       "      <th>frame_start</th>\n",
       "      <th>instance_id</th>\n",
       "      <th>signer_id</th>\n",
       "      <th>source</th>\n",
       "      <th>split</th>\n",
       "      <th>url</th>\n",
       "      <th>variation_id</th>\n",
       "      <th>video_id</th>\n",
       "      <th>bbox_xmin</th>\n",
       "      <th>bbox_ymin</th>\n",
       "      <th>bbox_xmax</th>\n",
       "      <th>bbox_ymax</th>\n",
       "      <th>gloss</th>\n",
       "    </tr>\n",
       "  </thead>\n",
       "  <tbody>\n",
       "    <tr>\n",
       "      <th>565</th>\n",
       "      <td>25</td>\n",
       "      <td>-1</td>\n",
       "      <td>1</td>\n",
       "      <td>12</td>\n",
       "      <td>26</td>\n",
       "      <td>spreadthesign</td>\n",
       "      <td>train</td>\n",
       "      <td>https://media.spreadthesign.com/video/mp4/13/1...</td>\n",
       "      <td>1</td>\n",
       "      <td>623</td>\n",
       "      <td>54</td>\n",
       "      <td>6</td>\n",
       "      <td>272</td>\n",
       "      <td>240</td>\n",
       "      <td>accident</td>\n",
       "    </tr>\n",
       "    <tr>\n",
       "      <th>556</th>\n",
       "      <td>25</td>\n",
       "      <td>-1</td>\n",
       "      <td>1</td>\n",
       "      <td>2</td>\n",
       "      <td>29</td>\n",
       "      <td>spreadthesign</td>\n",
       "      <td>train</td>\n",
       "      <td>https://media.spreadthesign.com/video/mp4/13/7...</td>\n",
       "      <td>0</td>\n",
       "      <td>624</td>\n",
       "      <td>42</td>\n",
       "      <td>6</td>\n",
       "      <td>278</td>\n",
       "      <td>240</td>\n",
       "      <td>accident</td>\n",
       "    </tr>\n",
       "    <tr>\n",
       "      <th>557</th>\n",
       "      <td>25</td>\n",
       "      <td>-1</td>\n",
       "      <td>1</td>\n",
       "      <td>3</td>\n",
       "      <td>6</td>\n",
       "      <td>signschool</td>\n",
       "      <td>test</td>\n",
       "      <td>https://signstock.blob.core.windows.net/signsc...</td>\n",
       "      <td>1</td>\n",
       "      <td>625</td>\n",
       "      <td>675</td>\n",
       "      <td>50</td>\n",
       "      <td>1461</td>\n",
       "      <td>1080</td>\n",
       "      <td>accident</td>\n",
       "    </tr>\n",
       "    <tr>\n",
       "      <th>558</th>\n",
       "      <td>25</td>\n",
       "      <td>-1</td>\n",
       "      <td>1</td>\n",
       "      <td>4</td>\n",
       "      <td>32</td>\n",
       "      <td>signschool</td>\n",
       "      <td>val</td>\n",
       "      <td>https://signstock.blob.core.windows.net/signsc...</td>\n",
       "      <td>0</td>\n",
       "      <td>626</td>\n",
       "      <td>485</td>\n",
       "      <td>85</td>\n",
       "      <td>1608</td>\n",
       "      <td>1080</td>\n",
       "      <td>accident</td>\n",
       "    </tr>\n",
       "    <tr>\n",
       "      <th>561</th>\n",
       "      <td>25</td>\n",
       "      <td>-1</td>\n",
       "      <td>1</td>\n",
       "      <td>7</td>\n",
       "      <td>13</td>\n",
       "      <td>asldeafined</td>\n",
       "      <td>train</td>\n",
       "      <td>https://media.asldeafined.com/vocabulary/14661...</td>\n",
       "      <td>0</td>\n",
       "      <td>629</td>\n",
       "      <td>69</td>\n",
       "      <td>23</td>\n",
       "      <td>613</td>\n",
       "      <td>480</td>\n",
       "      <td>accident</td>\n",
       "    </tr>\n",
       "    <tr>\n",
       "      <th>...</th>\n",
       "      <td>...</td>\n",
       "      <td>...</td>\n",
       "      <td>...</td>\n",
       "      <td>...</td>\n",
       "      <td>...</td>\n",
       "      <td>...</td>\n",
       "      <td>...</td>\n",
       "      <td>...</td>\n",
       "      <td>...</td>\n",
       "      <td>...</td>\n",
       "      <td>...</td>\n",
       "      <td>...</td>\n",
       "      <td>...</td>\n",
       "      <td>...</td>\n",
       "      <td>...</td>\n",
       "    </tr>\n",
       "    <tr>\n",
       "      <th>6015</th>\n",
       "      <td>25</td>\n",
       "      <td>-1</td>\n",
       "      <td>1</td>\n",
       "      <td>1</td>\n",
       "      <td>118</td>\n",
       "      <td>aslbrick</td>\n",
       "      <td>train</td>\n",
       "      <td>http://aslbricks.org/New/ASL-Videos/up.mp4</td>\n",
       "      <td>0</td>\n",
       "      <td>69522</td>\n",
       "      <td>280</td>\n",
       "      <td>39</td>\n",
       "      <td>883</td>\n",
       "      <td>720</td>\n",
       "      <td>up</td>\n",
       "    </tr>\n",
       "    <tr>\n",
       "      <th>3005</th>\n",
       "      <td>25</td>\n",
       "      <td>-1</td>\n",
       "      <td>1</td>\n",
       "      <td>1</td>\n",
       "      <td>118</td>\n",
       "      <td>aslbrick</td>\n",
       "      <td>train</td>\n",
       "      <td>http://aslbricks.org/New/ASL-Videos/when.mp4</td>\n",
       "      <td>0</td>\n",
       "      <td>69532</td>\n",
       "      <td>286</td>\n",
       "      <td>40</td>\n",
       "      <td>894</td>\n",
       "      <td>720</td>\n",
       "      <td>when</td>\n",
       "    </tr>\n",
       "    <tr>\n",
       "      <th>537</th>\n",
       "      <td>25</td>\n",
       "      <td>-1</td>\n",
       "      <td>1</td>\n",
       "      <td>1</td>\n",
       "      <td>118</td>\n",
       "      <td>aslbrick</td>\n",
       "      <td>val</td>\n",
       "      <td>http://aslbricks.org/New/ASL-Videos/white.mp4</td>\n",
       "      <td>0</td>\n",
       "      <td>69533</td>\n",
       "      <td>366</td>\n",
       "      <td>40</td>\n",
       "      <td>875</td>\n",
       "      <td>720</td>\n",
       "      <td>white</td>\n",
       "    </tr>\n",
       "    <tr>\n",
       "      <th>1049</th>\n",
       "      <td>25</td>\n",
       "      <td>-1</td>\n",
       "      <td>1</td>\n",
       "      <td>1</td>\n",
       "      <td>118</td>\n",
       "      <td>aslbrick</td>\n",
       "      <td>test</td>\n",
       "      <td>http://aslbricks.org/New/ASL-Videos/yellow.mp4</td>\n",
       "      <td>0</td>\n",
       "      <td>69545</td>\n",
       "      <td>256</td>\n",
       "      <td>41</td>\n",
       "      <td>883</td>\n",
       "      <td>720</td>\n",
       "      <td>yellow</td>\n",
       "    </tr>\n",
       "    <tr>\n",
       "      <th>201</th>\n",
       "      <td>25</td>\n",
       "      <td>-1</td>\n",
       "      <td>1</td>\n",
       "      <td>1</td>\n",
       "      <td>118</td>\n",
       "      <td>aslbrick</td>\n",
       "      <td>val</td>\n",
       "      <td>http://aslbricks.org/New/ASL-Videos/yes.mp4</td>\n",
       "      <td>0</td>\n",
       "      <td>69546</td>\n",
       "      <td>214</td>\n",
       "      <td>41</td>\n",
       "      <td>881</td>\n",
       "      <td>720</td>\n",
       "      <td>yes</td>\n",
       "    </tr>\n",
       "  </tbody>\n",
       "</table>\n",
       "<p>1291 rows × 15 columns</p>\n",
       "</div>"
      ],
      "text/plain": [
       "      fps  frame_end  frame_start  instance_id  signer_id         source  \\\n",
       "565    25         -1            1           12         26  spreadthesign   \n",
       "556    25         -1            1            2         29  spreadthesign   \n",
       "557    25         -1            1            3          6     signschool   \n",
       "558    25         -1            1            4         32     signschool   \n",
       "561    25         -1            1            7         13    asldeafined   \n",
       "...   ...        ...          ...          ...        ...            ...   \n",
       "6015   25         -1            1            1        118       aslbrick   \n",
       "3005   25         -1            1            1        118       aslbrick   \n",
       "537    25         -1            1            1        118       aslbrick   \n",
       "1049   25         -1            1            1        118       aslbrick   \n",
       "201    25         -1            1            1        118       aslbrick   \n",
       "\n",
       "      split                                                url  variation_id  \\\n",
       "565   train  https://media.spreadthesign.com/video/mp4/13/1...             1   \n",
       "556   train  https://media.spreadthesign.com/video/mp4/13/7...             0   \n",
       "557    test  https://signstock.blob.core.windows.net/signsc...             1   \n",
       "558     val  https://signstock.blob.core.windows.net/signsc...             0   \n",
       "561   train  https://media.asldeafined.com/vocabulary/14661...             0   \n",
       "...     ...                                                ...           ...   \n",
       "6015  train         http://aslbricks.org/New/ASL-Videos/up.mp4             0   \n",
       "3005  train       http://aslbricks.org/New/ASL-Videos/when.mp4             0   \n",
       "537     val      http://aslbricks.org/New/ASL-Videos/white.mp4             0   \n",
       "1049   test     http://aslbricks.org/New/ASL-Videos/yellow.mp4             0   \n",
       "201     val        http://aslbricks.org/New/ASL-Videos/yes.mp4             0   \n",
       "\n",
       "      video_id  bbox_xmin  bbox_ymin  bbox_xmax  bbox_ymax     gloss  \n",
       "565        623         54          6        272        240  accident  \n",
       "556        624         42          6        278        240  accident  \n",
       "557        625        675         50       1461       1080  accident  \n",
       "558        626        485         85       1608       1080  accident  \n",
       "561        629         69         23        613        480  accident  \n",
       "...        ...        ...        ...        ...        ...       ...  \n",
       "6015     69522        280         39        883        720        up  \n",
       "3005     69532        286         40        894        720      when  \n",
       "537      69533        366         40        875        720     white  \n",
       "1049     69545        256         41        883        720    yellow  \n",
       "201      69546        214         41        881        720       yes  \n",
       "\n",
       "[1291 rows x 15 columns]"
      ]
     },
     "execution_count": 16,
     "metadata": {},
     "output_type": "execute_result"
    }
   ],
   "source": [
    "new_df"
   ]
  },
  {
   "cell_type": "markdown",
   "id": "e9477f09-6d63-44f3-ae1a-e69435fc75b4",
   "metadata": {},
   "source": [
    "Reordering records"
   ]
  },
  {
   "cell_type": "code",
   "execution_count": 17,
   "id": "155d6ad0-c414-4c12-910f-8e9476a346a0",
   "metadata": {},
   "outputs": [],
   "source": [
    "sorted_record = { key : record[key] for key in sorted(record.keys()) if int(key.replace(\".mp4\", \"\")) in list(new_df[\"video_id\"])}"
   ]
  },
  {
   "cell_type": "code",
   "execution_count": 18,
   "id": "6c86bee5-ee01-49bd-870b-2eb96486c4d8",
   "metadata": {},
   "outputs": [
    {
     "data": {
      "text/plain": [
       "1291"
      ]
     },
     "execution_count": 18,
     "metadata": {},
     "output_type": "execute_result"
    }
   ],
   "source": [
    "len(sorted_record)"
   ]
  },
  {
   "cell_type": "markdown",
   "id": "8be75c86-44b3-49b7-9c0d-78f1d6d002e3",
   "metadata": {},
   "source": [
    "## Prepare dataset"
   ]
  },
  {
   "cell_type": "code",
   "execution_count": 19,
   "id": "75aaa875-a55e-40b1-b3ba-5ea54bffc9bc",
   "metadata": {},
   "outputs": [],
   "source": [
    "X = np.array(list(sorted_record.values()))\n",
    "\n",
    "encoder = OneHotEncoder(handle_unknown='ignore')\n",
    "encoder.fit(np.array(list(new_df[\"gloss\"])).reshape(-1,1))\n",
    "y = encoder.transform(np.array(list(new_df[\"gloss\"])).reshape(-1,1)).toarray()"
   ]
  },
  {
   "cell_type": "code",
   "execution_count": 20,
   "id": "9731e476-0839-4d60-92cc-c8012aa088ab",
   "metadata": {},
   "outputs": [],
   "source": [
    "le = LabelEncoder()\n",
    "y_ = le.fit_transform(np.array(list(new_df[\"gloss\"])))"
   ]
  },
  {
   "cell_type": "code",
   "execution_count": 21,
   "id": "55e6616b-18e1-4e53-94d4-34acbb309eef",
   "metadata": {},
   "outputs": [
    {
     "data": {
      "text/plain": [
       "(1291,)"
      ]
     },
     "execution_count": 21,
     "metadata": {},
     "output_type": "execute_result"
    }
   ],
   "source": [
    "y_.shape"
   ]
  },
  {
   "cell_type": "code",
   "execution_count": 22,
   "id": "c758c8fd-6942-416f-ad5d-fcda4a16b866",
   "metadata": {},
   "outputs": [
    {
     "name": "stdout",
     "output_type": "stream",
     "text": [
      "(1291, 520, 100, 3) (1291, 231)\n"
     ]
    }
   ],
   "source": [
    "print(X.shape, y.shape)"
   ]
  },
  {
   "cell_type": "code",
   "execution_count": 23,
   "id": "3e340476-1edb-4d17-a7f9-33d5114f660b",
   "metadata": {},
   "outputs": [],
   "source": [
    "X = X.reshape(X.shape[0], X.shape[2], X.shape[1], X.shape[3])"
   ]
  },
  {
   "cell_type": "code",
   "execution_count": 24,
   "id": "8a984cf9-c359-4c87-af59-c3800afc6061",
   "metadata": {},
   "outputs": [],
   "source": [
    "input_dim = X.shape[1:]\n",
    "nb_classes = y.shape[-1]"
   ]
  },
  {
   "cell_type": "markdown",
   "id": "5e070a26-38c8-42dc-9f61-3c0148ea62db",
   "metadata": {},
   "source": [
    "## Model implementation"
   ]
  },
  {
   "cell_type": "code",
   "execution_count": 31,
   "id": "e271ed96-27ad-4a8e-9c11-da79b1943218",
   "metadata": {},
   "outputs": [],
   "source": [
    "model = Sequential()\n",
    "model.add(Input(shape=(input_dim)))\n",
    "model.add(Conv2D(filters=8, kernel_size= 3, strides = (1, 2), padding='same', activation='relu'))\n",
    "model.add(Conv2D(filters=16, kernel_size=(input_dim[0], 3), strides = (1, 2), padding='same', activation='relu'))\n",
    "model.add(Conv2D(filters=32, kernel_size= 3, strides = (1, 2),padding='same', activation='relu'))\n",
    "model.add(tf.keras.layers.Reshape((100, 65*32)))\n",
    "model.add(LSTM(64))\n",
    "model.add(Dense(128, activation='relu'))\n",
    "model.add(Dense(nb_classes, activation='softmax'))\n",
    "model.compile(loss='CategoricalCrossentropy', optimizer='adam', metrics=['accuracy'])"
   ]
  },
  {
   "cell_type": "code",
   "execution_count": 32,
   "id": "4a4a8f65-e3f9-4ec6-8a8d-ed940dd7cc5f",
   "metadata": {},
   "outputs": [
    {
     "name": "stdout",
     "output_type": "stream",
     "text": [
      "Model: \"sequential_2\"\n",
      "_________________________________________________________________\n",
      " Layer (type)                Output Shape              Param #   \n",
      "=================================================================\n",
      " conv2d_3 (Conv2D)           (None, 100, 260, 8)       224       \n",
      "                                                                 \n",
      " conv2d_4 (Conv2D)           (None, 100, 130, 16)      38416     \n",
      "                                                                 \n",
      " conv2d_5 (Conv2D)           (None, 100, 65, 32)       4640      \n",
      "                                                                 \n",
      " reshape_2 (Reshape)         (None, 100, 2080)         0         \n",
      "                                                                 \n",
      " lstm_2 (LSTM)               (None, 64)                549120    \n",
      "                                                                 \n",
      " dense_3 (Dense)             (None, 128)               8320      \n",
      "                                                                 \n",
      " dense_4 (Dense)             (None, 231)               29799     \n",
      "                                                                 \n",
      "=================================================================\n",
      "Total params: 630,519\n",
      "Trainable params: 630,519\n",
      "Non-trainable params: 0\n",
      "_________________________________________________________________\n"
     ]
    }
   ],
   "source": [
    "model.summary()"
   ]
  },
  {
   "cell_type": "code",
   "execution_count": 33,
   "id": "51ae2d42-14f4-4d36-834d-2f1afab44b0a",
   "metadata": {},
   "outputs": [],
   "source": [
    "sss = StratifiedShuffleSplit(n_splits=5, test_size=0.3, random_state=0)"
   ]
  },
  {
   "cell_type": "code",
   "execution_count": 34,
   "id": "df0407f0-01c7-4ffe-bd5e-45eb04a9919b",
   "metadata": {},
   "outputs": [
    {
     "name": "stdout",
     "output_type": "stream",
     "text": [
      "Epoch 1/10\n",
      "15/15 [==============================] - 69s 4s/step - loss: 5.4646 - accuracy: 0.0011 - val_loss: 5.4581 - val_accuracy: 0.0026\n",
      "Epoch 2/10\n",
      "15/15 [==============================] - 71s 5s/step - loss: 5.3828 - accuracy: 0.0266 - val_loss: 5.4741 - val_accuracy: 0.0129\n",
      "Epoch 3/10\n",
      "15/15 [==============================] - 66s 4s/step - loss: 5.3067 - accuracy: 0.0642 - val_loss: 5.4751 - val_accuracy: 0.0077\n",
      "Epoch 4/10\n",
      "15/15 [==============================] - 67s 4s/step - loss: 5.2314 - accuracy: 0.0797 - val_loss: 5.4985 - val_accuracy: 0.0129\n",
      "Epoch 5/10\n",
      "15/15 [==============================] - 69s 5s/step - loss: 5.1387 - accuracy: 0.1019 - val_loss: 5.5165 - val_accuracy: 0.0129\n",
      "Epoch 6/10\n",
      "15/15 [==============================] - 64s 4s/step - loss: 5.0534 - accuracy: 0.0997 - val_loss: 5.5492 - val_accuracy: 0.0129\n",
      "Epoch 7/10\n",
      "15/15 [==============================] - 63s 4s/step - loss: 4.9329 - accuracy: 0.1118 - val_loss: 5.6119 - val_accuracy: 0.0155\n",
      "Epoch 8/10\n",
      "15/15 [==============================] - 61s 4s/step - loss: 4.8226 - accuracy: 0.1185 - val_loss: 5.6263 - val_accuracy: 0.0103\n",
      "Epoch 9/10\n",
      "15/15 [==============================] - 60s 4s/step - loss: 4.7074 - accuracy: 0.1307 - val_loss: 5.7087 - val_accuracy: 0.0155\n",
      "Epoch 10/10\n",
      "15/15 [==============================] - 60s 4s/step - loss: 4.5857 - accuracy: 0.1373 - val_loss: 5.7692 - val_accuracy: 0.0129\n"
     ]
    },
    {
     "data": {
      "image/png": "[encoded data removed]",
      "text/plain": [
       "<Figure size 432x288 with 1 Axes>"
      ]
     },
     "metadata": {
      "needs_background": "light"
     },
     "output_type": "display_data"
    },
    {
     "name": "stdout",
     "output_type": "stream",
     "text": [
      "Epoch 1/10\n",
      "15/15 [==============================] - 64s 4s/step - loss: 4.8766 - accuracy: 0.1163 - val_loss: 4.8844 - val_accuracy: 0.1057\n",
      "Epoch 2/10\n",
      "15/15 [==============================] - 63s 4s/step - loss: 4.7247 - accuracy: 0.1274 - val_loss: 4.9257 - val_accuracy: 0.0902\n",
      "Epoch 3/10\n",
      "15/15 [==============================] - 63s 4s/step - loss: 4.5865 - accuracy: 0.1362 - val_loss: 5.0107 - val_accuracy: 0.0670\n",
      "Epoch 4/10\n",
      "15/15 [==============================] - 63s 4s/step - loss: 4.4937 - accuracy: 0.1351 - val_loss: 5.0713 - val_accuracy: 0.0619\n",
      "Epoch 5/10\n",
      "15/15 [==============================] - 27999s 2000s/step - loss: 4.3641 - accuracy: 0.1573 - val_loss: 5.1806 - val_accuracy: 0.0387\n",
      "Epoch 6/10\n",
      "15/15 [==============================] - 72s 5s/step - loss: 4.2579 - accuracy: 0.1739 - val_loss: 5.2154 - val_accuracy: 0.0438\n",
      "Epoch 7/10\n",
      "15/15 [==============================] - 97s 7s/step - loss: 4.1412 - accuracy: 0.1794 - val_loss: 5.2841 - val_accuracy: 0.0309\n",
      "Epoch 8/10\n",
      "15/15 [==============================] - 75s 5s/step - loss: 4.0644 - accuracy: 0.1849 - val_loss: 5.3621 - val_accuracy: 0.0258\n",
      "Epoch 9/10\n",
      "15/15 [==============================] - 77s 5s/step - loss: 3.9409 - accuracy: 0.2126 - val_loss: 5.3884 - val_accuracy: 0.0232\n",
      "Epoch 10/10\n",
      "15/15 [==============================] - 59s 4s/step - loss: 3.8452 - accuracy: 0.2159 - val_loss: 5.4768 - val_accuracy: 0.0258\n"
     ]
    },
    {
     "data": {
      "image/png": "[encoded data removed]",
      "text/plain": [
       "<Figure size 432x288 with 1 Axes>"
      ]
     },
     "metadata": {
      "needs_background": "light"
     },
     "output_type": "display_data"
    },
    {
     "name": "stdout",
     "output_type": "stream",
     "text": [
      "Epoch 1/10\n",
      "15/15 [==============================] - 61s 4s/step - loss: 4.2160 - accuracy: 0.1683 - val_loss: 4.4404 - val_accuracy: 0.1495\n",
      "Epoch 2/10\n",
      "15/15 [==============================] - 60s 4s/step - loss: 4.1051 - accuracy: 0.1938 - val_loss: 4.5430 - val_accuracy: 0.1314\n",
      "Epoch 3/10\n",
      "15/15 [==============================] - 59s 4s/step - loss: 4.0290 - accuracy: 0.2093 - val_loss: 4.5976 - val_accuracy: 0.0979\n",
      "Epoch 4/10\n",
      "15/15 [==============================] - 61s 4s/step - loss: 3.8923 - accuracy: 0.2082 - val_loss: 4.7022 - val_accuracy: 0.0902\n",
      "Epoch 5/10\n",
      "15/15 [==============================] - 64s 4s/step - loss: 3.8227 - accuracy: 0.2315 - val_loss: 4.7936 - val_accuracy: 0.0722\n",
      "Epoch 6/10\n",
      "15/15 [==============================] - 64s 4s/step - loss: 3.7489 - accuracy: 0.2425 - val_loss: 4.8279 - val_accuracy: 0.0696\n",
      "Epoch 7/10\n",
      "15/15 [==============================] - 64s 4s/step - loss: 3.6266 - accuracy: 0.2636 - val_loss: 4.9187 - val_accuracy: 0.0541\n",
      "Epoch 8/10\n",
      "15/15 [==============================] - 62s 4s/step - loss: 3.5763 - accuracy: 0.2614 - val_loss: 4.9338 - val_accuracy: 0.0593\n",
      "Epoch 9/10\n",
      "15/15 [==============================] - 59s 4s/step - loss: 3.5442 - accuracy: 0.2735 - val_loss: 5.0420 - val_accuracy: 0.0567\n",
      "Epoch 10/10\n",
      "15/15 [==============================] - 58s 4s/step - loss: 3.4759 - accuracy: 0.2724 - val_loss: 5.1019 - val_accuracy: 0.0593\n"
     ]
    },
    {
     "data": {
      "image/png": "[encoded data removed]",
      "text/plain": [
       "<Figure size 432x288 with 1 Axes>"
      ]
     },
     "metadata": {
      "needs_background": "light"
     },
     "output_type": "display_data"
    },
    {
     "name": "stdout",
     "output_type": "stream",
     "text": [
      "Epoch 1/10\n",
      "15/15 [==============================] - 59s 4s/step - loss: 3.8193 - accuracy: 0.2303 - val_loss: 4.1117 - val_accuracy: 0.1830\n",
      "Epoch 2/10\n",
      "15/15 [==============================] - 60s 4s/step - loss: 3.6929 - accuracy: 0.2414 - val_loss: 4.2070 - val_accuracy: 0.1649\n",
      "Epoch 3/10\n",
      "15/15 [==============================] - 49s 3s/step - loss: 3.5837 - accuracy: 0.2625 - val_loss: 4.2789 - val_accuracy: 0.1418\n",
      "Epoch 4/10\n",
      "15/15 [==============================] - 50s 3s/step - loss: 3.4913 - accuracy: 0.2813 - val_loss: 4.3174 - val_accuracy: 0.1366\n",
      "Epoch 5/10\n",
      "15/15 [==============================] - 51s 3s/step - loss: 3.4282 - accuracy: 0.2791 - val_loss: 4.3971 - val_accuracy: 0.1340\n",
      "Epoch 6/10\n",
      "15/15 [==============================] - 51s 3s/step - loss: 3.3143 - accuracy: 0.2924 - val_loss: 4.4236 - val_accuracy: 0.1134\n",
      "Epoch 7/10\n",
      "15/15 [==============================] - 51s 3s/step - loss: 3.2395 - accuracy: 0.3090 - val_loss: 4.5121 - val_accuracy: 0.1057\n",
      "Epoch 8/10\n",
      "15/15 [==============================] - 55s 4s/step - loss: 3.1711 - accuracy: 0.3023 - val_loss: 4.6454 - val_accuracy: 0.0876\n",
      "Epoch 9/10\n",
      "15/15 [==============================] - 52s 3s/step - loss: 3.1500 - accuracy: 0.3212 - val_loss: 4.6992 - val_accuracy: 0.0851\n",
      "Epoch 10/10\n",
      "15/15 [==============================] - 50s 3s/step - loss: 3.0829 - accuracy: 0.3367 - val_loss: 4.7694 - val_accuracy: 0.0696\n"
     ]
    },
    {
     "data": {
      "image/png": "[encoded data removed]",
      "text/plain": [
       "<Figure size 432x288 with 1 Axes>"
      ]
     },
     "metadata": {
      "needs_background": "light"
     },
     "output_type": "display_data"
    },
    {
     "name": "stdout",
     "output_type": "stream",
     "text": [
      "Epoch 1/10\n",
      "15/15 [==============================] - 49s 3s/step - loss: 3.5261 - accuracy: 0.2835 - val_loss: 3.6041 - val_accuracy: 0.2423\n",
      "Epoch 2/10\n",
      "15/15 [==============================] - 49s 3s/step - loss: 3.3921 - accuracy: 0.2924 - val_loss: 3.7164 - val_accuracy: 0.2268\n",
      "Epoch 3/10\n",
      "15/15 [==============================] - 49s 3s/step - loss: 3.2565 - accuracy: 0.3178 - val_loss: 3.8185 - val_accuracy: 0.1907\n",
      "Epoch 4/10\n",
      "15/15 [==============================] - 49s 3s/step - loss: 3.1778 - accuracy: 0.3167 - val_loss: 3.9551 - val_accuracy: 0.1804\n",
      "Epoch 5/10\n",
      "15/15 [==============================] - 49s 3s/step - loss: 3.0978 - accuracy: 0.3444 - val_loss: 4.0203 - val_accuracy: 0.1598\n",
      "Epoch 6/10\n",
      "15/15 [==============================] - 50s 3s/step - loss: 2.9855 - accuracy: 0.3621 - val_loss: 4.1079 - val_accuracy: 0.1572\n",
      "Epoch 7/10\n",
      "15/15 [==============================] - 51s 3s/step - loss: 2.9227 - accuracy: 0.3599 - val_loss: 4.1139 - val_accuracy: 0.1546\n",
      "Epoch 8/10\n",
      "15/15 [==============================] - 50s 3s/step - loss: 2.8263 - accuracy: 0.3688 - val_loss: 4.2222 - val_accuracy: 0.1366\n",
      "Epoch 9/10\n",
      "15/15 [==============================] - 51s 3s/step - loss: 2.7493 - accuracy: 0.3787 - val_loss: 4.3049 - val_accuracy: 0.1211\n",
      "Epoch 10/10\n",
      "15/15 [==============================] - 51s 3s/step - loss: 2.7157 - accuracy: 0.3810 - val_loss: 4.3894 - val_accuracy: 0.1134\n"
     ]
    },
    {
     "data": {
      "image/png": "[encoded data removed]",
      "text/plain": [
       "<Figure size 432x288 with 1 Axes>"
      ]
     },
     "metadata": {
      "needs_background": "light"
     },
     "output_type": "display_data"
    }
   ],
   "source": [
    "for train_index, test_index in sss.split(X, y_):\n",
    "    X_train, X_test = X[train_index], X[test_index]\n",
    "    y_train, y_test = y[train_index], y[test_index]\n",
    "    model.fit(X_train, y_train, epochs=10, batch_size=64, validation_data=(X_test, y_test))\n",
    "    \n",
    "    plt.plot(model.history.history['loss'])\n",
    "    plt.plot(model.history.history['val_loss'])\n",
    "    plt.plot(model.history.history['accuracy'])\n",
    "    plt.plot(model.history.history['val_accuracy'])\n",
    "    plt.legend([\"Training set loss\", \"Validation set loss\", \"Accuracy\", \"Validation accuracy\"])\n",
    "\n",
    "    plt.yscale(\"log\")\n",
    "    plt.show()"
   ]
  },
  {
   "cell_type": "code",
   "execution_count": 35,
   "id": "1a6e05a3-4199-40a0-a16a-9ef857bd8c5b",
   "metadata": {},
   "outputs": [
    {
     "name": "stdout",
     "output_type": "stream",
     "text": [
      "41/41 [==============================] - 13s 298ms/step\n"
     ]
    }
   ],
   "source": [
    "y_pred = model.predict(X)         \n",
    "y_pred = np.argmax(y_pred, axis = 1)"
   ]
  },
  {
   "cell_type": "code",
   "execution_count": 36,
   "id": "37400bf6-e3d8-4248-ba01-5f1e44942087",
   "metadata": {},
   "outputs": [
    {
     "name": "stdout",
     "output_type": "stream",
     "text": [
      "F1 score :  0.33373316813983167\n",
      "Accuracy :  0.32532920216886135\n",
      "Precision score :  0.4282770101369431\n",
      "Recall score :  0.32532920216886135\n"
     ]
    },
    {
     "name": "stderr",
     "output_type": "stream",
     "text": [
      "C:\\Users\\thoma\\AppData\\Local\\Programs\\Python\\Python39\\lib\\site-packages\\sklearn\\metrics\\_classification.py:1327: UndefinedMetricWarning: Precision is ill-defined and being set to 0.0 in labels with no predicted samples. Use `zero_division` parameter to control this behavior.\n",
      "  _warn_prf(average, modifier, msg_start, len(result))\n"
     ]
    }
   ],
   "source": [
    "print(\"F1 score : \", f1_score(y_, y_pred, average = 'weighted'))\n",
    "print(\"Accuracy : \", accuracy_score(y_, y_pred))\n",
    "print(\"Precision score : \", precision_score(y_, y_pred, average = 'weighted'))\n",
    "print(\"Recall score : \", recall_score(y_, y_pred, average = 'weighted'))"
   ]
  },
  {
   "cell_type": "markdown",
   "id": "38fc82d8-e126-4144-896b-4d005c9cc2ff",
   "metadata": {},
   "source": [
    "### Training only with hands landmarks"
   ]
  },
  {
   "cell_type": "code",
   "execution_count": 37,
   "id": "250a0718-33e6-4b08-9aa1-119aeba3c219",
   "metadata": {},
   "outputs": [],
   "source": [
    "X2 = X[:,:,:42]"
   ]
  },
  {
   "cell_type": "code",
   "execution_count": 38,
   "id": "4cb0807a-5550-409b-9e4d-8d48f4e102de",
   "metadata": {},
   "outputs": [],
   "source": [
    "input_dim_2 = X2.shape[1:]"
   ]
  },
  {
   "cell_type": "code",
   "execution_count": 40,
   "id": "38263852-455f-49b7-8b60-a1f7231369fb",
   "metadata": {},
   "outputs": [],
   "source": [
    "model2 = Sequential()\n",
    "model2.add(Input(shape=(input_dim_2)))\n",
    "model2.add(Conv2D(filters=8, kernel_size= 3, strides = (1, 2), padding='same', activation='relu'))\n",
    "model2.add(Conv2D(filters=16, kernel_size=(input_dim[0], 3), strides = (1, 2), padding='same', activation='relu'))\n",
    "model2.add(Conv2D(filters=32, kernel_size= 3, strides = (1, 2),padding='same', activation='relu'))\n",
    "model2.add(tf.keras.layers.Reshape((100, 6*32)))\n",
    "model2.add(LSTM(64))\n",
    "model2.add(Dense(128, activation='relu'))\n",
    "model2.add(Dense(nb_classes, activation='softmax'))\n",
    "model2.compile(loss='CategoricalCrossentropy', optimizer='adam', metrics=['accuracy'])"
   ]
  },
  {
   "cell_type": "code",
   "execution_count": 41,
   "id": "adb77e12-38a2-43bc-9a92-a03868b2d1f7",
   "metadata": {},
   "outputs": [
    {
     "name": "stdout",
     "output_type": "stream",
     "text": [
      "Model: \"sequential_4\"\n",
      "_________________________________________________________________\n",
      " Layer (type)                Output Shape              Param #   \n",
      "=================================================================\n",
      " conv2d_9 (Conv2D)           (None, 100, 21, 8)        224       \n",
      "                                                                 \n",
      " conv2d_10 (Conv2D)          (None, 100, 11, 16)       38416     \n",
      "                                                                 \n",
      " conv2d_11 (Conv2D)          (None, 100, 6, 32)        4640      \n",
      "                                                                 \n",
      " reshape_4 (Reshape)         (None, 100, 192)          0         \n",
      "                                                                 \n",
      " lstm_3 (LSTM)               (None, 64)                65792     \n",
      "                                                                 \n",
      " dense_5 (Dense)             (None, 128)               8320      \n",
      "                                                                 \n",
      " dense_6 (Dense)             (None, 231)               29799     \n",
      "                                                                 \n",
      "=================================================================\n",
      "Total params: 147,191\n",
      "Trainable params: 147,191\n",
      "Non-trainable params: 0\n",
      "_________________________________________________________________\n"
     ]
    }
   ],
   "source": [
    "model2.summary()"
   ]
  },
  {
   "cell_type": "code",
   "execution_count": 42,
   "id": "cb410055-ab48-4c57-8b8c-1ee87bd9cc71",
   "metadata": {},
   "outputs": [
    {
     "name": "stdout",
     "output_type": "stream",
     "text": [
      "Epoch 1/10\n",
      "15/15 [==============================] - 7s 350ms/step - loss: 5.4526 - accuracy: 0.0011 - val_loss: 5.4539 - val_accuracy: 0.0077\n",
      "Epoch 2/10\n",
      "15/15 [==============================] - 5s 314ms/step - loss: 5.3940 - accuracy: 0.0111 - val_loss: 5.4592 - val_accuracy: 0.0052\n",
      "Epoch 3/10\n",
      "15/15 [==============================] - 5s 320ms/step - loss: 5.3434 - accuracy: 0.0255 - val_loss: 5.4750 - val_accuracy: 0.0077\n",
      "Epoch 4/10\n",
      "15/15 [==============================] - 5s 325ms/step - loss: 5.2769 - accuracy: 0.0332 - val_loss: 5.4880 - val_accuracy: 0.0077\n",
      "Epoch 5/10\n",
      "15/15 [==============================] - 5s 338ms/step - loss: 5.2033 - accuracy: 0.0377 - val_loss: 5.5135 - val_accuracy: 0.0052\n",
      "Epoch 6/10\n",
      "15/15 [==============================] - 5s 335ms/step - loss: 5.1233 - accuracy: 0.0443 - val_loss: 5.5873 - val_accuracy: 0.0052\n",
      "Epoch 7/10\n",
      "15/15 [==============================] - 5s 334ms/step - loss: 5.0365 - accuracy: 0.0543 - val_loss: 5.6181 - val_accuracy: 0.0052\n",
      "Epoch 8/10\n",
      "15/15 [==============================] - 5s 332ms/step - loss: 4.9557 - accuracy: 0.0676 - val_loss: 5.6961 - val_accuracy: 0.0052\n",
      "Epoch 9/10\n",
      "15/15 [==============================] - 5s 332ms/step - loss: 4.8822 - accuracy: 0.0720 - val_loss: 5.7846 - val_accuracy: 0.0026\n",
      "Epoch 10/10\n",
      "15/15 [==============================] - 5s 332ms/step - loss: 4.8266 - accuracy: 0.0786 - val_loss: 5.8349 - val_accuracy: 0.0026\n"
     ]
    },
    {
     "data": {
      "image/png": "[encoded data removed]",
      "text/plain": [
       "<Figure size 432x288 with 1 Axes>"
      ]
     },
     "metadata": {
      "needs_background": "light"
     },
     "output_type": "display_data"
    },
    {
     "name": "stdout",
     "output_type": "stream",
     "text": [
      "Epoch 1/10\n",
      "15/15 [==============================] - 6s 370ms/step - loss: 5.0682 - accuracy: 0.0642 - val_loss: 5.1043 - val_accuracy: 0.0541\n",
      "Epoch 2/10\n",
      "15/15 [==============================] - 5s 342ms/step - loss: 4.9640 - accuracy: 0.0819 - val_loss: 5.1367 - val_accuracy: 0.0412\n",
      "Epoch 3/10\n",
      "15/15 [==============================] - 5s 341ms/step - loss: 4.8719 - accuracy: 0.1041 - val_loss: 5.2047 - val_accuracy: 0.0387\n",
      "Epoch 4/10\n",
      "15/15 [==============================] - 6s 374ms/step - loss: 4.7660 - accuracy: 0.1141 - val_loss: 5.2712 - val_accuracy: 0.0258\n",
      "Epoch 5/10\n",
      "15/15 [==============================] - 5s 343ms/step - loss: 4.6901 - accuracy: 0.1218 - val_loss: 5.3345 - val_accuracy: 0.0206\n",
      "Epoch 6/10\n",
      "15/15 [==============================] - 5s 334ms/step - loss: 4.6437 - accuracy: 0.1274 - val_loss: 5.3959 - val_accuracy: 0.0155\n",
      "Epoch 7/10\n",
      "15/15 [==============================] - 5s 332ms/step - loss: 4.5659 - accuracy: 0.1417 - val_loss: 5.4384 - val_accuracy: 0.0129\n",
      "Epoch 8/10\n",
      "15/15 [==============================] - 5s 332ms/step - loss: 4.4853 - accuracy: 0.1384 - val_loss: 5.5337 - val_accuracy: 0.0103\n",
      "Epoch 9/10\n",
      "15/15 [==============================] - 5s 329ms/step - loss: 4.4155 - accuracy: 0.1561 - val_loss: 5.5485 - val_accuracy: 0.0103\n",
      "Epoch 10/10\n",
      "15/15 [==============================] - 5s 331ms/step - loss: 4.3548 - accuracy: 0.1661 - val_loss: 5.6643 - val_accuracy: 0.0129\n"
     ]
    },
    {
     "data": {
      "image/png": "[encoded data removed]",
      "text/plain": [
       "<Figure size 432x288 with 1 Axes>"
      ]
     },
     "metadata": {
      "needs_background": "light"
     },
     "output_type": "display_data"
    },
    {
     "name": "stdout",
     "output_type": "stream",
     "text": [
      "Epoch 1/10\n",
      "15/15 [==============================] - 5s 333ms/step - loss: 4.7025 - accuracy: 0.1174 - val_loss: 4.7809 - val_accuracy: 0.1237\n",
      "Epoch 2/10\n",
      "15/15 [==============================] - 5s 333ms/step - loss: 4.6184 - accuracy: 0.1240 - val_loss: 4.8617 - val_accuracy: 0.0722\n",
      "Epoch 3/10\n",
      "15/15 [==============================] - 5s 332ms/step - loss: 4.5436 - accuracy: 0.1307 - val_loss: 4.9219 - val_accuracy: 0.0747\n",
      "Epoch 4/10\n",
      "15/15 [==============================] - 5s 333ms/step - loss: 4.4665 - accuracy: 0.1440 - val_loss: 5.0219 - val_accuracy: 0.0619\n",
      "Epoch 5/10\n",
      "15/15 [==============================] - 5s 331ms/step - loss: 4.4072 - accuracy: 0.1506 - val_loss: 5.0895 - val_accuracy: 0.0412\n",
      "Epoch 6/10\n",
      "15/15 [==============================] - 5s 331ms/step - loss: 4.3715 - accuracy: 0.1440 - val_loss: 5.1275 - val_accuracy: 0.0412\n",
      "Epoch 7/10\n",
      "15/15 [==============================] - 5s 332ms/step - loss: 4.3119 - accuracy: 0.1694 - val_loss: 5.2425 - val_accuracy: 0.0232\n",
      "Epoch 8/10\n",
      "15/15 [==============================] - 5s 336ms/step - loss: 4.2846 - accuracy: 0.1683 - val_loss: 5.2463 - val_accuracy: 0.0232\n",
      "Epoch 9/10\n",
      "15/15 [==============================] - 5s 331ms/step - loss: 4.2434 - accuracy: 0.1838 - val_loss: 5.3533 - val_accuracy: 0.0155\n",
      "Epoch 10/10\n",
      "15/15 [==============================] - 5s 332ms/step - loss: 4.2262 - accuracy: 0.1794 - val_loss: 5.3945 - val_accuracy: 0.0129\n"
     ]
    },
    {
     "data": {
      "image/png": "[encoded data removed]",
      "text/plain": [
       "<Figure size 432x288 with 1 Axes>"
      ]
     },
     "metadata": {
      "needs_background": "light"
     },
     "output_type": "display_data"
    },
    {
     "name": "stdout",
     "output_type": "stream",
     "text": [
      "Epoch 1/10\n",
      "15/15 [==============================] - 5s 335ms/step - loss: 4.4474 - accuracy: 0.1517 - val_loss: 4.7677 - val_accuracy: 0.0979\n",
      "Epoch 2/10\n",
      "15/15 [==============================] - 5s 332ms/step - loss: 4.4030 - accuracy: 0.1373 - val_loss: 4.9003 - val_accuracy: 0.0567\n",
      "Epoch 3/10\n",
      "15/15 [==============================] - 5s 330ms/step - loss: 4.2969 - accuracy: 0.1517 - val_loss: 4.9315 - val_accuracy: 0.0464\n",
      "Epoch 4/10\n",
      "15/15 [==============================] - 5s 334ms/step - loss: 4.2237 - accuracy: 0.1772 - val_loss: 5.0054 - val_accuracy: 0.0438\n",
      "Epoch 5/10\n",
      "15/15 [==============================] - 5s 329ms/step - loss: 4.2079 - accuracy: 0.1672 - val_loss: 5.0806 - val_accuracy: 0.0387\n",
      "Epoch 6/10\n",
      "15/15 [==============================] - 5s 332ms/step - loss: 4.2464 - accuracy: 0.1728 - val_loss: 5.0867 - val_accuracy: 0.0284\n",
      "Epoch 7/10\n",
      "15/15 [==============================] - 5s 328ms/step - loss: 4.1362 - accuracy: 0.1949 - val_loss: 5.1558 - val_accuracy: 0.0232\n",
      "Epoch 8/10\n",
      "15/15 [==============================] - 5s 332ms/step - loss: 4.0753 - accuracy: 0.1949 - val_loss: 5.2655 - val_accuracy: 0.0232\n",
      "Epoch 9/10\n",
      "15/15 [==============================] - 5s 329ms/step - loss: 4.0164 - accuracy: 0.1971 - val_loss: 5.3062 - val_accuracy: 0.0284\n",
      "Epoch 10/10\n",
      "15/15 [==============================] - 5s 332ms/step - loss: 3.9598 - accuracy: 0.2182 - val_loss: 5.3519 - val_accuracy: 0.0206\n"
     ]
    },
    {
     "data": {
      "image/png": "[encoded data removed]",
      "text/plain": [
       "<Figure size 432x288 with 1 Axes>"
      ]
     },
     "metadata": {
      "needs_background": "light"
     },
     "output_type": "display_data"
    },
    {
     "name": "stdout",
     "output_type": "stream",
     "text": [
      "Epoch 1/10\n",
      "15/15 [==============================] - 5s 334ms/step - loss: 4.3888 - accuracy: 0.1539 - val_loss: 4.3600 - val_accuracy: 0.1701\n",
      "Epoch 2/10\n",
      "15/15 [==============================] - 5s 331ms/step - loss: 4.2691 - accuracy: 0.1772 - val_loss: 4.4095 - val_accuracy: 0.1418\n",
      "Epoch 3/10\n",
      "15/15 [==============================] - 5s 329ms/step - loss: 4.2229 - accuracy: 0.1838 - val_loss: 4.5190 - val_accuracy: 0.1134\n",
      "Epoch 4/10\n",
      "15/15 [==============================] - 5s 330ms/step - loss: 4.1641 - accuracy: 0.1750 - val_loss: 4.6236 - val_accuracy: 0.1082\n",
      "Epoch 5/10\n",
      "15/15 [==============================] - 5s 330ms/step - loss: 4.0908 - accuracy: 0.1971 - val_loss: 4.6478 - val_accuracy: 0.0979\n",
      "Epoch 6/10\n",
      "15/15 [==============================] - 5s 332ms/step - loss: 4.0094 - accuracy: 0.2104 - val_loss: 4.7137 - val_accuracy: 0.0825\n",
      "Epoch 7/10\n",
      "15/15 [==============================] - 5s 333ms/step - loss: 3.9633 - accuracy: 0.2215 - val_loss: 4.7844 - val_accuracy: 0.0799\n",
      "Epoch 8/10\n",
      "15/15 [==============================] - 5s 332ms/step - loss: 3.9571 - accuracy: 0.2159 - val_loss: 4.8349 - val_accuracy: 0.0696\n",
      "Epoch 9/10\n",
      "15/15 [==============================] - 5s 328ms/step - loss: 3.9244 - accuracy: 0.2414 - val_loss: 4.8621 - val_accuracy: 0.0696\n",
      "Epoch 10/10\n",
      "15/15 [==============================] - 5s 332ms/step - loss: 3.8905 - accuracy: 0.2303 - val_loss: 4.9133 - val_accuracy: 0.0644\n"
     ]
    },
    {
     "data": {
      "image/png": "[encoded data removed]",
      "text/plain": [
       "<Figure size 432x288 with 1 Axes>"
      ]
     },
     "metadata": {
      "needs_background": "light"
     },
     "output_type": "display_data"
    }
   ],
   "source": [
    "for train_index, test_index in sss.split(X2, y_):\n",
    "    X_train, X_test = X2[train_index], X2[test_index]\n",
    "    y_train, y_test = y[train_index], y[test_index]\n",
    "    model2.fit(X_train, y_train, epochs=10, batch_size=64, validation_data=(X_test, y_test))\n",
    "    \n",
    "    plt.plot(model2.history.history['loss'])\n",
    "    plt.plot(model2.history.history['val_loss'])\n",
    "    plt.plot(model2.history.history['accuracy'])\n",
    "    plt.plot(model2.history.history['val_accuracy'])\n",
    "    plt.legend([\"Training set loss\", \"Validation set loss\", \"Accuracy\", \"Validation accuracy\"])\n",
    "\n",
    "    plt.yscale(\"log\")\n",
    "    plt.show()"
   ]
  },
  {
   "cell_type": "code",
   "execution_count": 43,
   "id": "ff0f09fe-d78a-4fbf-9c34-6e522f8bf80d",
   "metadata": {},
   "outputs": [
    {
     "name": "stdout",
     "output_type": "stream",
     "text": [
      "41/41 [==============================] - 2s 36ms/step\n"
     ]
    }
   ],
   "source": [
    "y_pred = model2.predict(X2)         \n",
    "y_pred = np.argmax(y_pred, axis = 1)"
   ]
  },
  {
   "cell_type": "code",
   "execution_count": 44,
   "id": "46c98f22-0baa-494f-8f00-8c7d3350f43a",
   "metadata": {},
   "outputs": [
    {
     "name": "stdout",
     "output_type": "stream",
     "text": [
      "F1 score :  0.23983601761154322\n",
      "Accuracy :  0.1959721146398141\n",
      "Precision score :  0.4392141096162017\n",
      "Recall score :  0.1959721146398141\n"
     ]
    },
    {
     "name": "stderr",
     "output_type": "stream",
     "text": [
      "C:\\Users\\thoma\\AppData\\Local\\Programs\\Python\\Python39\\lib\\site-packages\\sklearn\\metrics\\_classification.py:1327: UndefinedMetricWarning: Precision is ill-defined and being set to 0.0 in labels with no predicted samples. Use `zero_division` parameter to control this behavior.\n",
      "  _warn_prf(average, modifier, msg_start, len(result))\n"
     ]
    }
   ],
   "source": [
    "print(\"F1 score : \", f1_score(y_, y_pred, average = 'weighted'))\n",
    "print(\"Accuracy : \", accuracy_score(y_, y_pred))\n",
    "print(\"Precision score : \", precision_score(y_, y_pred, average = 'weighted'))\n",
    "print(\"Recall score : \", recall_score(y_, y_pred, average = 'weighted'))"
   ]
  },
  {
   "cell_type": "markdown",
   "id": "e599c240-a0d6-4565-870c-81b28bf3544e",
   "metadata": {},
   "source": [
    "### Less complicated architecture"
   ]
  },
  {
   "cell_type": "code",
   "execution_count": 51,
   "id": "aecaa554-2a86-4d13-8bb3-a55d138e38d3",
   "metadata": {},
   "outputs": [],
   "source": [
    "model = Sequential()\n",
    "model.add(Input(shape=(input_dim)))\n",
    "model.add(tf.keras.layers.Reshape((100, 520*3)))\n",
    "model.add(LSTM(20))\n",
    "model.add(Dense(nb_classes, activation='softmax'))\n",
    "model.compile(loss='CategoricalCrossentropy', optimizer='adam', metrics=['accuracy'])"
   ]
  },
  {
   "cell_type": "code",
   "execution_count": 52,
   "id": "25a844bb-9841-4944-98a8-c115635e79b3",
   "metadata": {},
   "outputs": [
    {
     "name": "stdout",
     "output_type": "stream",
     "text": [
      "Model: \"sequential_7\"\n",
      "_________________________________________________________________\n",
      " Layer (type)                Output Shape              Param #   \n",
      "=================================================================\n",
      " reshape_7 (Reshape)         (None, 100, 1560)         0         \n",
      "                                                                 \n",
      " lstm_6 (LSTM)               (None, 20)                126480    \n",
      "                                                                 \n",
      " dense_9 (Dense)             (None, 231)               4851      \n",
      "                                                                 \n",
      "=================================================================\n",
      "Total params: 131,331\n",
      "Trainable params: 131,331\n",
      "Non-trainable params: 0\n",
      "_________________________________________________________________\n"
     ]
    }
   ],
   "source": [
    "model.summary()"
   ]
  },
  {
   "cell_type": "code",
   "execution_count": 53,
   "id": "d771a414-d81f-4cb9-a93a-c6ece8b7f74c",
   "metadata": {},
   "outputs": [],
   "source": [
    "sss = StratifiedShuffleSplit(n_splits=5, test_size=0.3, random_state=1)"
   ]
  },
  {
   "cell_type": "code",
   "execution_count": 54,
   "id": "43feec57-16fa-496d-afd4-6e8dd029b835",
   "metadata": {},
   "outputs": [
    {
     "name": "stdout",
     "output_type": "stream",
     "text": [
      "Epoch 1/10\n",
      "15/15 [==============================] - 3s 125ms/step - loss: 5.4538 - accuracy: 0.0078 - val_loss: 5.4429 - val_accuracy: 0.0026\n",
      "Epoch 2/10\n",
      "15/15 [==============================] - 1s 91ms/step - loss: 5.4364 - accuracy: 0.0066 - val_loss: 5.4403 - val_accuracy: 0.0026\n",
      "Epoch 3/10\n",
      "15/15 [==============================] - 1s 86ms/step - loss: 5.4278 - accuracy: 0.0055 - val_loss: 5.4403 - val_accuracy: 0.0026\n",
      "Epoch 4/10\n",
      "15/15 [==============================] - 1s 80ms/step - loss: 5.4230 - accuracy: 0.0100 - val_loss: 5.4407 - val_accuracy: 0.0077\n",
      "Epoch 5/10\n",
      "15/15 [==============================] - 1s 83ms/step - loss: 5.4138 - accuracy: 0.0111 - val_loss: 5.4511 - val_accuracy: 0.0052\n",
      "Epoch 6/10\n",
      "15/15 [==============================] - 1s 83ms/step - loss: 5.4043 - accuracy: 0.0166 - val_loss: 5.4436 - val_accuracy: 0.0026\n",
      "Epoch 7/10\n",
      "15/15 [==============================] - 1s 80ms/step - loss: 5.3911 - accuracy: 0.0188 - val_loss: 5.4515 - val_accuracy: 0.0026\n",
      "Epoch 8/10\n",
      "15/15 [==============================] - 1s 86ms/step - loss: 5.3822 - accuracy: 0.0221 - val_loss: 5.4516 - val_accuracy: 0.0052\n",
      "Epoch 9/10\n",
      "15/15 [==============================] - 1s 82ms/step - loss: 5.3699 - accuracy: 0.0233 - val_loss: 5.4526 - val_accuracy: 0.0026\n",
      "Epoch 10/10\n",
      "15/15 [==============================] - 1s 82ms/step - loss: 5.3667 - accuracy: 0.0299 - val_loss: 5.4583 - val_accuracy: 0.0000e+00\n"
     ]
    },
    {
     "data": {
      "image/png": "[encoded data removed]",
      "text/plain": [
       "<Figure size 432x288 with 1 Axes>"
      ]
     },
     "metadata": {
      "needs_background": "light"
     },
     "output_type": "display_data"
    },
    {
     "name": "stdout",
     "output_type": "stream",
     "text": [
      "Epoch 1/10\n",
      "15/15 [==============================] - 2s 108ms/step - loss: 5.3795 - accuracy: 0.0233 - val_loss: 5.3897 - val_accuracy: 0.0206\n",
      "Epoch 2/10\n",
      "15/15 [==============================] - 1s 87ms/step - loss: 5.3706 - accuracy: 0.0288 - val_loss: 5.3981 - val_accuracy: 0.0206\n",
      "Epoch 3/10\n",
      "15/15 [==============================] - 1s 83ms/step - loss: 5.3591 - accuracy: 0.0233 - val_loss: 5.3999 - val_accuracy: 0.0180\n",
      "Epoch 4/10\n",
      "15/15 [==============================] - 1s 81ms/step - loss: 5.3442 - accuracy: 0.0288 - val_loss: 5.3991 - val_accuracy: 0.0284\n",
      "Epoch 5/10\n",
      "15/15 [==============================] - 1s 81ms/step - loss: 5.3295 - accuracy: 0.0299 - val_loss: 5.3983 - val_accuracy: 0.0206\n",
      "Epoch 6/10\n",
      "15/15 [==============================] - 1s 87ms/step - loss: 5.3209 - accuracy: 0.0388 - val_loss: 5.3998 - val_accuracy: 0.0258\n",
      "Epoch 7/10\n",
      "15/15 [==============================] - 1s 82ms/step - loss: 5.3073 - accuracy: 0.0443 - val_loss: 5.4093 - val_accuracy: 0.0206\n",
      "Epoch 8/10\n",
      "15/15 [==============================] - 1s 83ms/step - loss: 5.2920 - accuracy: 0.0509 - val_loss: 5.4147 - val_accuracy: 0.0180\n",
      "Epoch 9/10\n",
      "15/15 [==============================] - 1s 90ms/step - loss: 5.2808 - accuracy: 0.0465 - val_loss: 5.4213 - val_accuracy: 0.0206\n",
      "Epoch 10/10\n",
      "15/15 [==============================] - 1s 85ms/step - loss: 5.2677 - accuracy: 0.0476 - val_loss: 5.4256 - val_accuracy: 0.0206\n"
     ]
    },
    {
     "data": {
      "image/png": "[encoded data removed]",
      "text/plain": [
       "<Figure size 432x288 with 1 Axes>"
      ]
     },
     "metadata": {
      "needs_background": "light"
     },
     "output_type": "display_data"
    },
    {
     "name": "stdout",
     "output_type": "stream",
     "text": [
      "Epoch 1/10\n",
      "15/15 [==============================] - 2s 104ms/step - loss: 5.3056 - accuracy: 0.0443 - val_loss: 5.3060 - val_accuracy: 0.0387\n",
      "Epoch 2/10\n",
      "15/15 [==============================] - 1s 89ms/step - loss: 5.2914 - accuracy: 0.0454 - val_loss: 5.3083 - val_accuracy: 0.0490\n",
      "Epoch 3/10\n",
      "15/15 [==============================] - 1s 86ms/step - loss: 5.2707 - accuracy: 0.0509 - val_loss: 5.3145 - val_accuracy: 0.0490\n",
      "Epoch 4/10\n",
      "15/15 [==============================] - 1s 87ms/step - loss: 5.2540 - accuracy: 0.0576 - val_loss: 5.3227 - val_accuracy: 0.0361\n",
      "Epoch 5/10\n",
      "15/15 [==============================] - 1s 87ms/step - loss: 5.2416 - accuracy: 0.0576 - val_loss: 5.3352 - val_accuracy: 0.0335\n",
      "Epoch 6/10\n",
      "15/15 [==============================] - 1s 86ms/step - loss: 5.2253 - accuracy: 0.0576 - val_loss: 5.3392 - val_accuracy: 0.0258\n",
      "Epoch 7/10\n",
      "15/15 [==============================] - 1s 86ms/step - loss: 5.2121 - accuracy: 0.0598 - val_loss: 5.3484 - val_accuracy: 0.0309\n",
      "Epoch 8/10\n",
      "15/15 [==============================] - 1s 87ms/step - loss: 5.2022 - accuracy: 0.0653 - val_loss: 5.3446 - val_accuracy: 0.0232\n",
      "Epoch 9/10\n",
      "15/15 [==============================] - 1s 86ms/step - loss: 5.1879 - accuracy: 0.0687 - val_loss: 5.3571 - val_accuracy: 0.0258\n",
      "Epoch 10/10\n",
      "15/15 [==============================] - 1s 86ms/step - loss: 5.1777 - accuracy: 0.0631 - val_loss: 5.3590 - val_accuracy: 0.0206\n"
     ]
    },
    {
     "data": {
      "image/png": "[encoded data removed]",
      "text/plain": [
       "<Figure size 432x288 with 1 Axes>"
      ]
     },
     "metadata": {
      "needs_background": "light"
     },
     "output_type": "display_data"
    },
    {
     "name": "stdout",
     "output_type": "stream",
     "text": [
      "Epoch 1/10\n",
      "15/15 [==============================] - 1s 96ms/step - loss: 5.2320 - accuracy: 0.0509 - val_loss: 5.2247 - val_accuracy: 0.0490\n",
      "Epoch 2/10\n",
      "15/15 [==============================] - 1s 91ms/step - loss: 5.2187 - accuracy: 0.0532 - val_loss: 5.2323 - val_accuracy: 0.0387\n",
      "Epoch 3/10\n",
      "15/15 [==============================] - 1s 95ms/step - loss: 5.2064 - accuracy: 0.0565 - val_loss: 5.2350 - val_accuracy: 0.0387\n",
      "Epoch 4/10\n",
      "15/15 [==============================] - 1s 91ms/step - loss: 5.1937 - accuracy: 0.0653 - val_loss: 5.2383 - val_accuracy: 0.0361\n",
      "Epoch 5/10\n",
      "15/15 [==============================] - 1s 94ms/step - loss: 5.1829 - accuracy: 0.0687 - val_loss: 5.2431 - val_accuracy: 0.0412\n",
      "Epoch 6/10\n",
      "15/15 [==============================] - 1s 93ms/step - loss: 5.1778 - accuracy: 0.0709 - val_loss: 5.2535 - val_accuracy: 0.0387\n",
      "Epoch 7/10\n",
      "15/15 [==============================] - 1s 91ms/step - loss: 5.1593 - accuracy: 0.0753 - val_loss: 5.2581 - val_accuracy: 0.0387\n",
      "Epoch 8/10\n",
      "15/15 [==============================] - 1s 88ms/step - loss: 5.1452 - accuracy: 0.0808 - val_loss: 5.2604 - val_accuracy: 0.0387\n",
      "Epoch 9/10\n",
      "15/15 [==============================] - 1s 92ms/step - loss: 5.1422 - accuracy: 0.0842 - val_loss: 5.2671 - val_accuracy: 0.0412\n",
      "Epoch 10/10\n",
      "15/15 [==============================] - 1s 87ms/step - loss: 5.1311 - accuracy: 0.0753 - val_loss: 5.2687 - val_accuracy: 0.0361\n"
     ]
    },
    {
     "data": {
      "image/png": "[encoded data removed]",
      "text/plain": [
       "<Figure size 432x288 with 1 Axes>"
      ]
     },
     "metadata": {
      "needs_background": "light"
     },
     "output_type": "display_data"
    },
    {
     "name": "stdout",
     "output_type": "stream",
     "text": [
      "Epoch 1/10\n",
      "15/15 [==============================] - 1s 94ms/step - loss: 5.1822 - accuracy: 0.0587 - val_loss: 5.1407 - val_accuracy: 0.0799\n",
      "Epoch 2/10\n",
      "15/15 [==============================] - 1s 87ms/step - loss: 5.1711 - accuracy: 0.0631 - val_loss: 5.1400 - val_accuracy: 0.0825\n",
      "Epoch 3/10\n",
      "15/15 [==============================] - 1s 88ms/step - loss: 5.1578 - accuracy: 0.0687 - val_loss: 5.1440 - val_accuracy: 0.0670\n",
      "Epoch 4/10\n",
      "15/15 [==============================] - 1s 88ms/step - loss: 5.1467 - accuracy: 0.0753 - val_loss: 5.1471 - val_accuracy: 0.0670\n",
      "Epoch 5/10\n",
      "15/15 [==============================] - 1s 88ms/step - loss: 5.1336 - accuracy: 0.0775 - val_loss: 5.1546 - val_accuracy: 0.0670\n",
      "Epoch 6/10\n",
      "15/15 [==============================] - 1s 89ms/step - loss: 5.1220 - accuracy: 0.0786 - val_loss: 5.1611 - val_accuracy: 0.0696\n",
      "Epoch 7/10\n",
      "15/15 [==============================] - 1s 87ms/step - loss: 5.1104 - accuracy: 0.0775 - val_loss: 5.1721 - val_accuracy: 0.0593\n",
      "Epoch 8/10\n",
      "15/15 [==============================] - 1s 87ms/step - loss: 5.0981 - accuracy: 0.0864 - val_loss: 5.1676 - val_accuracy: 0.0619\n",
      "Epoch 9/10\n",
      "15/15 [==============================] - 1s 96ms/step - loss: 5.1000 - accuracy: 0.0764 - val_loss: 5.1819 - val_accuracy: 0.0644\n",
      "Epoch 10/10\n",
      "15/15 [==============================] - 1s 94ms/step - loss: 5.0974 - accuracy: 0.0819 - val_loss: 5.2036 - val_accuracy: 0.0541\n"
     ]
    },
    {
     "data": {
      "image/png": "[encoded data removed]",
      "text/plain": [
       "<Figure size 432x288 with 1 Axes>"
      ]
     },
     "metadata": {
      "needs_background": "light"
     },
     "output_type": "display_data"
    }
   ],
   "source": [
    "for train_index, test_index in sss.split(X, y_):\n",
    "    X_train, X_test = X[train_index], X[test_index]\n",
    "    y_train, y_test = y[train_index], y[test_index]\n",
    "    model.fit(X_train, y_train, epochs=10, batch_size=64, validation_data=(X_test, y_test))\n",
    "    \n",
    "    plt.plot(model.history.history['loss'])\n",
    "    plt.plot(model.history.history['val_loss'])\n",
    "    plt.plot(model.history.history['accuracy'])\n",
    "    plt.plot(model.history.history['val_accuracy'])\n",
    "    plt.legend([\"Training set loss\", \"Validation set loss\", \"Accuracy\", \"Validation accuracy\"])\n",
    "\n",
    "    plt.yscale(\"log\")\n",
    "    plt.show()"
   ]
  },
  {
   "cell_type": "code",
   "execution_count": 55,
   "id": "5e2fe146-4062-4784-ad80-5ddb82c30a96",
   "metadata": {},
   "outputs": [
    {
     "name": "stdout",
     "output_type": "stream",
     "text": [
      "41/41 [==============================] - 1s 27ms/step\n"
     ]
    }
   ],
   "source": [
    "y_pred = model.predict(X)         \n",
    "y_pred = np.argmax(y_pred, axis = 1)"
   ]
  },
  {
   "cell_type": "code",
   "execution_count": 56,
   "id": "891be85b-72c7-408c-aad6-878356a04ee5",
   "metadata": {},
   "outputs": [
    {
     "name": "stdout",
     "output_type": "stream",
     "text": [
      "F1 score :  0.061312219359322434\n",
      "Accuracy :  0.07281177381874517\n",
      "Precision score :  0.10240445444270131\n",
      "Recall score :  0.07281177381874517\n"
     ]
    },
    {
     "name": "stderr",
     "output_type": "stream",
     "text": [
      "C:\\Users\\thoma\\AppData\\Local\\Programs\\Python\\Python39\\lib\\site-packages\\sklearn\\metrics\\_classification.py:1327: UndefinedMetricWarning: Precision is ill-defined and being set to 0.0 in labels with no predicted samples. Use `zero_division` parameter to control this behavior.\n",
      "  _warn_prf(average, modifier, msg_start, len(result))\n"
     ]
    }
   ],
   "source": [
    "print(\"F1 score : \", f1_score(y_, y_pred, average = 'weighted'))\n",
    "print(\"Accuracy : \", accuracy_score(y_, y_pred))\n",
    "print(\"Precision score : \", precision_score(y_, y_pred, average = 'weighted'))\n",
    "print(\"Recall score : \", recall_score(y_, y_pred, average = 'weighted'))"
   ]
  },
  {
   "cell_type": "code",
   "execution_count": null,
   "id": "6957e1d6-206f-43e1-9f94-06afdd5c24cb",
   "metadata": {},
   "outputs": [],
   "source": []
  }
 ],
 "metadata": {
  "kernelspec": {
   "display_name": "Yolo",
   "language": "python",
   "name": "yolo"
  },
  "language_info": {
   "codemirror_mode": {
    "name": "ipython",
    "version": 3
   },
   "file_extension": ".py",
   "mimetype": "text/x-python",
   "name": "python",
   "nbconvert_exporter": "python",
   "pygments_lexer": "ipython3",
   "version": "3.9.6"
  }
 },
 "nbformat": 4,
 "nbformat_minor": 5
}
