{
 "cells": [
  {
   "cell_type": "code",
   "execution_count": 1,
   "id": "fc4d9ef6-488c-4c5c-a322-a8da8fabebe5",
   "metadata": {},
   "outputs": [],
   "source": [
    "import tensorflow as tf\n",
    "import pandas as pd\n",
    "import pickle\n",
    "import seaborn as sns\n",
    "import numpy as np\n",
    "import matplotlib.pyplot as plt\n",
    "from sklearn.preprocessing import OneHotEncoder\n",
    "from sklearn.preprocessing import LabelEncoder\n",
    "\n",
    "from sklearn.model_selection import StratifiedShuffleSplit\n",
    "from tensorflow.keras.models import Sequential\n",
    "from sklearn.metrics import confusion_matrix, plot_confusion_matrix, f1_score, accuracy_score, precision_score, recall_score\n",
    "\n",
    "from keras.layers import Input, Dense, GlobalAveragePooling2D, UpSampling2D, add, concatenate, Conv2D, Lambda, BatchNormalization, LeakyReLU, MaxPool2D, LSTM, GRU"
   ]
  },
  {
   "cell_type": "code",
   "execution_count": 2,
   "id": "e2ad36b6-24d1-49f4-a42f-6ce2a4275432",
   "metadata": {},
   "outputs": [],
   "source": [
    "df = pd.read_csv(\"dataset/Video Information Extraction.csv\")"
   ]
  },
  {
   "cell_type": "code",
   "execution_count": 3,
   "id": "eb6cceb5-1bad-4cca-8275-58667f5b8342",
   "metadata": {},
   "outputs": [
    {
     "data": {
      "text/html": [
       "<div>\n",
       "<style scoped>\n",
       "    .dataframe tbody tr th:only-of-type {\n",
       "        vertical-align: middle;\n",
       "    }\n",
       "\n",
       "    .dataframe tbody tr th {\n",
       "        vertical-align: top;\n",
       "    }\n",
       "\n",
       "    .dataframe thead th {\n",
       "        text-align: right;\n",
       "    }\n",
       "</style>\n",
       "<table border=\"1\" class=\"dataframe\">\n",
       "  <thead>\n",
       "    <tr style=\"text-align: right;\">\n",
       "      <th></th>\n",
       "      <th>fps</th>\n",
       "      <th>frame_end</th>\n",
       "      <th>frame_start</th>\n",
       "      <th>instance_id</th>\n",
       "      <th>signer_id</th>\n",
       "      <th>source</th>\n",
       "      <th>split</th>\n",
       "      <th>url</th>\n",
       "      <th>variation_id</th>\n",
       "      <th>video_id</th>\n",
       "      <th>bbox_xmin</th>\n",
       "      <th>bbox_ymin</th>\n",
       "      <th>bbox_xmax</th>\n",
       "      <th>bbox_ymax</th>\n",
       "      <th>gloss</th>\n",
       "    </tr>\n",
       "  </thead>\n",
       "  <tbody>\n",
       "    <tr>\n",
       "      <th>0</th>\n",
       "      <td>25</td>\n",
       "      <td>-1</td>\n",
       "      <td>1</td>\n",
       "      <td>0</td>\n",
       "      <td>118</td>\n",
       "      <td>aslbrick</td>\n",
       "      <td>train</td>\n",
       "      <td>http://aslbricks.org/New/ASL-Videos/book.mp4</td>\n",
       "      <td>0</td>\n",
       "      <td>69241</td>\n",
       "      <td>385</td>\n",
       "      <td>37</td>\n",
       "      <td>885</td>\n",
       "      <td>720</td>\n",
       "      <td>book</td>\n",
       "    </tr>\n",
       "    <tr>\n",
       "      <th>1</th>\n",
       "      <td>25</td>\n",
       "      <td>-1</td>\n",
       "      <td>1</td>\n",
       "      <td>10</td>\n",
       "      <td>31</td>\n",
       "      <td>signschool</td>\n",
       "      <td>train</td>\n",
       "      <td>https://signstock.blob.core.windows.net/signsc...</td>\n",
       "      <td>0</td>\n",
       "      <td>7069</td>\n",
       "      <td>462</td>\n",
       "      <td>44</td>\n",
       "      <td>949</td>\n",
       "      <td>720</td>\n",
       "      <td>book</td>\n",
       "    </tr>\n",
       "    <tr>\n",
       "      <th>2</th>\n",
       "      <td>25</td>\n",
       "      <td>-1</td>\n",
       "      <td>1</td>\n",
       "      <td>17</td>\n",
       "      <td>36</td>\n",
       "      <td>startasl</td>\n",
       "      <td>train</td>\n",
       "      <td>https://s3-us-west-1.amazonaws.com/files.start...</td>\n",
       "      <td>0</td>\n",
       "      <td>7068</td>\n",
       "      <td>234</td>\n",
       "      <td>17</td>\n",
       "      <td>524</td>\n",
       "      <td>414</td>\n",
       "      <td>book</td>\n",
       "    </tr>\n",
       "    <tr>\n",
       "      <th>3</th>\n",
       "      <td>25</td>\n",
       "      <td>-1</td>\n",
       "      <td>1</td>\n",
       "      <td>22</td>\n",
       "      <td>59</td>\n",
       "      <td>asldeafined</td>\n",
       "      <td>train</td>\n",
       "      <td>https://media.asldeafined.com/vocabulary/14666...</td>\n",
       "      <td>0</td>\n",
       "      <td>7070</td>\n",
       "      <td>131</td>\n",
       "      <td>26</td>\n",
       "      <td>526</td>\n",
       "      <td>480</td>\n",
       "      <td>book</td>\n",
       "    </tr>\n",
       "    <tr>\n",
       "      <th>4</th>\n",
       "      <td>25</td>\n",
       "      <td>-1</td>\n",
       "      <td>1</td>\n",
       "      <td>24</td>\n",
       "      <td>12</td>\n",
       "      <td>aslsearch</td>\n",
       "      <td>val</td>\n",
       "      <td>http://www.aslsearch.com/signs/videos/book.mp4</td>\n",
       "      <td>0</td>\n",
       "      <td>7099</td>\n",
       "      <td>162</td>\n",
       "      <td>54</td>\n",
       "      <td>528</td>\n",
       "      <td>400</td>\n",
       "      <td>book</td>\n",
       "    </tr>\n",
       "  </tbody>\n",
       "</table>\n",
       "</div>"
      ],
      "text/plain": [
       "   fps  frame_end  frame_start  instance_id  signer_id       source  split  \\\n",
       "0   25         -1            1            0        118     aslbrick  train   \n",
       "1   25         -1            1           10         31   signschool  train   \n",
       "2   25         -1            1           17         36     startasl  train   \n",
       "3   25         -1            1           22         59  asldeafined  train   \n",
       "4   25         -1            1           24         12    aslsearch    val   \n",
       "\n",
       "                                                 url  variation_id  video_id  \\\n",
       "0       http://aslbricks.org/New/ASL-Videos/book.mp4             0     69241   \n",
       "1  https://signstock.blob.core.windows.net/signsc...             0      7069   \n",
       "2  https://s3-us-west-1.amazonaws.com/files.start...             0      7068   \n",
       "3  https://media.asldeafined.com/vocabulary/14666...             0      7070   \n",
       "4     http://www.aslsearch.com/signs/videos/book.mp4             0      7099   \n",
       "\n",
       "   bbox_xmin  bbox_ymin  bbox_xmax  bbox_ymax gloss  \n",
       "0        385         37        885        720  book  \n",
       "1        462         44        949        720  book  \n",
       "2        234         17        524        414  book  \n",
       "3        131         26        526        480  book  \n",
       "4        162         54        528        400  book  "
      ]
     },
     "execution_count": 3,
     "metadata": {},
     "output_type": "execute_result"
    }
   ],
   "source": [
    "df.head()"
   ]
  },
  {
   "cell_type": "markdown",
   "id": "eb29c2d2-5f32-4917-b408-988cb02054df",
   "metadata": {},
   "source": [
    "We need to remove the identity of the unpreserved video"
   ]
  },
  {
   "cell_type": "code",
   "execution_count": 4,
   "id": "a77c5707-2173-42e3-a8ea-5d137bd57cdc",
   "metadata": {},
   "outputs": [],
   "source": [
    "record = pickle.load(open(\"final_record_cleaned.pkl\", \"rb\"))"
   ]
  },
  {
   "cell_type": "code",
   "execution_count": 5,
   "id": "a0e3f844-4279-4379-afd6-1c17d275d3d5",
   "metadata": {},
   "outputs": [],
   "source": [
    "video_id_kept = list(record.keys())\n",
    "video_id_kept = [int(id.replace('.mp4', '')) for id in video_id_kept]"
   ]
  },
  {
   "cell_type": "code",
   "execution_count": 6,
   "id": "61f08ff2-cf8a-4d2d-9129-a253c2c42d5a",
   "metadata": {},
   "outputs": [],
   "source": [
    "new_df = df[df[\"video_id\"].isin(video_id_kept)]"
   ]
  },
  {
   "cell_type": "code",
   "execution_count": 7,
   "id": "5a6388c9-f088-4828-821b-67916ea4a40f",
   "metadata": {},
   "outputs": [
    {
     "data": {
      "text/html": [
       "<div>\n",
       "<style scoped>\n",
       "    .dataframe tbody tr th:only-of-type {\n",
       "        vertical-align: middle;\n",
       "    }\n",
       "\n",
       "    .dataframe tbody tr th {\n",
       "        vertical-align: top;\n",
       "    }\n",
       "\n",
       "    .dataframe thead th {\n",
       "        text-align: right;\n",
       "    }\n",
       "</style>\n",
       "<table border=\"1\" class=\"dataframe\">\n",
       "  <thead>\n",
       "    <tr style=\"text-align: right;\">\n",
       "      <th></th>\n",
       "      <th>fps</th>\n",
       "      <th>frame_end</th>\n",
       "      <th>frame_start</th>\n",
       "      <th>instance_id</th>\n",
       "      <th>signer_id</th>\n",
       "      <th>source</th>\n",
       "      <th>split</th>\n",
       "      <th>url</th>\n",
       "      <th>variation_id</th>\n",
       "      <th>video_id</th>\n",
       "      <th>bbox_xmin</th>\n",
       "      <th>bbox_ymin</th>\n",
       "      <th>bbox_xmax</th>\n",
       "      <th>bbox_ymax</th>\n",
       "      <th>gloss</th>\n",
       "    </tr>\n",
       "  </thead>\n",
       "  <tbody>\n",
       "    <tr>\n",
       "      <th>0</th>\n",
       "      <td>25</td>\n",
       "      <td>-1</td>\n",
       "      <td>1</td>\n",
       "      <td>0</td>\n",
       "      <td>118</td>\n",
       "      <td>aslbrick</td>\n",
       "      <td>train</td>\n",
       "      <td>http://aslbricks.org/New/ASL-Videos/book.mp4</td>\n",
       "      <td>0</td>\n",
       "      <td>69241</td>\n",
       "      <td>385</td>\n",
       "      <td>37</td>\n",
       "      <td>885</td>\n",
       "      <td>720</td>\n",
       "      <td>book</td>\n",
       "    </tr>\n",
       "    <tr>\n",
       "      <th>8</th>\n",
       "      <td>25</td>\n",
       "      <td>-1</td>\n",
       "      <td>1</td>\n",
       "      <td>11</td>\n",
       "      <td>36</td>\n",
       "      <td>startasl</td>\n",
       "      <td>train</td>\n",
       "      <td>https://s3-us-west-1.amazonaws.com/files.start...</td>\n",
       "      <td>0</td>\n",
       "      <td>17710</td>\n",
       "      <td>196</td>\n",
       "      <td>15</td>\n",
       "      <td>521</td>\n",
       "      <td>414</td>\n",
       "      <td>drink</td>\n",
       "    </tr>\n",
       "    <tr>\n",
       "      <th>12</th>\n",
       "      <td>25</td>\n",
       "      <td>-1</td>\n",
       "      <td>1</td>\n",
       "      <td>19</td>\n",
       "      <td>52</td>\n",
       "      <td>signschool</td>\n",
       "      <td>train</td>\n",
       "      <td>https://signstock.blob.core.windows.net/signsc...</td>\n",
       "      <td>0</td>\n",
       "      <td>17711</td>\n",
       "      <td>289</td>\n",
       "      <td>9</td>\n",
       "      <td>783</td>\n",
       "      <td>480</td>\n",
       "      <td>drink</td>\n",
       "    </tr>\n",
       "    <tr>\n",
       "      <th>14</th>\n",
       "      <td>25</td>\n",
       "      <td>-1</td>\n",
       "      <td>1</td>\n",
       "      <td>21</td>\n",
       "      <td>21</td>\n",
       "      <td>asldeafined</td>\n",
       "      <td>test</td>\n",
       "      <td>https://media.asldeafined.com/vocabulary/14677...</td>\n",
       "      <td>0</td>\n",
       "      <td>17713</td>\n",
       "      <td>28</td>\n",
       "      <td>0</td>\n",
       "      <td>542</td>\n",
       "      <td>480</td>\n",
       "      <td>drink</td>\n",
       "    </tr>\n",
       "    <tr>\n",
       "      <th>15</th>\n",
       "      <td>25</td>\n",
       "      <td>-1</td>\n",
       "      <td>1</td>\n",
       "      <td>27</td>\n",
       "      <td>2</td>\n",
       "      <td>spreadthesign</td>\n",
       "      <td>train</td>\n",
       "      <td>https://media.spreadthesign.com/video/mp4/13/1...</td>\n",
       "      <td>0</td>\n",
       "      <td>17709</td>\n",
       "      <td>41</td>\n",
       "      <td>9</td>\n",
       "      <td>257</td>\n",
       "      <td>240</td>\n",
       "      <td>drink</td>\n",
       "    </tr>\n",
       "    <tr>\n",
       "      <th>...</th>\n",
       "      <td>...</td>\n",
       "      <td>...</td>\n",
       "      <td>...</td>\n",
       "      <td>...</td>\n",
       "      <td>...</td>\n",
       "      <td>...</td>\n",
       "      <td>...</td>\n",
       "      <td>...</td>\n",
       "      <td>...</td>\n",
       "      <td>...</td>\n",
       "      <td>...</td>\n",
       "      <td>...</td>\n",
       "      <td>...</td>\n",
       "      <td>...</td>\n",
       "      <td>...</td>\n",
       "    </tr>\n",
       "    <tr>\n",
       "      <th>11968</th>\n",
       "      <td>25</td>\n",
       "      <td>-1</td>\n",
       "      <td>1</td>\n",
       "      <td>5</td>\n",
       "      <td>11</td>\n",
       "      <td>signingsavvy</td>\n",
       "      <td>train</td>\n",
       "      <td>https://www.signingsavvy.com/signs/mp4/7/7474.mp4</td>\n",
       "      <td>0</td>\n",
       "      <td>62492</td>\n",
       "      <td>69</td>\n",
       "      <td>16</td>\n",
       "      <td>219</td>\n",
       "      <td>192</td>\n",
       "      <td>waterfall</td>\n",
       "    </tr>\n",
       "    <tr>\n",
       "      <th>11969</th>\n",
       "      <td>25</td>\n",
       "      <td>-1</td>\n",
       "      <td>1</td>\n",
       "      <td>6</td>\n",
       "      <td>12</td>\n",
       "      <td>aslsearch</td>\n",
       "      <td>train</td>\n",
       "      <td>http://www.aslsearch.com/signs/videos/waterfal...</td>\n",
       "      <td>0</td>\n",
       "      <td>62493</td>\n",
       "      <td>203</td>\n",
       "      <td>55</td>\n",
       "      <td>549</td>\n",
       "      <td>400</td>\n",
       "      <td>waterfall</td>\n",
       "    </tr>\n",
       "    <tr>\n",
       "      <th>11970</th>\n",
       "      <td>25</td>\n",
       "      <td>-1</td>\n",
       "      <td>1</td>\n",
       "      <td>3</td>\n",
       "      <td>19</td>\n",
       "      <td>elementalasl</td>\n",
       "      <td>train</td>\n",
       "      <td>https://elementalaslconcepts.weebly.com/upload...</td>\n",
       "      <td>0</td>\n",
       "      <td>62782</td>\n",
       "      <td>89</td>\n",
       "      <td>4</td>\n",
       "      <td>242</td>\n",
       "      <td>180</td>\n",
       "      <td>weigh</td>\n",
       "    </tr>\n",
       "    <tr>\n",
       "      <th>11973</th>\n",
       "      <td>25</td>\n",
       "      <td>-1</td>\n",
       "      <td>1</td>\n",
       "      <td>2</td>\n",
       "      <td>4</td>\n",
       "      <td>signschool</td>\n",
       "      <td>test</td>\n",
       "      <td>https://signstock.blob.core.windows.net/signsc...</td>\n",
       "      <td>0</td>\n",
       "      <td>63044</td>\n",
       "      <td>415</td>\n",
       "      <td>86</td>\n",
       "      <td>1811</td>\n",
       "      <td>1080</td>\n",
       "      <td>wheelchair</td>\n",
       "    </tr>\n",
       "    <tr>\n",
       "      <th>11977</th>\n",
       "      <td>25</td>\n",
       "      <td>-1</td>\n",
       "      <td>1</td>\n",
       "      <td>2</td>\n",
       "      <td>2</td>\n",
       "      <td>spreadthesign</td>\n",
       "      <td>train</td>\n",
       "      <td>https://media.spreadthesign.com/video/mp4/13/9...</td>\n",
       "      <td>0</td>\n",
       "      <td>63186</td>\n",
       "      <td>76</td>\n",
       "      <td>17</td>\n",
       "      <td>236</td>\n",
       "      <td>240</td>\n",
       "      <td>whistle</td>\n",
       "    </tr>\n",
       "  </tbody>\n",
       "</table>\n",
       "<p>5533 rows × 15 columns</p>\n",
       "</div>"
      ],
      "text/plain": [
       "       fps  frame_end  frame_start  instance_id  signer_id         source  \\\n",
       "0       25         -1            1            0        118       aslbrick   \n",
       "8       25         -1            1           11         36       startasl   \n",
       "12      25         -1            1           19         52     signschool   \n",
       "14      25         -1            1           21         21    asldeafined   \n",
       "15      25         -1            1           27          2  spreadthesign   \n",
       "...    ...        ...          ...          ...        ...            ...   \n",
       "11968   25         -1            1            5         11   signingsavvy   \n",
       "11969   25         -1            1            6         12      aslsearch   \n",
       "11970   25         -1            1            3         19   elementalasl   \n",
       "11973   25         -1            1            2          4     signschool   \n",
       "11977   25         -1            1            2          2  spreadthesign   \n",
       "\n",
       "       split                                                url  variation_id  \\\n",
       "0      train       http://aslbricks.org/New/ASL-Videos/book.mp4             0   \n",
       "8      train  https://s3-us-west-1.amazonaws.com/files.start...             0   \n",
       "12     train  https://signstock.blob.core.windows.net/signsc...             0   \n",
       "14      test  https://media.asldeafined.com/vocabulary/14677...             0   \n",
       "15     train  https://media.spreadthesign.com/video/mp4/13/1...             0   \n",
       "...      ...                                                ...           ...   \n",
       "11968  train  https://www.signingsavvy.com/signs/mp4/7/7474.mp4             0   \n",
       "11969  train  http://www.aslsearch.com/signs/videos/waterfal...             0   \n",
       "11970  train  https://elementalaslconcepts.weebly.com/upload...             0   \n",
       "11973   test  https://signstock.blob.core.windows.net/signsc...             0   \n",
       "11977  train  https://media.spreadthesign.com/video/mp4/13/9...             0   \n",
       "\n",
       "       video_id  bbox_xmin  bbox_ymin  bbox_xmax  bbox_ymax       gloss  \n",
       "0         69241        385         37        885        720        book  \n",
       "8         17710        196         15        521        414       drink  \n",
       "12        17711        289          9        783        480       drink  \n",
       "14        17713         28          0        542        480       drink  \n",
       "15        17709         41          9        257        240       drink  \n",
       "...         ...        ...        ...        ...        ...         ...  \n",
       "11968     62492         69         16        219        192   waterfall  \n",
       "11969     62493        203         55        549        400   waterfall  \n",
       "11970     62782         89          4        242        180       weigh  \n",
       "11973     63044        415         86       1811       1080  wheelchair  \n",
       "11977     63186         76         17        236        240     whistle  \n",
       "\n",
       "[5533 rows x 15 columns]"
      ]
     },
     "execution_count": 7,
     "metadata": {},
     "output_type": "execute_result"
    }
   ],
   "source": [
    "new_df"
   ]
  },
  {
   "cell_type": "markdown",
   "id": "9edba1bd-ffe5-482c-b1be-dd28046097a3",
   "metadata": {},
   "source": [
    "Reordering dataframe"
   ]
  },
  {
   "cell_type": "code",
   "execution_count": 8,
   "id": "9d96246b-722c-4671-b0e8-5657763a0ddb",
   "metadata": {},
   "outputs": [],
   "source": [
    "new_df = new_df.sort_values(by=[\"video_id\"]) "
   ]
  },
  {
   "cell_type": "code",
   "execution_count": 9,
   "id": "7b2995c2-b970-4194-90f8-222f3e2e4760",
   "metadata": {},
   "outputs": [
    {
     "data": {
      "text/html": [
       "<div>\n",
       "<style scoped>\n",
       "    .dataframe tbody tr th:only-of-type {\n",
       "        vertical-align: middle;\n",
       "    }\n",
       "\n",
       "    .dataframe tbody tr th {\n",
       "        vertical-align: top;\n",
       "    }\n",
       "\n",
       "    .dataframe thead th {\n",
       "        text-align: right;\n",
       "    }\n",
       "</style>\n",
       "<table border=\"1\" class=\"dataframe\">\n",
       "  <thead>\n",
       "    <tr style=\"text-align: right;\">\n",
       "      <th></th>\n",
       "      <th>fps</th>\n",
       "      <th>frame_end</th>\n",
       "      <th>frame_start</th>\n",
       "      <th>instance_id</th>\n",
       "      <th>signer_id</th>\n",
       "      <th>source</th>\n",
       "      <th>split</th>\n",
       "      <th>url</th>\n",
       "      <th>variation_id</th>\n",
       "      <th>video_id</th>\n",
       "      <th>bbox_xmin</th>\n",
       "      <th>bbox_ymin</th>\n",
       "      <th>bbox_xmax</th>\n",
       "      <th>bbox_ymax</th>\n",
       "      <th>gloss</th>\n",
       "    </tr>\n",
       "  </thead>\n",
       "  <tbody>\n",
       "    <tr>\n",
       "      <th>8751</th>\n",
       "      <td>25</td>\n",
       "      <td>-1</td>\n",
       "      <td>1</td>\n",
       "      <td>2</td>\n",
       "      <td>2</td>\n",
       "      <td>spreadthesign</td>\n",
       "      <td>test</td>\n",
       "      <td>https://media.spreadthesign.com/video/mp4/13/1...</td>\n",
       "      <td>0</td>\n",
       "      <td>335</td>\n",
       "      <td>57</td>\n",
       "      <td>5</td>\n",
       "      <td>246</td>\n",
       "      <td>240</td>\n",
       "      <td>abdomen</td>\n",
       "    </tr>\n",
       "    <tr>\n",
       "      <th>8752</th>\n",
       "      <td>25</td>\n",
       "      <td>-1</td>\n",
       "      <td>1</td>\n",
       "      <td>3</td>\n",
       "      <td>13</td>\n",
       "      <td>asldeafined</td>\n",
       "      <td>train</td>\n",
       "      <td>https://media.asldeafined.com/vocabulary/14688...</td>\n",
       "      <td>0</td>\n",
       "      <td>336</td>\n",
       "      <td>103</td>\n",
       "      <td>0</td>\n",
       "      <td>565</td>\n",
       "      <td>480</td>\n",
       "      <td>abdomen</td>\n",
       "    </tr>\n",
       "    <tr>\n",
       "      <th>8756</th>\n",
       "      <td>25</td>\n",
       "      <td>-1</td>\n",
       "      <td>1</td>\n",
       "      <td>1</td>\n",
       "      <td>2</td>\n",
       "      <td>spreadthesign</td>\n",
       "      <td>test</td>\n",
       "      <td>https://media.spreadthesign.com/video/mp4/13/1...</td>\n",
       "      <td>0</td>\n",
       "      <td>376</td>\n",
       "      <td>61</td>\n",
       "      <td>5</td>\n",
       "      <td>247</td>\n",
       "      <td>240</td>\n",
       "      <td>able</td>\n",
       "    </tr>\n",
       "    <tr>\n",
       "      <th>8757</th>\n",
       "      <td>25</td>\n",
       "      <td>-1</td>\n",
       "      <td>1</td>\n",
       "      <td>2</td>\n",
       "      <td>15</td>\n",
       "      <td>asldeafined</td>\n",
       "      <td>train</td>\n",
       "      <td>https://media.asldeafined.com/vocabulary/14667...</td>\n",
       "      <td>0</td>\n",
       "      <td>377</td>\n",
       "      <td>69</td>\n",
       "      <td>17</td>\n",
       "      <td>552</td>\n",
       "      <td>480</td>\n",
       "      <td>able</td>\n",
       "    </tr>\n",
       "    <tr>\n",
       "      <th>1709</th>\n",
       "      <td>25</td>\n",
       "      <td>-1</td>\n",
       "      <td>1</td>\n",
       "      <td>12</td>\n",
       "      <td>26</td>\n",
       "      <td>spreadthesign</td>\n",
       "      <td>train</td>\n",
       "      <td>https://media.spreadthesign.com/video/mp4/13/3...</td>\n",
       "      <td>0</td>\n",
       "      <td>414</td>\n",
       "      <td>64</td>\n",
       "      <td>27</td>\n",
       "      <td>241</td>\n",
       "      <td>240</td>\n",
       "      <td>about</td>\n",
       "    </tr>\n",
       "    <tr>\n",
       "      <th>...</th>\n",
       "      <td>...</td>\n",
       "      <td>...</td>\n",
       "      <td>...</td>\n",
       "      <td>...</td>\n",
       "      <td>...</td>\n",
       "      <td>...</td>\n",
       "      <td>...</td>\n",
       "      <td>...</td>\n",
       "      <td>...</td>\n",
       "      <td>...</td>\n",
       "      <td>...</td>\n",
       "      <td>...</td>\n",
       "      <td>...</td>\n",
       "      <td>...</td>\n",
       "      <td>...</td>\n",
       "    </tr>\n",
       "    <tr>\n",
       "      <th>537</th>\n",
       "      <td>25</td>\n",
       "      <td>-1</td>\n",
       "      <td>1</td>\n",
       "      <td>1</td>\n",
       "      <td>118</td>\n",
       "      <td>aslbrick</td>\n",
       "      <td>val</td>\n",
       "      <td>http://aslbricks.org/New/ASL-Videos/white.mp4</td>\n",
       "      <td>0</td>\n",
       "      <td>69533</td>\n",
       "      <td>366</td>\n",
       "      <td>40</td>\n",
       "      <td>875</td>\n",
       "      <td>720</td>\n",
       "      <td>white</td>\n",
       "    </tr>\n",
       "    <tr>\n",
       "      <th>7446</th>\n",
       "      <td>25</td>\n",
       "      <td>-1</td>\n",
       "      <td>1</td>\n",
       "      <td>1</td>\n",
       "      <td>116</td>\n",
       "      <td>aslbrick</td>\n",
       "      <td>train</td>\n",
       "      <td>http://aslbricks.org/New/ASL-Videos/worm.mp4</td>\n",
       "      <td>0</td>\n",
       "      <td>69541</td>\n",
       "      <td>282</td>\n",
       "      <td>4</td>\n",
       "      <td>937</td>\n",
       "      <td>720</td>\n",
       "      <td>worm</td>\n",
       "    </tr>\n",
       "    <tr>\n",
       "      <th>1331</th>\n",
       "      <td>25</td>\n",
       "      <td>-1</td>\n",
       "      <td>1</td>\n",
       "      <td>1</td>\n",
       "      <td>115</td>\n",
       "      <td>aslbrick</td>\n",
       "      <td>test</td>\n",
       "      <td>http://aslbricks.org/New/ASL-Videos/write.mp4</td>\n",
       "      <td>0</td>\n",
       "      <td>69544</td>\n",
       "      <td>375</td>\n",
       "      <td>42</td>\n",
       "      <td>940</td>\n",
       "      <td>720</td>\n",
       "      <td>write</td>\n",
       "    </tr>\n",
       "    <tr>\n",
       "      <th>1049</th>\n",
       "      <td>25</td>\n",
       "      <td>-1</td>\n",
       "      <td>1</td>\n",
       "      <td>1</td>\n",
       "      <td>118</td>\n",
       "      <td>aslbrick</td>\n",
       "      <td>test</td>\n",
       "      <td>http://aslbricks.org/New/ASL-Videos/yellow.mp4</td>\n",
       "      <td>0</td>\n",
       "      <td>69545</td>\n",
       "      <td>256</td>\n",
       "      <td>41</td>\n",
       "      <td>883</td>\n",
       "      <td>720</td>\n",
       "      <td>yellow</td>\n",
       "    </tr>\n",
       "    <tr>\n",
       "      <th>201</th>\n",
       "      <td>25</td>\n",
       "      <td>-1</td>\n",
       "      <td>1</td>\n",
       "      <td>1</td>\n",
       "      <td>118</td>\n",
       "      <td>aslbrick</td>\n",
       "      <td>val</td>\n",
       "      <td>http://aslbricks.org/New/ASL-Videos/yes.mp4</td>\n",
       "      <td>0</td>\n",
       "      <td>69546</td>\n",
       "      <td>214</td>\n",
       "      <td>41</td>\n",
       "      <td>881</td>\n",
       "      <td>720</td>\n",
       "      <td>yes</td>\n",
       "    </tr>\n",
       "  </tbody>\n",
       "</table>\n",
       "<p>5533 rows × 15 columns</p>\n",
       "</div>"
      ],
      "text/plain": [
       "      fps  frame_end  frame_start  instance_id  signer_id         source  \\\n",
       "8751   25         -1            1            2          2  spreadthesign   \n",
       "8752   25         -1            1            3         13    asldeafined   \n",
       "8756   25         -1            1            1          2  spreadthesign   \n",
       "8757   25         -1            1            2         15    asldeafined   \n",
       "1709   25         -1            1           12         26  spreadthesign   \n",
       "...   ...        ...          ...          ...        ...            ...   \n",
       "537    25         -1            1            1        118       aslbrick   \n",
       "7446   25         -1            1            1        116       aslbrick   \n",
       "1331   25         -1            1            1        115       aslbrick   \n",
       "1049   25         -1            1            1        118       aslbrick   \n",
       "201    25         -1            1            1        118       aslbrick   \n",
       "\n",
       "      split                                                url  variation_id  \\\n",
       "8751   test  https://media.spreadthesign.com/video/mp4/13/1...             0   \n",
       "8752  train  https://media.asldeafined.com/vocabulary/14688...             0   \n",
       "8756   test  https://media.spreadthesign.com/video/mp4/13/1...             0   \n",
       "8757  train  https://media.asldeafined.com/vocabulary/14667...             0   \n",
       "1709  train  https://media.spreadthesign.com/video/mp4/13/3...             0   \n",
       "...     ...                                                ...           ...   \n",
       "537     val      http://aslbricks.org/New/ASL-Videos/white.mp4             0   \n",
       "7446  train       http://aslbricks.org/New/ASL-Videos/worm.mp4             0   \n",
       "1331   test      http://aslbricks.org/New/ASL-Videos/write.mp4             0   \n",
       "1049   test     http://aslbricks.org/New/ASL-Videos/yellow.mp4             0   \n",
       "201     val        http://aslbricks.org/New/ASL-Videos/yes.mp4             0   \n",
       "\n",
       "      video_id  bbox_xmin  bbox_ymin  bbox_xmax  bbox_ymax    gloss  \n",
       "8751       335         57          5        246        240  abdomen  \n",
       "8752       336        103          0        565        480  abdomen  \n",
       "8756       376         61          5        247        240     able  \n",
       "8757       377         69         17        552        480     able  \n",
       "1709       414         64         27        241        240    about  \n",
       "...        ...        ...        ...        ...        ...      ...  \n",
       "537      69533        366         40        875        720    white  \n",
       "7446     69541        282          4        937        720     worm  \n",
       "1331     69544        375         42        940        720    write  \n",
       "1049     69545        256         41        883        720   yellow  \n",
       "201      69546        214         41        881        720      yes  \n",
       "\n",
       "[5533 rows x 15 columns]"
      ]
     },
     "execution_count": 9,
     "metadata": {},
     "output_type": "execute_result"
    }
   ],
   "source": [
    "new_df"
   ]
  },
  {
   "cell_type": "code",
   "execution_count": 10,
   "id": "b7ff3a95-2ff2-4c13-8b91-af46cb5ba1ee",
   "metadata": {},
   "outputs": [
    {
     "name": "stderr",
     "output_type": "stream",
     "text": [
      "C:\\Users\\thoma\\AppData\\Local\\Programs\\Python\\Python39\\lib\\site-packages\\seaborn\\distributions.py:2619: FutureWarning: `distplot` is a deprecated function and will be removed in a future version. Please adapt your code to use either `displot` (a figure-level function with similar flexibility) or `histplot` (an axes-level function for histograms).\n",
      "  warnings.warn(msg, FutureWarning)\n"
     ]
    },
    {
     "data": {
      "text/plain": [
       "<AxesSubplot:ylabel='Density'>"
      ]
     },
     "execution_count": 10,
     "metadata": {},
     "output_type": "execute_result"
    },
    {
     "data": {
      "image/png": "[encoded data removed]",
      "text/plain": [
       "<Figure size 432x288 with 1 Axes>"
      ]
     },
     "metadata": {
      "needs_background": "light"
     },
     "output_type": "display_data"
    }
   ],
   "source": [
    "sns.distplot(np.array(new_df[\"gloss\"].value_counts()))"
   ]
  },
  {
   "cell_type": "markdown",
   "id": "0e352e8a-0f29-4124-87f6-1e2899b24128",
   "metadata": {},
   "source": [
    "Easy mode : Removing classes with less than 3 element"
   ]
  },
  {
   "cell_type": "code",
   "execution_count": 11,
   "id": "daed5e85-0b92-4d02-aeb3-d81440bcd92a",
   "metadata": {},
   "outputs": [],
   "source": [
    "val_count = dict(new_df[\"gloss\"].value_counts())"
   ]
  },
  {
   "cell_type": "code",
   "execution_count": 12,
   "id": "0f3bb4db-b322-48ff-91dd-886e1025cfe3",
   "metadata": {},
   "outputs": [],
   "source": [
    "single_classes = [key for key in val_count.keys() if val_count[key] < 3]"
   ]
  },
  {
   "cell_type": "code",
   "execution_count": 13,
   "id": "5b0e289e-ae19-4f60-9d65-bf2a48cf4951",
   "metadata": {
    "tags": []
   },
   "outputs": [
    {
     "data": {
      "text/plain": [
       "925"
      ]
     },
     "execution_count": 13,
     "metadata": {},
     "output_type": "execute_result"
    }
   ],
   "source": [
    "len(single_classes)"
   ]
  },
  {
   "cell_type": "code",
   "execution_count": 14,
   "id": "3862619e-ead5-4557-80ea-8498d4e3f9fb",
   "metadata": {},
   "outputs": [],
   "source": [
    "new_df = new_df[~new_df[\"gloss\"].isin(single_classes)]"
   ]
  },
  {
   "cell_type": "code",
   "execution_count": 15,
   "id": "69f1fa51-1efb-476a-838f-d4e4baa13f54",
   "metadata": {},
   "outputs": [
    {
     "data": {
      "text/html": [
       "<div>\n",
       "<style scoped>\n",
       "    .dataframe tbody tr th:only-of-type {\n",
       "        vertical-align: middle;\n",
       "    }\n",
       "\n",
       "    .dataframe tbody tr th {\n",
       "        vertical-align: top;\n",
       "    }\n",
       "\n",
       "    .dataframe thead th {\n",
       "        text-align: right;\n",
       "    }\n",
       "</style>\n",
       "<table border=\"1\" class=\"dataframe\">\n",
       "  <thead>\n",
       "    <tr style=\"text-align: right;\">\n",
       "      <th></th>\n",
       "      <th>fps</th>\n",
       "      <th>frame_end</th>\n",
       "      <th>frame_start</th>\n",
       "      <th>instance_id</th>\n",
       "      <th>signer_id</th>\n",
       "      <th>source</th>\n",
       "      <th>split</th>\n",
       "      <th>url</th>\n",
       "      <th>variation_id</th>\n",
       "      <th>video_id</th>\n",
       "      <th>bbox_xmin</th>\n",
       "      <th>bbox_ymin</th>\n",
       "      <th>bbox_xmax</th>\n",
       "      <th>bbox_ymax</th>\n",
       "      <th>gloss</th>\n",
       "    </tr>\n",
       "  </thead>\n",
       "  <tbody>\n",
       "    <tr>\n",
       "      <th>3916</th>\n",
       "      <td>25</td>\n",
       "      <td>-1</td>\n",
       "      <td>1</td>\n",
       "      <td>4</td>\n",
       "      <td>26</td>\n",
       "      <td>spreadthesign</td>\n",
       "      <td>val</td>\n",
       "      <td>https://media.spreadthesign.com/video/mp4/13/9...</td>\n",
       "      <td>0</td>\n",
       "      <td>592</td>\n",
       "      <td>81</td>\n",
       "      <td>40</td>\n",
       "      <td>272</td>\n",
       "      <td>240</td>\n",
       "      <td>accept</td>\n",
       "    </tr>\n",
       "    <tr>\n",
       "      <th>3918</th>\n",
       "      <td>25</td>\n",
       "      <td>-1</td>\n",
       "      <td>1</td>\n",
       "      <td>6</td>\n",
       "      <td>6</td>\n",
       "      <td>signschool</td>\n",
       "      <td>train</td>\n",
       "      <td>https://signstock.blob.core.windows.net/signsc...</td>\n",
       "      <td>0</td>\n",
       "      <td>594</td>\n",
       "      <td>512</td>\n",
       "      <td>107</td>\n",
       "      <td>1397</td>\n",
       "      <td>1080</td>\n",
       "      <td>accept</td>\n",
       "    </tr>\n",
       "    <tr>\n",
       "      <th>3917</th>\n",
       "      <td>25</td>\n",
       "      <td>-1</td>\n",
       "      <td>1</td>\n",
       "      <td>5</td>\n",
       "      <td>13</td>\n",
       "      <td>asldeafined</td>\n",
       "      <td>train</td>\n",
       "      <td>https://media.asldeafined.com/vocabulary/14661...</td>\n",
       "      <td>0</td>\n",
       "      <td>597</td>\n",
       "      <td>96</td>\n",
       "      <td>17</td>\n",
       "      <td>624</td>\n",
       "      <td>480</td>\n",
       "      <td>accept</td>\n",
       "    </tr>\n",
       "    <tr>\n",
       "      <th>565</th>\n",
       "      <td>25</td>\n",
       "      <td>-1</td>\n",
       "      <td>1</td>\n",
       "      <td>12</td>\n",
       "      <td>26</td>\n",
       "      <td>spreadthesign</td>\n",
       "      <td>train</td>\n",
       "      <td>https://media.spreadthesign.com/video/mp4/13/1...</td>\n",
       "      <td>1</td>\n",
       "      <td>623</td>\n",
       "      <td>54</td>\n",
       "      <td>6</td>\n",
       "      <td>272</td>\n",
       "      <td>240</td>\n",
       "      <td>accident</td>\n",
       "    </tr>\n",
       "    <tr>\n",
       "      <th>556</th>\n",
       "      <td>25</td>\n",
       "      <td>-1</td>\n",
       "      <td>1</td>\n",
       "      <td>2</td>\n",
       "      <td>29</td>\n",
       "      <td>spreadthesign</td>\n",
       "      <td>train</td>\n",
       "      <td>https://media.spreadthesign.com/video/mp4/13/7...</td>\n",
       "      <td>0</td>\n",
       "      <td>624</td>\n",
       "      <td>42</td>\n",
       "      <td>6</td>\n",
       "      <td>278</td>\n",
       "      <td>240</td>\n",
       "      <td>accident</td>\n",
       "    </tr>\n",
       "    <tr>\n",
       "      <th>...</th>\n",
       "      <td>...</td>\n",
       "      <td>...</td>\n",
       "      <td>...</td>\n",
       "      <td>...</td>\n",
       "      <td>...</td>\n",
       "      <td>...</td>\n",
       "      <td>...</td>\n",
       "      <td>...</td>\n",
       "      <td>...</td>\n",
       "      <td>...</td>\n",
       "      <td>...</td>\n",
       "      <td>...</td>\n",
       "      <td>...</td>\n",
       "      <td>...</td>\n",
       "      <td>...</td>\n",
       "    </tr>\n",
       "    <tr>\n",
       "      <th>537</th>\n",
       "      <td>25</td>\n",
       "      <td>-1</td>\n",
       "      <td>1</td>\n",
       "      <td>1</td>\n",
       "      <td>118</td>\n",
       "      <td>aslbrick</td>\n",
       "      <td>val</td>\n",
       "      <td>http://aslbricks.org/New/ASL-Videos/white.mp4</td>\n",
       "      <td>0</td>\n",
       "      <td>69533</td>\n",
       "      <td>366</td>\n",
       "      <td>40</td>\n",
       "      <td>875</td>\n",
       "      <td>720</td>\n",
       "      <td>white</td>\n",
       "    </tr>\n",
       "    <tr>\n",
       "      <th>7446</th>\n",
       "      <td>25</td>\n",
       "      <td>-1</td>\n",
       "      <td>1</td>\n",
       "      <td>1</td>\n",
       "      <td>116</td>\n",
       "      <td>aslbrick</td>\n",
       "      <td>train</td>\n",
       "      <td>http://aslbricks.org/New/ASL-Videos/worm.mp4</td>\n",
       "      <td>0</td>\n",
       "      <td>69541</td>\n",
       "      <td>282</td>\n",
       "      <td>4</td>\n",
       "      <td>937</td>\n",
       "      <td>720</td>\n",
       "      <td>worm</td>\n",
       "    </tr>\n",
       "    <tr>\n",
       "      <th>1331</th>\n",
       "      <td>25</td>\n",
       "      <td>-1</td>\n",
       "      <td>1</td>\n",
       "      <td>1</td>\n",
       "      <td>115</td>\n",
       "      <td>aslbrick</td>\n",
       "      <td>test</td>\n",
       "      <td>http://aslbricks.org/New/ASL-Videos/write.mp4</td>\n",
       "      <td>0</td>\n",
       "      <td>69544</td>\n",
       "      <td>375</td>\n",
       "      <td>42</td>\n",
       "      <td>940</td>\n",
       "      <td>720</td>\n",
       "      <td>write</td>\n",
       "    </tr>\n",
       "    <tr>\n",
       "      <th>1049</th>\n",
       "      <td>25</td>\n",
       "      <td>-1</td>\n",
       "      <td>1</td>\n",
       "      <td>1</td>\n",
       "      <td>118</td>\n",
       "      <td>aslbrick</td>\n",
       "      <td>test</td>\n",
       "      <td>http://aslbricks.org/New/ASL-Videos/yellow.mp4</td>\n",
       "      <td>0</td>\n",
       "      <td>69545</td>\n",
       "      <td>256</td>\n",
       "      <td>41</td>\n",
       "      <td>883</td>\n",
       "      <td>720</td>\n",
       "      <td>yellow</td>\n",
       "    </tr>\n",
       "    <tr>\n",
       "      <th>201</th>\n",
       "      <td>25</td>\n",
       "      <td>-1</td>\n",
       "      <td>1</td>\n",
       "      <td>1</td>\n",
       "      <td>118</td>\n",
       "      <td>aslbrick</td>\n",
       "      <td>val</td>\n",
       "      <td>http://aslbricks.org/New/ASL-Videos/yes.mp4</td>\n",
       "      <td>0</td>\n",
       "      <td>69546</td>\n",
       "      <td>214</td>\n",
       "      <td>41</td>\n",
       "      <td>881</td>\n",
       "      <td>720</td>\n",
       "      <td>yes</td>\n",
       "    </tr>\n",
       "  </tbody>\n",
       "</table>\n",
       "<p>3981 rows × 15 columns</p>\n",
       "</div>"
      ],
      "text/plain": [
       "      fps  frame_end  frame_start  instance_id  signer_id         source  \\\n",
       "3916   25         -1            1            4         26  spreadthesign   \n",
       "3918   25         -1            1            6          6     signschool   \n",
       "3917   25         -1            1            5         13    asldeafined   \n",
       "565    25         -1            1           12         26  spreadthesign   \n",
       "556    25         -1            1            2         29  spreadthesign   \n",
       "...   ...        ...          ...          ...        ...            ...   \n",
       "537    25         -1            1            1        118       aslbrick   \n",
       "7446   25         -1            1            1        116       aslbrick   \n",
       "1331   25         -1            1            1        115       aslbrick   \n",
       "1049   25         -1            1            1        118       aslbrick   \n",
       "201    25         -1            1            1        118       aslbrick   \n",
       "\n",
       "      split                                                url  variation_id  \\\n",
       "3916    val  https://media.spreadthesign.com/video/mp4/13/9...             0   \n",
       "3918  train  https://signstock.blob.core.windows.net/signsc...             0   \n",
       "3917  train  https://media.asldeafined.com/vocabulary/14661...             0   \n",
       "565   train  https://media.spreadthesign.com/video/mp4/13/1...             1   \n",
       "556   train  https://media.spreadthesign.com/video/mp4/13/7...             0   \n",
       "...     ...                                                ...           ...   \n",
       "537     val      http://aslbricks.org/New/ASL-Videos/white.mp4             0   \n",
       "7446  train       http://aslbricks.org/New/ASL-Videos/worm.mp4             0   \n",
       "1331   test      http://aslbricks.org/New/ASL-Videos/write.mp4             0   \n",
       "1049   test     http://aslbricks.org/New/ASL-Videos/yellow.mp4             0   \n",
       "201     val        http://aslbricks.org/New/ASL-Videos/yes.mp4             0   \n",
       "\n",
       "      video_id  bbox_xmin  bbox_ymin  bbox_xmax  bbox_ymax     gloss  \n",
       "3916       592         81         40        272        240    accept  \n",
       "3918       594        512        107       1397       1080    accept  \n",
       "3917       597         96         17        624        480    accept  \n",
       "565        623         54          6        272        240  accident  \n",
       "556        624         42          6        278        240  accident  \n",
       "...        ...        ...        ...        ...        ...       ...  \n",
       "537      69533        366         40        875        720     white  \n",
       "7446     69541        282          4        937        720      worm  \n",
       "1331     69544        375         42        940        720     write  \n",
       "1049     69545        256         41        883        720    yellow  \n",
       "201      69546        214         41        881        720       yes  \n",
       "\n",
       "[3981 rows x 15 columns]"
      ]
     },
     "execution_count": 15,
     "metadata": {},
     "output_type": "execute_result"
    }
   ],
   "source": [
    "new_df"
   ]
  },
  {
   "cell_type": "markdown",
   "id": "e9477f09-6d63-44f3-ae1a-e69435fc75b4",
   "metadata": {},
   "source": [
    "Reordering records"
   ]
  },
  {
   "cell_type": "code",
   "execution_count": 16,
   "id": "155d6ad0-c414-4c12-910f-8e9476a346a0",
   "metadata": {},
   "outputs": [],
   "source": [
    "sorted_record = { key : record[key] for key in sorted(record.keys()) if int(key.replace(\".mp4\", \"\")) in list(new_df[\"video_id\"])}"
   ]
  },
  {
   "cell_type": "code",
   "execution_count": 17,
   "id": "6c86bee5-ee01-49bd-870b-2eb96486c4d8",
   "metadata": {},
   "outputs": [
    {
     "data": {
      "text/plain": [
       "3981"
      ]
     },
     "execution_count": 17,
     "metadata": {},
     "output_type": "execute_result"
    }
   ],
   "source": [
    "len(sorted_record)"
   ]
  },
  {
   "cell_type": "markdown",
   "id": "8be75c86-44b3-49b7-9c0d-78f1d6d002e3",
   "metadata": {},
   "source": [
    "## Prepare dataset"
   ]
  },
  {
   "cell_type": "code",
   "execution_count": 18,
   "id": "75aaa875-a55e-40b1-b3ba-5ea54bffc9bc",
   "metadata": {},
   "outputs": [],
   "source": [
    "X = np.array(list(sorted_record.values()))\n",
    "\n",
    "encoder = OneHotEncoder(handle_unknown='ignore')\n",
    "encoder.fit(np.array(list(new_df[\"gloss\"])).reshape(-1,1))\n",
    "y = encoder.transform(np.array(list(new_df[\"gloss\"])).reshape(-1,1)).toarray()"
   ]
  },
  {
   "cell_type": "code",
   "execution_count": 19,
   "id": "9731e476-0839-4d60-92cc-c8012aa088ab",
   "metadata": {},
   "outputs": [],
   "source": [
    "le = LabelEncoder()\n",
    "y_ = le.fit_transform(np.array(list(new_df[\"gloss\"])))"
   ]
  },
  {
   "cell_type": "code",
   "execution_count": 20,
   "id": "55e6616b-18e1-4e53-94d4-34acbb309eef",
   "metadata": {},
   "outputs": [
    {
     "data": {
      "text/plain": [
       "(3981,)"
      ]
     },
     "execution_count": 20,
     "metadata": {},
     "output_type": "execute_result"
    }
   ],
   "source": [
    "y_.shape"
   ]
  },
  {
   "cell_type": "code",
   "execution_count": 21,
   "id": "c758c8fd-6942-416f-ad5d-fcda4a16b866",
   "metadata": {},
   "outputs": [
    {
     "name": "stdout",
     "output_type": "stream",
     "text": [
      "(3981, 520, 100, 3) (3981, 1030)\n"
     ]
    }
   ],
   "source": [
    "print(X.shape, y.shape)"
   ]
  },
  {
   "cell_type": "code",
   "execution_count": 22,
   "id": "3e340476-1edb-4d17-a7f9-33d5114f660b",
   "metadata": {},
   "outputs": [],
   "source": [
    "X = X.reshape(X.shape[0], X.shape[2], X.shape[1], X.shape[3])"
   ]
  },
  {
   "cell_type": "code",
   "execution_count": 23,
   "id": "8a984cf9-c359-4c87-af59-c3800afc6061",
   "metadata": {},
   "outputs": [],
   "source": [
    "input_dim = X.shape[1:]\n",
    "nb_classes = y.shape[-1]"
   ]
  },
  {
   "cell_type": "markdown",
   "id": "5e070a26-38c8-42dc-9f61-3c0148ea62db",
   "metadata": {},
   "source": [
    "## Model implementation"
   ]
  },
  {
   "cell_type": "code",
   "execution_count": null,
   "id": "e271ed96-27ad-4a8e-9c11-da79b1943218",
   "metadata": {},
   "outputs": [],
   "source": [
    "model = Sequential()\n",
    "model.add(Input(shape=(input_dim)))\n",
    "model.add(Conv2D(filters=8, kernel_size= 3, strides = (1, 2), padding='same', activation='relu'))\n",
    "model.add(Conv2D(filters=16, kernel_size=(input_dim[0], 3), strides = (1, 2), padding='same', activation='relu'))\n",
    "model.add(Conv2D(filters=32, kernel_size= 3, strides = (1, 2),padding='same', activation='relu'))\n",
    "model.add(tf.keras.layers.Reshape((100, 65*32)))\n",
    "model.add(LSTM(64))\n",
    "model.add(Dense(128, activation='relu'))\n",
    "model.add(Dense(nb_classes, activation='softmax'))\n",
    "model.compile(loss='CategoricalCrossentropy', optimizer='adam', metrics=['accuracy'])"
   ]
  },
  {
   "cell_type": "code",
   "execution_count": 28,
   "id": "4a4a8f65-e3f9-4ec6-8a8d-ed940dd7cc5f",
   "metadata": {},
   "outputs": [
    {
     "name": "stdout",
     "output_type": "stream",
     "text": [
      "Model: \"sequential\"\n",
      "_________________________________________________________________\n",
      " Layer (type)                Output Shape              Param #   \n",
      "=================================================================\n",
      " conv2d (Conv2D)             (None, 100, 260, 8)       224       \n",
      "                                                                 \n",
      " conv2d_1 (Conv2D)           (None, 100, 130, 16)      38416     \n",
      "                                                                 \n",
      " conv2d_2 (Conv2D)           (None, 100, 65, 32)       4640      \n",
      "                                                                 \n",
      " reshape (Reshape)           (None, 100, 2080)         0         \n",
      "                                                                 \n",
      " lstm (LSTM)                 (None, 64)                549120    \n",
      "                                                                 \n",
      " dense (Dense)               (None, 128)               8320      \n",
      "                                                                 \n",
      " dense_1 (Dense)             (None, 1030)              132870    \n",
      "                                                                 \n",
      "=================================================================\n",
      "Total params: 733,590\n",
      "Trainable params: 733,590\n",
      "Non-trainable params: 0\n",
      "_________________________________________________________________\n"
     ]
    }
   ],
   "source": [
    "model.summary()"
   ]
  },
  {
   "cell_type": "code",
   "execution_count": 30,
   "id": "51ae2d42-14f4-4d36-834d-2f1afab44b0a",
   "metadata": {},
   "outputs": [],
   "source": [
    "sss = StratifiedShuffleSplit(n_splits=5, test_size=0.3, random_state=0)"
   ]
  },
  {
   "cell_type": "code",
   "execution_count": 30,
   "id": "df0407f0-01c7-4ffe-bd5e-45eb04a9919b",
   "metadata": {},
   "outputs": [
    {
     "name": "stdout",
     "output_type": "stream",
     "text": [
      "Epoch 1/10\n",
      "44/44 [==============================] - 157s 4s/step - loss: 6.9458 - accuracy: 0.0061 - val_loss: 6.9569 - val_accuracy: 0.0017\n",
      "Epoch 2/10\n",
      "44/44 [==============================] - 157s 4s/step - loss: 6.7683 - accuracy: 0.0129 - val_loss: 7.0101 - val_accuracy: 0.0025\n",
      "Epoch 3/10\n",
      "44/44 [==============================] - 155s 4s/step - loss: 6.5435 - accuracy: 0.0162 - val_loss: 7.1347 - val_accuracy: 0.0025\n",
      "Epoch 4/10\n",
      "44/44 [==============================] - 156s 4s/step - loss: 6.2503 - accuracy: 0.0219 - val_loss: 7.3118 - val_accuracy: 0.0042\n",
      "Epoch 5/10\n",
      "44/44 [==============================] - 154s 4s/step - loss: 5.9300 - accuracy: 0.0363 - val_loss: 7.5284 - val_accuracy: 0.0033\n",
      "Epoch 6/10\n",
      "44/44 [==============================] - 155s 4s/step - loss: 5.6104 - accuracy: 0.0431 - val_loss: 7.7861 - val_accuracy: 0.0025\n",
      "Epoch 7/10\n",
      "44/44 [==============================] - 154s 4s/step - loss: 5.3697 - accuracy: 0.0567 - val_loss: 8.0642 - val_accuracy: 0.0025\n",
      "Epoch 8/10\n",
      "44/44 [==============================] - 155s 4s/step - loss: 5.1327 - accuracy: 0.0689 - val_loss: 8.3486 - val_accuracy: 0.0017\n",
      "Epoch 9/10\n",
      "44/44 [==============================] - 155s 4s/step - loss: 4.9481 - accuracy: 0.0822 - val_loss: 8.6011 - val_accuracy: 0.0017\n",
      "Epoch 10/10\n",
      "44/44 [==============================] - 155s 4s/step - loss: 4.8223 - accuracy: 0.1019 - val_loss: 8.8134 - val_accuracy: 0.0025\n"
     ]
    },
    {
     "data": {
      "image/png": "[encoded data removed]",
      "text/plain": [
       "<Figure size 432x288 with 1 Axes>"
      ]
     },
     "metadata": {
      "needs_background": "light"
     },
     "output_type": "display_data"
    },
    {
     "name": "stdout",
     "output_type": "stream",
     "text": [
      "Epoch 1/10\n",
      "44/44 [==============================] - 158s 4s/step - loss: 5.9105 - accuracy: 0.0811 - val_loss: 6.0998 - val_accuracy: 0.0720\n",
      "Epoch 2/10\n",
      "44/44 [==============================] - 156s 4s/step - loss: 5.6199 - accuracy: 0.0976 - val_loss: 6.1924 - val_accuracy: 0.0494\n",
      "Epoch 3/10\n",
      "44/44 [==============================] - 155s 4s/step - loss: 5.4276 - accuracy: 0.1030 - val_loss: 6.3185 - val_accuracy: 0.0293\n",
      "Epoch 4/10\n",
      "44/44 [==============================] - 154s 4s/step - loss: 5.2385 - accuracy: 0.1195 - val_loss: 6.4084 - val_accuracy: 0.0285\n",
      "Epoch 5/10\n",
      "44/44 [==============================] - 155s 4s/step - loss: 5.1494 - accuracy: 0.1242 - val_loss: 6.5566 - val_accuracy: 0.0184\n",
      "Epoch 6/10\n",
      "44/44 [==============================] - 160s 4s/step - loss: 5.0094 - accuracy: 0.1328 - val_loss: 6.7179 - val_accuracy: 0.0084\n",
      "Epoch 7/10\n",
      "44/44 [==============================] - 154s 4s/step - loss: 4.8730 - accuracy: 0.1468 - val_loss: 6.7891 - val_accuracy: 0.0109\n",
      "Epoch 8/10\n",
      "44/44 [==============================] - 8150s 189s/step - loss: 4.7281 - accuracy: 0.1561 - val_loss: 6.9861 - val_accuracy: 0.0117\n",
      "Epoch 9/10\n",
      "44/44 [==============================] - 201s 5s/step - loss: 4.6956 - accuracy: 0.1608 - val_loss: 7.1251 - val_accuracy: 0.0075\n",
      "Epoch 10/10\n",
      "44/44 [==============================] - 196s 4s/step - loss: 4.5343 - accuracy: 0.1784 - val_loss: 7.2406 - val_accuracy: 0.0075\n"
     ]
    },
    {
     "data": {
      "image/png": "[encoded data removed]",
      "text/plain": [
       "<Figure size 432x288 with 1 Axes>"
      ]
     },
     "metadata": {
      "needs_background": "light"
     },
     "output_type": "display_data"
    },
    {
     "name": "stdout",
     "output_type": "stream",
     "text": [
      "Epoch 1/10\n",
      "44/44 [==============================] - 206s 5s/step - loss: 5.2865 - accuracy: 0.1360 - val_loss: 5.3884 - val_accuracy: 0.1172\n",
      "Epoch 2/10\n",
      "44/44 [==============================] - 211s 5s/step - loss: 5.0419 - accuracy: 0.1493 - val_loss: 5.5796 - val_accuracy: 0.0753\n",
      "Epoch 3/10\n",
      "44/44 [==============================] - 195s 4s/step - loss: 4.8955 - accuracy: 0.1587 - val_loss: 5.7359 - val_accuracy: 0.0636\n",
      "Epoch 4/10\n",
      "44/44 [==============================] - 195s 4s/step - loss: 4.7200 - accuracy: 0.1734 - val_loss: 5.8704 - val_accuracy: 0.0527\n",
      "Epoch 5/10\n",
      "44/44 [==============================] - 196s 4s/step - loss: 4.6080 - accuracy: 0.1823 - val_loss: 5.9892 - val_accuracy: 0.0444\n",
      "Epoch 6/10\n",
      "44/44 [==============================] - 194s 4s/step - loss: 4.4595 - accuracy: 0.1874 - val_loss: 6.1331 - val_accuracy: 0.0393\n",
      "Epoch 7/10\n",
      "44/44 [==============================] - 194s 4s/step - loss: 4.3307 - accuracy: 0.2046 - val_loss: 6.2661 - val_accuracy: 0.0285\n",
      "Epoch 8/10\n",
      "44/44 [==============================] - 194s 4s/step - loss: 4.2130 - accuracy: 0.2254 - val_loss: 6.3875 - val_accuracy: 0.0201\n",
      "Epoch 9/10\n",
      "44/44 [==============================] - 195s 4s/step - loss: 4.0807 - accuracy: 0.2322 - val_loss: 6.4952 - val_accuracy: 0.0218\n",
      "Epoch 10/10\n",
      "44/44 [==============================] - 194s 4s/step - loss: 3.9788 - accuracy: 0.2387 - val_loss: 6.6416 - val_accuracy: 0.0134\n"
     ]
    },
    {
     "data": {
      "image/png": "[encoded data removed]",
      "text/plain": [
       "<Figure size 432x288 with 1 Axes>"
      ]
     },
     "metadata": {
      "needs_background": "light"
     },
     "output_type": "display_data"
    },
    {
     "name": "stdout",
     "output_type": "stream",
     "text": [
      "Epoch 1/10\n",
      "44/44 [==============================] - 203s 5s/step - loss: 4.7554 - accuracy: 0.1917 - val_loss: 4.8095 - val_accuracy: 0.1590\n",
      "Epoch 2/10\n",
      "44/44 [==============================] - 196s 4s/step - loss: 4.5172 - accuracy: 0.2114 - val_loss: 5.0224 - val_accuracy: 0.1255\n",
      "Epoch 3/10\n",
      "44/44 [==============================] - 193s 4s/step - loss: 4.3751 - accuracy: 0.2089 - val_loss: 5.1855 - val_accuracy: 0.1021\n",
      "Epoch 4/10\n",
      "44/44 [==============================] - 194s 4s/step - loss: 4.2319 - accuracy: 0.2312 - val_loss: 5.3138 - val_accuracy: 0.0837\n",
      "Epoch 5/10\n",
      "44/44 [==============================] - 169s 4s/step - loss: 4.1782 - accuracy: 0.2218 - val_loss: 5.4555 - val_accuracy: 0.0745\n",
      "Epoch 6/10\n",
      "44/44 [==============================] - 161s 4s/step - loss: 4.0806 - accuracy: 0.2308 - val_loss: 5.6153 - val_accuracy: 0.0678\n",
      "Epoch 7/10\n",
      "44/44 [==============================] - 169s 4s/step - loss: 3.9695 - accuracy: 0.2502 - val_loss: 5.7323 - val_accuracy: 0.0477\n",
      "Epoch 8/10\n",
      "44/44 [==============================] - 162s 4s/step - loss: 3.8642 - accuracy: 0.2534 - val_loss: 5.8549 - val_accuracy: 0.0469\n",
      "Epoch 9/10\n",
      "44/44 [==============================] - 159s 4s/step - loss: 3.7458 - accuracy: 0.2771 - val_loss: 5.9641 - val_accuracy: 0.0385\n",
      "Epoch 10/10\n",
      "44/44 [==============================] - 172s 4s/step - loss: 3.6758 - accuracy: 0.2850 - val_loss: 6.1130 - val_accuracy: 0.0293\n"
     ]
    },
    {
     "data": {
      "image/png": "[encoded data removed]",
      "text/plain": [
       "<Figure size 432x288 with 1 Axes>"
      ]
     },
     "metadata": {
      "needs_background": "light"
     },
     "output_type": "display_data"
    },
    {
     "name": "stdout",
     "output_type": "stream",
     "text": [
      "Epoch 1/10\n",
      "44/44 [==============================] - 177s 4s/step - loss: 4.3633 - accuracy: 0.2182 - val_loss: 4.4601 - val_accuracy: 0.2075\n",
      "Epoch 2/10\n",
      "44/44 [==============================] - 164s 4s/step - loss: 4.1688 - accuracy: 0.2373 - val_loss: 4.6518 - val_accuracy: 0.1699\n",
      "Epoch 3/10\n",
      "44/44 [==============================] - 161s 4s/step - loss: 3.9876 - accuracy: 0.2487 - val_loss: 4.7752 - val_accuracy: 0.1490\n",
      "Epoch 4/10\n",
      "44/44 [==============================] - 169s 4s/step - loss: 3.8285 - accuracy: 0.2739 - val_loss: 4.9087 - val_accuracy: 0.1297\n",
      "Epoch 5/10\n",
      "44/44 [==============================] - 169s 4s/step - loss: 3.7385 - accuracy: 0.2872 - val_loss: 5.1094 - val_accuracy: 0.1088\n",
      "Epoch 6/10\n",
      "44/44 [==============================] - 164s 4s/step - loss: 3.7000 - accuracy: 0.2832 - val_loss: 5.2891 - val_accuracy: 0.0921\n",
      "Epoch 7/10\n",
      "44/44 [==============================] - 168s 4s/step - loss: 3.6121 - accuracy: 0.2947 - val_loss: 5.4448 - val_accuracy: 0.0795\n",
      "Epoch 8/10\n",
      "44/44 [==============================] - 163s 4s/step - loss: 3.5117 - accuracy: 0.3051 - val_loss: 5.5192 - val_accuracy: 0.0720\n",
      "Epoch 9/10\n",
      "44/44 [==============================] - 159s 4s/step - loss: 3.4032 - accuracy: 0.3191 - val_loss: 5.6641 - val_accuracy: 0.0695\n",
      "Epoch 10/10\n",
      "44/44 [==============================] - 156s 4s/step - loss: 3.3065 - accuracy: 0.3421 - val_loss: 5.7975 - val_accuracy: 0.0510\n"
     ]
    },
    {
     "data": {
      "image/png": "[encoded data removed]",
      "text/plain": [
       "<Figure size 432x288 with 1 Axes>"
      ]
     },
     "metadata": {
      "needs_background": "light"
     },
     "output_type": "display_data"
    }
   ],
   "source": [
    "for train_index, test_index in sss.split(X, y_):\n",
    "    X_train, X_test = X[train_index], X[test_index]\n",
    "    y_train, y_test = y[train_index], y[test_index]\n",
    "    model.fit(X_train, y_train, epochs=10, batch_size=64, validation_data=(X_test, y_test))\n",
    "    \n",
    "    plt.plot(model.history.history['loss'])\n",
    "    plt.plot(model.history.history['val_loss'])\n",
    "    plt.plot(model.history.history['accuracy'])\n",
    "    plt.plot(model.history.history['val_accuracy'])\n",
    "    plt.legend([\"Training set loss\", \"Validation set loss\", \"Accuracy\", \"Validation accuracy\"])\n",
    "\n",
    "    plt.yscale(\"log\")\n",
    "    plt.show()"
   ]
  },
  {
   "cell_type": "code",
   "execution_count": 31,
   "id": "1a6e05a3-4199-40a0-a16a-9ef857bd8c5b",
   "metadata": {},
   "outputs": [
    {
     "name": "stdout",
     "output_type": "stream",
     "text": [
      "125/125 [==============================] - 36s 282ms/step\n"
     ]
    }
   ],
   "source": [
    "y_pred = model.predict(X)         \n",
    "y_pred = np.argmax(y_pred, axis = 1)"
   ]
  },
  {
   "cell_type": "code",
   "execution_count": 32,
   "id": "37400bf6-e3d8-4248-ba01-5f1e44942087",
   "metadata": {},
   "outputs": [
    {
     "name": "stdout",
     "output_type": "stream",
     "text": [
      "F1 score :  0.31895924822595473\n",
      "Accuracy :  0.30419492589801556\n",
      "Precision score :  0.41293071704964746\n",
      "Recall score :  0.30419492589801556\n"
     ]
    },
    {
     "name": "stderr",
     "output_type": "stream",
     "text": [
      "C:\\Users\\thoma\\AppData\\Local\\Programs\\Python\\Python39\\lib\\site-packages\\sklearn\\metrics\\_classification.py:1327: UndefinedMetricWarning: Precision is ill-defined and being set to 0.0 in labels with no predicted samples. Use `zero_division` parameter to control this behavior.\n",
      "  _warn_prf(average, modifier, msg_start, len(result))\n"
     ]
    }
   ],
   "source": [
    "print(\"F1 score : \", f1_score(y_, y_pred, average = 'weighted'))\n",
    "print(\"Accuracy : \", accuracy_score(y_, y_pred))\n",
    "print(\"Precision score : \", precision_score(y_, y_pred, average = 'weighted'))\n",
    "print(\"Recall score : \", recall_score(y_, y_pred, average = 'weighted'))"
   ]
  },
  {
   "cell_type": "markdown",
   "id": "38fc82d8-e126-4144-896b-4d005c9cc2ff",
   "metadata": {},
   "source": [
    "### Training only with hands landmarks"
   ]
  },
  {
   "cell_type": "code",
   "execution_count": 24,
   "id": "250a0718-33e6-4b08-9aa1-119aeba3c219",
   "metadata": {},
   "outputs": [],
   "source": [
    "X2 = X[:,:,:42]"
   ]
  },
  {
   "cell_type": "code",
   "execution_count": 25,
   "id": "4cb0807a-5550-409b-9e4d-8d48f4e102de",
   "metadata": {},
   "outputs": [],
   "source": [
    "input_dim_2 = X2.shape[1:]"
   ]
  },
  {
   "cell_type": "code",
   "execution_count": 27,
   "id": "38263852-455f-49b7-8b60-a1f7231369fb",
   "metadata": {},
   "outputs": [],
   "source": [
    "model2 = Sequential()\n",
    "model2.add(Input(shape=(input_dim_2)))\n",
    "model2.add(Conv2D(filters=8, kernel_size= 3, strides = (1, 2), padding='same', activation='relu'))\n",
    "model2.add(Conv2D(filters=16, kernel_size=(input_dim[0], 3), strides = (1, 2), padding='same', activation='relu'))\n",
    "model2.add(Conv2D(filters=32, kernel_size= 3, strides = (1, 2),padding='same', activation='relu'))\n",
    "model2.add(tf.keras.layers.Reshape((100, 6*32)))\n",
    "model2.add(LSTM(64))\n",
    "model2.add(Dense(128, activation='relu'))\n",
    "model2.add(Dense(nb_classes, activation='softmax'))\n",
    "model2.compile(loss='CategoricalCrossentropy', optimizer='adam', metrics=['accuracy'])"
   ]
  },
  {
   "cell_type": "code",
   "execution_count": 28,
   "id": "adb77e12-38a2-43bc-9a92-a03868b2d1f7",
   "metadata": {},
   "outputs": [
    {
     "name": "stdout",
     "output_type": "stream",
     "text": [
      "Model: \"sequential_1\"\n",
      "_________________________________________________________________\n",
      " Layer (type)                Output Shape              Param #   \n",
      "=================================================================\n",
      " conv2d_3 (Conv2D)           (None, 100, 21, 8)        224       \n",
      "                                                                 \n",
      " conv2d_4 (Conv2D)           (None, 100, 11, 16)       38416     \n",
      "                                                                 \n",
      " conv2d_5 (Conv2D)           (None, 100, 6, 32)        4640      \n",
      "                                                                 \n",
      " reshape_1 (Reshape)         (None, 100, 192)          0         \n",
      "                                                                 \n",
      " lstm (LSTM)                 (None, 64)                65792     \n",
      "                                                                 \n",
      " dense (Dense)               (None, 128)               8320      \n",
      "                                                                 \n",
      " dense_1 (Dense)             (None, 1030)              132870    \n",
      "                                                                 \n",
      "=================================================================\n",
      "Total params: 250,262\n",
      "Trainable params: 250,262\n",
      "Non-trainable params: 0\n",
      "_________________________________________________________________\n"
     ]
    }
   ],
   "source": [
    "model2.summary()"
   ]
  },
  {
   "cell_type": "code",
   "execution_count": 31,
   "id": "cb410055-ab48-4c57-8b8c-1ee87bd9cc71",
   "metadata": {},
   "outputs": [
    {
     "name": "stdout",
     "output_type": "stream",
     "text": [
      "Epoch 1/10\n",
      "44/44 [==============================] - 41s 809ms/step - loss: 6.9529 - accuracy: 0.0014 - val_loss: 6.9421 - val_accuracy: 0.0017\n",
      "Epoch 2/10\n",
      "21/44 [=============>................] - ETA: 15s - loss: 6.8705 - accuracy: 0.0037"
     ]
    },
    {
     "name": "stderr",
     "output_type": "stream",
     "text": [
      "\n",
      "KeyboardInterrupt\n",
      "\n"
     ]
    }
   ],
   "source": [
    "for train_index, test_index in sss.split(X2, y_):\n",
    "    X_train, X_test = X2[train_index], X2[test_index]\n",
    "    y_train, y_test = y[train_index], y[test_index]\n",
    "    model2.fit(X_train, y_train, epochs=10, batch_size=64, validation_data=(X_test, y_test))\n",
    "    \n",
    "    plt.plot(model2.history.history['loss'])\n",
    "    plt.plot(model2.history.history['val_loss'])\n",
    "    plt.plot(model2.history.history['accuracy'])\n",
    "    plt.plot(model2.history.history['val_accuracy'])\n",
    "    plt.legend([\"Training set loss\", \"Validation set loss\", \"Accuracy\", \"Validation accuracy\"])\n",
    "\n",
    "    plt.yscale(\"log\")\n",
    "    plt.show()"
   ]
  },
  {
   "cell_type": "code",
   "execution_count": 56,
   "id": "ff0f09fe-d78a-4fbf-9c34-6e522f8bf80d",
   "metadata": {},
   "outputs": [
    {
     "name": "stdout",
     "output_type": "stream",
     "text": [
      "125/125 [==============================] - 8s 59ms/step\n"
     ]
    }
   ],
   "source": [
    "y_pred = model2.predict(X2)         \n",
    "y_pred = np.argmax(y_pred, axis = 1)"
   ]
  },
  {
   "cell_type": "code",
   "execution_count": 57,
   "id": "46c98f22-0baa-494f-8f00-8c7d3350f43a",
   "metadata": {},
   "outputs": [
    {
     "name": "stdout",
     "output_type": "stream",
     "text": [
      "F1 score :  0.19501868653081791\n",
      "Accuracy :  0.16930419492589802\n",
      "Precision score :  0.3207483299904223\n",
      "Recall score :  0.16930419492589802\n"
     ]
    },
    {
     "name": "stderr",
     "output_type": "stream",
     "text": [
      "C:\\Users\\thoma\\AppData\\Local\\Programs\\Python\\Python39\\lib\\site-packages\\sklearn\\metrics\\_classification.py:1327: UndefinedMetricWarning: Precision is ill-defined and being set to 0.0 in labels with no predicted samples. Use `zero_division` parameter to control this behavior.\n",
      "  _warn_prf(average, modifier, msg_start, len(result))\n"
     ]
    }
   ],
   "source": [
    "print(\"F1 score : \", f1_score(y_, y_pred, average = 'weighted'))\n",
    "print(\"Accuracy : \", accuracy_score(y_, y_pred))\n",
    "print(\"Precision score : \", precision_score(y_, y_pred, average = 'weighted'))\n",
    "print(\"Recall score : \", recall_score(y_, y_pred, average = 'weighted'))"
   ]
  },
  {
   "cell_type": "markdown",
   "id": "e599c240-a0d6-4565-870c-81b28bf3544e",
   "metadata": {},
   "source": [
    "### Less complicated architecture"
   ]
  },
  {
   "cell_type": "code",
   "execution_count": 80,
   "id": "aecaa554-2a86-4d13-8bb3-a55d138e38d3",
   "metadata": {},
   "outputs": [],
   "source": [
    "model = Sequential()\n",
    "model.add(Input(shape=(input_dim)))\n",
    "model.add(tf.keras.layers.Reshape((100, 520*3)))\n",
    "model.add(LSTM(128))\n",
    "model.add(Dense(nb_classes, activation='softmax'))\n",
    "model.compile(loss='CategoricalCrossentropy', optimizer='adam', metrics=['accuracy'])"
   ]
  },
  {
   "cell_type": "code",
   "execution_count": 81,
   "id": "25a844bb-9841-4944-98a8-c115635e79b3",
   "metadata": {},
   "outputs": [
    {
     "name": "stdout",
     "output_type": "stream",
     "text": [
      "Model: \"sequential_12\"\n",
      "_________________________________________________________________\n",
      " Layer (type)                Output Shape              Param #   \n",
      "=================================================================\n",
      " reshape_11 (Reshape)        (None, 100, 1560)         0         \n",
      "                                                                 \n",
      " lstm_6 (LSTM)               (None, 128)               864768    \n",
      "                                                                 \n",
      " dense_12 (Dense)            (None, 1030)              132870    \n",
      "                                                                 \n",
      "=================================================================\n",
      "Total params: 997,638\n",
      "Trainable params: 997,638\n",
      "Non-trainable params: 0\n",
      "_________________________________________________________________\n"
     ]
    }
   ],
   "source": [
    "model.summary()"
   ]
  },
  {
   "cell_type": "code",
   "execution_count": 82,
   "id": "d771a414-d81f-4cb9-a93a-c6ece8b7f74c",
   "metadata": {},
   "outputs": [],
   "source": [
    "sss = StratifiedShuffleSplit(n_splits=5, test_size=0.3, random_state=1)"
   ]
  },
  {
   "cell_type": "code",
   "execution_count": 83,
   "id": "43feec57-16fa-496d-afd4-6e8dd029b835",
   "metadata": {},
   "outputs": [
    {
     "name": "stdout",
     "output_type": "stream",
     "text": [
      "Epoch 1/10\n",
      "44/44 [==============================] - 29s 504ms/step - loss: 6.9783 - accuracy: 3.5894e-04 - val_loss: 6.9394 - val_accuracy: 0.0033\n",
      "Epoch 2/10\n",
      "44/44 [==============================] - 19s 439ms/step - loss: 6.9060 - accuracy: 0.0036 - val_loss: 6.9440 - val_accuracy: 0.0000e+00\n",
      "Epoch 3/10\n",
      "44/44 [==============================] - 16s 368ms/step - loss: 6.8546 - accuracy: 0.0194 - val_loss: 6.9546 - val_accuracy: 8.3682e-04\n",
      "Epoch 4/10\n",
      "44/44 [==============================] - 15s 335ms/step - loss: 6.7831 - accuracy: 0.0327 - val_loss: 6.9736 - val_accuracy: 0.0025\n",
      "Epoch 5/10\n",
      "44/44 [==============================] - 15s 344ms/step - loss: 6.7061 - accuracy: 0.0456 - val_loss: 7.0020 - val_accuracy: 0.0033\n",
      "Epoch 6/10\n",
      " 3/44 [=>............................] - ETA: 11s - loss: 6.6015 - accuracy: 0.0521"
     ]
    },
    {
     "name": "stderr",
     "output_type": "stream",
     "text": [
      "\n",
      "KeyboardInterrupt\n",
      "\n"
     ]
    }
   ],
   "source": [
    "for train_index, test_index in sss.split(X, y_):\n",
    "    X_train, X_test = X[train_index], X[test_index]\n",
    "    y_train, y_test = y[train_index], y[test_index]\n",
    "    model.fit(X_train, y_train, epochs=10, batch_size=64, validation_data=(X_test, y_test))\n",
    "    \n",
    "    plt.plot(model.history.history['loss'])\n",
    "    plt.plot(model.history.history['val_loss'])\n",
    "    plt.plot(model.history.history['accuracy'])\n",
    "    plt.plot(model.history.history['val_accuracy'])\n",
    "    plt.legend([\"Training set loss\", \"Validation set loss\", \"Accuracy\", \"Validation accuracy\"])\n",
    "\n",
    "    plt.yscale(\"log\")\n",
    "    plt.show()"
   ]
  },
  {
   "cell_type": "code",
   "execution_count": 31,
   "id": "5e2fe146-4062-4784-ad80-5ddb82c30a96",
   "metadata": {},
   "outputs": [
    {
     "name": "stdout",
     "output_type": "stream",
     "text": [
      "125/125 [==============================] - 36s 282ms/step\n"
     ]
    }
   ],
   "source": [
    "y_pred = model.predict(X)         \n",
    "y_pred = np.argmax(y_pred, axis = 1)"
   ]
  },
  {
   "cell_type": "code",
   "execution_count": 32,
   "id": "891be85b-72c7-408c-aad6-878356a04ee5",
   "metadata": {},
   "outputs": [
    {
     "name": "stdout",
     "output_type": "stream",
     "text": [
      "F1 score :  0.31895924822595473\n",
      "Accuracy :  0.30419492589801556\n",
      "Precision score :  0.41293071704964746\n",
      "Recall score :  0.30419492589801556\n"
     ]
    },
    {
     "name": "stderr",
     "output_type": "stream",
     "text": [
      "C:\\Users\\thoma\\AppData\\Local\\Programs\\Python\\Python39\\lib\\site-packages\\sklearn\\metrics\\_classification.py:1327: UndefinedMetricWarning: Precision is ill-defined and being set to 0.0 in labels with no predicted samples. Use `zero_division` parameter to control this behavior.\n",
      "  _warn_prf(average, modifier, msg_start, len(result))\n"
     ]
    }
   ],
   "source": [
    "print(\"F1 score : \", f1_score(y_, y_pred, average = 'weighted'))\n",
    "print(\"Accuracy : \", accuracy_score(y_, y_pred))\n",
    "print(\"Precision score : \", precision_score(y_, y_pred, average = 'weighted'))\n",
    "print(\"Recall score : \", recall_score(y_, y_pred, average = 'weighted'))"
   ]
  }
 ],
 "metadata": {
  "kernelspec": {
   "display_name": "Yolo",
   "language": "python",
   "name": "yolo"
  },
  "language_info": {
   "codemirror_mode": {
    "name": "ipython",
    "version": 3
   },
   "file_extension": ".py",
   "mimetype": "text/x-python",
   "name": "python",
   "nbconvert_exporter": "python",
   "pygments_lexer": "ipython3",
   "version": "3.9.6"
  }
 },
 "nbformat": 4,
 "nbformat_minor": 5
}
