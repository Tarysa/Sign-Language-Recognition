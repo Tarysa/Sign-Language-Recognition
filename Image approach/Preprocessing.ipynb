{
 "cells": [
  {
   "cell_type": "code",
   "execution_count": 1,
   "id": "1747bcbf-88f4-423e-b756-d5f52df96d36",
   "metadata": {},
   "outputs": [],
   "source": [
    "import cv2\n",
    "from PIL import Image\n",
    "import numpy as np\n",
    "import uuid\n",
    "import os\n",
    "from tqdm import tqdm\n",
    "import pandas as pd\n",
    "import pickle\n",
    "import seaborn as sns\n",
    "import matplotlib.pyplot as plt\n",
    "from scipy import interpolate\n",
    "import joblib\n",
    "from sklearn.model_selection import StratifiedKFold\n",
    "from sklearn.preprocessing import OneHotEncoder\n",
    "from sklearn.preprocessing import LabelEncoder"
   ]
  },
  {
   "cell_type": "code",
   "execution_count": 2,
   "id": "caae1f27-c979-4e31-b2bd-c047fbdc89a9",
   "metadata": {},
   "outputs": [],
   "source": [
    "df = pd.read_csv(os.path.dirname(os.getcwd())+\"/dataset/Video Information Extraction.csv\")"
   ]
  },
  {
   "cell_type": "code",
   "execution_count": 3,
   "id": "77c1bd88-7c5f-420a-b2ca-374b7c654fd1",
   "metadata": {},
   "outputs": [
    {
     "data": {
      "text/html": [
       "<div>\n",
       "<style scoped>\n",
       "    .dataframe tbody tr th:only-of-type {\n",
       "        vertical-align: middle;\n",
       "    }\n",
       "\n",
       "    .dataframe tbody tr th {\n",
       "        vertical-align: top;\n",
       "    }\n",
       "\n",
       "    .dataframe thead th {\n",
       "        text-align: right;\n",
       "    }\n",
       "</style>\n",
       "<table border=\"1\" class=\"dataframe\">\n",
       "  <thead>\n",
       "    <tr style=\"text-align: right;\">\n",
       "      <th></th>\n",
       "      <th>fps</th>\n",
       "      <th>frame_end</th>\n",
       "      <th>frame_start</th>\n",
       "      <th>instance_id</th>\n",
       "      <th>signer_id</th>\n",
       "      <th>source</th>\n",
       "      <th>split</th>\n",
       "      <th>url</th>\n",
       "      <th>variation_id</th>\n",
       "      <th>video_id</th>\n",
       "      <th>bbox_xmin</th>\n",
       "      <th>bbox_ymin</th>\n",
       "      <th>bbox_xmax</th>\n",
       "      <th>bbox_ymax</th>\n",
       "      <th>gloss</th>\n",
       "    </tr>\n",
       "  </thead>\n",
       "  <tbody>\n",
       "    <tr>\n",
       "      <th>0</th>\n",
       "      <td>25</td>\n",
       "      <td>-1</td>\n",
       "      <td>1</td>\n",
       "      <td>0</td>\n",
       "      <td>118</td>\n",
       "      <td>aslbrick</td>\n",
       "      <td>train</td>\n",
       "      <td>http://aslbricks.org/New/ASL-Videos/book.mp4</td>\n",
       "      <td>0</td>\n",
       "      <td>69241</td>\n",
       "      <td>385</td>\n",
       "      <td>37</td>\n",
       "      <td>885</td>\n",
       "      <td>720</td>\n",
       "      <td>book</td>\n",
       "    </tr>\n",
       "    <tr>\n",
       "      <th>1</th>\n",
       "      <td>25</td>\n",
       "      <td>-1</td>\n",
       "      <td>1</td>\n",
       "      <td>10</td>\n",
       "      <td>31</td>\n",
       "      <td>signschool</td>\n",
       "      <td>train</td>\n",
       "      <td>https://signstock.blob.core.windows.net/signsc...</td>\n",
       "      <td>0</td>\n",
       "      <td>7069</td>\n",
       "      <td>462</td>\n",
       "      <td>44</td>\n",
       "      <td>949</td>\n",
       "      <td>720</td>\n",
       "      <td>book</td>\n",
       "    </tr>\n",
       "    <tr>\n",
       "      <th>2</th>\n",
       "      <td>25</td>\n",
       "      <td>-1</td>\n",
       "      <td>1</td>\n",
       "      <td>17</td>\n",
       "      <td>36</td>\n",
       "      <td>startasl</td>\n",
       "      <td>train</td>\n",
       "      <td>https://s3-us-west-1.amazonaws.com/files.start...</td>\n",
       "      <td>0</td>\n",
       "      <td>7068</td>\n",
       "      <td>234</td>\n",
       "      <td>17</td>\n",
       "      <td>524</td>\n",
       "      <td>414</td>\n",
       "      <td>book</td>\n",
       "    </tr>\n",
       "    <tr>\n",
       "      <th>3</th>\n",
       "      <td>25</td>\n",
       "      <td>-1</td>\n",
       "      <td>1</td>\n",
       "      <td>22</td>\n",
       "      <td>59</td>\n",
       "      <td>asldeafined</td>\n",
       "      <td>train</td>\n",
       "      <td>https://media.asldeafined.com/vocabulary/14666...</td>\n",
       "      <td>0</td>\n",
       "      <td>7070</td>\n",
       "      <td>131</td>\n",
       "      <td>26</td>\n",
       "      <td>526</td>\n",
       "      <td>480</td>\n",
       "      <td>book</td>\n",
       "    </tr>\n",
       "    <tr>\n",
       "      <th>4</th>\n",
       "      <td>25</td>\n",
       "      <td>-1</td>\n",
       "      <td>1</td>\n",
       "      <td>24</td>\n",
       "      <td>12</td>\n",
       "      <td>aslsearch</td>\n",
       "      <td>val</td>\n",
       "      <td>http://www.aslsearch.com/signs/videos/book.mp4</td>\n",
       "      <td>0</td>\n",
       "      <td>7099</td>\n",
       "      <td>162</td>\n",
       "      <td>54</td>\n",
       "      <td>528</td>\n",
       "      <td>400</td>\n",
       "      <td>book</td>\n",
       "    </tr>\n",
       "    <tr>\n",
       "      <th>...</th>\n",
       "      <td>...</td>\n",
       "      <td>...</td>\n",
       "      <td>...</td>\n",
       "      <td>...</td>\n",
       "      <td>...</td>\n",
       "      <td>...</td>\n",
       "      <td>...</td>\n",
       "      <td>...</td>\n",
       "      <td>...</td>\n",
       "      <td>...</td>\n",
       "      <td>...</td>\n",
       "      <td>...</td>\n",
       "      <td>...</td>\n",
       "      <td>...</td>\n",
       "      <td>...</td>\n",
       "    </tr>\n",
       "    <tr>\n",
       "      <th>11975</th>\n",
       "      <td>25</td>\n",
       "      <td>-1</td>\n",
       "      <td>1</td>\n",
       "      <td>5</td>\n",
       "      <td>11</td>\n",
       "      <td>signingsavvy</td>\n",
       "      <td>train</td>\n",
       "      <td>https://www.signingsavvy.com/signs/mp4/5/5233.mp4</td>\n",
       "      <td>0</td>\n",
       "      <td>63047</td>\n",
       "      <td>39</td>\n",
       "      <td>13</td>\n",
       "      <td>248</td>\n",
       "      <td>192</td>\n",
       "      <td>wheelchair</td>\n",
       "    </tr>\n",
       "    <tr>\n",
       "      <th>11976</th>\n",
       "      <td>25</td>\n",
       "      <td>-1</td>\n",
       "      <td>1</td>\n",
       "      <td>8</td>\n",
       "      <td>12</td>\n",
       "      <td>aslsearch</td>\n",
       "      <td>train</td>\n",
       "      <td>http://www.aslsearch.com/signs/videos/wheelcha...</td>\n",
       "      <td>0</td>\n",
       "      <td>63050</td>\n",
       "      <td>163</td>\n",
       "      <td>62</td>\n",
       "      <td>625</td>\n",
       "      <td>400</td>\n",
       "      <td>wheelchair</td>\n",
       "    </tr>\n",
       "    <tr>\n",
       "      <th>11977</th>\n",
       "      <td>25</td>\n",
       "      <td>-1</td>\n",
       "      <td>1</td>\n",
       "      <td>2</td>\n",
       "      <td>2</td>\n",
       "      <td>spreadthesign</td>\n",
       "      <td>train</td>\n",
       "      <td>https://media.spreadthesign.com/video/mp4/13/9...</td>\n",
       "      <td>0</td>\n",
       "      <td>63186</td>\n",
       "      <td>76</td>\n",
       "      <td>17</td>\n",
       "      <td>236</td>\n",
       "      <td>240</td>\n",
       "      <td>whistle</td>\n",
       "    </tr>\n",
       "    <tr>\n",
       "      <th>11978</th>\n",
       "      <td>25</td>\n",
       "      <td>-1</td>\n",
       "      <td>1</td>\n",
       "      <td>4</td>\n",
       "      <td>11</td>\n",
       "      <td>signingsavvy</td>\n",
       "      <td>train</td>\n",
       "      <td>https://www.signingsavvy.com/signs/mp4/9/9961.mp4</td>\n",
       "      <td>0</td>\n",
       "      <td>63188</td>\n",
       "      <td>68</td>\n",
       "      <td>14</td>\n",
       "      <td>212</td>\n",
       "      <td>192</td>\n",
       "      <td>whistle</td>\n",
       "    </tr>\n",
       "    <tr>\n",
       "      <th>11979</th>\n",
       "      <td>25</td>\n",
       "      <td>-1</td>\n",
       "      <td>1</td>\n",
       "      <td>6</td>\n",
       "      <td>12</td>\n",
       "      <td>aslsearch</td>\n",
       "      <td>train</td>\n",
       "      <td>http://www.aslsearch.com/signs/videos/whistle.mp4</td>\n",
       "      <td>0</td>\n",
       "      <td>63190</td>\n",
       "      <td>210</td>\n",
       "      <td>55</td>\n",
       "      <td>567</td>\n",
       "      <td>400</td>\n",
       "      <td>whistle</td>\n",
       "    </tr>\n",
       "  </tbody>\n",
       "</table>\n",
       "<p>11980 rows × 15 columns</p>\n",
       "</div>"
      ],
      "text/plain": [
       "       fps  frame_end  frame_start  instance_id  signer_id         source  \\\n",
       "0       25         -1            1            0        118       aslbrick   \n",
       "1       25         -1            1           10         31     signschool   \n",
       "2       25         -1            1           17         36       startasl   \n",
       "3       25         -1            1           22         59    asldeafined   \n",
       "4       25         -1            1           24         12      aslsearch   \n",
       "...    ...        ...          ...          ...        ...            ...   \n",
       "11975   25         -1            1            5         11   signingsavvy   \n",
       "11976   25         -1            1            8         12      aslsearch   \n",
       "11977   25         -1            1            2          2  spreadthesign   \n",
       "11978   25         -1            1            4         11   signingsavvy   \n",
       "11979   25         -1            1            6         12      aslsearch   \n",
       "\n",
       "       split                                                url  variation_id  \\\n",
       "0      train       http://aslbricks.org/New/ASL-Videos/book.mp4             0   \n",
       "1      train  https://signstock.blob.core.windows.net/signsc...             0   \n",
       "2      train  https://s3-us-west-1.amazonaws.com/files.start...             0   \n",
       "3      train  https://media.asldeafined.com/vocabulary/14666...             0   \n",
       "4        val     http://www.aslsearch.com/signs/videos/book.mp4             0   \n",
       "...      ...                                                ...           ...   \n",
       "11975  train  https://www.signingsavvy.com/signs/mp4/5/5233.mp4             0   \n",
       "11976  train  http://www.aslsearch.com/signs/videos/wheelcha...             0   \n",
       "11977  train  https://media.spreadthesign.com/video/mp4/13/9...             0   \n",
       "11978  train  https://www.signingsavvy.com/signs/mp4/9/9961.mp4             0   \n",
       "11979  train  http://www.aslsearch.com/signs/videos/whistle.mp4             0   \n",
       "\n",
       "       video_id  bbox_xmin  bbox_ymin  bbox_xmax  bbox_ymax       gloss  \n",
       "0         69241        385         37        885        720        book  \n",
       "1          7069        462         44        949        720        book  \n",
       "2          7068        234         17        524        414        book  \n",
       "3          7070        131         26        526        480        book  \n",
       "4          7099        162         54        528        400        book  \n",
       "...         ...        ...        ...        ...        ...         ...  \n",
       "11975     63047         39         13        248        192  wheelchair  \n",
       "11976     63050        163         62        625        400  wheelchair  \n",
       "11977     63186         76         17        236        240     whistle  \n",
       "11978     63188         68         14        212        192     whistle  \n",
       "11979     63190        210         55        567        400     whistle  \n",
       "\n",
       "[11980 rows x 15 columns]"
      ]
     },
     "execution_count": 3,
     "metadata": {},
     "output_type": "execute_result"
    }
   ],
   "source": [
    "df"
   ]
  },
  {
   "cell_type": "markdown",
   "id": "71ef3055-ecbb-4fb0-85ce-412dcc329de6",
   "metadata": {},
   "source": [
    "## Open a video"
   ]
  },
  {
   "cell_type": "code",
   "execution_count": 4,
   "id": "97ad16fc-ccd8-4301-86fb-677fe5cd8eeb",
   "metadata": {},
   "outputs": [],
   "source": [
    "video_path = os.path.dirname(os.getcwd())+\"\\\\dataset\\\\videos\\\\\"\n",
    "id_video = 1652"
   ]
  },
  {
   "cell_type": "code",
   "execution_count": 5,
   "id": "2e8ab26f-dc5c-4c52-91cc-6542333ba68d",
   "metadata": {},
   "outputs": [],
   "source": [
    "cap = cv2.VideoCapture(video_path + str(df[\"video_id\"][id_video]).zfill(5)+\".mp4\")\n",
    "frame_count = 1\n",
    "\n",
    "frame_start = df[\"frame_start\"][id_video]\n",
    "frame_end =  df[\"frame_end\"][id_video]\n",
    "x1,y1,x2,y2 = df[\"bbox_xmin\"][id_video], df[\"bbox_ymin\"][id_video], df[\"bbox_xmax\"][id_video], df[\"bbox_ymax\"][id_video]\n",
    "while(cap.isOpened()):\n",
    "    ret, frame = cap.read()\n",
    "    \n",
    "    if ret :\n",
    "        if (frame_count >= frame_start) and ((frame_end == -1) or (frame_end >= frame_count)):\n",
    "            cv2.rectangle(frame,(x1,y1),(x2,y2),(0,255,0),2)\n",
    "        cv2.imshow('frame',frame)\n",
    "    else:\n",
    "        break\n",
    "    frame_count += 1\n",
    "    if cv2.waitKey(20) & 0xFF == ord('q'):\n",
    "            break\n",
    "\n",
    "cap.release()\n",
    "cv2.destroyAllWindows()"
   ]
  },
  {
   "cell_type": "markdown",
   "id": "1e335dc9-d15d-46d3-bc64-26133a7eeac8",
   "metadata": {},
   "source": [
    "### Create the numpy dataset"
   ]
  },
  {
   "cell_type": "code",
   "execution_count": 6,
   "id": "21e53db9-c764-425b-91b9-748d76bed8aa",
   "metadata": {},
   "outputs": [],
   "source": [
    "def convert_image_numpy(filename) :\n",
    "    cap = cv2.VideoCapture(filename)\n",
    "    img = []\n",
    "    while (cap.isOpened()):\n",
    "        ret, frame = cap.read()\n",
    "        \n",
    "        if ret:\n",
    "            frame = cv2.resize(frame, (64, 64))\n",
    "            img.append(cv2.cvtColor(frame, cv2.COLOR_BGR2RGB))\n",
    "        else:\n",
    "            break\n",
    "    cap.release()\n",
    "    cv2.destroyAllWindows()\n",
    "    return np.array(img)"
   ]
  },
  {
   "cell_type": "code",
   "execution_count": 7,
   "id": "5bd3c473-be38-4b8a-a7fe-8cb2f8e5245b",
   "metadata": {},
   "outputs": [],
   "source": [
    "test_img = convert_image_numpy(video_path + str(df[\"video_id\"][id_video]).zfill(5)+\".mp4\")"
   ]
  },
  {
   "cell_type": "code",
   "execution_count": 8,
   "id": "670047f7-a976-4b56-9532-091a96619566",
   "metadata": {},
   "outputs": [
    {
     "name": "stderr",
     "output_type": "stream",
     "text": [
      "100%|████████████████████████████████████████████████████████████████████████████| 11980/11980 [12:15<00:00, 16.29it/s]\n"
     ]
    }
   ],
   "source": [
    "video_record = {}\n",
    "for video_id in tqdm(df[\"video_id\"]):\n",
    "    video_record[video_id] = convert_image_numpy(video_path + str(video_id).zfill(5)+\".mp4\")"
   ]
  },
  {
   "cell_type": "markdown",
   "id": "1e800eab-8d18-4c47-98f4-e0d85f3ec849",
   "metadata": {},
   "source": [
    "## Analysing sequences length"
   ]
  },
  {
   "cell_type": "code",
   "execution_count": 9,
   "id": "6c338e42-6caa-4be1-8e84-9c4092d2d436",
   "metadata": {},
   "outputs": [],
   "source": [
    "len_sequence_video= np.array([len(seq) for seq in video_record.values()])"
   ]
  },
  {
   "cell_type": "code",
   "execution_count": 10,
   "id": "022c8bed-2d98-4045-9167-657ce7096adc",
   "metadata": {},
   "outputs": [
    {
     "name": "stderr",
     "output_type": "stream",
     "text": [
      "C:\\Users\\thoma\\AppData\\Local\\Programs\\Python\\Python39\\lib\\site-packages\\seaborn\\distributions.py:2619: FutureWarning: `distplot` is a deprecated function and will be removed in a future version. Please adapt your code to use either `displot` (a figure-level function with similar flexibility) or `histplot` (an axes-level function for histograms).\n",
      "  warnings.warn(msg, FutureWarning)\n"
     ]
    },
    {
     "data": {
      "text/plain": [
       "<AxesSubplot:ylabel='Density'>"
      ]
     },
     "execution_count": 10,
     "metadata": {},
     "output_type": "execute_result"
    },
    {
     "data": {
      "image/png": "[encoded data removed]",
      "text/plain": [
       "<Figure size 432x288 with 1 Axes>"
      ]
     },
     "metadata": {
      "needs_background": "light"
     },
     "output_type": "display_data"
    }
   ],
   "source": [
    "sns.distplot(len_sequence_video)"
   ]
  },
  {
   "cell_type": "code",
   "execution_count": 11,
   "id": "65c9a5b8-a460-4d50-a481-8d09e83440bf",
   "metadata": {},
   "outputs": [
    {
     "data": {
      "text/plain": [
       "0.03772954924874791"
      ]
     },
     "execution_count": 11,
     "metadata": {},
     "output_type": "execute_result"
    }
   ],
   "source": [
    "len(len_sequence_video[len_sequence_video < 30])/len(len_sequence_video)"
   ]
  },
  {
   "cell_type": "markdown",
   "id": "ed33d6d4-72cc-4366-932c-1a683787e3f8",
   "metadata": {},
   "source": [
    "3% of the dataset contains sequence less than 30 images to depict a sign. "
   ]
  },
  {
   "cell_type": "code",
   "execution_count": 12,
   "id": "0409bd33-486c-42f4-888a-01298a52fe32",
   "metadata": {},
   "outputs": [],
   "source": [
    "keys_dict = list(video_record.keys())"
   ]
  },
  {
   "cell_type": "code",
   "execution_count": 13,
   "id": "388fc078-86fd-4455-9f58-1f8dd0aee34b",
   "metadata": {},
   "outputs": [],
   "source": [
    "cleaned_video_record = { keys_dict[id_key] : video_record[keys_dict[id_key]] for id_key in np.where(len_sequence_video >= 30)[0]}"
   ]
  },
  {
   "cell_type": "code",
   "execution_count": 14,
   "id": "1aa82cc0-3ec8-4d52-96aa-aac0752155ab",
   "metadata": {},
   "outputs": [
    {
     "data": {
      "text/plain": [
       "11528"
      ]
     },
     "execution_count": 14,
     "metadata": {},
     "output_type": "execute_result"
    }
   ],
   "source": [
    "len(cleaned_video_record)"
   ]
  },
  {
   "cell_type": "code",
   "execution_count": 15,
   "id": "d7040112-3968-4235-88a2-218fffccf85a",
   "metadata": {},
   "outputs": [
    {
     "name": "stderr",
     "output_type": "stream",
     "text": [
      "C:\\Users\\thoma\\AppData\\Local\\Programs\\Python\\Python39\\lib\\site-packages\\seaborn\\distributions.py:2619: FutureWarning: `distplot` is a deprecated function and will be removed in a future version. Please adapt your code to use either `displot` (a figure-level function with similar flexibility) or `histplot` (an axes-level function for histograms).\n",
      "  warnings.warn(msg, FutureWarning)\n"
     ]
    },
    {
     "data": {
      "text/plain": [
       "<AxesSubplot:ylabel='Density'>"
      ]
     },
     "execution_count": 15,
     "metadata": {},
     "output_type": "execute_result"
    },
    {
     "data": {
      "image/png": "[encoded data removed]",
      "text/plain": [
       "<Figure size 432x288 with 1 Axes>"
      ]
     },
     "metadata": {
      "needs_background": "light"
     },
     "output_type": "display_data"
    }
   ],
   "source": [
    "len_sequence_video_detected = np.array([len(seq) for seq in cleaned_video_record.values()])\n",
    "sns.distplot(len_sequence_video_detected)"
   ]
  },
  {
   "cell_type": "code",
   "execution_count": 16,
   "id": "50cbe072-861e-44be-a77a-4bd8e10272e4",
   "metadata": {},
   "outputs": [],
   "source": [
    "left_keys_dict = list(cleaned_video_record.keys())"
   ]
  },
  {
   "cell_type": "code",
   "execution_count": 17,
   "id": "bb07507e-eaa0-4f99-b1e2-3031b09025b2",
   "metadata": {},
   "outputs": [],
   "source": [
    "new_df = df.copy()\n",
    "new_df = new_df[new_df[\"video_id\"].isin(left_keys_dict)]"
   ]
  },
  {
   "cell_type": "code",
   "execution_count": 18,
   "id": "dab9689f-6b30-4de4-b78e-9429ee9bfff3",
   "metadata": {},
   "outputs": [
    {
     "data": {
      "text/html": [
       "<div>\n",
       "<style scoped>\n",
       "    .dataframe tbody tr th:only-of-type {\n",
       "        vertical-align: middle;\n",
       "    }\n",
       "\n",
       "    .dataframe tbody tr th {\n",
       "        vertical-align: top;\n",
       "    }\n",
       "\n",
       "    .dataframe thead th {\n",
       "        text-align: right;\n",
       "    }\n",
       "</style>\n",
       "<table border=\"1\" class=\"dataframe\">\n",
       "  <thead>\n",
       "    <tr style=\"text-align: right;\">\n",
       "      <th></th>\n",
       "      <th>fps</th>\n",
       "      <th>frame_end</th>\n",
       "      <th>frame_start</th>\n",
       "      <th>instance_id</th>\n",
       "      <th>signer_id</th>\n",
       "      <th>source</th>\n",
       "      <th>split</th>\n",
       "      <th>url</th>\n",
       "      <th>variation_id</th>\n",
       "      <th>video_id</th>\n",
       "      <th>bbox_xmin</th>\n",
       "      <th>bbox_ymin</th>\n",
       "      <th>bbox_xmax</th>\n",
       "      <th>bbox_ymax</th>\n",
       "      <th>gloss</th>\n",
       "    </tr>\n",
       "  </thead>\n",
       "  <tbody>\n",
       "    <tr>\n",
       "      <th>0</th>\n",
       "      <td>25</td>\n",
       "      <td>-1</td>\n",
       "      <td>1</td>\n",
       "      <td>0</td>\n",
       "      <td>118</td>\n",
       "      <td>aslbrick</td>\n",
       "      <td>train</td>\n",
       "      <td>http://aslbricks.org/New/ASL-Videos/book.mp4</td>\n",
       "      <td>0</td>\n",
       "      <td>69241</td>\n",
       "      <td>385</td>\n",
       "      <td>37</td>\n",
       "      <td>885</td>\n",
       "      <td>720</td>\n",
       "      <td>book</td>\n",
       "    </tr>\n",
       "    <tr>\n",
       "      <th>1</th>\n",
       "      <td>25</td>\n",
       "      <td>-1</td>\n",
       "      <td>1</td>\n",
       "      <td>10</td>\n",
       "      <td>31</td>\n",
       "      <td>signschool</td>\n",
       "      <td>train</td>\n",
       "      <td>https://signstock.blob.core.windows.net/signsc...</td>\n",
       "      <td>0</td>\n",
       "      <td>7069</td>\n",
       "      <td>462</td>\n",
       "      <td>44</td>\n",
       "      <td>949</td>\n",
       "      <td>720</td>\n",
       "      <td>book</td>\n",
       "    </tr>\n",
       "    <tr>\n",
       "      <th>2</th>\n",
       "      <td>25</td>\n",
       "      <td>-1</td>\n",
       "      <td>1</td>\n",
       "      <td>17</td>\n",
       "      <td>36</td>\n",
       "      <td>startasl</td>\n",
       "      <td>train</td>\n",
       "      <td>https://s3-us-west-1.amazonaws.com/files.start...</td>\n",
       "      <td>0</td>\n",
       "      <td>7068</td>\n",
       "      <td>234</td>\n",
       "      <td>17</td>\n",
       "      <td>524</td>\n",
       "      <td>414</td>\n",
       "      <td>book</td>\n",
       "    </tr>\n",
       "    <tr>\n",
       "      <th>3</th>\n",
       "      <td>25</td>\n",
       "      <td>-1</td>\n",
       "      <td>1</td>\n",
       "      <td>22</td>\n",
       "      <td>59</td>\n",
       "      <td>asldeafined</td>\n",
       "      <td>train</td>\n",
       "      <td>https://media.asldeafined.com/vocabulary/14666...</td>\n",
       "      <td>0</td>\n",
       "      <td>7070</td>\n",
       "      <td>131</td>\n",
       "      <td>26</td>\n",
       "      <td>526</td>\n",
       "      <td>480</td>\n",
       "      <td>book</td>\n",
       "    </tr>\n",
       "    <tr>\n",
       "      <th>4</th>\n",
       "      <td>25</td>\n",
       "      <td>-1</td>\n",
       "      <td>1</td>\n",
       "      <td>24</td>\n",
       "      <td>12</td>\n",
       "      <td>aslsearch</td>\n",
       "      <td>val</td>\n",
       "      <td>http://www.aslsearch.com/signs/videos/book.mp4</td>\n",
       "      <td>0</td>\n",
       "      <td>7099</td>\n",
       "      <td>162</td>\n",
       "      <td>54</td>\n",
       "      <td>528</td>\n",
       "      <td>400</td>\n",
       "      <td>book</td>\n",
       "    </tr>\n",
       "    <tr>\n",
       "      <th>...</th>\n",
       "      <td>...</td>\n",
       "      <td>...</td>\n",
       "      <td>...</td>\n",
       "      <td>...</td>\n",
       "      <td>...</td>\n",
       "      <td>...</td>\n",
       "      <td>...</td>\n",
       "      <td>...</td>\n",
       "      <td>...</td>\n",
       "      <td>...</td>\n",
       "      <td>...</td>\n",
       "      <td>...</td>\n",
       "      <td>...</td>\n",
       "      <td>...</td>\n",
       "      <td>...</td>\n",
       "    </tr>\n",
       "    <tr>\n",
       "      <th>11975</th>\n",
       "      <td>25</td>\n",
       "      <td>-1</td>\n",
       "      <td>1</td>\n",
       "      <td>5</td>\n",
       "      <td>11</td>\n",
       "      <td>signingsavvy</td>\n",
       "      <td>train</td>\n",
       "      <td>https://www.signingsavvy.com/signs/mp4/5/5233.mp4</td>\n",
       "      <td>0</td>\n",
       "      <td>63047</td>\n",
       "      <td>39</td>\n",
       "      <td>13</td>\n",
       "      <td>248</td>\n",
       "      <td>192</td>\n",
       "      <td>wheelchair</td>\n",
       "    </tr>\n",
       "    <tr>\n",
       "      <th>11976</th>\n",
       "      <td>25</td>\n",
       "      <td>-1</td>\n",
       "      <td>1</td>\n",
       "      <td>8</td>\n",
       "      <td>12</td>\n",
       "      <td>aslsearch</td>\n",
       "      <td>train</td>\n",
       "      <td>http://www.aslsearch.com/signs/videos/wheelcha...</td>\n",
       "      <td>0</td>\n",
       "      <td>63050</td>\n",
       "      <td>163</td>\n",
       "      <td>62</td>\n",
       "      <td>625</td>\n",
       "      <td>400</td>\n",
       "      <td>wheelchair</td>\n",
       "    </tr>\n",
       "    <tr>\n",
       "      <th>11977</th>\n",
       "      <td>25</td>\n",
       "      <td>-1</td>\n",
       "      <td>1</td>\n",
       "      <td>2</td>\n",
       "      <td>2</td>\n",
       "      <td>spreadthesign</td>\n",
       "      <td>train</td>\n",
       "      <td>https://media.spreadthesign.com/video/mp4/13/9...</td>\n",
       "      <td>0</td>\n",
       "      <td>63186</td>\n",
       "      <td>76</td>\n",
       "      <td>17</td>\n",
       "      <td>236</td>\n",
       "      <td>240</td>\n",
       "      <td>whistle</td>\n",
       "    </tr>\n",
       "    <tr>\n",
       "      <th>11978</th>\n",
       "      <td>25</td>\n",
       "      <td>-1</td>\n",
       "      <td>1</td>\n",
       "      <td>4</td>\n",
       "      <td>11</td>\n",
       "      <td>signingsavvy</td>\n",
       "      <td>train</td>\n",
       "      <td>https://www.signingsavvy.com/signs/mp4/9/9961.mp4</td>\n",
       "      <td>0</td>\n",
       "      <td>63188</td>\n",
       "      <td>68</td>\n",
       "      <td>14</td>\n",
       "      <td>212</td>\n",
       "      <td>192</td>\n",
       "      <td>whistle</td>\n",
       "    </tr>\n",
       "    <tr>\n",
       "      <th>11979</th>\n",
       "      <td>25</td>\n",
       "      <td>-1</td>\n",
       "      <td>1</td>\n",
       "      <td>6</td>\n",
       "      <td>12</td>\n",
       "      <td>aslsearch</td>\n",
       "      <td>train</td>\n",
       "      <td>http://www.aslsearch.com/signs/videos/whistle.mp4</td>\n",
       "      <td>0</td>\n",
       "      <td>63190</td>\n",
       "      <td>210</td>\n",
       "      <td>55</td>\n",
       "      <td>567</td>\n",
       "      <td>400</td>\n",
       "      <td>whistle</td>\n",
       "    </tr>\n",
       "  </tbody>\n",
       "</table>\n",
       "<p>11528 rows × 15 columns</p>\n",
       "</div>"
      ],
      "text/plain": [
       "       fps  frame_end  frame_start  instance_id  signer_id         source  \\\n",
       "0       25         -1            1            0        118       aslbrick   \n",
       "1       25         -1            1           10         31     signschool   \n",
       "2       25         -1            1           17         36       startasl   \n",
       "3       25         -1            1           22         59    asldeafined   \n",
       "4       25         -1            1           24         12      aslsearch   \n",
       "...    ...        ...          ...          ...        ...            ...   \n",
       "11975   25         -1            1            5         11   signingsavvy   \n",
       "11976   25         -1            1            8         12      aslsearch   \n",
       "11977   25         -1            1            2          2  spreadthesign   \n",
       "11978   25         -1            1            4         11   signingsavvy   \n",
       "11979   25         -1            1            6         12      aslsearch   \n",
       "\n",
       "       split                                                url  variation_id  \\\n",
       "0      train       http://aslbricks.org/New/ASL-Videos/book.mp4             0   \n",
       "1      train  https://signstock.blob.core.windows.net/signsc...             0   \n",
       "2      train  https://s3-us-west-1.amazonaws.com/files.start...             0   \n",
       "3      train  https://media.asldeafined.com/vocabulary/14666...             0   \n",
       "4        val     http://www.aslsearch.com/signs/videos/book.mp4             0   \n",
       "...      ...                                                ...           ...   \n",
       "11975  train  https://www.signingsavvy.com/signs/mp4/5/5233.mp4             0   \n",
       "11976  train  http://www.aslsearch.com/signs/videos/wheelcha...             0   \n",
       "11977  train  https://media.spreadthesign.com/video/mp4/13/9...             0   \n",
       "11978  train  https://www.signingsavvy.com/signs/mp4/9/9961.mp4             0   \n",
       "11979  train  http://www.aslsearch.com/signs/videos/whistle.mp4             0   \n",
       "\n",
       "       video_id  bbox_xmin  bbox_ymin  bbox_xmax  bbox_ymax       gloss  \n",
       "0         69241        385         37        885        720        book  \n",
       "1          7069        462         44        949        720        book  \n",
       "2          7068        234         17        524        414        book  \n",
       "3          7070        131         26        526        480        book  \n",
       "4          7099        162         54        528        400        book  \n",
       "...         ...        ...        ...        ...        ...         ...  \n",
       "11975     63047         39         13        248        192  wheelchair  \n",
       "11976     63050        163         62        625        400  wheelchair  \n",
       "11977     63186         76         17        236        240     whistle  \n",
       "11978     63188         68         14        212        192     whistle  \n",
       "11979     63190        210         55        567        400     whistle  \n",
       "\n",
       "[11528 rows x 15 columns]"
      ]
     },
     "execution_count": 18,
     "metadata": {},
     "output_type": "execute_result"
    }
   ],
   "source": [
    "new_df"
   ]
  },
  {
   "cell_type": "code",
   "execution_count": 19,
   "id": "92fa5ff9-e2e5-457c-8bce-00eda6215518",
   "metadata": {
    "tags": []
   },
   "outputs": [],
   "source": [
    "word_freq = dict(new_df[\"gloss\"].value_counts())"
   ]
  },
  {
   "cell_type": "code",
   "execution_count": 20,
   "id": "9ad93733-b4f3-49b3-bf22-78b135fd602b",
   "metadata": {},
   "outputs": [],
   "source": [
    "freq = np.array(list(word_freq.values()))"
   ]
  },
  {
   "cell_type": "code",
   "execution_count": 21,
   "id": "5576358d-66e9-463d-95c4-f11eaad9dc0b",
   "metadata": {},
   "outputs": [
    {
     "name": "stderr",
     "output_type": "stream",
     "text": [
      "C:\\Users\\thoma\\AppData\\Local\\Programs\\Python\\Python39\\lib\\site-packages\\seaborn\\distributions.py:2619: FutureWarning: `distplot` is a deprecated function and will be removed in a future version. Please adapt your code to use either `displot` (a figure-level function with similar flexibility) or `histplot` (an axes-level function for histograms).\n",
      "  warnings.warn(msg, FutureWarning)\n"
     ]
    },
    {
     "data": {
      "text/plain": [
       "<AxesSubplot:ylabel='Density'>"
      ]
     },
     "execution_count": 21,
     "metadata": {},
     "output_type": "execute_result"
    },
    {
     "data": {
      "image/png": "[encoded data removed]",
      "text/plain": [
       "<Figure size 432x288 with 1 Axes>"
      ]
     },
     "metadata": {
      "needs_background": "light"
     },
     "output_type": "display_data"
    }
   ],
   "source": [
    "sns.distplot(freq)"
   ]
  },
  {
   "cell_type": "code",
   "execution_count": 22,
   "id": "fbe51d74-913f-4d44-8dc2-2b0fe66165ec",
   "metadata": {},
   "outputs": [
    {
     "data": {
      "text/plain": [
       "0.066"
      ]
     },
     "execution_count": 22,
     "metadata": {},
     "output_type": "execute_result"
    }
   ],
   "source": [
    "print(len(freq[freq < 4])/len(freq))"
   ]
  },
  {
   "cell_type": "code",
   "execution_count": 23,
   "id": "04ff2568-0660-44bd-a66a-978ce0d5131d",
   "metadata": {},
   "outputs": [],
   "source": [
    "kept_gloss = list(word_freq.keys())[:np.where(freq < 4)[0][0]]\n",
    "new_df = new_df[new_df[\"gloss\"].isin(kept_gloss)]"
   ]
  },
  {
   "cell_type": "code",
   "execution_count": 24,
   "id": "9caf9519-ae26-4f92-9bf2-9d857e5f095e",
   "metadata": {},
   "outputs": [
    {
     "data": {
      "text/html": [
       "<div>\n",
       "<style scoped>\n",
       "    .dataframe tbody tr th:only-of-type {\n",
       "        vertical-align: middle;\n",
       "    }\n",
       "\n",
       "    .dataframe tbody tr th {\n",
       "        vertical-align: top;\n",
       "    }\n",
       "\n",
       "    .dataframe thead th {\n",
       "        text-align: right;\n",
       "    }\n",
       "</style>\n",
       "<table border=\"1\" class=\"dataframe\">\n",
       "  <thead>\n",
       "    <tr style=\"text-align: right;\">\n",
       "      <th></th>\n",
       "      <th>fps</th>\n",
       "      <th>frame_end</th>\n",
       "      <th>frame_start</th>\n",
       "      <th>instance_id</th>\n",
       "      <th>signer_id</th>\n",
       "      <th>source</th>\n",
       "      <th>split</th>\n",
       "      <th>url</th>\n",
       "      <th>variation_id</th>\n",
       "      <th>video_id</th>\n",
       "      <th>bbox_xmin</th>\n",
       "      <th>bbox_ymin</th>\n",
       "      <th>bbox_xmax</th>\n",
       "      <th>bbox_ymax</th>\n",
       "      <th>gloss</th>\n",
       "    </tr>\n",
       "  </thead>\n",
       "  <tbody>\n",
       "    <tr>\n",
       "      <th>0</th>\n",
       "      <td>25</td>\n",
       "      <td>-1</td>\n",
       "      <td>1</td>\n",
       "      <td>0</td>\n",
       "      <td>118</td>\n",
       "      <td>aslbrick</td>\n",
       "      <td>train</td>\n",
       "      <td>http://aslbricks.org/New/ASL-Videos/book.mp4</td>\n",
       "      <td>0</td>\n",
       "      <td>69241</td>\n",
       "      <td>385</td>\n",
       "      <td>37</td>\n",
       "      <td>885</td>\n",
       "      <td>720</td>\n",
       "      <td>book</td>\n",
       "    </tr>\n",
       "    <tr>\n",
       "      <th>1</th>\n",
       "      <td>25</td>\n",
       "      <td>-1</td>\n",
       "      <td>1</td>\n",
       "      <td>10</td>\n",
       "      <td>31</td>\n",
       "      <td>signschool</td>\n",
       "      <td>train</td>\n",
       "      <td>https://signstock.blob.core.windows.net/signsc...</td>\n",
       "      <td>0</td>\n",
       "      <td>7069</td>\n",
       "      <td>462</td>\n",
       "      <td>44</td>\n",
       "      <td>949</td>\n",
       "      <td>720</td>\n",
       "      <td>book</td>\n",
       "    </tr>\n",
       "    <tr>\n",
       "      <th>2</th>\n",
       "      <td>25</td>\n",
       "      <td>-1</td>\n",
       "      <td>1</td>\n",
       "      <td>17</td>\n",
       "      <td>36</td>\n",
       "      <td>startasl</td>\n",
       "      <td>train</td>\n",
       "      <td>https://s3-us-west-1.amazonaws.com/files.start...</td>\n",
       "      <td>0</td>\n",
       "      <td>7068</td>\n",
       "      <td>234</td>\n",
       "      <td>17</td>\n",
       "      <td>524</td>\n",
       "      <td>414</td>\n",
       "      <td>book</td>\n",
       "    </tr>\n",
       "    <tr>\n",
       "      <th>3</th>\n",
       "      <td>25</td>\n",
       "      <td>-1</td>\n",
       "      <td>1</td>\n",
       "      <td>22</td>\n",
       "      <td>59</td>\n",
       "      <td>asldeafined</td>\n",
       "      <td>train</td>\n",
       "      <td>https://media.asldeafined.com/vocabulary/14666...</td>\n",
       "      <td>0</td>\n",
       "      <td>7070</td>\n",
       "      <td>131</td>\n",
       "      <td>26</td>\n",
       "      <td>526</td>\n",
       "      <td>480</td>\n",
       "      <td>book</td>\n",
       "    </tr>\n",
       "    <tr>\n",
       "      <th>4</th>\n",
       "      <td>25</td>\n",
       "      <td>-1</td>\n",
       "      <td>1</td>\n",
       "      <td>24</td>\n",
       "      <td>12</td>\n",
       "      <td>aslsearch</td>\n",
       "      <td>val</td>\n",
       "      <td>http://www.aslsearch.com/signs/videos/book.mp4</td>\n",
       "      <td>0</td>\n",
       "      <td>7099</td>\n",
       "      <td>162</td>\n",
       "      <td>54</td>\n",
       "      <td>528</td>\n",
       "      <td>400</td>\n",
       "      <td>book</td>\n",
       "    </tr>\n",
       "    <tr>\n",
       "      <th>...</th>\n",
       "      <td>...</td>\n",
       "      <td>...</td>\n",
       "      <td>...</td>\n",
       "      <td>...</td>\n",
       "      <td>...</td>\n",
       "      <td>...</td>\n",
       "      <td>...</td>\n",
       "      <td>...</td>\n",
       "      <td>...</td>\n",
       "      <td>...</td>\n",
       "      <td>...</td>\n",
       "      <td>...</td>\n",
       "      <td>...</td>\n",
       "      <td>...</td>\n",
       "      <td>...</td>\n",
       "    </tr>\n",
       "    <tr>\n",
       "      <th>11969</th>\n",
       "      <td>25</td>\n",
       "      <td>-1</td>\n",
       "      <td>1</td>\n",
       "      <td>6</td>\n",
       "      <td>12</td>\n",
       "      <td>aslsearch</td>\n",
       "      <td>train</td>\n",
       "      <td>http://www.aslsearch.com/signs/videos/waterfal...</td>\n",
       "      <td>0</td>\n",
       "      <td>62493</td>\n",
       "      <td>203</td>\n",
       "      <td>55</td>\n",
       "      <td>549</td>\n",
       "      <td>400</td>\n",
       "      <td>waterfall</td>\n",
       "    </tr>\n",
       "    <tr>\n",
       "      <th>11973</th>\n",
       "      <td>25</td>\n",
       "      <td>-1</td>\n",
       "      <td>1</td>\n",
       "      <td>2</td>\n",
       "      <td>4</td>\n",
       "      <td>signschool</td>\n",
       "      <td>test</td>\n",
       "      <td>https://signstock.blob.core.windows.net/signsc...</td>\n",
       "      <td>0</td>\n",
       "      <td>63044</td>\n",
       "      <td>415</td>\n",
       "      <td>86</td>\n",
       "      <td>1811</td>\n",
       "      <td>1080</td>\n",
       "      <td>wheelchair</td>\n",
       "    </tr>\n",
       "    <tr>\n",
       "      <th>11974</th>\n",
       "      <td>25</td>\n",
       "      <td>-1</td>\n",
       "      <td>1</td>\n",
       "      <td>4</td>\n",
       "      <td>11</td>\n",
       "      <td>signingsavvy</td>\n",
       "      <td>train</td>\n",
       "      <td>https://www.signingsavvy.com/signs/mp4/4/4101.mp4</td>\n",
       "      <td>0</td>\n",
       "      <td>63046</td>\n",
       "      <td>35</td>\n",
       "      <td>10</td>\n",
       "      <td>259</td>\n",
       "      <td>192</td>\n",
       "      <td>wheelchair</td>\n",
       "    </tr>\n",
       "    <tr>\n",
       "      <th>11975</th>\n",
       "      <td>25</td>\n",
       "      <td>-1</td>\n",
       "      <td>1</td>\n",
       "      <td>5</td>\n",
       "      <td>11</td>\n",
       "      <td>signingsavvy</td>\n",
       "      <td>train</td>\n",
       "      <td>https://www.signingsavvy.com/signs/mp4/5/5233.mp4</td>\n",
       "      <td>0</td>\n",
       "      <td>63047</td>\n",
       "      <td>39</td>\n",
       "      <td>13</td>\n",
       "      <td>248</td>\n",
       "      <td>192</td>\n",
       "      <td>wheelchair</td>\n",
       "    </tr>\n",
       "    <tr>\n",
       "      <th>11976</th>\n",
       "      <td>25</td>\n",
       "      <td>-1</td>\n",
       "      <td>1</td>\n",
       "      <td>8</td>\n",
       "      <td>12</td>\n",
       "      <td>aslsearch</td>\n",
       "      <td>train</td>\n",
       "      <td>http://www.aslsearch.com/signs/videos/wheelcha...</td>\n",
       "      <td>0</td>\n",
       "      <td>63050</td>\n",
       "      <td>163</td>\n",
       "      <td>62</td>\n",
       "      <td>625</td>\n",
       "      <td>400</td>\n",
       "      <td>wheelchair</td>\n",
       "    </tr>\n",
       "  </tbody>\n",
       "</table>\n",
       "<p>11157 rows × 15 columns</p>\n",
       "</div>"
      ],
      "text/plain": [
       "       fps  frame_end  frame_start  instance_id  signer_id        source  \\\n",
       "0       25         -1            1            0        118      aslbrick   \n",
       "1       25         -1            1           10         31    signschool   \n",
       "2       25         -1            1           17         36      startasl   \n",
       "3       25         -1            1           22         59   asldeafined   \n",
       "4       25         -1            1           24         12     aslsearch   \n",
       "...    ...        ...          ...          ...        ...           ...   \n",
       "11969   25         -1            1            6         12     aslsearch   \n",
       "11973   25         -1            1            2          4    signschool   \n",
       "11974   25         -1            1            4         11  signingsavvy   \n",
       "11975   25         -1            1            5         11  signingsavvy   \n",
       "11976   25         -1            1            8         12     aslsearch   \n",
       "\n",
       "       split                                                url  variation_id  \\\n",
       "0      train       http://aslbricks.org/New/ASL-Videos/book.mp4             0   \n",
       "1      train  https://signstock.blob.core.windows.net/signsc...             0   \n",
       "2      train  https://s3-us-west-1.amazonaws.com/files.start...             0   \n",
       "3      train  https://media.asldeafined.com/vocabulary/14666...             0   \n",
       "4        val     http://www.aslsearch.com/signs/videos/book.mp4             0   \n",
       "...      ...                                                ...           ...   \n",
       "11969  train  http://www.aslsearch.com/signs/videos/waterfal...             0   \n",
       "11973   test  https://signstock.blob.core.windows.net/signsc...             0   \n",
       "11974  train  https://www.signingsavvy.com/signs/mp4/4/4101.mp4             0   \n",
       "11975  train  https://www.signingsavvy.com/signs/mp4/5/5233.mp4             0   \n",
       "11976  train  http://www.aslsearch.com/signs/videos/wheelcha...             0   \n",
       "\n",
       "       video_id  bbox_xmin  bbox_ymin  bbox_xmax  bbox_ymax       gloss  \n",
       "0         69241        385         37        885        720        book  \n",
       "1          7069        462         44        949        720        book  \n",
       "2          7068        234         17        524        414        book  \n",
       "3          7070        131         26        526        480        book  \n",
       "4          7099        162         54        528        400        book  \n",
       "...         ...        ...        ...        ...        ...         ...  \n",
       "11969     62493        203         55        549        400   waterfall  \n",
       "11973     63044        415         86       1811       1080  wheelchair  \n",
       "11974     63046         35         10        259        192  wheelchair  \n",
       "11975     63047         39         13        248        192  wheelchair  \n",
       "11976     63050        163         62        625        400  wheelchair  \n",
       "\n",
       "[11157 rows x 15 columns]"
      ]
     },
     "execution_count": 24,
     "metadata": {},
     "output_type": "execute_result"
    }
   ],
   "source": [
    "new_df"
   ]
  },
  {
   "cell_type": "code",
   "execution_count": 25,
   "id": "cc8fbe5c-0eba-4e05-88cd-81cc59f953e2",
   "metadata": {},
   "outputs": [],
   "source": [
    "word_freq = dict(new_df[\"gloss\"].value_counts())"
   ]
  },
  {
   "cell_type": "code",
   "execution_count": 26,
   "id": "bab3760e-8958-4ec2-937a-b6873e49a38a",
   "metadata": {},
   "outputs": [
    {
     "name": "stderr",
     "output_type": "stream",
     "text": [
      "C:\\Users\\thoma\\AppData\\Local\\Programs\\Python\\Python39\\lib\\site-packages\\seaborn\\distributions.py:2619: FutureWarning: `distplot` is a deprecated function and will be removed in a future version. Please adapt your code to use either `displot` (a figure-level function with similar flexibility) or `histplot` (an axes-level function for histograms).\n",
      "  warnings.warn(msg, FutureWarning)\n"
     ]
    },
    {
     "data": {
      "text/plain": [
       "<AxesSubplot:ylabel='Density'>"
      ]
     },
     "execution_count": 26,
     "metadata": {},
     "output_type": "execute_result"
    },
    {
     "data": {
      "image/png": "[encoded data removed]",
      "text/plain": [
       "<Figure size 432x288 with 1 Axes>"
      ]
     },
     "metadata": {
      "needs_background": "light"
     },
     "output_type": "display_data"
    }
   ],
   "source": [
    "freq = np.array(list(word_freq.values()))\n",
    "sns.distplot(freq)"
   ]
  },
  {
   "cell_type": "code",
   "execution_count": 27,
   "id": "9d70a960-cd41-44aa-a207-7fde4d2475de",
   "metadata": {},
   "outputs": [],
   "source": [
    "final_video_record = {key : video_record[key] for key in sorted(new_df[\"video_id\"])}"
   ]
  },
  {
   "cell_type": "code",
   "execution_count": 28,
   "id": "2fc639d4-6db4-4f33-b291-83dc32dfbd03",
   "metadata": {},
   "outputs": [
    {
     "data": {
      "text/plain": [
       "11157"
      ]
     },
     "execution_count": 28,
     "metadata": {},
     "output_type": "execute_result"
    }
   ],
   "source": [
    "len(final_video_record)"
   ]
  },
  {
   "cell_type": "code",
   "execution_count": 29,
   "id": "736f62cc-aff5-4aeb-88a6-e24306e8d1bc",
   "metadata": {},
   "outputs": [],
   "source": [
    "new_df = new_df.sort_values(by='video_id')"
   ]
  },
  {
   "cell_type": "code",
   "execution_count": 19,
   "id": "a0073a63-5ebf-4478-8236-2ca85246498c",
   "metadata": {},
   "outputs": [
    {
     "data": {
      "text/html": [
       "<style>#sk-container-id-1 {color: black;background-color: white;}#sk-container-id-1 pre{padding: 0;}#sk-container-id-1 div.sk-toggleable {background-color: white;}#sk-container-id-1 label.sk-toggleable__label {cursor: pointer;display: block;width: 100%;margin-bottom: 0;padding: 0.3em;box-sizing: border-box;text-align: center;}#sk-container-id-1 label.sk-toggleable__label-arrow:before {content: \"▸\";float: left;margin-right: 0.25em;color: #696969;}#sk-container-id-1 label.sk-toggleable__label-arrow:hover:before {color: black;}#sk-container-id-1 div.sk-estimator:hover label.sk-toggleable__label-arrow:before {color: black;}#sk-container-id-1 div.sk-toggleable__content {max-height: 0;max-width: 0;overflow: hidden;text-align: left;background-color: #f0f8ff;}#sk-container-id-1 div.sk-toggleable__content pre {margin: 0.2em;color: black;border-radius: 0.25em;background-color: #f0f8ff;}#sk-container-id-1 input.sk-toggleable__control:checked~div.sk-toggleable__content {max-height: 200px;max-width: 100%;overflow: auto;}#sk-container-id-1 input.sk-toggleable__control:checked~label.sk-toggleable__label-arrow:before {content: \"▾\";}#sk-container-id-1 div.sk-estimator input.sk-toggleable__control:checked~label.sk-toggleable__label {background-color: #d4ebff;}#sk-container-id-1 div.sk-label input.sk-toggleable__control:checked~label.sk-toggleable__label {background-color: #d4ebff;}#sk-container-id-1 input.sk-hidden--visually {border: 0;clip: rect(1px 1px 1px 1px);clip: rect(1px, 1px, 1px, 1px);height: 1px;margin: -1px;overflow: hidden;padding: 0;position: absolute;width: 1px;}#sk-container-id-1 div.sk-estimator {font-family: monospace;background-color: #f0f8ff;border: 1px dotted black;border-radius: 0.25em;box-sizing: border-box;margin-bottom: 0.5em;}#sk-container-id-1 div.sk-estimator:hover {background-color: #d4ebff;}#sk-container-id-1 div.sk-parallel-item::after {content: \"\";width: 100%;border-bottom: 1px solid gray;flex-grow: 1;}#sk-container-id-1 div.sk-label:hover label.sk-toggleable__label {background-color: #d4ebff;}#sk-container-id-1 div.sk-serial::before {content: \"\";position: absolute;border-left: 1px solid gray;box-sizing: border-box;top: 0;bottom: 0;left: 50%;z-index: 0;}#sk-container-id-1 div.sk-serial {display: flex;flex-direction: column;align-items: center;background-color: white;padding-right: 0.2em;padding-left: 0.2em;position: relative;}#sk-container-id-1 div.sk-item {position: relative;z-index: 1;}#sk-container-id-1 div.sk-parallel {display: flex;align-items: stretch;justify-content: center;background-color: white;position: relative;}#sk-container-id-1 div.sk-item::before, #sk-container-id-1 div.sk-parallel-item::before {content: \"\";position: absolute;border-left: 1px solid gray;box-sizing: border-box;top: 0;bottom: 0;left: 50%;z-index: -1;}#sk-container-id-1 div.sk-parallel-item {display: flex;flex-direction: column;z-index: 1;position: relative;background-color: white;}#sk-container-id-1 div.sk-parallel-item:first-child::after {align-self: flex-end;width: 50%;}#sk-container-id-1 div.sk-parallel-item:last-child::after {align-self: flex-start;width: 50%;}#sk-container-id-1 div.sk-parallel-item:only-child::after {width: 0;}#sk-container-id-1 div.sk-dashed-wrapped {border: 1px dashed gray;margin: 0 0.4em 0.5em 0.4em;box-sizing: border-box;padding-bottom: 0.4em;background-color: white;}#sk-container-id-1 div.sk-label label {font-family: monospace;font-weight: bold;display: inline-block;line-height: 1.2em;}#sk-container-id-1 div.sk-label-container {text-align: center;}#sk-container-id-1 div.sk-container {/* jupyter's `normalize.less` sets `[hidden] { display: none; }` but bootstrap.min.css set `[hidden] { display: none !important; }` so we also need the `!important` here to be able to override the default hidden behavior on the sphinx rendered scikit-learn.org. See: https://github.com/scikit-learn/scikit-learn/issues/21755 */display: inline-block !important;position: relative;}#sk-container-id-1 div.sk-text-repr-fallback {display: none;}</style><div id=\"sk-container-id-1\" class=\"sk-top-container\"><div class=\"sk-text-repr-fallback\"><pre>LabelEncoder()</pre><b>In a Jupyter environment, please rerun this cell to show the HTML representation or trust the notebook. <br />On GitHub, the HTML representation is unable to render, please try loading this page with nbviewer.org.</b></div><div class=\"sk-container\" hidden><div class=\"sk-item\"><div class=\"sk-estimator sk-toggleable\"><input class=\"sk-toggleable__control sk-hidden--visually\" id=\"sk-estimator-id-1\" type=\"checkbox\" checked><label for=\"sk-estimator-id-1\" class=\"sk-toggleable__label sk-toggleable__label-arrow\">LabelEncoder</label><div class=\"sk-toggleable__content\"><pre>LabelEncoder()</pre></div></div></div></div></div>"
      ],
      "text/plain": [
       "LabelEncoder()"
      ]
     },
     "execution_count": 19,
     "metadata": {},
     "output_type": "execute_result"
    }
   ],
   "source": [
    "encoder = OneHotEncoder(handle_unknown='ignore')\n",
    "encoder.fit(np.array(list(new_df[\"gloss\"])).reshape(-1,1))\n",
    "\n",
    "le = LabelEncoder()\n",
    "le.fit(np.array(list(new_df[\"gloss\"])))"
   ]
  },
  {
   "cell_type": "code",
   "execution_count": 20,
   "id": "a1c9f57f-a3af-4447-9076-40624f88e735",
   "metadata": {},
   "outputs": [],
   "source": [
    "pickle.dump(encoder, open(\"one hot encoder\", 'wb'))\n",
    "pickle.dump(le, open(\"label encoder\", 'wb'))"
   ]
  },
  {
   "cell_type": "code",
   "execution_count": 30,
   "id": "410a8569-875e-4be2-b251-74060066c381",
   "metadata": {},
   "outputs": [],
   "source": [
    "new_df.to_csv(\"Extraction cleaned\")"
   ]
  },
  {
   "cell_type": "markdown",
   "id": "51726c2c-3d0a-4b04-9f28-a5c2d772063e",
   "metadata": {},
   "source": [
    "## Construct all videos with the same number of sequence"
   ]
  },
  {
   "cell_type": "markdown",
   "id": "8810bc26-36a0-4f8d-98b4-cb92a9044d23",
   "metadata": {},
   "source": [
    "Has it will be feed to a deep neural network, we need to have a fixed number of sequence for each record. To do that, a linear interpolation."
   ]
  },
  {
   "cell_type": "code",
   "execution_count": 31,
   "id": "2e027d5d-847e-4c7b-bee4-562d2eabdf64",
   "metadata": {},
   "outputs": [],
   "source": [
    "number_of_sequences = 64"
   ]
  },
  {
   "cell_type": "code",
   "execution_count": 32,
   "id": "692a18ca-8d73-49a2-9dba-77e371784c51",
   "metadata": {},
   "outputs": [],
   "source": [
    "all_sequences = list(final_video_record.values())"
   ]
  },
  {
   "cell_type": "code",
   "execution_count": 33,
   "id": "bba7328c-de7a-4116-8f5b-7f75ad6d8cbc",
   "metadata": {},
   "outputs": [
    {
     "data": {
      "text/plain": [
       "11157"
      ]
     },
     "execution_count": 33,
     "metadata": {},
     "output_type": "execute_result"
    }
   ],
   "source": [
    "len(all_sequences)"
   ]
  },
  {
   "cell_type": "code",
   "execution_count": 34,
   "id": "1312f888-dab7-46c5-a2cc-3d28d5037487",
   "metadata": {},
   "outputs": [
    {
     "data": {
      "text/plain": [
       "(58, 64, 64, 3)"
      ]
     },
     "execution_count": 34,
     "metadata": {},
     "output_type": "execute_result"
    }
   ],
   "source": [
    "all_sequences[0].shape"
   ]
  },
  {
   "cell_type": "code",
   "execution_count": 35,
   "id": "f23a0f4f-9e6c-48ed-ae0d-9309d49ea216",
   "metadata": {},
   "outputs": [],
   "source": [
    "def linear_interpolation(video, number_of_sequences):\n",
    "    '''\n",
    "        Linear interpolation\n",
    "    '''\n",
    "    \n",
    "    flatten_video = video.reshape(video.shape[0], -1)\n",
    "    interpolated_video = np.zeros(shape = (flatten_video.shape[1], number_of_sequences))\n",
    "    \n",
    "    current_nb_seq = np.linspace(0, 1, flatten_video.shape[0])\n",
    "    new_seq = np.linspace(0, 1, number_of_sequences)\n",
    "    \n",
    "    for count, pixel in enumerate(flatten_video.T):\n",
    "        f = interpolate.interp1d(current_nb_seq, pixel)\n",
    "        interpolated_video[count] = f(new_seq)\n",
    "    interpolated_video = interpolated_video.T\n",
    "    return interpolated_video.reshape(number_of_sequences, video.shape[1], video.shape[2], video.shape[3])"
   ]
  },
  {
   "cell_type": "code",
   "execution_count": 36,
   "id": "44ce8628-5619-400e-a8ce-08e044e9b3f4",
   "metadata": {},
   "outputs": [],
   "source": [
    "test = linear_interpolation(all_sequences[0], number_of_sequences)"
   ]
  },
  {
   "cell_type": "code",
   "execution_count": 37,
   "id": "3c0e0d65-be00-48a1-bd9a-02457e954702",
   "metadata": {},
   "outputs": [
    {
     "data": {
      "text/plain": [
       "<matplotlib.image.AxesImage at 0x1b8ba27ebb0>"
      ]
     },
     "execution_count": 37,
     "metadata": {},
     "output_type": "execute_result"
    },
    {
     "data": {
      "image/png": "[encoded data removed]",
      "text/plain": [
       "<Figure size 432x288 with 1 Axes>"
      ]
     },
     "metadata": {
      "needs_background": "light"
     },
     "output_type": "display_data"
    }
   ],
   "source": [
    "plt.imshow(test[-1]/255)"
   ]
  },
  {
   "cell_type": "code",
   "execution_count": 38,
   "id": "bd5622f3-7360-471a-98f4-e23ebd3ddf43",
   "metadata": {},
   "outputs": [
    {
     "data": {
      "text/plain": [
       "(64, 64, 64, 3)"
      ]
     },
     "execution_count": 38,
     "metadata": {},
     "output_type": "execute_result"
    }
   ],
   "source": [
    "test.shape"
   ]
  },
  {
   "cell_type": "code",
   "execution_count": 39,
   "id": "d0e648f4-69a9-4bd1-b6f4-12c7e12fd3d7",
   "metadata": {},
   "outputs": [
    {
     "name": "stderr",
     "output_type": "stream",
     "text": [
      "100%|██████████████████████████████████████████████████████████████████████████| 11157/11157 [1:31:10<00:00,  2.04it/s]\n"
     ]
    }
   ],
   "source": [
    "final_numpy_record = []\n",
    "for key_record, values_records in tqdm(final_video_record.items()):\n",
    "    final_numpy_record.append(np.array(linear_interpolation(values_records, number_of_sequences)/255, dtype=\"float32\"))"
   ]
  },
  {
   "cell_type": "code",
   "execution_count": 61,
   "id": "2c1e82d0-b7fa-4724-8396-92e6369daa61",
   "metadata": {},
   "outputs": [
    {
     "data": {
      "text/plain": [
       "(64, 64, 64, 3)"
      ]
     },
     "execution_count": 61,
     "metadata": {},
     "output_type": "execute_result"
    }
   ],
   "source": [
    "final_numpy_record[0].shape"
   ]
  },
  {
   "cell_type": "code",
   "execution_count": 42,
   "id": "538da95b-2f56-48e8-a330-296974bc2200",
   "metadata": {},
   "outputs": [
    {
     "data": {
      "text/plain": [
       "<matplotlib.image.AxesImage at 0x1b60f028af0>"
      ]
     },
     "execution_count": 42,
     "metadata": {},
     "output_type": "execute_result"
    },
    {
     "data": {
      "image/png": "[encoded data removed]",
      "text/plain": [
       "<Figure size 432x288 with 1 Axes>"
      ]
     },
     "metadata": {
      "needs_background": "light"
     },
     "output_type": "display_data"
    }
   ],
   "source": [
    "plt.imshow(final_numpy_record[0][0])"
   ]
  },
  {
   "cell_type": "code",
   "execution_count": 2,
   "id": "77ba32ea-5e09-4b25-af5d-758e88c597b9",
   "metadata": {},
   "outputs": [],
   "source": [
    "final_numpy_record = joblib.load(\"final_record_cleaned.pkl\")\n",
    "new_df = pd.read_csv(\"Extraction cleaned\", header = 0, index_col=0)"
   ]
  },
  {
   "cell_type": "code",
   "execution_count": 3,
   "id": "92329845-4ffe-47a5-a266-c61a7e940708",
   "metadata": {},
   "outputs": [
    {
     "data": {
      "text/html": [
       "<div>\n",
       "<style scoped>\n",
       "    .dataframe tbody tr th:only-of-type {\n",
       "        vertical-align: middle;\n",
       "    }\n",
       "\n",
       "    .dataframe tbody tr th {\n",
       "        vertical-align: top;\n",
       "    }\n",
       "\n",
       "    .dataframe thead th {\n",
       "        text-align: right;\n",
       "    }\n",
       "</style>\n",
       "<table border=\"1\" class=\"dataframe\">\n",
       "  <thead>\n",
       "    <tr style=\"text-align: right;\">\n",
       "      <th></th>\n",
       "      <th>fps</th>\n",
       "      <th>frame_end</th>\n",
       "      <th>frame_start</th>\n",
       "      <th>instance_id</th>\n",
       "      <th>signer_id</th>\n",
       "      <th>source</th>\n",
       "      <th>split</th>\n",
       "      <th>url</th>\n",
       "      <th>variation_id</th>\n",
       "      <th>video_id</th>\n",
       "      <th>bbox_xmin</th>\n",
       "      <th>bbox_ymin</th>\n",
       "      <th>bbox_xmax</th>\n",
       "      <th>bbox_ymax</th>\n",
       "      <th>gloss</th>\n",
       "    </tr>\n",
       "  </thead>\n",
       "  <tbody>\n",
       "    <tr>\n",
       "      <th>8751</th>\n",
       "      <td>25</td>\n",
       "      <td>-1</td>\n",
       "      <td>1</td>\n",
       "      <td>2</td>\n",
       "      <td>2</td>\n",
       "      <td>spreadthesign</td>\n",
       "      <td>test</td>\n",
       "      <td>https://media.spreadthesign.com/video/mp4/13/1...</td>\n",
       "      <td>0</td>\n",
       "      <td>335</td>\n",
       "      <td>57</td>\n",
       "      <td>5</td>\n",
       "      <td>246</td>\n",
       "      <td>240</td>\n",
       "      <td>abdomen</td>\n",
       "    </tr>\n",
       "    <tr>\n",
       "      <th>8752</th>\n",
       "      <td>25</td>\n",
       "      <td>-1</td>\n",
       "      <td>1</td>\n",
       "      <td>3</td>\n",
       "      <td>13</td>\n",
       "      <td>asldeafined</td>\n",
       "      <td>train</td>\n",
       "      <td>https://media.asldeafined.com/vocabulary/14688...</td>\n",
       "      <td>0</td>\n",
       "      <td>336</td>\n",
       "      <td>103</td>\n",
       "      <td>0</td>\n",
       "      <td>565</td>\n",
       "      <td>480</td>\n",
       "      <td>abdomen</td>\n",
       "    </tr>\n",
       "    <tr>\n",
       "      <th>8753</th>\n",
       "      <td>25</td>\n",
       "      <td>-1</td>\n",
       "      <td>1</td>\n",
       "      <td>5</td>\n",
       "      <td>10</td>\n",
       "      <td>signingsavvy</td>\n",
       "      <td>train</td>\n",
       "      <td>https://www.signingsavvy.com/signs/mp4/23/2386...</td>\n",
       "      <td>0</td>\n",
       "      <td>338</td>\n",
       "      <td>68</td>\n",
       "      <td>14</td>\n",
       "      <td>214</td>\n",
       "      <td>192</td>\n",
       "      <td>abdomen</td>\n",
       "    </tr>\n",
       "    <tr>\n",
       "      <th>8754</th>\n",
       "      <td>25</td>\n",
       "      <td>-1</td>\n",
       "      <td>1</td>\n",
       "      <td>6</td>\n",
       "      <td>10</td>\n",
       "      <td>signingsavvy</td>\n",
       "      <td>val</td>\n",
       "      <td>https://www.signingsavvy.com/signs/mp4/23/2386...</td>\n",
       "      <td>0</td>\n",
       "      <td>339</td>\n",
       "      <td>60</td>\n",
       "      <td>13</td>\n",
       "      <td>211</td>\n",
       "      <td>192</td>\n",
       "      <td>abdomen</td>\n",
       "    </tr>\n",
       "    <tr>\n",
       "      <th>8755</th>\n",
       "      <td>25</td>\n",
       "      <td>-1</td>\n",
       "      <td>1</td>\n",
       "      <td>8</td>\n",
       "      <td>12</td>\n",
       "      <td>aslsearch</td>\n",
       "      <td>train</td>\n",
       "      <td>http://www.aslsearch.com/signs/videos/abdomen.mp4</td>\n",
       "      <td>0</td>\n",
       "      <td>341</td>\n",
       "      <td>190</td>\n",
       "      <td>46</td>\n",
       "      <td>571</td>\n",
       "      <td>400</td>\n",
       "      <td>abdomen</td>\n",
       "    </tr>\n",
       "    <tr>\n",
       "      <th>...</th>\n",
       "      <td>...</td>\n",
       "      <td>...</td>\n",
       "      <td>...</td>\n",
       "      <td>...</td>\n",
       "      <td>...</td>\n",
       "      <td>...</td>\n",
       "      <td>...</td>\n",
       "      <td>...</td>\n",
       "      <td>...</td>\n",
       "      <td>...</td>\n",
       "      <td>...</td>\n",
       "      <td>...</td>\n",
       "      <td>...</td>\n",
       "      <td>...</td>\n",
       "      <td>...</td>\n",
       "    </tr>\n",
       "    <tr>\n",
       "      <th>10279</th>\n",
       "      <td>25</td>\n",
       "      <td>-1</td>\n",
       "      <td>1</td>\n",
       "      <td>0</td>\n",
       "      <td>117</td>\n",
       "      <td>aslbrick</td>\n",
       "      <td>val</td>\n",
       "      <td>http://aslbricks.org/New/ASL-Videos/wrap.mp4</td>\n",
       "      <td>0</td>\n",
       "      <td>69542</td>\n",
       "      <td>385</td>\n",
       "      <td>33</td>\n",
       "      <td>1003</td>\n",
       "      <td>720</td>\n",
       "      <td>wrap</td>\n",
       "    </tr>\n",
       "    <tr>\n",
       "      <th>1331</th>\n",
       "      <td>25</td>\n",
       "      <td>-1</td>\n",
       "      <td>1</td>\n",
       "      <td>1</td>\n",
       "      <td>115</td>\n",
       "      <td>aslbrick</td>\n",
       "      <td>test</td>\n",
       "      <td>http://aslbricks.org/New/ASL-Videos/write.mp4</td>\n",
       "      <td>0</td>\n",
       "      <td>69544</td>\n",
       "      <td>375</td>\n",
       "      <td>42</td>\n",
       "      <td>940</td>\n",
       "      <td>720</td>\n",
       "      <td>write</td>\n",
       "    </tr>\n",
       "    <tr>\n",
       "      <th>1049</th>\n",
       "      <td>25</td>\n",
       "      <td>-1</td>\n",
       "      <td>1</td>\n",
       "      <td>1</td>\n",
       "      <td>118</td>\n",
       "      <td>aslbrick</td>\n",
       "      <td>test</td>\n",
       "      <td>http://aslbricks.org/New/ASL-Videos/yellow.mp4</td>\n",
       "      <td>0</td>\n",
       "      <td>69545</td>\n",
       "      <td>256</td>\n",
       "      <td>41</td>\n",
       "      <td>883</td>\n",
       "      <td>720</td>\n",
       "      <td>yellow</td>\n",
       "    </tr>\n",
       "    <tr>\n",
       "      <th>201</th>\n",
       "      <td>25</td>\n",
       "      <td>-1</td>\n",
       "      <td>1</td>\n",
       "      <td>1</td>\n",
       "      <td>118</td>\n",
       "      <td>aslbrick</td>\n",
       "      <td>val</td>\n",
       "      <td>http://aslbricks.org/New/ASL-Videos/yes.mp4</td>\n",
       "      <td>0</td>\n",
       "      <td>69546</td>\n",
       "      <td>214</td>\n",
       "      <td>41</td>\n",
       "      <td>881</td>\n",
       "      <td>720</td>\n",
       "      <td>yes</td>\n",
       "    </tr>\n",
       "    <tr>\n",
       "      <th>1697</th>\n",
       "      <td>25</td>\n",
       "      <td>-1</td>\n",
       "      <td>1</td>\n",
       "      <td>1</td>\n",
       "      <td>118</td>\n",
       "      <td>aslbrick</td>\n",
       "      <td>test</td>\n",
       "      <td>http://aslbricks.org/New/ASL-Videos/you.mp4</td>\n",
       "      <td>0</td>\n",
       "      <td>69547</td>\n",
       "      <td>347</td>\n",
       "      <td>34</td>\n",
       "      <td>873</td>\n",
       "      <td>720</td>\n",
       "      <td>you</td>\n",
       "    </tr>\n",
       "  </tbody>\n",
       "</table>\n",
       "<p>11157 rows × 15 columns</p>\n",
       "</div>"
      ],
      "text/plain": [
       "       fps  frame_end  frame_start  instance_id  signer_id         source  \\\n",
       "8751    25         -1            1            2          2  spreadthesign   \n",
       "8752    25         -1            1            3         13    asldeafined   \n",
       "8753    25         -1            1            5         10   signingsavvy   \n",
       "8754    25         -1            1            6         10   signingsavvy   \n",
       "8755    25         -1            1            8         12      aslsearch   \n",
       "...    ...        ...          ...          ...        ...            ...   \n",
       "10279   25         -1            1            0        117       aslbrick   \n",
       "1331    25         -1            1            1        115       aslbrick   \n",
       "1049    25         -1            1            1        118       aslbrick   \n",
       "201     25         -1            1            1        118       aslbrick   \n",
       "1697    25         -1            1            1        118       aslbrick   \n",
       "\n",
       "       split                                                url  variation_id  \\\n",
       "8751    test  https://media.spreadthesign.com/video/mp4/13/1...             0   \n",
       "8752   train  https://media.asldeafined.com/vocabulary/14688...             0   \n",
       "8753   train  https://www.signingsavvy.com/signs/mp4/23/2386...             0   \n",
       "8754     val  https://www.signingsavvy.com/signs/mp4/23/2386...             0   \n",
       "8755   train  http://www.aslsearch.com/signs/videos/abdomen.mp4             0   \n",
       "...      ...                                                ...           ...   \n",
       "10279    val       http://aslbricks.org/New/ASL-Videos/wrap.mp4             0   \n",
       "1331    test      http://aslbricks.org/New/ASL-Videos/write.mp4             0   \n",
       "1049    test     http://aslbricks.org/New/ASL-Videos/yellow.mp4             0   \n",
       "201      val        http://aslbricks.org/New/ASL-Videos/yes.mp4             0   \n",
       "1697    test        http://aslbricks.org/New/ASL-Videos/you.mp4             0   \n",
       "\n",
       "       video_id  bbox_xmin  bbox_ymin  bbox_xmax  bbox_ymax    gloss  \n",
       "8751        335         57          5        246        240  abdomen  \n",
       "8752        336        103          0        565        480  abdomen  \n",
       "8753        338         68         14        214        192  abdomen  \n",
       "8754        339         60         13        211        192  abdomen  \n",
       "8755        341        190         46        571        400  abdomen  \n",
       "...         ...        ...        ...        ...        ...      ...  \n",
       "10279     69542        385         33       1003        720     wrap  \n",
       "1331      69544        375         42        940        720    write  \n",
       "1049      69545        256         41        883        720   yellow  \n",
       "201       69546        214         41        881        720      yes  \n",
       "1697      69547        347         34        873        720      you  \n",
       "\n",
       "[11157 rows x 15 columns]"
      ]
     },
     "execution_count": 3,
     "metadata": {},
     "output_type": "execute_result"
    }
   ],
   "source": [
    "new_df"
   ]
  },
  {
   "cell_type": "code",
   "execution_count": 4,
   "id": "e598c691-6a4d-4481-a91c-43aafc3945c6",
   "metadata": {},
   "outputs": [],
   "source": [
    "word_freq = dict(new_df[\"gloss\"].value_counts())\n",
    "freq = np.array(list(word_freq.values()))"
   ]
  },
  {
   "cell_type": "code",
   "execution_count": 5,
   "id": "67b45341-cfbe-4080-9fdd-ec981b35af81",
   "metadata": {},
   "outputs": [
    {
     "name": "stderr",
     "output_type": "stream",
     "text": [
      "C:\\Users\\thoma\\AppData\\Local\\Programs\\Python\\Python39\\lib\\site-packages\\seaborn\\distributions.py:2619: FutureWarning: `distplot` is a deprecated function and will be removed in a future version. Please adapt your code to use either `displot` (a figure-level function with similar flexibility) or `histplot` (an axes-level function for histograms).\n",
      "  warnings.warn(msg, FutureWarning)\n"
     ]
    },
    {
     "data": {
      "text/plain": [
       "<AxesSubplot:ylabel='Density'>"
      ]
     },
     "execution_count": 5,
     "metadata": {},
     "output_type": "execute_result"
    },
    {
     "data": {
      "image/png": "[encoded data removed]",
      "text/plain": [
       "<Figure size 432x288 with 1 Axes>"
      ]
     },
     "metadata": {
      "needs_background": "light"
     },
     "output_type": "display_data"
    }
   ],
   "source": [
    "sns.distplot(freq)"
   ]
  },
  {
   "cell_type": "code",
   "execution_count": 6,
   "id": "cf5f49c3-8301-4f36-a404-1496ea295b5e",
   "metadata": {},
   "outputs": [
    {
     "name": "stdout",
     "output_type": "stream",
     "text": [
      "0.042826552462526764 80\n"
     ]
    }
   ],
   "source": [
    "print(len(freq[freq >= 10])/len(freq), len(freq[freq >= 10]))"
   ]
  },
  {
   "cell_type": "markdown",
   "id": "7f6a8ca0-42c2-4549-933b-150910a1ec20",
   "metadata": {},
   "source": [
    "### If we keep all the words that are present more than 4 times"
   ]
  },
  {
   "cell_type": "code",
   "execution_count": 7,
   "id": "a8a217c5-c8cd-4081-8647-21d7b77faeca",
   "metadata": {},
   "outputs": [],
   "source": [
    "skf = StratifiedKFold(n_splits=2)\n",
    "skf2 = StratifiedKFold(n_splits=2)\n",
    "train_index, test_index = skf.split(final_numpy_record, list(new_df[\"gloss\"]))\n",
    "train_index = train_index[0]\n",
    "test_index = test_index[0]\n",
    "\n",
    "df_split1 = new_df.iloc[train_index]\n",
    "df_split2 = new_df.iloc[test_index]\n",
    "\n",
    "train_index2, test_index2 = skf2.split([final_numpy_record[i] for i in train_index], list(df_split1[\"gloss\"]))\n",
    "fold1 = df_split1.iloc[train_index2[0]][\"video_id\"]\n",
    "fold2 = df_split1.iloc[test_index2[0]][\"video_id\"]\n",
    "\n",
    "train_index2, test_index2 = skf2.split([final_numpy_record[i] for i in test_index], list(df_split2[\"gloss\"]))\n",
    "fold3 = df_split2.iloc[train_index2[0]][\"video_id\"]\n",
    "fold4 = df_split2.iloc[test_index2[0]][\"video_id\"]\n",
    "\n",
    "index_video_id = list(new_df[\"video_id\"])\n",
    "\n",
    "fold1 = [index_video_id.index(video_id) for video_id in fold1]\n",
    "fold2 = [index_video_id.index(video_id) for video_id in fold2]\n",
    "fold3 = [index_video_id.index(video_id) for video_id in fold3]\n",
    "fold4 = [index_video_id.index(video_id) for video_id in fold4]"
   ]
  },
  {
   "cell_type": "code",
   "execution_count": 11,
   "id": "3b935689-a229-46c5-8c49-0d75cf7142f2",
   "metadata": {},
   "outputs": [
    {
     "name": "stdout",
     "output_type": "stream",
     "text": [
      "1868\n",
      "1868\n",
      "1868\n",
      "1868\n"
     ]
    }
   ],
   "source": [
    "for id_df in [fold1, fold2, fold3, fold4]:\n",
    "    df = new_df.iloc[id_df]\n",
    "    print(len(dict(new_df[\"gloss\"].value_counts())))"
   ]
  },
  {
   "cell_type": "code",
   "execution_count": 16,
   "id": "2fa9952a-7a8f-439a-88fd-8ea3e95d9758",
   "metadata": {},
   "outputs": [],
   "source": [
    "for num_fold, fold in enumerate([fold1, fold2, fold3, fold4]):\n",
    "    joblib.dump([final_numpy_record[i] for i in fold], 'Kfold/Video numpy/' + str(num_fold) + '.pkl', compress = 3)\n",
    "    new_df.iloc[fold].to_csv('Kfold/Dataframe/' + str(num_fold))"
   ]
  },
  {
   "cell_type": "markdown",
   "id": "839afc27-a205-40b3-93d2-82674df7831c",
   "metadata": {},
   "source": [
    "### If we keep all the words that are present more than 9 times"
   ]
  },
  {
   "cell_type": "code",
   "execution_count": 7,
   "id": "e267e5cc-5315-4458-be5f-85cfb12c7bb8",
   "metadata": {},
   "outputs": [],
   "source": [
    "gloss_name = [list(word_freq.keys())[i] for i in np.where(freq >= 10)[0]]"
   ]
  },
  {
   "cell_type": "code",
   "execution_count": 8,
   "id": "695da1a9-b8d5-4c6c-9d55-2a981d6da1f5",
   "metadata": {},
   "outputs": [],
   "source": [
    "final_df = new_df[new_df[\"gloss\"].isin(gloss_name)]"
   ]
  },
  {
   "cell_type": "code",
   "execution_count": 9,
   "id": "2c8a8995-5604-4cd9-ab2c-347c634a5277",
   "metadata": {},
   "outputs": [],
   "source": [
    "word_freq = dict(final_df[\"gloss\"].value_counts())\n",
    "freq = np.array(list(word_freq.values()))"
   ]
  },
  {
   "cell_type": "code",
   "execution_count": 10,
   "id": "97c39d6d-c8fb-4a37-b378-e911fb7153cd",
   "metadata": {},
   "outputs": [
    {
     "name": "stderr",
     "output_type": "stream",
     "text": [
      "C:\\Users\\thoma\\AppData\\Local\\Programs\\Python\\Python39\\lib\\site-packages\\seaborn\\distributions.py:2619: FutureWarning: `distplot` is a deprecated function and will be removed in a future version. Please adapt your code to use either `displot` (a figure-level function with similar flexibility) or `histplot` (an axes-level function for histograms).\n",
      "  warnings.warn(msg, FutureWarning)\n"
     ]
    },
    {
     "data": {
      "text/plain": [
       "<AxesSubplot:ylabel='Density'>"
      ]
     },
     "execution_count": 10,
     "metadata": {},
     "output_type": "execute_result"
    },
    {
     "data": {
      "image/png": "[encoded data removed]",
      "text/plain": [
       "<Figure size 432x288 with 1 Axes>"
      ]
     },
     "metadata": {
      "needs_background": "light"
     },
     "output_type": "display_data"
    }
   ],
   "source": [
    "sns.distplot(freq)"
   ]
  },
  {
   "cell_type": "code",
   "execution_count": 11,
   "id": "474b24a0-2e90-4858-85d3-395a45622d7d",
   "metadata": {},
   "outputs": [
    {
     "data": {
      "text/html": [
       "<div>\n",
       "<style scoped>\n",
       "    .dataframe tbody tr th:only-of-type {\n",
       "        vertical-align: middle;\n",
       "    }\n",
       "\n",
       "    .dataframe tbody tr th {\n",
       "        vertical-align: top;\n",
       "    }\n",
       "\n",
       "    .dataframe thead th {\n",
       "        text-align: right;\n",
       "    }\n",
       "</style>\n",
       "<table border=\"1\" class=\"dataframe\">\n",
       "  <thead>\n",
       "    <tr style=\"text-align: right;\">\n",
       "      <th></th>\n",
       "      <th>fps</th>\n",
       "      <th>frame_end</th>\n",
       "      <th>frame_start</th>\n",
       "      <th>instance_id</th>\n",
       "      <th>signer_id</th>\n",
       "      <th>source</th>\n",
       "      <th>split</th>\n",
       "      <th>url</th>\n",
       "      <th>variation_id</th>\n",
       "      <th>video_id</th>\n",
       "      <th>bbox_xmin</th>\n",
       "      <th>bbox_ymin</th>\n",
       "      <th>bbox_xmax</th>\n",
       "      <th>bbox_ymax</th>\n",
       "      <th>gloss</th>\n",
       "    </tr>\n",
       "  </thead>\n",
       "  <tbody>\n",
       "    <tr>\n",
       "      <th>565</th>\n",
       "      <td>25</td>\n",
       "      <td>-1</td>\n",
       "      <td>1</td>\n",
       "      <td>12</td>\n",
       "      <td>26</td>\n",
       "      <td>spreadthesign</td>\n",
       "      <td>train</td>\n",
       "      <td>https://media.spreadthesign.com/video/mp4/13/1...</td>\n",
       "      <td>1</td>\n",
       "      <td>623</td>\n",
       "      <td>54</td>\n",
       "      <td>6</td>\n",
       "      <td>272</td>\n",
       "      <td>240</td>\n",
       "      <td>accident</td>\n",
       "    </tr>\n",
       "    <tr>\n",
       "      <th>556</th>\n",
       "      <td>25</td>\n",
       "      <td>-1</td>\n",
       "      <td>1</td>\n",
       "      <td>2</td>\n",
       "      <td>29</td>\n",
       "      <td>spreadthesign</td>\n",
       "      <td>train</td>\n",
       "      <td>https://media.spreadthesign.com/video/mp4/13/7...</td>\n",
       "      <td>0</td>\n",
       "      <td>624</td>\n",
       "      <td>42</td>\n",
       "      <td>6</td>\n",
       "      <td>278</td>\n",
       "      <td>240</td>\n",
       "      <td>accident</td>\n",
       "    </tr>\n",
       "    <tr>\n",
       "      <th>557</th>\n",
       "      <td>25</td>\n",
       "      <td>-1</td>\n",
       "      <td>1</td>\n",
       "      <td>3</td>\n",
       "      <td>6</td>\n",
       "      <td>signschool</td>\n",
       "      <td>test</td>\n",
       "      <td>https://signstock.blob.core.windows.net/signsc...</td>\n",
       "      <td>1</td>\n",
       "      <td>625</td>\n",
       "      <td>675</td>\n",
       "      <td>50</td>\n",
       "      <td>1461</td>\n",
       "      <td>1080</td>\n",
       "      <td>accident</td>\n",
       "    </tr>\n",
       "    <tr>\n",
       "      <th>558</th>\n",
       "      <td>25</td>\n",
       "      <td>-1</td>\n",
       "      <td>1</td>\n",
       "      <td>4</td>\n",
       "      <td>32</td>\n",
       "      <td>signschool</td>\n",
       "      <td>val</td>\n",
       "      <td>https://signstock.blob.core.windows.net/signsc...</td>\n",
       "      <td>0</td>\n",
       "      <td>626</td>\n",
       "      <td>485</td>\n",
       "      <td>85</td>\n",
       "      <td>1608</td>\n",
       "      <td>1080</td>\n",
       "      <td>accident</td>\n",
       "    </tr>\n",
       "    <tr>\n",
       "      <th>559</th>\n",
       "      <td>25</td>\n",
       "      <td>-1</td>\n",
       "      <td>1</td>\n",
       "      <td>5</td>\n",
       "      <td>6</td>\n",
       "      <td>signschool</td>\n",
       "      <td>val</td>\n",
       "      <td>https://signstock.blob.core.windows.net/signsc...</td>\n",
       "      <td>1</td>\n",
       "      <td>627</td>\n",
       "      <td>662</td>\n",
       "      <td>54</td>\n",
       "      <td>1434</td>\n",
       "      <td>1080</td>\n",
       "      <td>accident</td>\n",
       "    </tr>\n",
       "    <tr>\n",
       "      <th>...</th>\n",
       "      <td>...</td>\n",
       "      <td>...</td>\n",
       "      <td>...</td>\n",
       "      <td>...</td>\n",
       "      <td>...</td>\n",
       "      <td>...</td>\n",
       "      <td>...</td>\n",
       "      <td>...</td>\n",
       "      <td>...</td>\n",
       "      <td>...</td>\n",
       "      <td>...</td>\n",
       "      <td>...</td>\n",
       "      <td>...</td>\n",
       "      <td>...</td>\n",
       "      <td>...</td>\n",
       "    </tr>\n",
       "    <tr>\n",
       "      <th>1277</th>\n",
       "      <td>25</td>\n",
       "      <td>-1</td>\n",
       "      <td>1</td>\n",
       "      <td>1</td>\n",
       "      <td>115</td>\n",
       "      <td>aslbrick</td>\n",
       "      <td>train</td>\n",
       "      <td>http://aslbricks.org/New/ASL-Videos/take.mp4</td>\n",
       "      <td>0</td>\n",
       "      <td>69500</td>\n",
       "      <td>166</td>\n",
       "      <td>43</td>\n",
       "      <td>952</td>\n",
       "      <td>720</td>\n",
       "      <td>take</td>\n",
       "    </tr>\n",
       "    <tr>\n",
       "      <th>334</th>\n",
       "      <td>25</td>\n",
       "      <td>-1</td>\n",
       "      <td>1</td>\n",
       "      <td>1</td>\n",
       "      <td>118</td>\n",
       "      <td>aslbrick</td>\n",
       "      <td>val</td>\n",
       "      <td>http://aslbricks.org/New/ASL-Videos/what.mp4</td>\n",
       "      <td>1</td>\n",
       "      <td>69531</td>\n",
       "      <td>155</td>\n",
       "      <td>34</td>\n",
       "      <td>1067</td>\n",
       "      <td>720</td>\n",
       "      <td>what</td>\n",
       "    </tr>\n",
       "    <tr>\n",
       "      <th>78</th>\n",
       "      <td>25</td>\n",
       "      <td>-1</td>\n",
       "      <td>1</td>\n",
       "      <td>1</td>\n",
       "      <td>118</td>\n",
       "      <td>aslbrick</td>\n",
       "      <td>train</td>\n",
       "      <td>http://aslbricks.org/New/ASL-Videos/who.mp4</td>\n",
       "      <td>0</td>\n",
       "      <td>69534</td>\n",
       "      <td>381</td>\n",
       "      <td>45</td>\n",
       "      <td>868</td>\n",
       "      <td>720</td>\n",
       "      <td>who</td>\n",
       "    </tr>\n",
       "    <tr>\n",
       "      <th>1331</th>\n",
       "      <td>25</td>\n",
       "      <td>-1</td>\n",
       "      <td>1</td>\n",
       "      <td>1</td>\n",
       "      <td>115</td>\n",
       "      <td>aslbrick</td>\n",
       "      <td>test</td>\n",
       "      <td>http://aslbricks.org/New/ASL-Videos/write.mp4</td>\n",
       "      <td>0</td>\n",
       "      <td>69544</td>\n",
       "      <td>375</td>\n",
       "      <td>42</td>\n",
       "      <td>940</td>\n",
       "      <td>720</td>\n",
       "      <td>write</td>\n",
       "    </tr>\n",
       "    <tr>\n",
       "      <th>201</th>\n",
       "      <td>25</td>\n",
       "      <td>-1</td>\n",
       "      <td>1</td>\n",
       "      <td>1</td>\n",
       "      <td>118</td>\n",
       "      <td>aslbrick</td>\n",
       "      <td>val</td>\n",
       "      <td>http://aslbricks.org/New/ASL-Videos/yes.mp4</td>\n",
       "      <td>0</td>\n",
       "      <td>69546</td>\n",
       "      <td>214</td>\n",
       "      <td>41</td>\n",
       "      <td>881</td>\n",
       "      <td>720</td>\n",
       "      <td>yes</td>\n",
       "    </tr>\n",
       "  </tbody>\n",
       "</table>\n",
       "<p>883 rows × 15 columns</p>\n",
       "</div>"
      ],
      "text/plain": [
       "      fps  frame_end  frame_start  instance_id  signer_id         source  \\\n",
       "565    25         -1            1           12         26  spreadthesign   \n",
       "556    25         -1            1            2         29  spreadthesign   \n",
       "557    25         -1            1            3          6     signschool   \n",
       "558    25         -1            1            4         32     signschool   \n",
       "559    25         -1            1            5          6     signschool   \n",
       "...   ...        ...          ...          ...        ...            ...   \n",
       "1277   25         -1            1            1        115       aslbrick   \n",
       "334    25         -1            1            1        118       aslbrick   \n",
       "78     25         -1            1            1        118       aslbrick   \n",
       "1331   25         -1            1            1        115       aslbrick   \n",
       "201    25         -1            1            1        118       aslbrick   \n",
       "\n",
       "      split                                                url  variation_id  \\\n",
       "565   train  https://media.spreadthesign.com/video/mp4/13/1...             1   \n",
       "556   train  https://media.spreadthesign.com/video/mp4/13/7...             0   \n",
       "557    test  https://signstock.blob.core.windows.net/signsc...             1   \n",
       "558     val  https://signstock.blob.core.windows.net/signsc...             0   \n",
       "559     val  https://signstock.blob.core.windows.net/signsc...             1   \n",
       "...     ...                                                ...           ...   \n",
       "1277  train       http://aslbricks.org/New/ASL-Videos/take.mp4             0   \n",
       "334     val       http://aslbricks.org/New/ASL-Videos/what.mp4             1   \n",
       "78    train        http://aslbricks.org/New/ASL-Videos/who.mp4             0   \n",
       "1331   test      http://aslbricks.org/New/ASL-Videos/write.mp4             0   \n",
       "201     val        http://aslbricks.org/New/ASL-Videos/yes.mp4             0   \n",
       "\n",
       "      video_id  bbox_xmin  bbox_ymin  bbox_xmax  bbox_ymax     gloss  \n",
       "565        623         54          6        272        240  accident  \n",
       "556        624         42          6        278        240  accident  \n",
       "557        625        675         50       1461       1080  accident  \n",
       "558        626        485         85       1608       1080  accident  \n",
       "559        627        662         54       1434       1080  accident  \n",
       "...        ...        ...        ...        ...        ...       ...  \n",
       "1277     69500        166         43        952        720      take  \n",
       "334      69531        155         34       1067        720      what  \n",
       "78       69534        381         45        868        720       who  \n",
       "1331     69544        375         42        940        720     write  \n",
       "201      69546        214         41        881        720       yes  \n",
       "\n",
       "[883 rows x 15 columns]"
      ]
     },
     "execution_count": 11,
     "metadata": {},
     "output_type": "execute_result"
    }
   ],
   "source": [
    "final_df"
   ]
  },
  {
   "cell_type": "code",
   "execution_count": 12,
   "id": "41cd6a42-c1cf-4475-9c99-11c63d067b88",
   "metadata": {},
   "outputs": [
    {
     "data": {
      "text/html": [
       "<style>#sk-container-id-1 {color: black;background-color: white;}#sk-container-id-1 pre{padding: 0;}#sk-container-id-1 div.sk-toggleable {background-color: white;}#sk-container-id-1 label.sk-toggleable__label {cursor: pointer;display: block;width: 100%;margin-bottom: 0;padding: 0.3em;box-sizing: border-box;text-align: center;}#sk-container-id-1 label.sk-toggleable__label-arrow:before {content: \"▸\";float: left;margin-right: 0.25em;color: #696969;}#sk-container-id-1 label.sk-toggleable__label-arrow:hover:before {color: black;}#sk-container-id-1 div.sk-estimator:hover label.sk-toggleable__label-arrow:before {color: black;}#sk-container-id-1 div.sk-toggleable__content {max-height: 0;max-width: 0;overflow: hidden;text-align: left;background-color: #f0f8ff;}#sk-container-id-1 div.sk-toggleable__content pre {margin: 0.2em;color: black;border-radius: 0.25em;background-color: #f0f8ff;}#sk-container-id-1 input.sk-toggleable__control:checked~div.sk-toggleable__content {max-height: 200px;max-width: 100%;overflow: auto;}#sk-container-id-1 input.sk-toggleable__control:checked~label.sk-toggleable__label-arrow:before {content: \"▾\";}#sk-container-id-1 div.sk-estimator input.sk-toggleable__control:checked~label.sk-toggleable__label {background-color: #d4ebff;}#sk-container-id-1 div.sk-label input.sk-toggleable__control:checked~label.sk-toggleable__label {background-color: #d4ebff;}#sk-container-id-1 input.sk-hidden--visually {border: 0;clip: rect(1px 1px 1px 1px);clip: rect(1px, 1px, 1px, 1px);height: 1px;margin: -1px;overflow: hidden;padding: 0;position: absolute;width: 1px;}#sk-container-id-1 div.sk-estimator {font-family: monospace;background-color: #f0f8ff;border: 1px dotted black;border-radius: 0.25em;box-sizing: border-box;margin-bottom: 0.5em;}#sk-container-id-1 div.sk-estimator:hover {background-color: #d4ebff;}#sk-container-id-1 div.sk-parallel-item::after {content: \"\";width: 100%;border-bottom: 1px solid gray;flex-grow: 1;}#sk-container-id-1 div.sk-label:hover label.sk-toggleable__label {background-color: #d4ebff;}#sk-container-id-1 div.sk-serial::before {content: \"\";position: absolute;border-left: 1px solid gray;box-sizing: border-box;top: 0;bottom: 0;left: 50%;z-index: 0;}#sk-container-id-1 div.sk-serial {display: flex;flex-direction: column;align-items: center;background-color: white;padding-right: 0.2em;padding-left: 0.2em;position: relative;}#sk-container-id-1 div.sk-item {position: relative;z-index: 1;}#sk-container-id-1 div.sk-parallel {display: flex;align-items: stretch;justify-content: center;background-color: white;position: relative;}#sk-container-id-1 div.sk-item::before, #sk-container-id-1 div.sk-parallel-item::before {content: \"\";position: absolute;border-left: 1px solid gray;box-sizing: border-box;top: 0;bottom: 0;left: 50%;z-index: -1;}#sk-container-id-1 div.sk-parallel-item {display: flex;flex-direction: column;z-index: 1;position: relative;background-color: white;}#sk-container-id-1 div.sk-parallel-item:first-child::after {align-self: flex-end;width: 50%;}#sk-container-id-1 div.sk-parallel-item:last-child::after {align-self: flex-start;width: 50%;}#sk-container-id-1 div.sk-parallel-item:only-child::after {width: 0;}#sk-container-id-1 div.sk-dashed-wrapped {border: 1px dashed gray;margin: 0 0.4em 0.5em 0.4em;box-sizing: border-box;padding-bottom: 0.4em;background-color: white;}#sk-container-id-1 div.sk-label label {font-family: monospace;font-weight: bold;display: inline-block;line-height: 1.2em;}#sk-container-id-1 div.sk-label-container {text-align: center;}#sk-container-id-1 div.sk-container {/* jupyter's `normalize.less` sets `[hidden] { display: none; }` but bootstrap.min.css set `[hidden] { display: none !important; }` so we also need the `!important` here to be able to override the default hidden behavior on the sphinx rendered scikit-learn.org. See: https://github.com/scikit-learn/scikit-learn/issues/21755 */display: inline-block !important;position: relative;}#sk-container-id-1 div.sk-text-repr-fallback {display: none;}</style><div id=\"sk-container-id-1\" class=\"sk-top-container\"><div class=\"sk-text-repr-fallback\"><pre>LabelEncoder()</pre><b>In a Jupyter environment, please rerun this cell to show the HTML representation or trust the notebook. <br />On GitHub, the HTML representation is unable to render, please try loading this page with nbviewer.org.</b></div><div class=\"sk-container\" hidden><div class=\"sk-item\"><div class=\"sk-estimator sk-toggleable\"><input class=\"sk-toggleable__control sk-hidden--visually\" id=\"sk-estimator-id-1\" type=\"checkbox\" checked><label for=\"sk-estimator-id-1\" class=\"sk-toggleable__label sk-toggleable__label-arrow\">LabelEncoder</label><div class=\"sk-toggleable__content\"><pre>LabelEncoder()</pre></div></div></div></div></div>"
      ],
      "text/plain": [
       "LabelEncoder()"
      ]
     },
     "execution_count": 12,
     "metadata": {},
     "output_type": "execute_result"
    }
   ],
   "source": [
    "reduced_encoder = OneHotEncoder(handle_unknown='ignore')\n",
    "reduced_encoder.fit(np.array(list(final_df[\"gloss\"])).reshape(-1,1))\n",
    "\n",
    "reduced_le = LabelEncoder()\n",
    "reduced_le.fit(np.array(list(final_df[\"gloss\"])))"
   ]
  },
  {
   "cell_type": "code",
   "execution_count": 13,
   "id": "86b308f8-e94c-4453-987c-e50ac2293579",
   "metadata": {},
   "outputs": [],
   "source": [
    "pickle.dump(reduced_encoder, open(\"reduced one hot encoder\", 'wb'))\n",
    "pickle.dump(reduced_le, open(\"reduced label encoder\", 'wb'))"
   ]
  },
  {
   "cell_type": "code",
   "execution_count": 14,
   "id": "1958768c-3d33-49e6-b2be-247806a8b5c6",
   "metadata": {},
   "outputs": [],
   "source": [
    "final_index = final_df.index.values.tolist()"
   ]
  },
  {
   "cell_type": "code",
   "execution_count": 15,
   "id": "7ba6ee95-8cb6-43d8-be04-46a2d29edbc6",
   "metadata": {},
   "outputs": [],
   "source": [
    "joblib.dump([final_numpy_record[i] for i in final_index], 'reduced_numpy_videos.pkl', compress = 3)\n",
    "final_df.to_csv('reduced_dataset.csv')"
   ]
  },
  {
   "cell_type": "code",
   "execution_count": null,
   "id": "0119e86b-5c32-428b-8615-b51026831afa",
   "metadata": {},
   "outputs": [],
   "source": []
  }
 ],
 "metadata": {
  "kernelspec": {
   "display_name": "Yolo",
   "language": "python",
   "name": "yolo"
  },
  "language_info": {
   "codemirror_mode": {
    "name": "ipython",
    "version": 3
   },
   "file_extension": ".py",
   "mimetype": "text/x-python",
   "name": "python",
   "nbconvert_exporter": "python",
   "pygments_lexer": "ipython3",
   "version": "3.9.6"
  }
 },
 "nbformat": 4,
 "nbformat_minor": 5
}
