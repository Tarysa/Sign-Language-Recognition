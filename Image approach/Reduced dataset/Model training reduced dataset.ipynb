{
 "cells": [
  {
   "cell_type": "code",
   "execution_count": 1,
   "id": "fc4d9ef6-488c-4c5c-a322-a8da8fabebe5",
   "metadata": {},
   "outputs": [],
   "source": [
    "import tensorflow as tf\n",
    "tf.config.run_functions_eagerly(True)\n",
    "tf.data.experimental.enable_debug_mode()\n",
    "import pandas as pd\n",
    "import joblib\n",
    "import os\n",
    "import seaborn as sns\n",
    "import numpy as np\n",
    "import matplotlib.pyplot as plt\n",
    "import pickle\n",
    "\n",
    "from sklearn.model_selection import StratifiedKFold\n",
    "\n",
    "\n",
    "from tensorflow.keras.models import Sequential, Model\n",
    "from sklearn.metrics import confusion_matrix, plot_confusion_matrix, f1_score, accuracy_score, precision_score, recall_score\n",
    "\n",
    "from keras.layers import Input, Dense, GlobalAveragePooling2D, UpSampling2D, add, concatenate, Conv2D, Lambda, BatchNormalization, MaxPool2D, LSTM, GRU, Reshape, Flatten, Dropout, Layer, Embedding, MultiHeadAttention, LayerNormalization, GlobalMaxPooling1D"
   ]
  },
  {
   "cell_type": "code",
   "execution_count": 2,
   "id": "5cb7f896-d269-4a8f-ba93-c6e69f9bd39e",
   "metadata": {},
   "outputs": [],
   "source": [
    "X1 = np.array(joblib.load(\"Kfold/features/0.pkl\"))\n",
    "df1 = pd.read_csv(\"Kfold/Dataframe/0.csv\", header = 0, index_col=0)\n",
    "\n",
    "X2 = np.array(joblib.load(\"Kfold/features/1.pkl\"))\n",
    "df2 = pd.read_csv(\"Kfold/Dataframe/1.csv\", header = 0, index_col=0)\n",
    "\n",
    "X3 = np.array(joblib.load(\"Kfold/features/2.pkl\"))\n",
    "df3 = pd.read_csv(\"Kfold/Dataframe/2.csv\", header = 0, index_col=0)\n",
    "\n",
    "X4 = np.array(joblib.load(\"Kfold/features/3.pkl\"))\n",
    "df4 = pd.read_csv(\"Kfold/Dataframe/3.csv\", header = 0, index_col=0)\n",
    "\n",
    "masks1 = joblib.load(\"Kfold/Masks/0.pkl\")\n",
    "masks2 = joblib.load(\"Kfold/Masks/1.pkl\")\n",
    "masks3 = joblib.load(\"Kfold/Masks/2.pkl\")\n",
    "masks4 = joblib.load(\"Kfold/Masks/3.pkl\")"
   ]
  },
  {
   "cell_type": "code",
   "execution_count": 3,
   "id": "3123281e-e9be-47d6-83f5-b4e22c512eac",
   "metadata": {},
   "outputs": [],
   "source": [
    "X = np.concatenate((X1, X2, X3, X4), axis = 0)\n",
    "masks = np.concatenate((masks1, masks2, masks3, masks4), axis = 0)\n",
    "\n",
    "df1.reset_index(drop=True, inplace=True)\n",
    "df2.reset_index(drop=True, inplace=True)\n",
    "df3.reset_index(drop=True, inplace=True)\n",
    "df4.reset_index(drop=True, inplace=True)\n",
    "\n",
    "df = pd.concat( [df1, df2, df3, df4], axis=0) "
   ]
  },
  {
   "cell_type": "code",
   "execution_count": 4,
   "id": "885f7af9-37ed-474f-80d7-7c33e8fc47b1",
   "metadata": {},
   "outputs": [
    {
     "data": {
      "text/html": [
       "<div>\n",
       "<style scoped>\n",
       "    .dataframe tbody tr th:only-of-type {\n",
       "        vertical-align: middle;\n",
       "    }\n",
       "\n",
       "    .dataframe tbody tr th {\n",
       "        vertical-align: top;\n",
       "    }\n",
       "\n",
       "    .dataframe thead th {\n",
       "        text-align: right;\n",
       "    }\n",
       "</style>\n",
       "<table border=\"1\" class=\"dataframe\">\n",
       "  <thead>\n",
       "    <tr style=\"text-align: right;\">\n",
       "      <th></th>\n",
       "      <th>fps</th>\n",
       "      <th>frame_end</th>\n",
       "      <th>frame_start</th>\n",
       "      <th>instance_id</th>\n",
       "      <th>signer_id</th>\n",
       "      <th>source</th>\n",
       "      <th>split</th>\n",
       "      <th>url</th>\n",
       "      <th>variation_id</th>\n",
       "      <th>video_id</th>\n",
       "      <th>bbox_xmin</th>\n",
       "      <th>bbox_ymin</th>\n",
       "      <th>bbox_xmax</th>\n",
       "      <th>bbox_ymax</th>\n",
       "      <th>gloss</th>\n",
       "    </tr>\n",
       "  </thead>\n",
       "  <tbody>\n",
       "    <tr>\n",
       "      <th>0</th>\n",
       "      <td>25</td>\n",
       "      <td>-1</td>\n",
       "      <td>1</td>\n",
       "      <td>15</td>\n",
       "      <td>11</td>\n",
       "      <td>signingsavvy</td>\n",
       "      <td>test</td>\n",
       "      <td>https://www.signingsavvy.com/signs/mp4/7/7493.mp4</td>\n",
       "      <td>0</td>\n",
       "      <td>634</td>\n",
       "      <td>61</td>\n",
       "      <td>12</td>\n",
       "      <td>227</td>\n",
       "      <td>192</td>\n",
       "      <td>accident</td>\n",
       "    </tr>\n",
       "    <tr>\n",
       "      <th>1</th>\n",
       "      <td>25</td>\n",
       "      <td>-1</td>\n",
       "      <td>1</td>\n",
       "      <td>1</td>\n",
       "      <td>12</td>\n",
       "      <td>aslsearch</td>\n",
       "      <td>train</td>\n",
       "      <td>http://www.aslsearch.com/signs/videos/accident...</td>\n",
       "      <td>0</td>\n",
       "      <td>639</td>\n",
       "      <td>180</td>\n",
       "      <td>45</td>\n",
       "      <td>574</td>\n",
       "      <td>400</td>\n",
       "      <td>accident</td>\n",
       "    </tr>\n",
       "    <tr>\n",
       "      <th>2</th>\n",
       "      <td>25</td>\n",
       "      <td>-1</td>\n",
       "      <td>1</td>\n",
       "      <td>17</td>\n",
       "      <td>41</td>\n",
       "      <td>aslsearch</td>\n",
       "      <td>val</td>\n",
       "      <td>http://www.aslsearch.com/signs/videos/africa.mp4</td>\n",
       "      <td>0</td>\n",
       "      <td>1398</td>\n",
       "      <td>236</td>\n",
       "      <td>33</td>\n",
       "      <td>493</td>\n",
       "      <td>400</td>\n",
       "      <td>africa</td>\n",
       "    </tr>\n",
       "    <tr>\n",
       "      <th>3</th>\n",
       "      <td>25</td>\n",
       "      <td>-1</td>\n",
       "      <td>1</td>\n",
       "      <td>4</td>\n",
       "      <td>11</td>\n",
       "      <td>signingsavvy</td>\n",
       "      <td>val</td>\n",
       "      <td>https://www.signingsavvy.com/signs/mp4/9/9194.mp4</td>\n",
       "      <td>0</td>\n",
       "      <td>1560</td>\n",
       "      <td>43</td>\n",
       "      <td>3</td>\n",
       "      <td>212</td>\n",
       "      <td>192</td>\n",
       "      <td>ago</td>\n",
       "    </tr>\n",
       "    <tr>\n",
       "      <th>4</th>\n",
       "      <td>25</td>\n",
       "      <td>-1</td>\n",
       "      <td>1</td>\n",
       "      <td>5</td>\n",
       "      <td>11</td>\n",
       "      <td>signingsavvy</td>\n",
       "      <td>train</td>\n",
       "      <td>https://www.signingsavvy.com/signs/mp4/9/9196.mp4</td>\n",
       "      <td>0</td>\n",
       "      <td>1561</td>\n",
       "      <td>34</td>\n",
       "      <td>0</td>\n",
       "      <td>218</td>\n",
       "      <td>192</td>\n",
       "      <td>ago</td>\n",
       "    </tr>\n",
       "    <tr>\n",
       "      <th>...</th>\n",
       "      <td>...</td>\n",
       "      <td>...</td>\n",
       "      <td>...</td>\n",
       "      <td>...</td>\n",
       "      <td>...</td>\n",
       "      <td>...</td>\n",
       "      <td>...</td>\n",
       "      <td>...</td>\n",
       "      <td>...</td>\n",
       "      <td>...</td>\n",
       "      <td>...</td>\n",
       "      <td>...</td>\n",
       "      <td>...</td>\n",
       "      <td>...</td>\n",
       "      <td>...</td>\n",
       "    </tr>\n",
       "    <tr>\n",
       "      <th>510</th>\n",
       "      <td>25</td>\n",
       "      <td>-1</td>\n",
       "      <td>1</td>\n",
       "      <td>15</td>\n",
       "      <td>28</td>\n",
       "      <td>spreadthesign</td>\n",
       "      <td>train</td>\n",
       "      <td>https://media.spreadthesign.com/video/mp4/13/4...</td>\n",
       "      <td>0</td>\n",
       "      <td>64280</td>\n",
       "      <td>20</td>\n",
       "      <td>13</td>\n",
       "      <td>258</td>\n",
       "      <td>240</td>\n",
       "      <td>yes</td>\n",
       "    </tr>\n",
       "    <tr>\n",
       "      <th>511</th>\n",
       "      <td>25</td>\n",
       "      <td>-1</td>\n",
       "      <td>1</td>\n",
       "      <td>19</td>\n",
       "      <td>36</td>\n",
       "      <td>startasl</td>\n",
       "      <td>train</td>\n",
       "      <td>https://s3-us-west-1.amazonaws.com/files.start...</td>\n",
       "      <td>0</td>\n",
       "      <td>64281</td>\n",
       "      <td>222</td>\n",
       "      <td>13</td>\n",
       "      <td>524</td>\n",
       "      <td>414</td>\n",
       "      <td>yes</td>\n",
       "    </tr>\n",
       "    <tr>\n",
       "      <th>512</th>\n",
       "      <td>25</td>\n",
       "      <td>-1</td>\n",
       "      <td>1</td>\n",
       "      <td>23</td>\n",
       "      <td>4</td>\n",
       "      <td>signschool</td>\n",
       "      <td>train</td>\n",
       "      <td>https://signstock.blob.core.windows.net/signsc...</td>\n",
       "      <td>0</td>\n",
       "      <td>64283</td>\n",
       "      <td>625</td>\n",
       "      <td>111</td>\n",
       "      <td>1483</td>\n",
       "      <td>1063</td>\n",
       "      <td>yes</td>\n",
       "    </tr>\n",
       "    <tr>\n",
       "      <th>513</th>\n",
       "      <td>25</td>\n",
       "      <td>-1</td>\n",
       "      <td>1</td>\n",
       "      <td>14</td>\n",
       "      <td>42</td>\n",
       "      <td>spreadthesign</td>\n",
       "      <td>test</td>\n",
       "      <td>https://media.spreadthesign.com/video/mp4/13/5...</td>\n",
       "      <td>0</td>\n",
       "      <td>64304</td>\n",
       "      <td>39</td>\n",
       "      <td>0</td>\n",
       "      <td>278</td>\n",
       "      <td>240</td>\n",
       "      <td>yesterday</td>\n",
       "    </tr>\n",
       "    <tr>\n",
       "      <th>514</th>\n",
       "      <td>25</td>\n",
       "      <td>-1</td>\n",
       "      <td>1</td>\n",
       "      <td>15</td>\n",
       "      <td>38</td>\n",
       "      <td>startasl</td>\n",
       "      <td>train</td>\n",
       "      <td>https://s3-us-west-1.amazonaws.com/files.start...</td>\n",
       "      <td>0</td>\n",
       "      <td>64305</td>\n",
       "      <td>386</td>\n",
       "      <td>42</td>\n",
       "      <td>811</td>\n",
       "      <td>720</td>\n",
       "      <td>yesterday</td>\n",
       "    </tr>\n",
       "  </tbody>\n",
       "</table>\n",
       "<p>2060 rows × 15 columns</p>\n",
       "</div>"
      ],
      "text/plain": [
       "     fps  frame_end  frame_start  instance_id  signer_id         source  \\\n",
       "0     25         -1            1           15         11   signingsavvy   \n",
       "1     25         -1            1            1         12      aslsearch   \n",
       "2     25         -1            1           17         41      aslsearch   \n",
       "3     25         -1            1            4         11   signingsavvy   \n",
       "4     25         -1            1            5         11   signingsavvy   \n",
       "..   ...        ...          ...          ...        ...            ...   \n",
       "510   25         -1            1           15         28  spreadthesign   \n",
       "511   25         -1            1           19         36       startasl   \n",
       "512   25         -1            1           23          4     signschool   \n",
       "513   25         -1            1           14         42  spreadthesign   \n",
       "514   25         -1            1           15         38       startasl   \n",
       "\n",
       "     split                                                url  variation_id  \\\n",
       "0     test  https://www.signingsavvy.com/signs/mp4/7/7493.mp4             0   \n",
       "1    train  http://www.aslsearch.com/signs/videos/accident...             0   \n",
       "2      val   http://www.aslsearch.com/signs/videos/africa.mp4             0   \n",
       "3      val  https://www.signingsavvy.com/signs/mp4/9/9194.mp4             0   \n",
       "4    train  https://www.signingsavvy.com/signs/mp4/9/9196.mp4             0   \n",
       "..     ...                                                ...           ...   \n",
       "510  train  https://media.spreadthesign.com/video/mp4/13/4...             0   \n",
       "511  train  https://s3-us-west-1.amazonaws.com/files.start...             0   \n",
       "512  train  https://signstock.blob.core.windows.net/signsc...             0   \n",
       "513   test  https://media.spreadthesign.com/video/mp4/13/5...             0   \n",
       "514  train  https://s3-us-west-1.amazonaws.com/files.start...             0   \n",
       "\n",
       "     video_id  bbox_xmin  bbox_ymin  bbox_xmax  bbox_ymax      gloss  \n",
       "0         634         61         12        227        192   accident  \n",
       "1         639        180         45        574        400   accident  \n",
       "2        1398        236         33        493        400     africa  \n",
       "3        1560         43          3        212        192        ago  \n",
       "4        1561         34          0        218        192        ago  \n",
       "..        ...        ...        ...        ...        ...        ...  \n",
       "510     64280         20         13        258        240        yes  \n",
       "511     64281        222         13        524        414        yes  \n",
       "512     64283        625        111       1483       1063        yes  \n",
       "513     64304         39          0        278        240  yesterday  \n",
       "514     64305        386         42        811        720  yesterday  \n",
       "\n",
       "[2060 rows x 15 columns]"
      ]
     },
     "execution_count": 4,
     "metadata": {},
     "output_type": "execute_result"
    }
   ],
   "source": [
    "df"
   ]
  },
  {
   "cell_type": "code",
   "execution_count": 36,
   "id": "350dd7bc-4607-4c84-b759-41bba642f32e",
   "metadata": {},
   "outputs": [],
   "source": [
    "id_train = list(df[df.split==\"train\"].index)\n",
    "id_val = list(df[df.split==\"val\"].index)\n",
    "id_test = list(df[df.split==\"test\"].index)"
   ]
  },
  {
   "cell_type": "code",
   "execution_count": 43,
   "id": "a8886085-81aa-44bb-b4fc-a2715914968a",
   "metadata": {},
   "outputs": [],
   "source": [
    "X_train = np.take(X, id_train, axis = 0)\n",
    "X_val = np.take(X, id_val, axis = 0)\n",
    "X_test = np.take(X, id_test, axis = 0)\n",
    "\n",
    "masks_train = np.take(masks, id_train, axis = 0)\n",
    "masks_val = np.take(masks, id_val, axis = 0)\n",
    "masks_test = np.take(masks, id_test, axis = 0)"
   ]
  },
  {
   "cell_type": "markdown",
   "id": "8be75c86-44b3-49b7-9c0d-78f1d6d002e3",
   "metadata": {},
   "source": [
    "## Prepare dataset"
   ]
  },
  {
   "cell_type": "code",
   "execution_count": 40,
   "id": "75aaa875-a55e-40b1-b3ba-5ea54bffc9bc",
   "metadata": {},
   "outputs": [],
   "source": [
    "encoder = pickle.load(open(\"reduced one hot encoder\", 'rb'))\n",
    "y_train = encoder.transform(np.array(list(df[df.split==\"train\"][\"gloss\"])).reshape(-1,1)).toarray()\n",
    "y_val = encoder.transform(np.array(list(df[df.split==\"val\"][\"gloss\"])).reshape(-1,1)).toarray()\n",
    "y_test = encoder.transform(np.array(list(df[df.split==\"test\"][\"gloss\"])).reshape(-1,1)).toarray()"
   ]
  },
  {
   "cell_type": "code",
   "execution_count": 41,
   "id": "9731e476-0839-4d60-92cc-c8012aa088ab",
   "metadata": {},
   "outputs": [],
   "source": [
    "le = pickle.load(open(\"reduced label encoder\", 'rb'))\n",
    "le_train = le.transform(np.array(list(df[df.split==\"train\"][\"gloss\"])))\n",
    "le_val = le.transform(np.array(list(df[df.split==\"val\"][\"gloss\"])))\n",
    "le_test = le.transform(np.array(list(df[df.split==\"test\"][\"gloss\"])))"
   ]
  },
  {
   "cell_type": "code",
   "execution_count": 42,
   "id": "55e6616b-18e1-4e53-94d4-34acbb309eef",
   "metadata": {},
   "outputs": [
    {
     "data": {
      "text/plain": [
       "(1456, 204)"
      ]
     },
     "execution_count": 42,
     "metadata": {},
     "output_type": "execute_result"
    }
   ],
   "source": [
    "y_train.shape"
   ]
  },
  {
   "cell_type": "code",
   "execution_count": 44,
   "id": "8a984cf9-c359-4c87-af59-c3800afc6061",
   "metadata": {},
   "outputs": [],
   "source": [
    "IMG_SHAPE = X_train.shape[1:]\n",
    "nb_classes = y_train.shape[-1]\n",
    "masks_shape = masks.shape[1:]"
   ]
  },
  {
   "cell_type": "code",
   "execution_count": 45,
   "id": "c758c8fd-6942-416f-ad5d-fcda4a16b866",
   "metadata": {},
   "outputs": [
    {
     "name": "stdout",
     "output_type": "stream",
     "text": [
      "(2060, 64, 576) (2060, 204) (2060, 64)\n"
     ]
    }
   ],
   "source": [
    "print(X.shape, y.shape, masks.shape)"
   ]
  },
  {
   "cell_type": "markdown",
   "id": "5e070a26-38c8-42dc-9f61-3c0148ea62db",
   "metadata": {},
   "source": [
    "## Model implementation"
   ]
  },
  {
   "cell_type": "markdown",
   "id": "ba290f6b-1333-4aa7-8fbe-10a9054375a3",
   "metadata": {},
   "source": [
    "### CNN-GRU"
   ]
  },
  {
   "cell_type": "code",
   "execution_count": 46,
   "id": "d10498e0-909f-45ec-8f90-e0bf1953dd5a",
   "metadata": {},
   "outputs": [],
   "source": [
    "input_layer = Input(shape=IMG_SHAPE)\n",
    "masks_layer = Input(masks_shape, dtype='bool')\n",
    "gru_layer = GRU(64)(input_layer, mask = masks_layer)\n",
    "dense_layer = Dense(128, activation='relu')(gru_layer)\n",
    "output_layer = Dense(nb_classes, activation='softmax')(dense_layer)\n",
    "\n",
    "model = Model([input_layer, masks_layer], output_layer)\n",
    "model.compile(loss='CategoricalCrossentropy', optimizer='adam', metrics=['accuracy'])"
   ]
  },
  {
   "cell_type": "code",
   "execution_count": 47,
   "id": "92075f8d-ccb7-4054-85c1-01b2939bdc4b",
   "metadata": {
    "scrolled": true,
    "tags": []
   },
   "outputs": [
    {
     "name": "stdout",
     "output_type": "stream",
     "text": [
      "Model: \"model_4\"\n",
      "__________________________________________________________________________________________________\n",
      " Layer (type)                   Output Shape         Param #     Connected to                     \n",
      "==================================================================================================\n",
      " input_8 (InputLayer)           [(None, 64, 576)]    0           []                               \n",
      "                                                                                                  \n",
      " input_9 (InputLayer)           [(None, 64)]         0           []                               \n",
      "                                                                                                  \n",
      " gru_2 (GRU)                    (None, 64)           123264      ['input_8[0][0]',                \n",
      "                                                                  'input_9[0][0]']                \n",
      "                                                                                                  \n",
      " dense_11 (Dense)               (None, 128)          8320        ['gru_2[0][0]']                  \n",
      "                                                                                                  \n",
      " dense_12 (Dense)               (None, 204)          26316       ['dense_11[0][0]']               \n",
      "                                                                                                  \n",
      "==================================================================================================\n",
      "Total params: 157,900\n",
      "Trainable params: 157,900\n",
      "Non-trainable params: 0\n",
      "__________________________________________________________________________________________________\n"
     ]
    }
   ],
   "source": [
    "model.summary()"
   ]
  },
  {
   "cell_type": "code",
   "execution_count": 48,
   "id": "bcbff7a8-88ae-4ff1-8ad0-f17df7f09d2e",
   "metadata": {},
   "outputs": [
    {
     "name": "stdout",
     "output_type": "stream",
     "text": [
      "Epoch 1/50\n",
      "23/23 [==============================] - 6s 272ms/step - loss: 5.3271 - accuracy: 0.0069 - val_loss: 5.2754 - val_accuracy: 0.0086\n",
      "Epoch 2/50\n",
      "23/23 [==============================] - 6s 274ms/step - loss: 5.1558 - accuracy: 0.0254 - val_loss: 5.1769 - val_accuracy: 0.0114\n",
      "Epoch 3/50\n",
      "23/23 [==============================] - 7s 296ms/step - loss: 4.9276 - accuracy: 0.0295 - val_loss: 5.0827 - val_accuracy: 0.0114\n",
      "Epoch 4/50\n",
      "23/23 [==============================] - 6s 272ms/step - loss: 4.6733 - accuracy: 0.0467 - val_loss: 5.0436 - val_accuracy: 0.0229\n",
      "Epoch 5/50\n",
      "23/23 [==============================] - 6s 269ms/step - loss: 4.4615 - accuracy: 0.0591 - val_loss: 5.0155 - val_accuracy: 0.0229\n",
      "Epoch 6/50\n",
      "23/23 [==============================] - 6s 263ms/step - loss: 4.2727 - accuracy: 0.0776 - val_loss: 5.0110 - val_accuracy: 0.0257\n",
      "Epoch 7/50\n",
      "23/23 [==============================] - 7s 287ms/step - loss: 4.1214 - accuracy: 0.0913 - val_loss: 5.0075 - val_accuracy: 0.0514\n",
      "Epoch 8/50\n",
      "23/23 [==============================] - 7s 287ms/step - loss: 3.9962 - accuracy: 0.1051 - val_loss: 5.0337 - val_accuracy: 0.0429\n",
      "Epoch 9/50\n",
      "23/23 [==============================] - 7s 299ms/step - loss: 3.8720 - accuracy: 0.1195 - val_loss: 5.0396 - val_accuracy: 0.0514\n",
      "Epoch 10/50\n",
      "23/23 [==============================] - 6s 267ms/step - loss: 3.7571 - accuracy: 0.1305 - val_loss: 5.0478 - val_accuracy: 0.0571\n",
      "Epoch 11/50\n",
      "23/23 [==============================] - 6s 265ms/step - loss: 3.6491 - accuracy: 0.1621 - val_loss: 5.0791 - val_accuracy: 0.0771\n",
      "Epoch 12/50\n",
      "23/23 [==============================] - 6s 267ms/step - loss: 3.5283 - accuracy: 0.1621 - val_loss: 5.1028 - val_accuracy: 0.0743\n",
      "Epoch 13/50\n",
      "23/23 [==============================] - 6s 283ms/step - loss: 3.4130 - accuracy: 0.1745 - val_loss: 5.1281 - val_accuracy: 0.0829\n",
      "Epoch 14/50\n",
      "23/23 [==============================] - 6s 263ms/step - loss: 3.3128 - accuracy: 0.1861 - val_loss: 5.1342 - val_accuracy: 0.0771\n",
      "Epoch 15/50\n",
      "23/23 [==============================] - 6s 261ms/step - loss: 3.2196 - accuracy: 0.2136 - val_loss: 5.1916 - val_accuracy: 0.0771\n",
      "Epoch 16/50\n",
      "23/23 [==============================] - 6s 267ms/step - loss: 3.1044 - accuracy: 0.2232 - val_loss: 5.2223 - val_accuracy: 0.0800\n",
      "Epoch 17/50\n",
      "23/23 [==============================] - 6s 284ms/step - loss: 3.0087 - accuracy: 0.2390 - val_loss: 5.2333 - val_accuracy: 0.0943\n",
      "Epoch 18/50\n",
      "23/23 [==============================] - 6s 271ms/step - loss: 2.9227 - accuracy: 0.2534 - val_loss: 5.3052 - val_accuracy: 0.0914\n",
      "Epoch 19/50\n",
      "23/23 [==============================] - 7s 308ms/step - loss: 2.8498 - accuracy: 0.2555 - val_loss: 5.3106 - val_accuracy: 0.0886\n",
      "Epoch 20/50\n",
      "23/23 [==============================] - 6s 273ms/step - loss: 2.7658 - accuracy: 0.2768 - val_loss: 5.3104 - val_accuracy: 0.0914\n",
      "Epoch 21/50\n",
      "23/23 [==============================] - 7s 300ms/step - loss: 2.7203 - accuracy: 0.2582 - val_loss: 5.3575 - val_accuracy: 0.0886\n",
      "Epoch 22/50\n",
      "23/23 [==============================] - 6s 271ms/step - loss: 2.6291 - accuracy: 0.2905 - val_loss: 5.4457 - val_accuracy: 0.1143\n",
      "Epoch 23/50\n",
      "23/23 [==============================] - 6s 271ms/step - loss: 2.5566 - accuracy: 0.3118 - val_loss: 5.4580 - val_accuracy: 0.1257\n",
      "Epoch 24/50\n",
      "23/23 [==============================] - 7s 285ms/step - loss: 2.4478 - accuracy: 0.3228 - val_loss: 5.5120 - val_accuracy: 0.1314\n",
      "Epoch 25/50\n",
      "23/23 [==============================] - 6s 283ms/step - loss: 2.3744 - accuracy: 0.3427 - val_loss: 5.5531 - val_accuracy: 0.1257\n",
      "Epoch 26/50\n",
      "23/23 [==============================] - 7s 285ms/step - loss: 2.3109 - accuracy: 0.3317 - val_loss: 5.5927 - val_accuracy: 0.1486\n",
      "Epoch 27/50\n",
      "23/23 [==============================] - 7s 301ms/step - loss: 2.2391 - accuracy: 0.3523 - val_loss: 5.6361 - val_accuracy: 0.1457\n",
      "Epoch 28/50\n",
      "23/23 [==============================] - 6s 275ms/step - loss: 2.1945 - accuracy: 0.3592 - val_loss: 5.7482 - val_accuracy: 0.1571\n",
      "Epoch 29/50\n",
      "23/23 [==============================] - 6s 271ms/step - loss: 2.1747 - accuracy: 0.3613 - val_loss: 5.7024 - val_accuracy: 0.1543\n",
      "Epoch 30/50\n",
      "23/23 [==============================] - 6s 274ms/step - loss: 2.1293 - accuracy: 0.3599 - val_loss: 5.8503 - val_accuracy: 0.1343\n",
      "Epoch 31/50\n",
      "23/23 [==============================] - 6s 272ms/step - loss: 2.0509 - accuracy: 0.3709 - val_loss: 5.8696 - val_accuracy: 0.1571\n",
      "Epoch 32/50\n",
      "23/23 [==============================] - 6s 266ms/step - loss: 2.0071 - accuracy: 0.3771 - val_loss: 5.8817 - val_accuracy: 0.1514\n",
      "Epoch 33/50\n",
      "23/23 [==============================] - 6s 272ms/step - loss: 1.9593 - accuracy: 0.3922 - val_loss: 5.9376 - val_accuracy: 0.1657\n",
      "Epoch 34/50\n",
      "23/23 [==============================] - 6s 275ms/step - loss: 1.9320 - accuracy: 0.3791 - val_loss: 6.0594 - val_accuracy: 0.1657\n",
      "Epoch 35/50\n",
      "23/23 [==============================] - 6s 271ms/step - loss: 1.8886 - accuracy: 0.4018 - val_loss: 6.0834 - val_accuracy: 0.1686\n",
      "Epoch 36/50\n",
      "23/23 [==============================] - 6s 269ms/step - loss: 1.8329 - accuracy: 0.3949 - val_loss: 6.1843 - val_accuracy: 0.1771\n",
      "Epoch 37/50\n",
      "23/23 [==============================] - 6s 272ms/step - loss: 1.7941 - accuracy: 0.3997 - val_loss: 6.1645 - val_accuracy: 0.1657\n",
      "Epoch 38/50\n",
      "23/23 [==============================] - 6s 277ms/step - loss: 1.7530 - accuracy: 0.4100 - val_loss: 6.2605 - val_accuracy: 0.1657\n",
      "Epoch 39/50\n",
      "23/23 [==============================] - 6s 283ms/step - loss: 1.7426 - accuracy: 0.4018 - val_loss: 6.2719 - val_accuracy: 0.1657\n",
      "Epoch 40/50\n",
      "23/23 [==============================] - 7s 283ms/step - loss: 1.6980 - accuracy: 0.4176 - val_loss: 6.3727 - val_accuracy: 0.1714\n",
      "Epoch 41/50\n",
      "23/23 [==============================] - 7s 313ms/step - loss: 1.6646 - accuracy: 0.4073 - val_loss: 6.4289 - val_accuracy: 0.1943\n",
      "Epoch 42/50\n",
      "23/23 [==============================] - 7s 327ms/step - loss: 1.6251 - accuracy: 0.4306 - val_loss: 6.4809 - val_accuracy: 0.1686\n",
      "Epoch 43/50\n",
      "23/23 [==============================] - 7s 296ms/step - loss: 1.6123 - accuracy: 0.4093 - val_loss: 6.5920 - val_accuracy: 0.1714\n",
      "Epoch 44/50\n",
      "23/23 [==============================] - 7s 293ms/step - loss: 1.5744 - accuracy: 0.4245 - val_loss: 6.6122 - val_accuracy: 0.1714\n",
      "Epoch 45/50\n",
      "23/23 [==============================] - 6s 283ms/step - loss: 1.5580 - accuracy: 0.4354 - val_loss: 6.6229 - val_accuracy: 0.1629\n",
      "Epoch 46/50\n",
      "23/23 [==============================] - 6s 277ms/step - loss: 1.5559 - accuracy: 0.4176 - val_loss: 6.8275 - val_accuracy: 0.1486\n",
      "Epoch 47/50\n",
      "23/23 [==============================] - 6s 270ms/step - loss: 1.5374 - accuracy: 0.4183 - val_loss: 6.7775 - val_accuracy: 0.1857\n",
      "Epoch 48/50\n",
      "23/23 [==============================] - 6s 265ms/step - loss: 1.5007 - accuracy: 0.4368 - val_loss: 6.8075 - val_accuracy: 0.1829\n",
      "Epoch 49/50\n",
      "23/23 [==============================] - 6s 268ms/step - loss: 1.4707 - accuracy: 0.4334 - val_loss: 6.8735 - val_accuracy: 0.1857\n",
      "Epoch 50/50\n",
      "23/23 [==============================] - 6s 280ms/step - loss: 1.4590 - accuracy: 0.4183 - val_loss: 6.8649 - val_accuracy: 0.1914\n"
     ]
    },
    {
     "data": {
      "image/png": "[encoded data removed]",
      "text/plain": [
       "<Figure size 432x288 with 1 Axes>"
      ]
     },
     "metadata": {
      "needs_background": "light"
     },
     "output_type": "display_data"
    }
   ],
   "source": [
    "model.fit([X_train, masks_train], y_train, epochs=50, batch_size=64, validation_data = ([X_val, masks_val], y_val),  shuffle = True)\n",
    "\n",
    "plt.plot(model.history.history['loss'])\n",
    "plt.plot(model.history.history['val_loss'])\n",
    "plt.plot(model.history.history['accuracy'])\n",
    "plt.plot(model.history.history['val_accuracy'])\n",
    "plt.legend([\"Training set loss\", \"Validation set loss\", \"Accuracy\", \"Validation accuracy\"])\n",
    "\n",
    "plt.yscale(\"log\")\n",
    "plt.show()"
   ]
  },
  {
   "cell_type": "code",
   "execution_count": 50,
   "id": "1a6e05a3-4199-40a0-a16a-9ef857bd8c5b",
   "metadata": {},
   "outputs": [
    {
     "name": "stdout",
     "output_type": "stream",
     "text": [
      "8/8 [==============================] - 1s 94ms/step\n",
      "F1 score :  0.20219347581552302\n",
      "Accuracy :  0.22440944881889763\n",
      "Precision score :  0.2152230971128609\n",
      "Recall score :  0.22440944881889763\n"
     ]
    },
    {
     "name": "stderr",
     "output_type": "stream",
     "text": [
      "C:\\Users\\thoma\\AppData\\Local\\Programs\\Python\\Python39\\lib\\site-packages\\sklearn\\metrics\\_classification.py:1327: UndefinedMetricWarning: Precision is ill-defined and being set to 0.0 in labels with no predicted samples. Use `zero_division` parameter to control this behavior.\n",
      "  _warn_prf(average, modifier, msg_start, len(result))\n",
      "C:\\Users\\thoma\\AppData\\Local\\Programs\\Python\\Python39\\lib\\site-packages\\sklearn\\metrics\\_classification.py:1327: UndefinedMetricWarning: Recall is ill-defined and being set to 0.0 in labels with no true samples. Use `zero_division` parameter to control this behavior.\n",
      "  _warn_prf(average, modifier, msg_start, len(result))\n"
     ]
    }
   ],
   "source": [
    "y_pred1 = model.predict([X_test, masks_test])         \n",
    "y_pred1 = np.argmax(y_pred1, axis = 1)\n",
    "\n",
    "print(\"F1 score : \", f1_score(le_test, y_pred1, average = 'weighted'))\n",
    "print(\"Accuracy : \", accuracy_score(le_test, y_pred1))\n",
    "print(\"Precision score : \", precision_score(le_test, y_pred1, average = 'weighted'))\n",
    "print(\"Recall score : \", recall_score(le_test, y_pred1, average = 'weighted'))"
   ]
  },
  {
   "cell_type": "code",
   "execution_count": null,
   "id": "7dc4fefb-7209-43bc-92f4-01bf9e9779de",
   "metadata": {},
   "outputs": [],
   "source": []
  },
  {
   "cell_type": "code",
   "execution_count": 51,
   "id": "9dc11acf-befa-4b83-995f-7a8c20f0d778",
   "metadata": {},
   "outputs": [],
   "source": [
    "input_layer = Input(shape=IMG_SHAPE)\n",
    "masks_layer = Input(masks_shape, dtype='bool')\n",
    "gru_layer1 = GRU(256, return_sequences=True,)(input_layer, mask = masks_layer)\n",
    "gru_layer2 = GRU(128)(gru_layer1)\n",
    "dense_layer = Dense(128, activation='relu')(gru_layer2)\n",
    "output_layer = Dense(nb_classes, activation='softmax')(dense_layer)\n",
    "\n",
    "model2 = Model([input_layer, masks_layer], output_layer)\n",
    "model2.compile(loss='CategoricalCrossentropy', optimizer='adam', metrics=['accuracy'])"
   ]
  },
  {
   "cell_type": "code",
   "execution_count": 52,
   "id": "e9df0ec4-593c-4067-afce-d4c432ded6c4",
   "metadata": {
    "scrolled": true,
    "tags": []
   },
   "outputs": [
    {
     "name": "stdout",
     "output_type": "stream",
     "text": [
      "Model: \"model_5\"\n",
      "__________________________________________________________________________________________________\n",
      " Layer (type)                   Output Shape         Param #     Connected to                     \n",
      "==================================================================================================\n",
      " input_10 (InputLayer)          [(None, 64, 576)]    0           []                               \n",
      "                                                                                                  \n",
      " input_11 (InputLayer)          [(None, 64)]         0           []                               \n",
      "                                                                                                  \n",
      " gru_3 (GRU)                    (None, 64, 256)      640512      ['input_10[0][0]',               \n",
      "                                                                  'input_11[0][0]']               \n",
      "                                                                                                  \n",
      " gru_4 (GRU)                    (None, 128)          148224      ['gru_3[0][0]']                  \n",
      "                                                                                                  \n",
      " dense_13 (Dense)               (None, 128)          16512       ['gru_4[0][0]']                  \n",
      "                                                                                                  \n",
      " dense_14 (Dense)               (None, 204)          26316       ['dense_13[0][0]']               \n",
      "                                                                                                  \n",
      "==================================================================================================\n",
      "Total params: 831,564\n",
      "Trainable params: 831,564\n",
      "Non-trainable params: 0\n",
      "__________________________________________________________________________________________________\n"
     ]
    }
   ],
   "source": [
    "model2.summary()"
   ]
  },
  {
   "cell_type": "code",
   "execution_count": 53,
   "id": "24358d0e-574e-40db-9450-ccc5acf7598b",
   "metadata": {},
   "outputs": [
    {
     "name": "stdout",
     "output_type": "stream",
     "text": [
      "Epoch 1/50\n",
      "23/23 [==============================] - 21s 916ms/step - loss: 5.3306 - accuracy: 0.0062 - val_loss: 5.2555 - val_accuracy: 0.0057\n",
      "Epoch 2/50\n",
      "23/23 [==============================] - 22s 949ms/step - loss: 5.0866 - accuracy: 0.0199 - val_loss: 5.1181 - val_accuracy: 0.0314\n",
      "Epoch 3/50\n",
      "23/23 [==============================] - 21s 909ms/step - loss: 4.8051 - accuracy: 0.0371 - val_loss: 5.0361 - val_accuracy: 0.0257\n",
      "Epoch 4/50\n",
      "23/23 [==============================] - 21s 908ms/step - loss: 4.5367 - accuracy: 0.0673 - val_loss: 4.9665 - val_accuracy: 0.0429\n",
      "Epoch 5/50\n",
      "23/23 [==============================] - 22s 971ms/step - loss: 4.3043 - accuracy: 0.0797 - val_loss: 4.9582 - val_accuracy: 0.0371\n",
      "Epoch 6/50\n",
      "23/23 [==============================] - 22s 965ms/step - loss: 4.1081 - accuracy: 0.0962 - val_loss: 4.9430 - val_accuracy: 0.0543\n",
      "Epoch 7/50\n",
      "23/23 [==============================] - 21s 895ms/step - loss: 3.9306 - accuracy: 0.1174 - val_loss: 4.9577 - val_accuracy: 0.0657\n",
      "Epoch 8/50\n",
      "23/23 [==============================] - 21s 901ms/step - loss: 3.7672 - accuracy: 0.1216 - val_loss: 4.9703 - val_accuracy: 0.0629\n",
      "Epoch 9/50\n",
      "23/23 [==============================] - 22s 945ms/step - loss: 3.5834 - accuracy: 0.1532 - val_loss: 4.9631 - val_accuracy: 0.0714\n",
      "Epoch 10/50\n",
      "23/23 [==============================] - 21s 907ms/step - loss: 3.4333 - accuracy: 0.1731 - val_loss: 4.9838 - val_accuracy: 0.0829\n",
      "Epoch 11/50\n",
      "23/23 [==============================] - 21s 905ms/step - loss: 3.2715 - accuracy: 0.1985 - val_loss: 5.0483 - val_accuracy: 0.0800\n",
      "Epoch 12/50\n",
      "23/23 [==============================] - 21s 913ms/step - loss: 3.1189 - accuracy: 0.2266 - val_loss: 5.0175 - val_accuracy: 0.0886\n",
      "Epoch 13/50\n",
      "23/23 [==============================] - 22s 950ms/step - loss: 2.9830 - accuracy: 0.2335 - val_loss: 5.0247 - val_accuracy: 0.1029\n",
      "Epoch 14/50\n",
      "23/23 [==============================] - 21s 928ms/step - loss: 2.8318 - accuracy: 0.2521 - val_loss: 5.1036 - val_accuracy: 0.1171\n",
      "Epoch 15/50\n",
      "23/23 [==============================] - 21s 906ms/step - loss: 2.7109 - accuracy: 0.2788 - val_loss: 5.1450 - val_accuracy: 0.1286\n",
      "Epoch 16/50\n",
      "23/23 [==============================] - 21s 905ms/step - loss: 2.5793 - accuracy: 0.2864 - val_loss: 5.1968 - val_accuracy: 0.1200\n",
      "Epoch 17/50\n",
      "23/23 [==============================] - 22s 953ms/step - loss: 2.4711 - accuracy: 0.3276 - val_loss: 5.2893 - val_accuracy: 0.1286\n",
      "Epoch 18/50\n",
      "23/23 [==============================] - 21s 914ms/step - loss: 2.3441 - accuracy: 0.3297 - val_loss: 5.2455 - val_accuracy: 0.1600\n",
      "Epoch 19/50\n",
      "23/23 [==============================] - 22s 940ms/step - loss: 2.2480 - accuracy: 0.3537 - val_loss: 5.3496 - val_accuracy: 0.1571\n",
      "Epoch 20/50\n",
      "23/23 [==============================] - 21s 900ms/step - loss: 2.1536 - accuracy: 0.3723 - val_loss: 5.4124 - val_accuracy: 0.1400\n",
      "Epoch 21/50\n",
      "23/23 [==============================] - 21s 919ms/step - loss: 2.0664 - accuracy: 0.3654 - val_loss: 5.5202 - val_accuracy: 0.1686\n",
      "Epoch 22/50\n",
      "23/23 [==============================] - 23s 977ms/step - loss: 1.9472 - accuracy: 0.3709 - val_loss: 5.5856 - val_accuracy: 0.1914\n",
      "Epoch 23/50\n",
      "23/23 [==============================] - 22s 933ms/step - loss: 1.8798 - accuracy: 0.3784 - val_loss: 5.7040 - val_accuracy: 0.1686\n",
      "Epoch 24/50\n",
      "23/23 [==============================] - 21s 933ms/step - loss: 1.7973 - accuracy: 0.3874 - val_loss: 5.7239 - val_accuracy: 0.1743\n",
      "Epoch 25/50\n",
      "23/23 [==============================] - 21s 933ms/step - loss: 1.8082 - accuracy: 0.3942 - val_loss: 5.8392 - val_accuracy: 0.1886\n",
      "Epoch 26/50\n",
      "23/23 [==============================] - 21s 927ms/step - loss: 1.7268 - accuracy: 0.3949 - val_loss: 5.8978 - val_accuracy: 0.1829\n",
      "Epoch 27/50\n",
      "23/23 [==============================] - 21s 932ms/step - loss: 1.6551 - accuracy: 0.3977 - val_loss: 6.0525 - val_accuracy: 0.1886\n",
      "Epoch 28/50\n",
      "23/23 [==============================] - 21s 930ms/step - loss: 1.5818 - accuracy: 0.4100 - val_loss: 6.0634 - val_accuracy: 0.1771\n",
      "Epoch 29/50\n",
      "23/23 [==============================] - 22s 958ms/step - loss: 1.5400 - accuracy: 0.4052 - val_loss: 6.1530 - val_accuracy: 0.2029\n",
      "Epoch 30/50\n",
      "23/23 [==============================] - 22s 958ms/step - loss: 1.5227 - accuracy: 0.4073 - val_loss: 6.3149 - val_accuracy: 0.2029\n",
      "Epoch 31/50\n",
      "23/23 [==============================] - 21s 913ms/step - loss: 1.4916 - accuracy: 0.4066 - val_loss: 6.3325 - val_accuracy: 0.1943\n",
      "Epoch 32/50\n",
      "23/23 [==============================] - 21s 918ms/step - loss: 1.4550 - accuracy: 0.3977 - val_loss: 6.4187 - val_accuracy: 0.1829\n",
      "Epoch 33/50\n",
      "23/23 [==============================] - 22s 961ms/step - loss: 1.4449 - accuracy: 0.4093 - val_loss: 6.3761 - val_accuracy: 0.1771\n",
      "Epoch 34/50\n",
      "23/23 [==============================] - 22s 968ms/step - loss: 1.4026 - accuracy: 0.4238 - val_loss: 6.4968 - val_accuracy: 0.1971\n",
      "Epoch 35/50\n",
      "23/23 [==============================] - 21s 931ms/step - loss: 1.3838 - accuracy: 0.4293 - val_loss: 6.5489 - val_accuracy: 0.2086\n",
      "Epoch 36/50\n",
      "23/23 [==============================] - 22s 942ms/step - loss: 1.3483 - accuracy: 0.4128 - val_loss: 6.7303 - val_accuracy: 0.2057\n",
      "Epoch 37/50\n",
      "23/23 [==============================] - 21s 923ms/step - loss: 1.3136 - accuracy: 0.4073 - val_loss: 6.6720 - val_accuracy: 0.2029\n",
      "Epoch 38/50\n",
      "23/23 [==============================] - 22s 934ms/step - loss: 1.2970 - accuracy: 0.4176 - val_loss: 6.7652 - val_accuracy: 0.1886\n",
      "Epoch 39/50\n",
      "23/23 [==============================] - 22s 940ms/step - loss: 1.2887 - accuracy: 0.4203 - val_loss: 6.8620 - val_accuracy: 0.1857\n",
      "Epoch 40/50\n",
      "23/23 [==============================] - 22s 973ms/step - loss: 1.2901 - accuracy: 0.3846 - val_loss: 6.9079 - val_accuracy: 0.1771\n",
      "Epoch 41/50\n",
      "23/23 [==============================] - 21s 929ms/step - loss: 1.2594 - accuracy: 0.4087 - val_loss: 6.8812 - val_accuracy: 0.1743\n",
      "Epoch 42/50\n",
      "23/23 [==============================] - 22s 968ms/step - loss: 1.2612 - accuracy: 0.3929 - val_loss: 7.0345 - val_accuracy: 0.1800\n",
      "Epoch 43/50\n",
      "23/23 [==============================] - 21s 912ms/step - loss: 1.2394 - accuracy: 0.4196 - val_loss: 6.9633 - val_accuracy: 0.1800\n",
      "Epoch 44/50\n",
      "23/23 [==============================] - 21s 916ms/step - loss: 1.2430 - accuracy: 0.4011 - val_loss: 7.0426 - val_accuracy: 0.1857\n",
      "Epoch 45/50\n",
      "23/23 [==============================] - 20s 892ms/step - loss: 1.2378 - accuracy: 0.4128 - val_loss: 7.0093 - val_accuracy: 0.1943\n",
      "Epoch 46/50\n",
      "23/23 [==============================] - 21s 899ms/step - loss: 1.2172 - accuracy: 0.3908 - val_loss: 7.0567 - val_accuracy: 0.1543\n",
      "Epoch 47/50\n",
      "23/23 [==============================] - 21s 898ms/step - loss: 1.2052 - accuracy: 0.4066 - val_loss: 7.1607 - val_accuracy: 0.1943\n",
      "Epoch 48/50\n",
      "23/23 [==============================] - 20s 882ms/step - loss: 1.1948 - accuracy: 0.4121 - val_loss: 7.2887 - val_accuracy: 0.1886\n",
      "Epoch 49/50\n",
      "23/23 [==============================] - 21s 905ms/step - loss: 1.1990 - accuracy: 0.4052 - val_loss: 7.2345 - val_accuracy: 0.1857\n",
      "Epoch 50/50\n",
      "23/23 [==============================] - 22s 943ms/step - loss: 1.1862 - accuracy: 0.4011 - val_loss: 7.3618 - val_accuracy: 0.1829\n"
     ]
    },
    {
     "data": {
      "image/png": "[encoded data removed]",
      "text/plain": [
       "<Figure size 432x288 with 1 Axes>"
      ]
     },
     "metadata": {
      "needs_background": "light"
     },
     "output_type": "display_data"
    },
    {
     "data": {
      "image/png": "[encoded data removed]",
      "text/plain": [
       "<Figure size 432x288 with 1 Axes>"
      ]
     },
     "metadata": {
      "needs_background": "light"
     },
     "output_type": "display_data"
    }
   ],
   "source": [
    "model2.fit([X_train, masks_train], y_train, epochs=50, batch_size=64, validation_data = ([X_val, masks_val], y_val),  shuffle = True)\n",
    "\n",
    "plt.plot(model2.history.history['loss'])\n",
    "plt.plot(model2.history.history['val_loss'])\n",
    "plt.legend([\"Training set loss\", \"Validation set loss\"])\n",
    "plt.yscale(\"log\")\n",
    "plt.show()\n",
    "\n",
    "plt.plot(model2.history.history['accuracy'])\n",
    "plt.plot(model2.history.history['val_accuracy'])\n",
    "plt.legend([ \"Accuracy\", \"Validation accuracy\"])\n",
    "\n",
    "plt.show()"
   ]
  },
  {
   "cell_type": "code",
   "execution_count": 54,
   "id": "b22eaccf-af99-476b-82b7-411e68b64ac7",
   "metadata": {},
   "outputs": [
    {
     "name": "stdout",
     "output_type": "stream",
     "text": [
      "8/8 [==============================] - 2s 257ms/step\n",
      "F1 score :  0.17967754030746155\n",
      "Accuracy :  0.2125984251968504\n",
      "Precision score :  0.18280839895013126\n",
      "Recall score :  0.2125984251968504\n"
     ]
    },
    {
     "name": "stderr",
     "output_type": "stream",
     "text": [
      "C:\\Users\\thoma\\AppData\\Local\\Programs\\Python\\Python39\\lib\\site-packages\\sklearn\\metrics\\_classification.py:1327: UndefinedMetricWarning: Precision is ill-defined and being set to 0.0 in labels with no predicted samples. Use `zero_division` parameter to control this behavior.\n",
      "  _warn_prf(average, modifier, msg_start, len(result))\n",
      "C:\\Users\\thoma\\AppData\\Local\\Programs\\Python\\Python39\\lib\\site-packages\\sklearn\\metrics\\_classification.py:1327: UndefinedMetricWarning: Recall is ill-defined and being set to 0.0 in labels with no true samples. Use `zero_division` parameter to control this behavior.\n",
      "  _warn_prf(average, modifier, msg_start, len(result))\n"
     ]
    }
   ],
   "source": [
    "y_pred1 = model2.predict([X_test, masks_test])         \n",
    "y_pred1 = np.argmax(y_pred1, axis = 1)\n",
    "\n",
    "print(\"F1 score : \", f1_score(le_test, y_pred1, average = 'weighted'))\n",
    "print(\"Accuracy : \", accuracy_score(le_test, y_pred1))\n",
    "print(\"Precision score : \", precision_score(le_test, y_pred1, average = 'weighted'))\n",
    "print(\"Recall score : \", recall_score(le_test, y_pred1, average = 'weighted'))"
   ]
  },
  {
   "cell_type": "code",
   "execution_count": 66,
   "id": "5aa98c46-eaa0-4ef5-a234-f1e85887849f",
   "metadata": {},
   "outputs": [
    {
     "name": "stderr",
     "output_type": "stream",
     "text": [
      "WARNING:absl:Found untraced functions such as gru_cell_3_layer_call_fn, gru_cell_3_layer_call_and_return_conditional_losses, gru_cell_4_layer_call_fn, gru_cell_4_layer_call_and_return_conditional_losses while saving (showing 4 of 4). These functions will not be directly callable after loading.\n"
     ]
    },
    {
     "name": "stdout",
     "output_type": "stream",
     "text": [
      "INFO:tensorflow:Assets written to: CNN-RNN\\assets\n"
     ]
    },
    {
     "name": "stderr",
     "output_type": "stream",
     "text": [
      "INFO:tensorflow:Assets written to: CNN-RNN\\assets\n"
     ]
    }
   ],
   "source": [
    "model2.save(\"CNN-RNN\")"
   ]
  },
  {
   "cell_type": "markdown",
   "id": "43dd1437-5393-4fc1-a117-eea906a9da95",
   "metadata": {},
   "source": [
    "### Good result but overfitting"
   ]
  },
  {
   "cell_type": "markdown",
   "id": "38fc82d8-e126-4144-896b-4d005c9cc2ff",
   "metadata": {},
   "source": [
    "### With a transformer encoder"
   ]
  },
  {
   "cell_type": "markdown",
   "id": "0f6016fb-3461-4c45-b419-43822db3473c",
   "metadata": {},
   "source": [
    "Transformers implementation from : https://keras.io/examples/vision/video_transformers/"
   ]
  },
  {
   "cell_type": "code",
   "execution_count": 55,
   "id": "d607666a-0681-499a-aa43-14cee04b223e",
   "metadata": {},
   "outputs": [],
   "source": [
    "class PositionalEmbedding(Layer):\n",
    "    \n",
    "    def __init__(self, sequence_length, output_dim, **kwargs):\n",
    "        super().__init__(**kwargs)\n",
    "        self.position_embeddings = Embedding(input_dim = sequence_length, output_dim = output_dim)\n",
    "        self.sequence_length = sequence_length\n",
    "        self.output_dim = output_dim\n",
    "        \n",
    "    def call(self, inputs):\n",
    "        length = tf.shape(inputs)[1]\n",
    "        positions = tf.range(start=0, limit=length, delta=1)\n",
    "        \n",
    "        #embedding of the frame position inside a sequence\n",
    "        embedded_positions  = self.position_embeddings(positions)\n",
    "        return inputs + embedded_positions\n",
    "    \n",
    "    def compute_mask(self, inputs, mask=None):\n",
    "        #Reduction of elementwise logical OR only on features\n",
    "        mask = tf.reduce_any(tf.cast(inputs, \"bool\"), axis = -1)\n",
    "        return mask\n",
    "    \n",
    "class TransformerEncoder(Layer):\n",
    "    def __init__(self, embed_dim, dense_dim, num_heads, **kwargs):\n",
    "        super().__init__(**kwargs)\n",
    "        self.embed_dim = embed_dim\n",
    "        self.dense_dim = dense_dim\n",
    "        self.num_heads = num_heads\n",
    "        self.attention = MultiHeadAttention(\n",
    "            num_heads=num_heads, key_dim=embed_dim, dropout=0.3)\n",
    "        self.dense_proj = Sequential([Dense(dense_dim, activation=tf.nn.gelu), Dense(embed_dim)])\n",
    "        self.layernorm_1 = LayerNormalization()\n",
    "        self.layernorm_2 = LayerNormalization()\n",
    "        \n",
    "    def call(self, inputs, mask=None):\n",
    "        if mask is not None:\n",
    "            mask = mask[:, tf.newaxis, :]\n",
    "            \n",
    "        #Self attention block\n",
    "        attention_output = self.attention(inputs, inputs, attention_mask=mask)\n",
    "        \n",
    "        #Be sure projection distribution is normal\n",
    "        proj_input = self.layernorm_1(inputs + attention_output)\n",
    "        \n",
    "        # Prediction from self attention projection\n",
    "        proj_output = self.dense_proj(proj_input)\n",
    "        \n",
    "        return self.layernorm_2(proj_input + proj_output)"
   ]
  },
  {
   "cell_type": "code",
   "execution_count": 56,
   "id": "462c7803-6ccb-45e4-879e-5a04dd5fed06",
   "metadata": {},
   "outputs": [],
   "source": [
    "num_heads = 4\n",
    "sequence_length = IMG_SHAPE[0]\n",
    "embed_dim = IMG_SHAPE[-1]\n",
    "dense_dim = 4"
   ]
  },
  {
   "cell_type": "code",
   "execution_count": 57,
   "id": "38263852-455f-49b7-8b60-a1f7231369fb",
   "metadata": {},
   "outputs": [],
   "source": [
    "input_layer = Input(shape=IMG_SHAPE)\n",
    "positional_embedding_layer = PositionalEmbedding(sequence_length, embed_dim, name=\"positional_embedding_layer\")(input_layer)\n",
    "transformer_layer = TransformerEncoder(embed_dim, dense_dim, num_heads, name=\"transformer_layer\")(positional_embedding_layer)\n",
    "maxpooling_layer = GlobalMaxPooling1D()(transformer_layer)\n",
    "dropout_layer = Dropout(0.2)(maxpooling_layer)\n",
    "output_layer = Dense(nb_classes, activation='softmax')(dropout_layer)\n",
    "\n",
    "model_transformer = Model([input_layer, masks_layer], output_layer)\n",
    "model_transformer.compile(loss='CategoricalCrossentropy', optimizer='adam', metrics=['accuracy'])"
   ]
  },
  {
   "cell_type": "code",
   "execution_count": 58,
   "id": "adb77e12-38a2-43bc-9a92-a03868b2d1f7",
   "metadata": {},
   "outputs": [
    {
     "name": "stdout",
     "output_type": "stream",
     "text": [
      "Model: \"model_6\"\n",
      "__________________________________________________________________________________________________\n",
      " Layer (type)                   Output Shape         Param #     Connected to                     \n",
      "==================================================================================================\n",
      " input_12 (InputLayer)          [(None, 64, 576)]    0           []                               \n",
      "                                                                                                  \n",
      " positional_embedding_layer (Po  (None, 64, 576)     36864       ['input_12[0][0]']               \n",
      " sitionalEmbedding)                                                                               \n",
      "                                                                                                  \n",
      " transformer_layer (Transformer  (None, 64, 576)     5323396     ['positional_embedding_layer[0][0\n",
      " Encoder)                                                        ]']                              \n",
      "                                                                                                  \n",
      " global_max_pooling1d_3 (Global  (None, 576)         0           ['transformer_layer[0][0]']      \n",
      " MaxPooling1D)                                                                                    \n",
      "                                                                                                  \n",
      " dropout_4 (Dropout)            (None, 576)          0           ['global_max_pooling1d_3[0][0]'] \n",
      "                                                                                                  \n",
      " input_11 (InputLayer)          [(None, 64)]         0           []                               \n",
      "                                                                                                  \n",
      " dense_17 (Dense)               (None, 204)          117708      ['dropout_4[0][0]']              \n",
      "                                                                                                  \n",
      "==================================================================================================\n",
      "Total params: 5,477,968\n",
      "Trainable params: 5,477,968\n",
      "Non-trainable params: 0\n",
      "__________________________________________________________________________________________________\n"
     ]
    }
   ],
   "source": [
    "model_transformer.summary()"
   ]
  },
  {
   "cell_type": "code",
   "execution_count": 59,
   "id": "3dc05029-7b6b-49e1-b489-020629df0b5c",
   "metadata": {},
   "outputs": [
    {
     "name": "stdout",
     "output_type": "stream",
     "text": [
      "Epoch 1/50\n",
      "23/23 [==============================] - 20s 879ms/step - loss: 6.2444 - accuracy: 0.0048 - val_loss: 5.7216 - val_accuracy: 0.0057\n",
      "Epoch 2/50\n",
      "23/23 [==============================] - 20s 879ms/step - loss: 5.7665 - accuracy: 0.0055 - val_loss: 5.4259 - val_accuracy: 0.0086\n",
      "Epoch 3/50\n",
      "23/23 [==============================] - 19s 838ms/step - loss: 5.5902 - accuracy: 0.0110 - val_loss: 5.3641 - val_accuracy: 0.0171\n",
      "Epoch 4/50\n",
      "23/23 [==============================] - 19s 836ms/step - loss: 5.3806 - accuracy: 0.0096 - val_loss: 5.2038 - val_accuracy: 0.0143\n",
      "Epoch 5/50\n",
      "23/23 [==============================] - 20s 894ms/step - loss: 5.1014 - accuracy: 0.0234 - val_loss: 5.1972 - val_accuracy: 0.0229\n",
      "Epoch 6/50\n",
      "23/23 [==============================] - 20s 877ms/step - loss: 4.9169 - accuracy: 0.0275 - val_loss: 5.1813 - val_accuracy: 0.0229\n",
      "Epoch 7/50\n",
      "23/23 [==============================] - 20s 852ms/step - loss: 4.7229 - accuracy: 0.0529 - val_loss: 5.1868 - val_accuracy: 0.0400\n",
      "Epoch 8/50\n",
      "23/23 [==============================] - 19s 836ms/step - loss: 4.4436 - accuracy: 0.0804 - val_loss: 5.2341 - val_accuracy: 0.0429\n",
      "Epoch 9/50\n",
      "23/23 [==============================] - 19s 837ms/step - loss: 4.1427 - accuracy: 0.0893 - val_loss: 5.2764 - val_accuracy: 0.0657\n",
      "Epoch 10/50\n",
      "23/23 [==============================] - 19s 835ms/step - loss: 3.9563 - accuracy: 0.1188 - val_loss: 5.2748 - val_accuracy: 0.0400\n",
      "Epoch 11/50\n",
      "23/23 [==============================] - 19s 843ms/step - loss: 3.6765 - accuracy: 0.1635 - val_loss: 5.4205 - val_accuracy: 0.0514\n",
      "Epoch 12/50\n",
      "23/23 [==============================] - 20s 896ms/step - loss: 3.4561 - accuracy: 0.1751 - val_loss: 5.3811 - val_accuracy: 0.0457\n",
      "Epoch 13/50\n",
      "23/23 [==============================] - 21s 928ms/step - loss: 3.2322 - accuracy: 0.2150 - val_loss: 5.3499 - val_accuracy: 0.0800\n",
      "Epoch 14/50\n",
      "23/23 [==============================] - 20s 867ms/step - loss: 2.9619 - accuracy: 0.2452 - val_loss: 5.4635 - val_accuracy: 0.0857\n",
      "Epoch 15/50\n",
      "23/23 [==============================] - 20s 856ms/step - loss: 2.7961 - accuracy: 0.2624 - val_loss: 5.5560 - val_accuracy: 0.1029\n",
      "Epoch 16/50\n",
      "23/23 [==============================] - 19s 836ms/step - loss: 2.6290 - accuracy: 0.2919 - val_loss: 5.8215 - val_accuracy: 0.0657\n",
      "Epoch 17/50\n",
      "23/23 [==============================] - 19s 846ms/step - loss: 2.5465 - accuracy: 0.2933 - val_loss: 5.6735 - val_accuracy: 0.0914\n",
      "Epoch 18/50\n",
      "23/23 [==============================] - 19s 839ms/step - loss: 2.4163 - accuracy: 0.2953 - val_loss: 5.7638 - val_accuracy: 0.0743\n",
      "Epoch 19/50\n",
      "23/23 [==============================] - 19s 847ms/step - loss: 2.3168 - accuracy: 0.3187 - val_loss: 5.9362 - val_accuracy: 0.1057\n",
      "Epoch 20/50\n",
      "23/23 [==============================] - 19s 844ms/step - loss: 2.2040 - accuracy: 0.3255 - val_loss: 5.7571 - val_accuracy: 0.0857\n",
      "Epoch 21/50\n",
      "23/23 [==============================] - 19s 838ms/step - loss: 2.1770 - accuracy: 0.3056 - val_loss: 5.8694 - val_accuracy: 0.1229\n",
      "Epoch 22/50\n",
      "23/23 [==============================] - 20s 857ms/step - loss: 2.0583 - accuracy: 0.3585 - val_loss: 5.8959 - val_accuracy: 0.1229\n",
      "Epoch 23/50\n",
      "23/23 [==============================] - 20s 858ms/step - loss: 1.9362 - accuracy: 0.3654 - val_loss: 5.7980 - val_accuracy: 0.1171\n",
      "Epoch 24/50\n",
      "23/23 [==============================] - 20s 854ms/step - loss: 1.9464 - accuracy: 0.3599 - val_loss: 6.0992 - val_accuracy: 0.1229\n",
      "Epoch 25/50\n",
      "23/23 [==============================] - 20s 860ms/step - loss: 1.9041 - accuracy: 0.3743 - val_loss: 6.0047 - val_accuracy: 0.1200\n",
      "Epoch 26/50\n",
      "23/23 [==============================] - 19s 846ms/step - loss: 1.8349 - accuracy: 0.3750 - val_loss: 5.9711 - val_accuracy: 0.1171\n",
      "Epoch 27/50\n",
      "23/23 [==============================] - 20s 865ms/step - loss: 1.8486 - accuracy: 0.3647 - val_loss: 5.8400 - val_accuracy: 0.1029\n",
      "Epoch 28/50\n",
      "23/23 [==============================] - 20s 851ms/step - loss: 1.7703 - accuracy: 0.3750 - val_loss: 6.1872 - val_accuracy: 0.1200\n",
      "Epoch 29/50\n",
      "23/23 [==============================] - 19s 838ms/step - loss: 1.7748 - accuracy: 0.3743 - val_loss: 5.8798 - val_accuracy: 0.1286\n",
      "Epoch 30/50\n",
      "23/23 [==============================] - 19s 838ms/step - loss: 1.7023 - accuracy: 0.3894 - val_loss: 6.0010 - val_accuracy: 0.1229\n",
      "Epoch 31/50\n",
      "23/23 [==============================] - 19s 839ms/step - loss: 1.7322 - accuracy: 0.3661 - val_loss: 5.8689 - val_accuracy: 0.1429\n",
      "Epoch 32/50\n",
      "23/23 [==============================] - 20s 883ms/step - loss: 1.6925 - accuracy: 0.3805 - val_loss: 6.0591 - val_accuracy: 0.1343\n",
      "Epoch 33/50\n",
      "23/23 [==============================] - 20s 877ms/step - loss: 1.7194 - accuracy: 0.3599 - val_loss: 5.9159 - val_accuracy: 0.1371\n",
      "Epoch 34/50\n",
      "23/23 [==============================] - 21s 905ms/step - loss: 1.6610 - accuracy: 0.3771 - val_loss: 5.8717 - val_accuracy: 0.1457\n",
      "Epoch 35/50\n",
      "23/23 [==============================] - 20s 893ms/step - loss: 1.7079 - accuracy: 0.3805 - val_loss: 6.0045 - val_accuracy: 0.1371\n",
      "Epoch 36/50\n",
      "23/23 [==============================] - 20s 892ms/step - loss: 1.6591 - accuracy: 0.3942 - val_loss: 5.9247 - val_accuracy: 0.1229\n",
      "Epoch 37/50\n",
      "23/23 [==============================] - 20s 892ms/step - loss: 1.6480 - accuracy: 0.3805 - val_loss: 5.9399 - val_accuracy: 0.1257\n",
      "Epoch 38/50\n",
      "23/23 [==============================] - 19s 846ms/step - loss: 1.6232 - accuracy: 0.3784 - val_loss: 5.9599 - val_accuracy: 0.1057\n",
      "Epoch 39/50\n",
      "23/23 [==============================] - 19s 846ms/step - loss: 1.6066 - accuracy: 0.3901 - val_loss: 6.0231 - val_accuracy: 0.1229\n",
      "Epoch 40/50\n",
      "23/23 [==============================] - 19s 848ms/step - loss: 1.6056 - accuracy: 0.3874 - val_loss: 5.9368 - val_accuracy: 0.1314\n",
      "Epoch 41/50\n",
      "23/23 [==============================] - 19s 847ms/step - loss: 1.5842 - accuracy: 0.3812 - val_loss: 6.0026 - val_accuracy: 0.1371\n",
      "Epoch 42/50\n",
      "23/23 [==============================] - 21s 909ms/step - loss: 1.5749 - accuracy: 0.3791 - val_loss: 5.8352 - val_accuracy: 0.1457\n",
      "Epoch 43/50\n",
      "23/23 [==============================] - 21s 895ms/step - loss: 1.5368 - accuracy: 0.3949 - val_loss: 6.0052 - val_accuracy: 0.1514\n",
      "Epoch 44/50\n",
      "23/23 [==============================] - 20s 877ms/step - loss: 1.5611 - accuracy: 0.3798 - val_loss: 5.7951 - val_accuracy: 0.1714\n",
      "Epoch 45/50\n",
      "23/23 [==============================] - 20s 896ms/step - loss: 1.5135 - accuracy: 0.3977 - val_loss: 6.0754 - val_accuracy: 0.1514\n",
      "Epoch 46/50\n",
      "23/23 [==============================] - 26s 1s/step - loss: 1.5334 - accuracy: 0.3867 - val_loss: 5.6814 - val_accuracy: 0.1800\n",
      "Epoch 47/50\n",
      "23/23 [==============================] - 21s 911ms/step - loss: 1.5195 - accuracy: 0.3736 - val_loss: 5.8298 - val_accuracy: 0.1457\n",
      "Epoch 48/50\n",
      "23/23 [==============================] - 20s 854ms/step - loss: 1.5013 - accuracy: 0.3977 - val_loss: 5.9833 - val_accuracy: 0.1714\n",
      "Epoch 49/50\n",
      "23/23 [==============================] - 21s 919ms/step - loss: 1.5119 - accuracy: 0.3695 - val_loss: 5.7207 - val_accuracy: 0.1286\n",
      "Epoch 50/50\n",
      "23/23 [==============================] - 21s 911ms/step - loss: 1.4608 - accuracy: 0.3798 - val_loss: 6.0056 - val_accuracy: 0.1486\n"
     ]
    },
    {
     "data": {
      "image/png": "[encoded data removed]",
      "text/plain": [
       "<Figure size 432x288 with 1 Axes>"
      ]
     },
     "metadata": {
      "needs_background": "light"
     },
     "output_type": "display_data"
    },
    {
     "data": {
      "image/png": "[encoded data removed]",
      "text/plain": [
       "<Figure size 432x288 with 1 Axes>"
      ]
     },
     "metadata": {
      "needs_background": "light"
     },
     "output_type": "display_data"
    }
   ],
   "source": [
    "model_transformer.fit([X_train, masks_train], y_train, epochs=50, batch_size=64, validation_data = ([X_val, masks_val], y_val),  shuffle = True)\n",
    "\n",
    "plt.plot(model_transformer.history.history['loss'])\n",
    "plt.plot(model_transformer.history.history['val_loss'])\n",
    "plt.legend([\"Training set loss\", \"Validation set loss\"])\n",
    "plt.yscale(\"log\")\n",
    "plt.show()\n",
    "\n",
    "plt.plot(model_transformer.history.history['accuracy'])\n",
    "plt.plot(model_transformer.history.history['val_accuracy'])\n",
    "plt.legend([ \"Accuracy\", \"Validation accuracy\"])\n",
    "\n",
    "plt.show()"
   ]
  },
  {
   "cell_type": "code",
   "execution_count": 60,
   "id": "95c4494d-c8f4-4aeb-854a-440dff706077",
   "metadata": {},
   "outputs": [
    {
     "name": "stdout",
     "output_type": "stream",
     "text": [
      "8/8 [==============================] - 1s 181ms/step\n",
      "F1 score :  0.1325896762904637\n",
      "Accuracy :  0.14566929133858267\n",
      "Precision score :  0.14632545931758528\n",
      "Recall score :  0.14566929133858267\n"
     ]
    },
    {
     "name": "stderr",
     "output_type": "stream",
     "text": [
      "C:\\Users\\thoma\\AppData\\Local\\Programs\\Python\\Python39\\lib\\site-packages\\sklearn\\metrics\\_classification.py:1327: UndefinedMetricWarning: Precision is ill-defined and being set to 0.0 in labels with no predicted samples. Use `zero_division` parameter to control this behavior.\n",
      "  _warn_prf(average, modifier, msg_start, len(result))\n",
      "C:\\Users\\thoma\\AppData\\Local\\Programs\\Python\\Python39\\lib\\site-packages\\sklearn\\metrics\\_classification.py:1327: UndefinedMetricWarning: Recall is ill-defined and being set to 0.0 in labels with no true samples. Use `zero_division` parameter to control this behavior.\n",
      "  _warn_prf(average, modifier, msg_start, len(result))\n"
     ]
    }
   ],
   "source": [
    "y_pred1 = model_transformer.predict([X_test, masks_test])         \n",
    "y_pred1 = np.argmax(y_pred1, axis = 1)\n",
    "\n",
    "print(\"F1 score : \", f1_score(le_test, y_pred1, average = 'weighted'))\n",
    "print(\"Accuracy : \", accuracy_score(le_test, y_pred1))\n",
    "print(\"Precision score : \", precision_score(le_test, y_pred1, average = 'weighted'))\n",
    "print(\"Recall score : \", recall_score(le_test, y_pred1, average = 'weighted'))"
   ]
  },
  {
   "cell_type": "code",
   "execution_count": 67,
   "id": "2f61015f-947a-43b4-a246-f944fe832556",
   "metadata": {},
   "outputs": [
    {
     "name": "stderr",
     "output_type": "stream",
     "text": [
      "WARNING:absl:Found untraced functions such as embedding_3_layer_call_fn, embedding_3_layer_call_and_return_conditional_losses, multi_head_attention_3_layer_call_fn, multi_head_attention_3_layer_call_and_return_conditional_losses, layer_normalization_6_layer_call_fn while saving (showing 5 of 20). These functions will not be directly callable after loading.\n"
     ]
    },
    {
     "name": "stdout",
     "output_type": "stream",
     "text": [
      "INFO:tensorflow:Assets written to: CNN-transformers\\assets\n"
     ]
    },
    {
     "name": "stderr",
     "output_type": "stream",
     "text": [
      "INFO:tensorflow:Assets written to: CNN-transformers\\assets\n",
      "C:\\Users\\thoma\\AppData\\Local\\Programs\\Python\\Python39\\lib\\site-packages\\keras\\engine\\functional.py:1384: CustomMaskWarning: Custom mask layers require a config and must override get_config. When loading, the custom mask layer must be passed to the custom_objects argument.\n",
      "  layer_config = serialize_layer_fn(layer)\n",
      "C:\\Users\\thoma\\AppData\\Local\\Programs\\Python\\Python39\\lib\\site-packages\\keras\\saving\\saved_model\\layer_serialization.py:112: CustomMaskWarning: Custom mask layers require a config and must override get_config. When loading, the custom mask layer must be passed to the custom_objects argument.\n",
      "  return generic_utils.serialize_keras_object(obj)\n"
     ]
    }
   ],
   "source": [
    "model_transformer.save(\"CNN-transformers\")"
   ]
  },
  {
   "cell_type": "code",
   "execution_count": null,
   "id": "09d2874a-889e-443c-9cde-5d539cfe3d21",
   "metadata": {},
   "outputs": [],
   "source": [
    "### Continue training with a potential other validation split"
   ]
  },
  {
   "cell_type": "code",
   "execution_count": 61,
   "id": "f2962cea-942b-4fd5-aa88-966844a08f48",
   "metadata": {},
   "outputs": [],
   "source": [
    "num_heads = 8"
   ]
  },
  {
   "cell_type": "code",
   "execution_count": 62,
   "id": "f286b181-07eb-4b17-a5b3-adb6f29a6769",
   "metadata": {},
   "outputs": [],
   "source": [
    "input_layer = Input(shape=IMG_SHAPE)\n",
    "positional_embedding_layer = PositionalEmbedding(sequence_length, embed_dim, name=\"positional_embedding_layer\")(input_layer)\n",
    "transformer_layer = TransformerEncoder(embed_dim, dense_dim, num_heads, name=\"transformer_layer\")(positional_embedding_layer)\n",
    "maxpooling_layer = GlobalMaxPooling1D()(transformer_layer)\n",
    "dropout_layer = Dropout(0.2)(maxpooling_layer)\n",
    "output_layer = Dense(nb_classes, activation='softmax')(dropout_layer)\n",
    "\n",
    "model_transformer2 = Model([input_layer, masks_layer], output_layer)\n",
    "model_transformer2.compile(loss='CategoricalCrossentropy', optimizer='adam', metrics=['accuracy'])"
   ]
  },
  {
   "cell_type": "code",
   "execution_count": 63,
   "id": "96d03e13-7ce0-4aeb-9a21-09543f240ecb",
   "metadata": {},
   "outputs": [
    {
     "name": "stdout",
     "output_type": "stream",
     "text": [
      "Model: \"model_7\"\n",
      "__________________________________________________________________________________________________\n",
      " Layer (type)                   Output Shape         Param #     Connected to                     \n",
      "==================================================================================================\n",
      " input_13 (InputLayer)          [(None, 64, 576)]    0           []                               \n",
      "                                                                                                  \n",
      " positional_embedding_layer (Po  (None, 64, 576)     36864       ['input_13[0][0]']               \n",
      " sitionalEmbedding)                                                                               \n",
      "                                                                                                  \n",
      " transformer_layer (Transformer  (None, 64, 576)     10638724    ['positional_embedding_layer[0][0\n",
      " Encoder)                                                        ]']                              \n",
      "                                                                                                  \n",
      " global_max_pooling1d_4 (Global  (None, 576)         0           ['transformer_layer[0][0]']      \n",
      " MaxPooling1D)                                                                                    \n",
      "                                                                                                  \n",
      " dropout_5 (Dropout)            (None, 576)          0           ['global_max_pooling1d_4[0][0]'] \n",
      "                                                                                                  \n",
      " input_11 (InputLayer)          [(None, 64)]         0           []                               \n",
      "                                                                                                  \n",
      " dense_20 (Dense)               (None, 204)          117708      ['dropout_5[0][0]']              \n",
      "                                                                                                  \n",
      "==================================================================================================\n",
      "Total params: 10,793,296\n",
      "Trainable params: 10,793,296\n",
      "Non-trainable params: 0\n",
      "__________________________________________________________________________________________________\n"
     ]
    }
   ],
   "source": [
    "model_transformer2.summary()"
   ]
  },
  {
   "cell_type": "code",
   "execution_count": 64,
   "id": "d176cef0-6cc1-4544-b9dc-ae5b3adc0a4a",
   "metadata": {},
   "outputs": [
    {
     "name": "stdout",
     "output_type": "stream",
     "text": [
      "Epoch 1/50\n",
      "23/23 [==============================] - 36s 2s/step - loss: 6.1064 - accuracy: 0.0041 - val_loss: 5.4863 - val_accuracy: 0.0057\n",
      "Epoch 2/50\n",
      "23/23 [==============================] - 36s 2s/step - loss: 5.7153 - accuracy: 0.0055 - val_loss: 5.3906 - val_accuracy: 0.0057\n",
      "Epoch 3/50\n",
      "23/23 [==============================] - 36s 2s/step - loss: 5.5859 - accuracy: 0.0034 - val_loss: 5.3078 - val_accuracy: 0.0086\n",
      "Epoch 4/50\n",
      "23/23 [==============================] - 36s 2s/step - loss: 5.4482 - accuracy: 0.0117 - val_loss: 5.2056 - val_accuracy: 0.0114\n",
      "Epoch 5/50\n",
      "23/23 [==============================] - 37s 2s/step - loss: 5.2618 - accuracy: 0.0144 - val_loss: 5.1752 - val_accuracy: 0.0086\n",
      "Epoch 6/50\n",
      "23/23 [==============================] - 38s 2s/step - loss: 5.1399 - accuracy: 0.0124 - val_loss: 5.2134 - val_accuracy: 0.0143\n",
      "Epoch 7/50\n",
      "23/23 [==============================] - 38s 2s/step - loss: 4.9718 - accuracy: 0.0275 - val_loss: 5.3204 - val_accuracy: 0.0143\n",
      "Epoch 8/50\n",
      "23/23 [==============================] - 36s 2s/step - loss: 4.7675 - accuracy: 0.0446 - val_loss: 5.2802 - val_accuracy: 0.0200\n",
      "Epoch 9/50\n",
      "23/23 [==============================] - 36s 2s/step - loss: 4.5272 - accuracy: 0.0584 - val_loss: 5.3432 - val_accuracy: 0.0171\n",
      "Epoch 10/50\n",
      "23/23 [==============================] - 36s 2s/step - loss: 4.3756 - accuracy: 0.0762 - val_loss: 5.3483 - val_accuracy: 0.0286\n",
      "Epoch 11/50\n",
      "23/23 [==============================] - 36s 2s/step - loss: 4.1476 - accuracy: 0.1003 - val_loss: 5.2884 - val_accuracy: 0.0429\n",
      "Epoch 12/50\n",
      "23/23 [==============================] - 36s 2s/step - loss: 3.9552 - accuracy: 0.1120 - val_loss: 5.3469 - val_accuracy: 0.0371\n",
      "Epoch 13/50\n",
      "23/23 [==============================] - 35s 2s/step - loss: 3.7828 - accuracy: 0.1339 - val_loss: 5.2575 - val_accuracy: 0.0343\n",
      "Epoch 14/50\n",
      "23/23 [==============================] - 36s 2s/step - loss: 3.5771 - accuracy: 0.1477 - val_loss: 5.5097 - val_accuracy: 0.0571\n",
      "Epoch 15/50\n",
      "23/23 [==============================] - 36s 2s/step - loss: 3.4641 - accuracy: 0.1683 - val_loss: 5.5443 - val_accuracy: 0.0771\n",
      "Epoch 16/50\n",
      "23/23 [==============================] - 39s 2s/step - loss: 3.2724 - accuracy: 0.1848 - val_loss: 5.4726 - val_accuracy: 0.0657\n",
      "Epoch 17/50\n",
      "23/23 [==============================] - 39s 2s/step - loss: 3.1486 - accuracy: 0.2102 - val_loss: 5.5627 - val_accuracy: 0.0743\n",
      "Epoch 18/50\n",
      "23/23 [==============================] - 39s 2s/step - loss: 2.9986 - accuracy: 0.2150 - val_loss: 5.5617 - val_accuracy: 0.0943\n",
      "Epoch 19/50\n",
      "23/23 [==============================] - 38s 2s/step - loss: 2.9186 - accuracy: 0.2273 - val_loss: 5.6134 - val_accuracy: 0.1057\n",
      "Epoch 20/50\n",
      "23/23 [==============================] - 39s 2s/step - loss: 2.7585 - accuracy: 0.2569 - val_loss: 5.6597 - val_accuracy: 0.0943\n",
      "Epoch 21/50\n",
      "23/23 [==============================] - 39s 2s/step - loss: 2.6611 - accuracy: 0.2651 - val_loss: 5.7774 - val_accuracy: 0.0943\n",
      "Epoch 22/50\n",
      "23/23 [==============================] - 39s 2s/step - loss: 2.5669 - accuracy: 0.2850 - val_loss: 5.7319 - val_accuracy: 0.1171\n",
      "Epoch 23/50\n",
      "23/23 [==============================] - 37s 2s/step - loss: 2.4806 - accuracy: 0.3070 - val_loss: 5.7138 - val_accuracy: 0.1257\n",
      "Epoch 24/50\n",
      "23/23 [==============================] - 39s 2s/step - loss: 2.3356 - accuracy: 0.3111 - val_loss: 5.7146 - val_accuracy: 0.1400\n",
      "Epoch 25/50\n",
      "23/23 [==============================] - 40s 2s/step - loss: 2.3184 - accuracy: 0.3077 - val_loss: 5.7895 - val_accuracy: 0.1457\n",
      "Epoch 26/50\n",
      "23/23 [==============================] - 37s 2s/step - loss: 2.2651 - accuracy: 0.3214 - val_loss: 5.8238 - val_accuracy: 0.1314\n",
      "Epoch 27/50\n",
      "23/23 [==============================] - 37s 2s/step - loss: 2.0781 - accuracy: 0.3544 - val_loss: 5.9184 - val_accuracy: 0.1486\n",
      "Epoch 28/50\n",
      "23/23 [==============================] - 38s 2s/step - loss: 2.0072 - accuracy: 0.3551 - val_loss: 5.9705 - val_accuracy: 0.1771\n",
      "Epoch 29/50\n",
      "23/23 [==============================] - 37s 2s/step - loss: 1.9975 - accuracy: 0.3599 - val_loss: 5.9923 - val_accuracy: 0.1571\n",
      "Epoch 30/50\n",
      "23/23 [==============================] - 37s 2s/step - loss: 1.9580 - accuracy: 0.3565 - val_loss: 6.0305 - val_accuracy: 0.1543\n",
      "Epoch 31/50\n",
      "23/23 [==============================] - 37s 2s/step - loss: 1.8832 - accuracy: 0.3716 - val_loss: 5.9730 - val_accuracy: 0.1543\n",
      "Epoch 32/50\n",
      "23/23 [==============================] - 37s 2s/step - loss: 1.8589 - accuracy: 0.3736 - val_loss: 5.9807 - val_accuracy: 0.1714\n",
      "Epoch 33/50\n",
      "23/23 [==============================] - 36s 2s/step - loss: 1.8043 - accuracy: 0.3668 - val_loss: 6.0761 - val_accuracy: 0.1629\n",
      "Epoch 34/50\n",
      "23/23 [==============================] - 37s 2s/step - loss: 1.7857 - accuracy: 0.3729 - val_loss: 5.9723 - val_accuracy: 0.1629\n",
      "Epoch 35/50\n",
      "23/23 [==============================] - 38s 2s/step - loss: 1.7921 - accuracy: 0.3695 - val_loss: 6.1446 - val_accuracy: 0.1657\n",
      "Epoch 36/50\n",
      "23/23 [==============================] - 69s 3s/step - loss: 1.7245 - accuracy: 0.3839 - val_loss: 6.0124 - val_accuracy: 0.1743\n",
      "Epoch 37/50\n",
      "23/23 [==============================] - 38s 2s/step - loss: 1.6879 - accuracy: 0.3750 - val_loss: 6.0610 - val_accuracy: 0.1657\n",
      "Epoch 38/50\n",
      "23/23 [==============================] - 36s 2s/step - loss: 1.7345 - accuracy: 0.3723 - val_loss: 6.1271 - val_accuracy: 0.1657\n",
      "Epoch 39/50\n",
      "23/23 [==============================] - 36s 2s/step - loss: 1.7048 - accuracy: 0.3791 - val_loss: 6.0293 - val_accuracy: 0.1571\n",
      "Epoch 40/50\n",
      "23/23 [==============================] - 36s 2s/step - loss: 1.6906 - accuracy: 0.3736 - val_loss: 6.1219 - val_accuracy: 0.1543\n",
      "Epoch 41/50\n",
      "23/23 [==============================] - 36s 2s/step - loss: 1.7065 - accuracy: 0.3654 - val_loss: 5.9190 - val_accuracy: 0.1686\n",
      "Epoch 42/50\n",
      "23/23 [==============================] - 36s 2s/step - loss: 1.6474 - accuracy: 0.3702 - val_loss: 5.9916 - val_accuracy: 0.1686\n",
      "Epoch 43/50\n",
      "23/23 [==============================] - 36s 2s/step - loss: 1.5587 - accuracy: 0.3771 - val_loss: 6.1803 - val_accuracy: 0.1743\n",
      "Epoch 44/50\n",
      "23/23 [==============================] - 36s 2s/step - loss: 1.6029 - accuracy: 0.3880 - val_loss: 6.0532 - val_accuracy: 0.1686\n",
      "Epoch 45/50\n",
      "23/23 [==============================] - 36s 2s/step - loss: 1.5803 - accuracy: 0.3908 - val_loss: 6.1894 - val_accuracy: 0.1629\n",
      "Epoch 46/50\n",
      "23/23 [==============================] - 38s 2s/step - loss: 1.6042 - accuracy: 0.3915 - val_loss: 6.0852 - val_accuracy: 0.1771\n",
      "Epoch 47/50\n",
      "23/23 [==============================] - 36s 2s/step - loss: 1.6107 - accuracy: 0.3503 - val_loss: 5.8989 - val_accuracy: 0.1714\n",
      "Epoch 48/50\n",
      "23/23 [==============================] - 36s 2s/step - loss: 1.5343 - accuracy: 0.3949 - val_loss: 6.1437 - val_accuracy: 0.1829\n",
      "Epoch 49/50\n",
      "23/23 [==============================] - 36s 2s/step - loss: 1.5294 - accuracy: 0.4018 - val_loss: 5.9857 - val_accuracy: 0.1771\n",
      "Epoch 50/50\n",
      "23/23 [==============================] - 36s 2s/step - loss: 1.5511 - accuracy: 0.3942 - val_loss: 6.0725 - val_accuracy: 0.1743\n"
     ]
    },
    {
     "data": {
      "image/png": "[encoded data removed]",
      "text/plain": [
       "<Figure size 432x288 with 1 Axes>"
      ]
     },
     "metadata": {
      "needs_background": "light"
     },
     "output_type": "display_data"
    },
    {
     "data": {
      "image/png": "[encoded data removed]",
      "text/plain": [
       "<Figure size 432x288 with 1 Axes>"
      ]
     },
     "metadata": {
      "needs_background": "light"
     },
     "output_type": "display_data"
    }
   ],
   "source": [
    "model_transformer2.fit([X_train, masks_train], y_train, epochs=50, batch_size=64, validation_data = ([X_val, masks_val], y_val),  shuffle = True)\n",
    "\n",
    "plt.plot(model_transformer2.history.history['loss'])\n",
    "plt.plot(model_transformer2.history.history['val_loss'])\n",
    "plt.legend([\"Training set loss\", \"Validation set loss\"])\n",
    "plt.yscale(\"log\")\n",
    "plt.show()\n",
    "\n",
    "plt.plot(model_transformer2.history.history['accuracy'])\n",
    "plt.plot(model_transformer2.history.history['val_accuracy'])\n",
    "plt.legend([ \"Accuracy\", \"Validation accuracy\"])\n",
    "\n",
    "plt.show()"
   ]
  },
  {
   "cell_type": "code",
   "execution_count": 65,
   "id": "b8369911-06e5-4224-837c-32868ffa38e9",
   "metadata": {},
   "outputs": [
    {
     "name": "stdout",
     "output_type": "stream",
     "text": [
      "8/8 [==============================] - 2s 274ms/step\n",
      "F1 score :  0.13375683808754674\n",
      "Accuracy :  0.1732283464566929\n",
      "Precision score :  0.12875890513685792\n",
      "Recall score :  0.1732283464566929\n"
     ]
    },
    {
     "name": "stderr",
     "output_type": "stream",
     "text": [
      "C:\\Users\\thoma\\AppData\\Local\\Programs\\Python\\Python39\\lib\\site-packages\\sklearn\\metrics\\_classification.py:1327: UndefinedMetricWarning: Precision is ill-defined and being set to 0.0 in labels with no predicted samples. Use `zero_division` parameter to control this behavior.\n",
      "  _warn_prf(average, modifier, msg_start, len(result))\n",
      "C:\\Users\\thoma\\AppData\\Local\\Programs\\Python\\Python39\\lib\\site-packages\\sklearn\\metrics\\_classification.py:1327: UndefinedMetricWarning: Recall is ill-defined and being set to 0.0 in labels with no true samples. Use `zero_division` parameter to control this behavior.\n",
      "  _warn_prf(average, modifier, msg_start, len(result))\n"
     ]
    }
   ],
   "source": [
    "y_pred1 = model_transformer2.predict([X_test, masks_test])         \n",
    "y_pred1 = np.argmax(y_pred1, axis = 1)\n",
    "\n",
    "print(\"F1 score : \", f1_score(le_test, y_pred1, average = 'weighted'))\n",
    "print(\"Accuracy : \", accuracy_score(le_test, y_pred1))\n",
    "print(\"Precision score : \", precision_score(le_test, y_pred1, average = 'weighted'))\n",
    "print(\"Recall score : \", recall_score(le_test, y_pred1, average = 'weighted'))"
   ]
  },
  {
   "cell_type": "code",
   "execution_count": 68,
   "id": "231668b4-9a5e-4aa4-ac00-00c285039fbe",
   "metadata": {},
   "outputs": [
    {
     "name": "stderr",
     "output_type": "stream",
     "text": [
      "WARNING:absl:Found untraced functions such as embedding_4_layer_call_fn, embedding_4_layer_call_and_return_conditional_losses, multi_head_attention_4_layer_call_fn, multi_head_attention_4_layer_call_and_return_conditional_losses, layer_normalization_8_layer_call_fn while saving (showing 5 of 20). These functions will not be directly callable after loading.\n"
     ]
    },
    {
     "name": "stdout",
     "output_type": "stream",
     "text": [
      "INFO:tensorflow:Assets written to: CNN-transformers\\assets\n"
     ]
    },
    {
     "name": "stderr",
     "output_type": "stream",
     "text": [
      "INFO:tensorflow:Assets written to: CNN-transformers\\assets\n",
      "C:\\Users\\thoma\\AppData\\Local\\Programs\\Python\\Python39\\lib\\site-packages\\keras\\engine\\functional.py:1384: CustomMaskWarning: Custom mask layers require a config and must override get_config. When loading, the custom mask layer must be passed to the custom_objects argument.\n",
      "  layer_config = serialize_layer_fn(layer)\n",
      "C:\\Users\\thoma\\AppData\\Local\\Programs\\Python\\Python39\\lib\\site-packages\\keras\\saving\\saved_model\\layer_serialization.py:112: CustomMaskWarning: Custom mask layers require a config and must override get_config. When loading, the custom mask layer must be passed to the custom_objects argument.\n",
      "  return generic_utils.serialize_keras_object(obj)\n"
     ]
    }
   ],
   "source": [
    "model_transformer2.save(\"CNN-transformers\")"
   ]
  },
  {
   "cell_type": "code",
   "execution_count": null,
   "id": "91d52b1c-0771-427d-858c-366f27694c74",
   "metadata": {},
   "outputs": [],
   "source": []
  }
 ],
 "metadata": {
  "kernelspec": {
   "display_name": "Yolo",
   "language": "python",
   "name": "yolo"
  },
  "language_info": {
   "codemirror_mode": {
    "name": "ipython",
    "version": 3
   },
   "file_extension": ".py",
   "mimetype": "text/x-python",
   "name": "python",
   "nbconvert_exporter": "python",
   "pygments_lexer": "ipython3",
   "version": "3.9.6"
  }
 },
 "nbformat": 4,
 "nbformat_minor": 5
}
