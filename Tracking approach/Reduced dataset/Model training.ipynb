{
 "cells": [
  {
   "cell_type": "code",
   "execution_count": 1,
   "id": "fc4d9ef6-488c-4c5c-a322-a8da8fabebe5",
   "metadata": {},
   "outputs": [],
   "source": [
    "import tensorflow as tf\n",
    "import pandas as pd\n",
    "import pickle\n",
    "import seaborn as sns\n",
    "import numpy as np\n",
    "import joblib\n",
    "import matplotlib.pyplot as plt\n",
    "from sklearn.preprocessing import OneHotEncoder\n",
    "from sklearn.preprocessing import LabelEncoder\n",
    "\n",
    "from sklearn.model_selection import StratifiedShuffleSplit\n",
    "from tensorflow.keras.models import Sequential\n",
    "from sklearn.metrics import confusion_matrix, plot_confusion_matrix, f1_score, accuracy_score, precision_score, recall_score\n",
    "\n",
    "from keras.layers import Input, Dense, GlobalAveragePooling2D, UpSampling2D, add, concatenate, Conv2D, Lambda, BatchNormalization, LeakyReLU, MaxPool2D, LSTM, GRU"
   ]
  },
  {
   "cell_type": "code",
   "execution_count": 2,
   "id": "e2ad36b6-24d1-49f4-a42f-6ce2a4275432",
   "metadata": {},
   "outputs": [],
   "source": [
    "df = pd.read_csv(\"dataframe.csv\", header = 0, index_col=0)"
   ]
  },
  {
   "cell_type": "code",
   "execution_count": 3,
   "id": "eb6cceb5-1bad-4cca-8275-58667f5b8342",
   "metadata": {},
   "outputs": [
    {
     "data": {
      "text/html": [
       "<div>\n",
       "<style scoped>\n",
       "    .dataframe tbody tr th:only-of-type {\n",
       "        vertical-align: middle;\n",
       "    }\n",
       "\n",
       "    .dataframe tbody tr th {\n",
       "        vertical-align: top;\n",
       "    }\n",
       "\n",
       "    .dataframe thead th {\n",
       "        text-align: right;\n",
       "    }\n",
       "</style>\n",
       "<table border=\"1\" class=\"dataframe\">\n",
       "  <thead>\n",
       "    <tr style=\"text-align: right;\">\n",
       "      <th></th>\n",
       "      <th>fps</th>\n",
       "      <th>frame_end</th>\n",
       "      <th>frame_start</th>\n",
       "      <th>instance_id</th>\n",
       "      <th>signer_id</th>\n",
       "      <th>source</th>\n",
       "      <th>split</th>\n",
       "      <th>url</th>\n",
       "      <th>variation_id</th>\n",
       "      <th>video_id</th>\n",
       "      <th>bbox_xmin</th>\n",
       "      <th>bbox_ymin</th>\n",
       "      <th>bbox_xmax</th>\n",
       "      <th>bbox_ymax</th>\n",
       "      <th>gloss</th>\n",
       "    </tr>\n",
       "  </thead>\n",
       "  <tbody>\n",
       "    <tr>\n",
       "      <th>565</th>\n",
       "      <td>25</td>\n",
       "      <td>-1</td>\n",
       "      <td>1</td>\n",
       "      <td>12</td>\n",
       "      <td>26</td>\n",
       "      <td>spreadthesign</td>\n",
       "      <td>train</td>\n",
       "      <td>https://media.spreadthesign.com/video/mp4/13/1...</td>\n",
       "      <td>1</td>\n",
       "      <td>623</td>\n",
       "      <td>54</td>\n",
       "      <td>6</td>\n",
       "      <td>272</td>\n",
       "      <td>240</td>\n",
       "      <td>accident</td>\n",
       "    </tr>\n",
       "    <tr>\n",
       "      <th>556</th>\n",
       "      <td>25</td>\n",
       "      <td>-1</td>\n",
       "      <td>1</td>\n",
       "      <td>2</td>\n",
       "      <td>29</td>\n",
       "      <td>spreadthesign</td>\n",
       "      <td>train</td>\n",
       "      <td>https://media.spreadthesign.com/video/mp4/13/7...</td>\n",
       "      <td>0</td>\n",
       "      <td>624</td>\n",
       "      <td>42</td>\n",
       "      <td>6</td>\n",
       "      <td>278</td>\n",
       "      <td>240</td>\n",
       "      <td>accident</td>\n",
       "    </tr>\n",
       "    <tr>\n",
       "      <th>557</th>\n",
       "      <td>25</td>\n",
       "      <td>-1</td>\n",
       "      <td>1</td>\n",
       "      <td>3</td>\n",
       "      <td>6</td>\n",
       "      <td>signschool</td>\n",
       "      <td>test</td>\n",
       "      <td>https://signstock.blob.core.windows.net/signsc...</td>\n",
       "      <td>1</td>\n",
       "      <td>625</td>\n",
       "      <td>675</td>\n",
       "      <td>50</td>\n",
       "      <td>1461</td>\n",
       "      <td>1080</td>\n",
       "      <td>accident</td>\n",
       "    </tr>\n",
       "    <tr>\n",
       "      <th>560</th>\n",
       "      <td>25</td>\n",
       "      <td>-1</td>\n",
       "      <td>1</td>\n",
       "      <td>6</td>\n",
       "      <td>6</td>\n",
       "      <td>signschool</td>\n",
       "      <td>train</td>\n",
       "      <td>https://signstock.blob.core.windows.net/signsc...</td>\n",
       "      <td>1</td>\n",
       "      <td>628</td>\n",
       "      <td>677</td>\n",
       "      <td>98</td>\n",
       "      <td>1386</td>\n",
       "      <td>1080</td>\n",
       "      <td>accident</td>\n",
       "    </tr>\n",
       "    <tr>\n",
       "      <th>561</th>\n",
       "      <td>25</td>\n",
       "      <td>-1</td>\n",
       "      <td>1</td>\n",
       "      <td>7</td>\n",
       "      <td>13</td>\n",
       "      <td>asldeafined</td>\n",
       "      <td>train</td>\n",
       "      <td>https://media.asldeafined.com/vocabulary/14661...</td>\n",
       "      <td>0</td>\n",
       "      <td>629</td>\n",
       "      <td>69</td>\n",
       "      <td>23</td>\n",
       "      <td>613</td>\n",
       "      <td>480</td>\n",
       "      <td>accident</td>\n",
       "    </tr>\n",
       "    <tr>\n",
       "      <th>...</th>\n",
       "      <td>...</td>\n",
       "      <td>...</td>\n",
       "      <td>...</td>\n",
       "      <td>...</td>\n",
       "      <td>...</td>\n",
       "      <td>...</td>\n",
       "      <td>...</td>\n",
       "      <td>...</td>\n",
       "      <td>...</td>\n",
       "      <td>...</td>\n",
       "      <td>...</td>\n",
       "      <td>...</td>\n",
       "      <td>...</td>\n",
       "      <td>...</td>\n",
       "      <td>...</td>\n",
       "    </tr>\n",
       "    <tr>\n",
       "      <th>3825</th>\n",
       "      <td>25</td>\n",
       "      <td>-1</td>\n",
       "      <td>1</td>\n",
       "      <td>1</td>\n",
       "      <td>115</td>\n",
       "      <td>aslbrick</td>\n",
       "      <td>train</td>\n",
       "      <td>http://aslbricks.org/New/ASL-Videos/tiger.mp4</td>\n",
       "      <td>0</td>\n",
       "      <td>69510</td>\n",
       "      <td>331</td>\n",
       "      <td>34</td>\n",
       "      <td>1000</td>\n",
       "      <td>720</td>\n",
       "      <td>tiger</td>\n",
       "    </tr>\n",
       "    <tr>\n",
       "      <th>537</th>\n",
       "      <td>25</td>\n",
       "      <td>-1</td>\n",
       "      <td>1</td>\n",
       "      <td>1</td>\n",
       "      <td>118</td>\n",
       "      <td>aslbrick</td>\n",
       "      <td>val</td>\n",
       "      <td>http://aslbricks.org/New/ASL-Videos/white.mp4</td>\n",
       "      <td>0</td>\n",
       "      <td>69533</td>\n",
       "      <td>366</td>\n",
       "      <td>40</td>\n",
       "      <td>875</td>\n",
       "      <td>720</td>\n",
       "      <td>white</td>\n",
       "    </tr>\n",
       "    <tr>\n",
       "      <th>78</th>\n",
       "      <td>25</td>\n",
       "      <td>-1</td>\n",
       "      <td>1</td>\n",
       "      <td>1</td>\n",
       "      <td>118</td>\n",
       "      <td>aslbrick</td>\n",
       "      <td>train</td>\n",
       "      <td>http://aslbricks.org/New/ASL-Videos/who.mp4</td>\n",
       "      <td>0</td>\n",
       "      <td>69534</td>\n",
       "      <td>381</td>\n",
       "      <td>45</td>\n",
       "      <td>868</td>\n",
       "      <td>720</td>\n",
       "      <td>who</td>\n",
       "    </tr>\n",
       "    <tr>\n",
       "      <th>1331</th>\n",
       "      <td>25</td>\n",
       "      <td>-1</td>\n",
       "      <td>1</td>\n",
       "      <td>1</td>\n",
       "      <td>115</td>\n",
       "      <td>aslbrick</td>\n",
       "      <td>test</td>\n",
       "      <td>http://aslbricks.org/New/ASL-Videos/write.mp4</td>\n",
       "      <td>0</td>\n",
       "      <td>69544</td>\n",
       "      <td>375</td>\n",
       "      <td>42</td>\n",
       "      <td>940</td>\n",
       "      <td>720</td>\n",
       "      <td>write</td>\n",
       "    </tr>\n",
       "    <tr>\n",
       "      <th>201</th>\n",
       "      <td>25</td>\n",
       "      <td>-1</td>\n",
       "      <td>1</td>\n",
       "      <td>1</td>\n",
       "      <td>118</td>\n",
       "      <td>aslbrick</td>\n",
       "      <td>val</td>\n",
       "      <td>http://aslbricks.org/New/ASL-Videos/yes.mp4</td>\n",
       "      <td>0</td>\n",
       "      <td>69546</td>\n",
       "      <td>214</td>\n",
       "      <td>41</td>\n",
       "      <td>881</td>\n",
       "      <td>720</td>\n",
       "      <td>yes</td>\n",
       "    </tr>\n",
       "  </tbody>\n",
       "</table>\n",
       "<p>642 rows × 15 columns</p>\n",
       "</div>"
      ],
      "text/plain": [
       "      fps  frame_end  frame_start  instance_id  signer_id         source  \\\n",
       "565    25         -1            1           12         26  spreadthesign   \n",
       "556    25         -1            1            2         29  spreadthesign   \n",
       "557    25         -1            1            3          6     signschool   \n",
       "560    25         -1            1            6          6     signschool   \n",
       "561    25         -1            1            7         13    asldeafined   \n",
       "...   ...        ...          ...          ...        ...            ...   \n",
       "3825   25         -1            1            1        115       aslbrick   \n",
       "537    25         -1            1            1        118       aslbrick   \n",
       "78     25         -1            1            1        118       aslbrick   \n",
       "1331   25         -1            1            1        115       aslbrick   \n",
       "201    25         -1            1            1        118       aslbrick   \n",
       "\n",
       "      split                                                url  variation_id  \\\n",
       "565   train  https://media.spreadthesign.com/video/mp4/13/1...             1   \n",
       "556   train  https://media.spreadthesign.com/video/mp4/13/7...             0   \n",
       "557    test  https://signstock.blob.core.windows.net/signsc...             1   \n",
       "560   train  https://signstock.blob.core.windows.net/signsc...             1   \n",
       "561   train  https://media.asldeafined.com/vocabulary/14661...             0   \n",
       "...     ...                                                ...           ...   \n",
       "3825  train      http://aslbricks.org/New/ASL-Videos/tiger.mp4             0   \n",
       "537     val      http://aslbricks.org/New/ASL-Videos/white.mp4             0   \n",
       "78    train        http://aslbricks.org/New/ASL-Videos/who.mp4             0   \n",
       "1331   test      http://aslbricks.org/New/ASL-Videos/write.mp4             0   \n",
       "201     val        http://aslbricks.org/New/ASL-Videos/yes.mp4             0   \n",
       "\n",
       "      video_id  bbox_xmin  bbox_ymin  bbox_xmax  bbox_ymax     gloss  \n",
       "565        623         54          6        272        240  accident  \n",
       "556        624         42          6        278        240  accident  \n",
       "557        625        675         50       1461       1080  accident  \n",
       "560        628        677         98       1386       1080  accident  \n",
       "561        629         69         23        613        480  accident  \n",
       "...        ...        ...        ...        ...        ...       ...  \n",
       "3825     69510        331         34       1000        720     tiger  \n",
       "537      69533        366         40        875        720     white  \n",
       "78       69534        381         45        868        720       who  \n",
       "1331     69544        375         42        940        720     write  \n",
       "201      69546        214         41        881        720       yes  \n",
       "\n",
       "[642 rows x 15 columns]"
      ]
     },
     "execution_count": 3,
     "metadata": {},
     "output_type": "execute_result"
    }
   ],
   "source": [
    "df"
   ]
  },
  {
   "cell_type": "code",
   "execution_count": 4,
   "id": "a77c5707-2173-42e3-a8ea-5d137bd57cdc",
   "metadata": {},
   "outputs": [],
   "source": [
    "X = joblib.load(open(\"features.pkl\", \"rb\"))"
   ]
  },
  {
   "cell_type": "markdown",
   "id": "8be75c86-44b3-49b7-9c0d-78f1d6d002e3",
   "metadata": {},
   "source": [
    "## Prepare dataset"
   ]
  },
  {
   "cell_type": "code",
   "execution_count": 5,
   "id": "75aaa875-a55e-40b1-b3ba-5ea54bffc9bc",
   "metadata": {},
   "outputs": [],
   "source": [
    "encoder = pickle.load(open(\"reduced one hot encoder\", 'rb'))\n",
    "y = encoder.transform(np.array(list(df[\"gloss\"])).reshape(-1,1)).toarray()"
   ]
  },
  {
   "cell_type": "code",
   "execution_count": 6,
   "id": "9731e476-0839-4d60-92cc-c8012aa088ab",
   "metadata": {},
   "outputs": [],
   "source": [
    "le = pickle.load(open(\"reduced label encoder\", 'rb'))\n",
    "y_ = le.transform(np.array(list(df[\"gloss\"])))"
   ]
  },
  {
   "cell_type": "code",
   "execution_count": 7,
   "id": "55e6616b-18e1-4e53-94d4-34acbb309eef",
   "metadata": {},
   "outputs": [
    {
     "data": {
      "text/plain": [
       "(642,)"
      ]
     },
     "execution_count": 7,
     "metadata": {},
     "output_type": "execute_result"
    }
   ],
   "source": [
    "y_.shape"
   ]
  },
  {
   "cell_type": "code",
   "execution_count": 8,
   "id": "c758c8fd-6942-416f-ad5d-fcda4a16b866",
   "metadata": {},
   "outputs": [
    {
     "name": "stdout",
     "output_type": "stream",
     "text": [
      "(642, 64, 520, 3) (642, 100)\n"
     ]
    }
   ],
   "source": [
    "print(X.shape, y.shape)"
   ]
  },
  {
   "cell_type": "code",
   "execution_count": 9,
   "id": "8a984cf9-c359-4c87-af59-c3800afc6061",
   "metadata": {},
   "outputs": [],
   "source": [
    "input_dim = X.shape[1:]\n",
    "nb_classes = y.shape[-1]"
   ]
  },
  {
   "cell_type": "markdown",
   "id": "5e070a26-38c8-42dc-9f61-3c0148ea62db",
   "metadata": {},
   "source": [
    "## Model implementation"
   ]
  },
  {
   "cell_type": "code",
   "execution_count": 10,
   "id": "e271ed96-27ad-4a8e-9c11-da79b1943218",
   "metadata": {},
   "outputs": [],
   "source": [
    "model = Sequential()\n",
    "model.add(Input(shape=(input_dim)))\n",
    "model.add(Conv2D(filters=8, kernel_size= 3, strides = (1, 2), padding='same', activation='relu'))\n",
    "model.add(Conv2D(filters=16, kernel_size=(input_dim[0], 3), strides = (1, 2), padding='same', activation='relu'))\n",
    "model.add(Conv2D(filters=32, kernel_size= 3, strides = (1, 2),padding='same', activation='relu'))\n",
    "model.add(tf.keras.layers.Reshape((64, 65*32)))\n",
    "model.add(GRU(64))\n",
    "# model.add(Dense(128, activation='relu'))\n",
    "model.add(Dense(nb_classes, activation='softmax'))\n",
    "model.compile(loss='CategoricalCrossentropy', optimizer='adam', metrics=['accuracy'])"
   ]
  },
  {
   "cell_type": "code",
   "execution_count": 11,
   "id": "4a4a8f65-e3f9-4ec6-8a8d-ed940dd7cc5f",
   "metadata": {},
   "outputs": [
    {
     "name": "stdout",
     "output_type": "stream",
     "text": [
      "Model: \"sequential\"\n",
      "_________________________________________________________________\n",
      " Layer (type)                Output Shape              Param #   \n",
      "=================================================================\n",
      " conv2d (Conv2D)             (None, 64, 260, 8)        224       \n",
      "                                                                 \n",
      " conv2d_1 (Conv2D)           (None, 64, 130, 16)       24592     \n",
      "                                                                 \n",
      " conv2d_2 (Conv2D)           (None, 64, 65, 32)        4640      \n",
      "                                                                 \n",
      " reshape (Reshape)           (None, 64, 2080)          0         \n",
      "                                                                 \n",
      " gru (GRU)                   (None, 64)                412032    \n",
      "                                                                 \n",
      " dense (Dense)               (None, 128)               8320      \n",
      "                                                                 \n",
      " dense_1 (Dense)             (None, 100)               12900     \n",
      "                                                                 \n",
      "=================================================================\n",
      "Total params: 462,708\n",
      "Trainable params: 462,708\n",
      "Non-trainable params: 0\n",
      "_________________________________________________________________\n"
     ]
    }
   ],
   "source": [
    "model.summary()"
   ]
  },
  {
   "cell_type": "code",
   "execution_count": 12,
   "id": "df0407f0-01c7-4ffe-bd5e-45eb04a9919b",
   "metadata": {},
   "outputs": [
    {
     "name": "stdout",
     "output_type": "stream",
     "text": [
      "Epoch 1/50\n",
      "10/10 [==============================] - 34s 3s/step - loss: 4.6093 - accuracy: 0.0035 - val_loss: 4.6054 - val_accuracy: 0.0000e+00\n",
      "Epoch 2/50\n",
      "10/10 [==============================] - 25s 3s/step - loss: 4.6023 - accuracy: 0.0156 - val_loss: 4.6015 - val_accuracy: 0.0000e+00\n",
      "Epoch 3/50\n",
      "10/10 [==============================] - 26s 3s/step - loss: 4.5772 - accuracy: 0.0139 - val_loss: 4.6189 - val_accuracy: 0.0000e+00\n",
      "Epoch 4/50\n",
      "10/10 [==============================] - 25s 3s/step - loss: 4.5317 - accuracy: 0.0156 - val_loss: 4.6390 - val_accuracy: 0.0154\n",
      "Epoch 5/50\n",
      "10/10 [==============================] - 26s 3s/step - loss: 4.4726 - accuracy: 0.0243 - val_loss: 4.6564 - val_accuracy: 0.0154\n",
      "Epoch 6/50\n",
      "10/10 [==============================] - 26s 3s/step - loss: 4.4311 - accuracy: 0.0295 - val_loss: 4.6561 - val_accuracy: 0.0000e+00\n",
      "Epoch 7/50\n",
      "10/10 [==============================] - 26s 3s/step - loss: 4.4026 - accuracy: 0.0329 - val_loss: 4.7076 - val_accuracy: 0.0000e+00\n",
      "Epoch 8/50\n",
      "10/10 [==============================] - 26s 3s/step - loss: 4.3548 - accuracy: 0.0329 - val_loss: 4.7290 - val_accuracy: 0.0000e+00\n",
      "Epoch 9/50\n",
      "10/10 [==============================] - 27s 3s/step - loss: 4.2986 - accuracy: 0.0416 - val_loss: 4.7953 - val_accuracy: 0.0000e+00\n",
      "Epoch 10/50\n",
      "10/10 [==============================] - 26s 3s/step - loss: 4.2496 - accuracy: 0.0381 - val_loss: 4.7590 - val_accuracy: 0.0000e+00\n",
      "Epoch 11/50\n",
      "10/10 [==============================] - 26s 3s/step - loss: 4.1994 - accuracy: 0.0416 - val_loss: 4.8064 - val_accuracy: 0.0000e+00\n",
      "Epoch 12/50\n",
      "10/10 [==============================] - 26s 3s/step - loss: 4.1513 - accuracy: 0.0468 - val_loss: 4.8125 - val_accuracy: 0.0000e+00\n",
      "Epoch 13/50\n",
      "10/10 [==============================] - 26s 3s/step - loss: 4.1271 - accuracy: 0.0468 - val_loss: 4.8248 - val_accuracy: 0.0000e+00\n",
      "Epoch 14/50\n",
      "10/10 [==============================] - 29s 3s/step - loss: 4.0381 - accuracy: 0.0693 - val_loss: 4.8078 - val_accuracy: 0.0000e+00\n",
      "Epoch 15/50\n",
      "10/10 [==============================] - 32s 3s/step - loss: 3.9657 - accuracy: 0.0780 - val_loss: 4.7447 - val_accuracy: 0.0308\n",
      "Epoch 16/50\n",
      "10/10 [==============================] - 32s 3s/step - loss: 3.8915 - accuracy: 0.0867 - val_loss: 4.8073 - val_accuracy: 0.0308\n",
      "Epoch 17/50\n",
      "10/10 [==============================] - 31s 3s/step - loss: 3.8037 - accuracy: 0.1109 - val_loss: 4.8320 - val_accuracy: 0.0154\n",
      "Epoch 18/50\n",
      "10/10 [==============================] - 29s 3s/step - loss: 3.7359 - accuracy: 0.1161 - val_loss: 4.8770 - val_accuracy: 0.0154\n",
      "Epoch 19/50\n",
      "10/10 [==============================] - 32s 3s/step - loss: 3.6811 - accuracy: 0.1282 - val_loss: 4.9035 - val_accuracy: 0.0154\n",
      "Epoch 20/50\n",
      "10/10 [==============================] - 32s 3s/step - loss: 3.6652 - accuracy: 0.1369 - val_loss: 4.8962 - val_accuracy: 0.0154\n",
      "Epoch 21/50\n",
      "10/10 [==============================] - 37s 4s/step - loss: 3.6176 - accuracy: 0.1300 - val_loss: 4.9312 - val_accuracy: 0.0308\n",
      "Epoch 22/50\n",
      "10/10 [==============================] - 34s 3s/step - loss: 3.5768 - accuracy: 0.1404 - val_loss: 4.8964 - val_accuracy: 0.0308\n",
      "Epoch 23/50\n",
      "10/10 [==============================] - 32s 3s/step - loss: 3.5505 - accuracy: 0.1508 - val_loss: 4.9820 - val_accuracy: 0.0308\n",
      "Epoch 24/50\n",
      "10/10 [==============================] - 31s 3s/step - loss: 3.5165 - accuracy: 0.1525 - val_loss: 4.9974 - val_accuracy: 0.0308\n",
      "Epoch 25/50\n",
      "10/10 [==============================] - 32s 3s/step - loss: 3.4203 - accuracy: 0.1785 - val_loss: 4.9881 - val_accuracy: 0.0308\n",
      "Epoch 26/50\n",
      "10/10 [==============================] - 31s 3s/step - loss: 3.3477 - accuracy: 0.1889 - val_loss: 5.0380 - val_accuracy: 0.0308\n",
      "Epoch 27/50\n",
      "10/10 [==============================] - 31s 3s/step - loss: 3.3184 - accuracy: 0.1872 - val_loss: 5.1278 - val_accuracy: 0.0308\n",
      "Epoch 28/50\n",
      "10/10 [==============================] - 29s 3s/step - loss: 3.2900 - accuracy: 0.1802 - val_loss: 5.1033 - val_accuracy: 0.0308\n",
      "Epoch 29/50\n",
      "10/10 [==============================] - 32s 3s/step - loss: 3.2514 - accuracy: 0.2028 - val_loss: 5.1537 - val_accuracy: 0.0154\n",
      "Epoch 30/50\n",
      "10/10 [==============================] - 31s 3s/step - loss: 3.2262 - accuracy: 0.2062 - val_loss: 5.1695 - val_accuracy: 0.0462\n",
      "Epoch 31/50\n",
      "10/10 [==============================] - 30s 3s/step - loss: 3.1686 - accuracy: 0.2132 - val_loss: 5.2601 - val_accuracy: 0.0308\n",
      "Epoch 32/50\n",
      "10/10 [==============================] - 30s 3s/step - loss: 3.0705 - accuracy: 0.2478 - val_loss: 5.2556 - val_accuracy: 0.0462\n",
      "Epoch 33/50\n",
      "10/10 [==============================] - 31s 3s/step - loss: 3.0065 - accuracy: 0.2513 - val_loss: 5.2607 - val_accuracy: 0.0308\n",
      "Epoch 34/50\n",
      "10/10 [==============================] - 31s 3s/step - loss: 3.0109 - accuracy: 0.2478 - val_loss: 5.3848 - val_accuracy: 0.0000e+00\n",
      "Epoch 35/50\n",
      "10/10 [==============================] - 30s 3s/step - loss: 2.9636 - accuracy: 0.2565 - val_loss: 5.3602 - val_accuracy: 0.0154\n",
      "Epoch 36/50\n",
      "10/10 [==============================] - 33s 3s/step - loss: 2.8951 - accuracy: 0.2634 - val_loss: 5.5043 - val_accuracy: 0.0000e+00\n",
      "Epoch 37/50\n",
      "10/10 [==============================] - 32s 3s/step - loss: 2.9361 - accuracy: 0.2634 - val_loss: 5.5039 - val_accuracy: 0.0154\n",
      "Epoch 38/50\n",
      "10/10 [==============================] - 29s 3s/step - loss: 2.9376 - accuracy: 0.2600 - val_loss: 5.5147 - val_accuracy: 0.0000e+00\n",
      "Epoch 39/50\n",
      "10/10 [==============================] - 33s 3s/step - loss: 2.9261 - accuracy: 0.2530 - val_loss: 5.3890 - val_accuracy: 0.0154\n",
      "Epoch 40/50\n",
      "10/10 [==============================] - 32s 3s/step - loss: 2.8482 - accuracy: 0.2704 - val_loss: 5.4894 - val_accuracy: 0.0154\n",
      "Epoch 41/50\n",
      "10/10 [==============================] - 33s 3s/step - loss: 2.7805 - accuracy: 0.2877 - val_loss: 5.5709 - val_accuracy: 0.0154\n",
      "Epoch 42/50\n",
      "10/10 [==============================] - 31s 3s/step - loss: 2.7403 - accuracy: 0.3050 - val_loss: 5.5996 - val_accuracy: 0.0154\n",
      "Epoch 43/50\n",
      "10/10 [==============================] - 32s 3s/step - loss: 2.7160 - accuracy: 0.2894 - val_loss: 5.6592 - val_accuracy: 0.0308\n",
      "Epoch 44/50\n",
      "10/10 [==============================] - 31s 3s/step - loss: 2.6644 - accuracy: 0.3050 - val_loss: 5.6839 - val_accuracy: 0.0000e+00\n",
      "Epoch 45/50\n",
      "10/10 [==============================] - 31s 3s/step - loss: 2.6216 - accuracy: 0.3224 - val_loss: 5.6970 - val_accuracy: 0.0000e+00\n",
      "Epoch 46/50\n",
      "10/10 [==============================] - 31s 3s/step - loss: 2.5792 - accuracy: 0.3362 - val_loss: 5.6566 - val_accuracy: 0.0154\n",
      "Epoch 47/50\n",
      "10/10 [==============================] - 31s 3s/step - loss: 2.5725 - accuracy: 0.3241 - val_loss: 5.7500 - val_accuracy: 0.0000e+00\n",
      "Epoch 48/50\n",
      "10/10 [==============================] - 31s 3s/step - loss: 2.6012 - accuracy: 0.3293 - val_loss: 5.7619 - val_accuracy: 0.0308\n",
      "Epoch 49/50\n",
      "10/10 [==============================] - 32s 3s/step - loss: 2.5834 - accuracy: 0.2981 - val_loss: 5.7898 - val_accuracy: 0.0154\n",
      "Epoch 50/50\n",
      "10/10 [==============================] - 31s 3s/step - loss: 2.6727 - accuracy: 0.3102 - val_loss: 5.6036 - val_accuracy: 0.0154\n"
     ]
    },
    {
     "data": {
      "image/png": "[encoded data removed]",
      "text/plain": [
       "<Figure size 432x288 with 1 Axes>"
      ]
     },
     "metadata": {
      "needs_background": "light"
     },
     "output_type": "display_data"
    },
    {
     "data": {
      "image/png": "[encoded data removed]",
      "text/plain": [
       "<Figure size 432x288 with 1 Axes>"
      ]
     },
     "metadata": {
      "needs_background": "light"
     },
     "output_type": "display_data"
    }
   ],
   "source": [
    "model.fit(X, y, epochs=50, batch_size=64, validation_split = 0.1, shuffle = True)\n",
    "\n",
    "plt.plot(model.history.history['loss'])\n",
    "plt.plot(model.history.history['val_loss'])\n",
    "plt.legend([\"Training set loss\", \"Validation set loss\"])\n",
    "plt.yscale(\"log\")\n",
    "plt.show()\n",
    "\n",
    "plt.plot(model.history.history['accuracy'])\n",
    "plt.plot(model.history.history['val_accuracy'])\n",
    "plt.legend([ \"Accuracy\", \"Validation accuracy\"])\n",
    "\n",
    "plt.show()"
   ]
  },
  {
   "cell_type": "code",
   "execution_count": 13,
   "id": "1a6e05a3-4199-40a0-a16a-9ef857bd8c5b",
   "metadata": {},
   "outputs": [
    {
     "name": "stdout",
     "output_type": "stream",
     "text": [
      "21/21 [==============================] - 6s 239ms/step\n"
     ]
    }
   ],
   "source": [
    "y_pred = model.predict(X)         \n",
    "y_pred = np.argmax(y_pred, axis = 1)"
   ]
  },
  {
   "cell_type": "code",
   "execution_count": 14,
   "id": "37400bf6-e3d8-4248-ba01-5f1e44942087",
   "metadata": {},
   "outputs": [
    {
     "name": "stdout",
     "output_type": "stream",
     "text": [
      "F1 score :  0.27578079502545516\n",
      "Accuracy :  0.2803738317757009\n",
      "Precision score :  0.3604921206820513\n",
      "Recall score :  0.2803738317757009\n"
     ]
    },
    {
     "name": "stderr",
     "output_type": "stream",
     "text": [
      "C:\\Users\\thoma\\AppData\\Local\\Programs\\Python\\Python39\\lib\\site-packages\\sklearn\\metrics\\_classification.py:1327: UndefinedMetricWarning: Precision is ill-defined and being set to 0.0 in labels with no predicted samples. Use `zero_division` parameter to control this behavior.\n",
      "  _warn_prf(average, modifier, msg_start, len(result))\n"
     ]
    }
   ],
   "source": [
    "print(\"F1 score : \", f1_score(y_, y_pred, average = 'weighted'))\n",
    "print(\"Accuracy : \", accuracy_score(y_, y_pred))\n",
    "print(\"Precision score : \", precision_score(y_, y_pred, average = 'weighted'))\n",
    "print(\"Recall score : \", recall_score(y_, y_pred, average = 'weighted'))"
   ]
  },
  {
   "cell_type": "code",
   "execution_count": 15,
   "id": "ff096b54-69a1-461a-973e-f13f66349118",
   "metadata": {},
   "outputs": [
    {
     "name": "stderr",
     "output_type": "stream",
     "text": [
      "WARNING:absl:Found untraced functions such as _jit_compiled_convolution_op, _jit_compiled_convolution_op, _jit_compiled_convolution_op, gru_cell_layer_call_fn, gru_cell_layer_call_and_return_conditional_losses while saving (showing 5 of 5). These functions will not be directly callable after loading.\n"
     ]
    },
    {
     "name": "stdout",
     "output_type": "stream",
     "text": [
      "INFO:tensorflow:Assets written to: model\\assets\n"
     ]
    },
    {
     "name": "stderr",
     "output_type": "stream",
     "text": [
      "INFO:tensorflow:Assets written to: model\\assets\n"
     ]
    }
   ],
   "source": [
    "model.save(\"model\")"
   ]
  },
  {
   "cell_type": "markdown",
   "id": "38fc82d8-e126-4144-896b-4d005c9cc2ff",
   "metadata": {},
   "source": [
    "### Training only with hands landmarks"
   ]
  },
  {
   "cell_type": "code",
   "execution_count": 24,
   "id": "250a0718-33e6-4b08-9aa1-119aeba3c219",
   "metadata": {},
   "outputs": [],
   "source": [
    "X2 = X[:,:,:42]"
   ]
  },
  {
   "cell_type": "code",
   "execution_count": 25,
   "id": "4cb0807a-5550-409b-9e4d-8d48f4e102de",
   "metadata": {},
   "outputs": [],
   "source": [
    "input_dim_2 = X2.shape[1:]"
   ]
  },
  {
   "cell_type": "code",
   "execution_count": 27,
   "id": "38263852-455f-49b7-8b60-a1f7231369fb",
   "metadata": {},
   "outputs": [],
   "source": [
    "model2 = Sequential()\n",
    "model2.add(Input(shape=(input_dim_2)))\n",
    "model2.add(Conv2D(filters=8, kernel_size= 3, strides = (1, 2), padding='same', activation='relu'))\n",
    "model2.add(Conv2D(filters=16, kernel_size=(input_dim[0], 3), strides = (1, 2), padding='same', activation='relu'))\n",
    "model2.add(Conv2D(filters=32, kernel_size= 3, strides = (1, 2),padding='same', activation='relu'))\n",
    "model2.add(tf.keras.layers.Reshape((100, 6*32)))\n",
    "model2.add(LSTM(64))\n",
    "model2.add(Dense(128, activation='relu'))\n",
    "model2.add(Dense(nb_classes, activation='softmax'))\n",
    "model2.compile(loss='CategoricalCrossentropy', optimizer='adam', metrics=['accuracy'])"
   ]
  },
  {
   "cell_type": "code",
   "execution_count": 28,
   "id": "adb77e12-38a2-43bc-9a92-a03868b2d1f7",
   "metadata": {},
   "outputs": [
    {
     "name": "stdout",
     "output_type": "stream",
     "text": [
      "Model: \"sequential_1\"\n",
      "_________________________________________________________________\n",
      " Layer (type)                Output Shape              Param #   \n",
      "=================================================================\n",
      " conv2d_3 (Conv2D)           (None, 100, 21, 8)        224       \n",
      "                                                                 \n",
      " conv2d_4 (Conv2D)           (None, 100, 11, 16)       38416     \n",
      "                                                                 \n",
      " conv2d_5 (Conv2D)           (None, 100, 6, 32)        4640      \n",
      "                                                                 \n",
      " reshape_1 (Reshape)         (None, 100, 192)          0         \n",
      "                                                                 \n",
      " lstm (LSTM)                 (None, 64)                65792     \n",
      "                                                                 \n",
      " dense (Dense)               (None, 128)               8320      \n",
      "                                                                 \n",
      " dense_1 (Dense)             (None, 1030)              132870    \n",
      "                                                                 \n",
      "=================================================================\n",
      "Total params: 250,262\n",
      "Trainable params: 250,262\n",
      "Non-trainable params: 0\n",
      "_________________________________________________________________\n"
     ]
    }
   ],
   "source": [
    "model2.summary()"
   ]
  },
  {
   "cell_type": "code",
   "execution_count": 31,
   "id": "cb410055-ab48-4c57-8b8c-1ee87bd9cc71",
   "metadata": {},
   "outputs": [
    {
     "name": "stdout",
     "output_type": "stream",
     "text": [
      "Epoch 1/10\n",
      "44/44 [==============================] - 41s 809ms/step - loss: 6.9529 - accuracy: 0.0014 - val_loss: 6.9421 - val_accuracy: 0.0017\n",
      "Epoch 2/10\n",
      "21/44 [=============>................] - ETA: 15s - loss: 6.8705 - accuracy: 0.0037"
     ]
    },
    {
     "name": "stderr",
     "output_type": "stream",
     "text": [
      "\n",
      "KeyboardInterrupt\n",
      "\n"
     ]
    }
   ],
   "source": [
    "for train_index, test_index in sss.split(X2, y_):\n",
    "    X_train, X_test = X2[train_index], X2[test_index]\n",
    "    y_train, y_test = y[train_index], y[test_index]\n",
    "    model2.fit(X_train, y_train, epochs=10, batch_size=64, validation_data=(X_test, y_test))\n",
    "    \n",
    "    plt.plot(model2.history.history['loss'])\n",
    "    plt.plot(model2.history.history['val_loss'])\n",
    "    plt.plot(model2.history.history['accuracy'])\n",
    "    plt.plot(model2.history.history['val_accuracy'])\n",
    "    plt.legend([\"Training set loss\", \"Validation set loss\", \"Accuracy\", \"Validation accuracy\"])\n",
    "\n",
    "    plt.yscale(\"log\")\n",
    "    plt.show()"
   ]
  },
  {
   "cell_type": "code",
   "execution_count": 56,
   "id": "ff0f09fe-d78a-4fbf-9c34-6e522f8bf80d",
   "metadata": {},
   "outputs": [
    {
     "name": "stdout",
     "output_type": "stream",
     "text": [
      "125/125 [==============================] - 8s 59ms/step\n"
     ]
    }
   ],
   "source": [
    "y_pred = model2.predict(X2)         \n",
    "y_pred = np.argmax(y_pred, axis = 1)"
   ]
  },
  {
   "cell_type": "code",
   "execution_count": 57,
   "id": "46c98f22-0baa-494f-8f00-8c7d3350f43a",
   "metadata": {},
   "outputs": [
    {
     "name": "stdout",
     "output_type": "stream",
     "text": [
      "F1 score :  0.19501868653081791\n",
      "Accuracy :  0.16930419492589802\n",
      "Precision score :  0.3207483299904223\n",
      "Recall score :  0.16930419492589802\n"
     ]
    },
    {
     "name": "stderr",
     "output_type": "stream",
     "text": [
      "C:\\Users\\thoma\\AppData\\Local\\Programs\\Python\\Python39\\lib\\site-packages\\sklearn\\metrics\\_classification.py:1327: UndefinedMetricWarning: Precision is ill-defined and being set to 0.0 in labels with no predicted samples. Use `zero_division` parameter to control this behavior.\n",
      "  _warn_prf(average, modifier, msg_start, len(result))\n"
     ]
    }
   ],
   "source": [
    "print(\"F1 score : \", f1_score(y_, y_pred, average = 'weighted'))\n",
    "print(\"Accuracy : \", accuracy_score(y_, y_pred))\n",
    "print(\"Precision score : \", precision_score(y_, y_pred, average = 'weighted'))\n",
    "print(\"Recall score : \", recall_score(y_, y_pred, average = 'weighted'))"
   ]
  },
  {
   "cell_type": "markdown",
   "id": "e599c240-a0d6-4565-870c-81b28bf3544e",
   "metadata": {},
   "source": [
    "### Less complicated architecture"
   ]
  },
  {
   "cell_type": "code",
   "execution_count": 80,
   "id": "aecaa554-2a86-4d13-8bb3-a55d138e38d3",
   "metadata": {},
   "outputs": [],
   "source": [
    "model = Sequential()\n",
    "model.add(Input(shape=(input_dim)))\n",
    "model.add(tf.keras.layers.Reshape((100, 520*3)))\n",
    "model.add(LSTM(128))\n",
    "model.add(Dense(nb_classes, activation='softmax'))\n",
    "model.compile(loss='CategoricalCrossentropy', optimizer='adam', metrics=['accuracy'])"
   ]
  },
  {
   "cell_type": "code",
   "execution_count": 81,
   "id": "25a844bb-9841-4944-98a8-c115635e79b3",
   "metadata": {},
   "outputs": [
    {
     "name": "stdout",
     "output_type": "stream",
     "text": [
      "Model: \"sequential_12\"\n",
      "_________________________________________________________________\n",
      " Layer (type)                Output Shape              Param #   \n",
      "=================================================================\n",
      " reshape_11 (Reshape)        (None, 100, 1560)         0         \n",
      "                                                                 \n",
      " lstm_6 (LSTM)               (None, 128)               864768    \n",
      "                                                                 \n",
      " dense_12 (Dense)            (None, 1030)              132870    \n",
      "                                                                 \n",
      "=================================================================\n",
      "Total params: 997,638\n",
      "Trainable params: 997,638\n",
      "Non-trainable params: 0\n",
      "_________________________________________________________________\n"
     ]
    }
   ],
   "source": [
    "model.summary()"
   ]
  },
  {
   "cell_type": "code",
   "execution_count": 82,
   "id": "d771a414-d81f-4cb9-a93a-c6ece8b7f74c",
   "metadata": {},
   "outputs": [],
   "source": [
    "sss = StratifiedShuffleSplit(n_splits=5, test_size=0.3, random_state=1)"
   ]
  },
  {
   "cell_type": "code",
   "execution_count": 83,
   "id": "43feec57-16fa-496d-afd4-6e8dd029b835",
   "metadata": {},
   "outputs": [
    {
     "name": "stdout",
     "output_type": "stream",
     "text": [
      "Epoch 1/10\n",
      "44/44 [==============================] - 29s 504ms/step - loss: 6.9783 - accuracy: 3.5894e-04 - val_loss: 6.9394 - val_accuracy: 0.0033\n",
      "Epoch 2/10\n",
      "44/44 [==============================] - 19s 439ms/step - loss: 6.9060 - accuracy: 0.0036 - val_loss: 6.9440 - val_accuracy: 0.0000e+00\n",
      "Epoch 3/10\n",
      "44/44 [==============================] - 16s 368ms/step - loss: 6.8546 - accuracy: 0.0194 - val_loss: 6.9546 - val_accuracy: 8.3682e-04\n",
      "Epoch 4/10\n",
      "44/44 [==============================] - 15s 335ms/step - loss: 6.7831 - accuracy: 0.0327 - val_loss: 6.9736 - val_accuracy: 0.0025\n",
      "Epoch 5/10\n",
      "44/44 [==============================] - 15s 344ms/step - loss: 6.7061 - accuracy: 0.0456 - val_loss: 7.0020 - val_accuracy: 0.0033\n",
      "Epoch 6/10\n",
      " 3/44 [=>............................] - ETA: 11s - loss: 6.6015 - accuracy: 0.0521"
     ]
    },
    {
     "name": "stderr",
     "output_type": "stream",
     "text": [
      "\n",
      "KeyboardInterrupt\n",
      "\n"
     ]
    }
   ],
   "source": [
    "for train_index, test_index in sss.split(X, y_):\n",
    "    X_train, X_test = X[train_index], X[test_index]\n",
    "    y_train, y_test = y[train_index], y[test_index]\n",
    "    model.fit(X_train, y_train, epochs=10, batch_size=64, validation_data=(X_test, y_test))\n",
    "    \n",
    "    plt.plot(model.history.history['loss'])\n",
    "    plt.plot(model.history.history['val_loss'])\n",
    "    plt.plot(model.history.history['accuracy'])\n",
    "    plt.plot(model.history.history['val_accuracy'])\n",
    "    plt.legend([\"Training set loss\", \"Validation set loss\", \"Accuracy\", \"Validation accuracy\"])\n",
    "\n",
    "    plt.yscale(\"log\")\n",
    "    plt.show()"
   ]
  },
  {
   "cell_type": "code",
   "execution_count": 31,
   "id": "5e2fe146-4062-4784-ad80-5ddb82c30a96",
   "metadata": {},
   "outputs": [
    {
     "name": "stdout",
     "output_type": "stream",
     "text": [
      "125/125 [==============================] - 36s 282ms/step\n"
     ]
    }
   ],
   "source": [
    "y_pred = model.predict(X)         \n",
    "y_pred = np.argmax(y_pred, axis = 1)"
   ]
  },
  {
   "cell_type": "code",
   "execution_count": 32,
   "id": "891be85b-72c7-408c-aad6-878356a04ee5",
   "metadata": {},
   "outputs": [
    {
     "name": "stdout",
     "output_type": "stream",
     "text": [
      "F1 score :  0.31895924822595473\n",
      "Accuracy :  0.30419492589801556\n",
      "Precision score :  0.41293071704964746\n",
      "Recall score :  0.30419492589801556\n"
     ]
    },
    {
     "name": "stderr",
     "output_type": "stream",
     "text": [
      "C:\\Users\\thoma\\AppData\\Local\\Programs\\Python\\Python39\\lib\\site-packages\\sklearn\\metrics\\_classification.py:1327: UndefinedMetricWarning: Precision is ill-defined and being set to 0.0 in labels with no predicted samples. Use `zero_division` parameter to control this behavior.\n",
      "  _warn_prf(average, modifier, msg_start, len(result))\n"
     ]
    }
   ],
   "source": [
    "print(\"F1 score : \", f1_score(y_, y_pred, average = 'weighted'))\n",
    "print(\"Accuracy : \", accuracy_score(y_, y_pred))\n",
    "print(\"Precision score : \", precision_score(y_, y_pred, average = 'weighted'))\n",
    "print(\"Recall score : \", recall_score(y_, y_pred, average = 'weighted'))"
   ]
  }
 ],
 "metadata": {
  "kernelspec": {
   "display_name": "Yolo",
   "language": "python",
   "name": "yolo"
  },
  "language_info": {
   "codemirror_mode": {
    "name": "ipython",
    "version": 3
   },
   "file_extension": ".py",
   "mimetype": "text/x-python",
   "name": "python",
   "nbconvert_exporter": "python",
   "pygments_lexer": "ipython3",
   "version": "3.9.6"
  }
 },
 "nbformat": 4,
 "nbformat_minor": 5
}
