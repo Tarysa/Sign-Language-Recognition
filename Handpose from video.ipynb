{
 "cells": [
  {
   "cell_type": "markdown",
   "id": "f3ca96e6-1548-4499-9e65-fa0f8cebe662",
   "metadata": {},
   "source": [
    "# This notebook will be used to retrieve all handposes from all dataset videos. "
   ]
  },
  {
   "cell_type": "code",
   "execution_count": 119,
   "id": "1747bcbf-88f4-423e-b756-d5f52df96d36",
   "metadata": {},
   "outputs": [],
   "source": [
    "import mediapipe as mp\n",
    "import cv2\n",
    "import numpy as np\n",
    "import uuid\n",
    "import os\n",
    "from tqdm import tqdm"
   ]
  },
  {
   "cell_type": "code",
   "execution_count": 3,
   "id": "ea4c181d-b97c-43ab-9578-2b201991128d",
   "metadata": {},
   "outputs": [],
   "source": [
    "mp_drawing = mp.solutions.drawing_utils\n",
    "mp_hands = mp.solutions.hands"
   ]
  },
  {
   "cell_type": "markdown",
   "id": "71ef3055-ecbb-4fb0-85ce-412dcc329de6",
   "metadata": {},
   "source": [
    "## Open a video"
   ]
  },
  {
   "cell_type": "code",
   "execution_count": 16,
   "id": "2e8ab26f-dc5c-4c52-91cc-6542333ba68d",
   "metadata": {},
   "outputs": [],
   "source": [
    "cap = cv2.VideoCapture(\"dataset/videos/00335.mp4\")\n",
    "while(cap.isOpened()):\n",
    "    ret, frame = cap.read()\n",
    "    if ret:\n",
    "        cv2.imshow('frame',frame)\n",
    "    else:\n",
    "        break\n",
    "    if cv2.waitKey(20) & 0xFF == ord('q'):\n",
    "            break\n",
    "\n",
    "cap.release()\n",
    "cv2.destroyAllWindows()"
   ]
  },
  {
   "cell_type": "markdown",
   "id": "d7e74616-ca45-4931-a861-11d19669f38e",
   "metadata": {},
   "source": [
    "## Detect handpose one a single video"
   ]
  },
  {
   "cell_type": "code",
   "execution_count": 79,
   "id": "ee7c264a-1ef2-4997-a9f4-99eeb19d4253",
   "metadata": {},
   "outputs": [],
   "source": [
    "hand_position = []\n",
    "cap = cv2.VideoCapture(\"dataset/videos/00335.mp4\")\n",
    "with mp_hands.Hands(min_detection_confidence=0.8, min_tracking_confidence=0.5) as hands: \n",
    "    while cap.isOpened():\n",
    "        ret, frame = cap.read()\n",
    "        \n",
    "        if ret:\n",
    "\n",
    "            # Flip on horizontal\n",
    "            image = cv2.flip(frame, 1)\n",
    "\n",
    "            # Set flag\n",
    "            image.flags.writeable = False\n",
    "\n",
    "            # Detections\n",
    "            results = hands.process(image)\n",
    "\n",
    "            # Set flag to true\n",
    "            image.flags.writeable = True\n",
    "\n",
    "            # Rendering results\n",
    "            if results.multi_hand_landmarks:\n",
    "                temp_hand_position = []\n",
    "                for num, hand in enumerate(results.multi_hand_landmarks):\n",
    "                    mp_drawing.draw_landmarks(image, hand, mp_hands.HAND_CONNECTIONS, \n",
    "                                            mp_drawing.DrawingSpec(color=(121, 22, 76), thickness=2, circle_radius=4),\n",
    "                                            mp_drawing.DrawingSpec(color=(250, 44, 250), thickness=2, circle_radius=2),\n",
    "                                             )\n",
    "                    temp_hand_position.append(hand)\n",
    "                hand_position.append(temp_hand_position[0])\n",
    "\n",
    "            # Save our image    \n",
    "            cv2.imshow('Hand Tracking', image)\n",
    "        else :\n",
    "            break\n",
    "\n",
    "        if cv2.waitKey(20) & 0xFF == ord('q'):\n",
    "            break\n",
    "\n",
    "cap.release()\n",
    "cv2.destroyAllWindows()\n"
   ]
  },
  {
   "cell_type": "markdown",
   "id": "1e335dc9-d15d-46d3-bc64-26133a7eeac8",
   "metadata": {},
   "source": [
    "### get the first coordinate from the first recognized hand placement. Each tracked hand is composed of 21 reference points characterized by 3 coordinates: x, y (2D coordinates) and z (depth)."
   ]
  },
  {
   "cell_type": "code",
   "execution_count": 80,
   "id": "21e53db9-c764-425b-91b9-748d76bed8aa",
   "metadata": {},
   "outputs": [
    {
     "data": {
      "text/plain": [
       "x: 0.6498881578445435\n",
       "y: 0.9029449820518494\n",
       "z: 3.3803087262640474e-07"
      ]
     },
     "execution_count": 80,
     "metadata": {},
     "output_type": "execute_result"
    }
   ],
   "source": [
    "hand_position[0].landmark[0]"
   ]
  },
  {
   "cell_type": "code",
   "execution_count": 82,
   "id": "a10b2049-3abe-4818-a4f1-d922496a12e2",
   "metadata": {},
   "outputs": [
    {
     "data": {
      "text/plain": [
       "0.6498881578445435"
      ]
     },
     "execution_count": 82,
     "metadata": {},
     "output_type": "execute_result"
    }
   ],
   "source": [
    "hand_position[0].landmark[0].x"
   ]
  },
  {
   "cell_type": "code",
   "execution_count": 111,
   "id": "3afbfcac-b916-4437-81d3-45fcf6dfef98",
   "metadata": {},
   "outputs": [],
   "source": [
    "def get_coordinate_from_landmark(landmark):\n",
    "    return np.array([[landmark.x, landmark.y, landmark.z]])\n",
    "\n",
    "def get_positions_from_track(hand):\n",
    "    \n",
    "    all_positions = np.concatenate([get_coordinate_from_landmark(landmark) for landmark in hand.landmark], axis = 0)\n",
    "    return all_positions\n",
    "\n",
    "def get_all_tracked_hand(finename_video):\n",
    "    \n",
    "    hand_position = []\n",
    "    cap = cv2.VideoCapture(finename_video)\n",
    "    with mp_hands.Hands(min_detection_confidence=0.8, min_tracking_confidence=0.5) as hands: \n",
    "        while cap.isOpened():\n",
    "            ret, frame = cap.read()\n",
    "\n",
    "            if ret:\n",
    "\n",
    "                # Flip on horizontal\n",
    "                image = cv2.flip(frame, 1)\n",
    "\n",
    "                # Set flag\n",
    "                image.flags.writeable = False\n",
    "\n",
    "                # Detections\n",
    "                results = hands.process(image)\n",
    "                \n",
    "                if results.multi_hand_landmarks:\n",
    "                    # Hands has been recognized\n",
    "                    hand_position.append(get_positions_from_track(results.multi_hand_landmarks[0]))\n",
    "\n",
    "            else :\n",
    "                break\n",
    "\n",
    "    cap.release()\n",
    "    hand_position = np.array(hand_position)\n",
    "    return hand_position"
   ]
  },
  {
   "cell_type": "code",
   "execution_count": 114,
   "id": "ae81746c-6aa3-4ece-9ade-748d768b58ae",
   "metadata": {},
   "outputs": [],
   "source": [
    "single_track = get_all_tracked_hand(\"dataset/videos/00335.mp4\")"
   ]
  },
  {
   "cell_type": "code",
   "execution_count": 115,
   "id": "249ddcef-418e-4ccd-9833-3dddd4343a90",
   "metadata": {},
   "outputs": [
    {
     "data": {
      "text/plain": [
       "(22, 21, 3)"
      ]
     },
     "execution_count": 115,
     "metadata": {},
     "output_type": "execute_result"
    }
   ],
   "source": [
    "single_track.shape"
   ]
  },
  {
   "cell_type": "code",
   "execution_count": 116,
   "id": "7bee6b29-a5cd-496d-a9fc-a93484c66b25",
   "metadata": {},
   "outputs": [
    {
     "data": {
      "text/plain": [
       "array([[ 6.49888158e-01,  9.02944982e-01,  3.38030873e-07],\n",
       "       [ 6.28637075e-01,  8.64731610e-01, -1.25175426e-02],\n",
       "       [ 6.01684928e-01,  8.39013338e-01, -2.33906657e-02],\n",
       "       [ 5.76628625e-01,  8.22816014e-01, -3.21975984e-02],\n",
       "       [ 5.59654772e-01,  8.05503666e-01, -4.15830463e-02],\n",
       "       [ 5.79283714e-01,  8.80465508e-01, -3.07945199e-02],\n",
       "       [ 5.35873353e-01,  8.83060515e-01, -4.49427404e-02],\n",
       "       [ 5.08747935e-01,  8.84980261e-01, -5.30005805e-02],\n",
       "       [ 4.86826181e-01,  8.87657225e-01, -5.76398112e-02],\n",
       "       [ 5.80925167e-01,  9.12913680e-01, -3.12421340e-02],\n",
       "       [ 5.34501970e-01,  9.13887620e-01, -4.38396782e-02],\n",
       "       [ 5.02465010e-01,  9.14558411e-01, -5.05705252e-02],\n",
       "       [ 4.76479590e-01,  9.16072905e-01, -5.51613569e-02],\n",
       "       [ 5.86200535e-01,  9.41723466e-01, -3.16360258e-02],\n",
       "       [ 5.43561637e-01,  9.43803966e-01, -4.22130413e-02],\n",
       "       [ 5.15513062e-01,  9.43563044e-01, -4.82520759e-02],\n",
       "       [ 4.94611114e-01,  9.42920208e-01, -5.20223416e-02],\n",
       "       [ 5.93377590e-01,  9.65556383e-01, -3.25700380e-02],\n",
       "       [ 5.59266567e-01,  9.72386360e-01, -4.19024751e-02],\n",
       "       [ 5.37674785e-01,  9.75981295e-01, -4.60974984e-02],\n",
       "       [ 5.19698143e-01,  9.78770673e-01, -4.83288504e-02]])"
      ]
     },
     "execution_count": 116,
     "metadata": {},
     "output_type": "execute_result"
    }
   ],
   "source": [
    "single_track[0]"
   ]
  },
  {
   "cell_type": "code",
   "execution_count": 128,
   "id": "4bfd1269-4bae-470c-a0f7-bd69357c7da0",
   "metadata": {},
   "outputs": [],
   "source": [
    "path_to_videos = os.getcwd()+'/dataset/videos'"
   ]
  },
  {
   "cell_type": "code",
   "execution_count": 130,
   "id": "9f88152a-648f-492b-9d22-1948101b8fb2",
   "metadata": {},
   "outputs": [
    {
     "name": "stderr",
     "output_type": "stream",
     "text": [
      "  0%|▎                                                                           | 45/11980 [02:21<10:26:51,  3.15s/it]\n"
     ]
    },
    {
     "ename": "KeyboardInterrupt",
     "evalue": "",
     "output_type": "error",
     "traceback": [
      "\u001b[1;31m---------------------------------------------------------------------------\u001b[0m",
      "\u001b[1;31mKeyboardInterrupt\u001b[0m                         Traceback (most recent call last)",
      "Input \u001b[1;32mIn [130]\u001b[0m, in \u001b[0;36m<cell line: 2>\u001b[1;34m()\u001b[0m\n\u001b[0;32m      1\u001b[0m hands_tracked \u001b[38;5;241m=\u001b[39m {}\n\u001b[0;32m      2\u001b[0m \u001b[38;5;28;01mfor\u001b[39;00m filename \u001b[38;5;129;01min\u001b[39;00m tqdm(os\u001b[38;5;241m.\u001b[39mlistdir(path_to_videos)):\n\u001b[1;32m----> 3\u001b[0m     hands_tracked[filename] \u001b[38;5;241m=\u001b[39m \u001b[43mget_all_tracked_hand\u001b[49m\u001b[43m(\u001b[49m\u001b[43mpath_to_videos\u001b[49m\u001b[38;5;241;43m+\u001b[39;49m\u001b[38;5;124;43m'\u001b[39;49m\u001b[38;5;124;43m/\u001b[39;49m\u001b[38;5;124;43m'\u001b[39;49m\u001b[38;5;241;43m+\u001b[39;49m\u001b[43mfilename\u001b[49m\u001b[43m)\u001b[49m\n",
      "Input \u001b[1;32mIn [111]\u001b[0m, in \u001b[0;36mget_all_tracked_hand\u001b[1;34m(finename_video)\u001b[0m\n\u001b[0;32m     23\u001b[0m image\u001b[38;5;241m.\u001b[39mflags\u001b[38;5;241m.\u001b[39mwriteable \u001b[38;5;241m=\u001b[39m \u001b[38;5;28;01mFalse\u001b[39;00m\n\u001b[0;32m     25\u001b[0m \u001b[38;5;66;03m# Detections\u001b[39;00m\n\u001b[1;32m---> 26\u001b[0m results \u001b[38;5;241m=\u001b[39m \u001b[43mhands\u001b[49m\u001b[38;5;241;43m.\u001b[39;49m\u001b[43mprocess\u001b[49m\u001b[43m(\u001b[49m\u001b[43mimage\u001b[49m\u001b[43m)\u001b[49m\n\u001b[0;32m     28\u001b[0m \u001b[38;5;28;01mif\u001b[39;00m results\u001b[38;5;241m.\u001b[39mmulti_hand_landmarks:\n\u001b[0;32m     29\u001b[0m     \u001b[38;5;66;03m# Hands has been recognized\u001b[39;00m\n\u001b[0;32m     30\u001b[0m     hand_position\u001b[38;5;241m.\u001b[39mappend(get_positions_from_track(results\u001b[38;5;241m.\u001b[39mmulti_hand_landmarks[\u001b[38;5;241m0\u001b[39m]))\n",
      "File \u001b[1;32m~\\AppData\\Roaming\\Python\\Python39\\site-packages\\mediapipe\\python\\solutions\\hands.py:153\u001b[0m, in \u001b[0;36mHands.process\u001b[1;34m(self, image)\u001b[0m\n\u001b[0;32m    132\u001b[0m \u001b[38;5;28;01mdef\u001b[39;00m \u001b[38;5;21mprocess\u001b[39m(\u001b[38;5;28mself\u001b[39m, image: np\u001b[38;5;241m.\u001b[39mndarray) \u001b[38;5;241m-\u001b[39m\u001b[38;5;241m>\u001b[39m NamedTuple:\n\u001b[0;32m    133\u001b[0m   \u001b[38;5;124;03m\"\"\"Processes an RGB image and returns the hand landmarks and handedness of each detected hand.\u001b[39;00m\n\u001b[0;32m    134\u001b[0m \n\u001b[0;32m    135\u001b[0m \u001b[38;5;124;03m  Args:\u001b[39;00m\n\u001b[1;32m   (...)\u001b[0m\n\u001b[0;32m    150\u001b[0m \u001b[38;5;124;03m         right hand) of the detected hand.\u001b[39;00m\n\u001b[0;32m    151\u001b[0m \u001b[38;5;124;03m  \"\"\"\u001b[39;00m\n\u001b[1;32m--> 153\u001b[0m   \u001b[38;5;28;01mreturn\u001b[39;00m \u001b[38;5;28;43msuper\u001b[39;49m\u001b[43m(\u001b[49m\u001b[43m)\u001b[49m\u001b[38;5;241;43m.\u001b[39;49m\u001b[43mprocess\u001b[49m\u001b[43m(\u001b[49m\u001b[43minput_data\u001b[49m\u001b[38;5;241;43m=\u001b[39;49m\u001b[43m{\u001b[49m\u001b[38;5;124;43m'\u001b[39;49m\u001b[38;5;124;43mimage\u001b[39;49m\u001b[38;5;124;43m'\u001b[39;49m\u001b[43m:\u001b[49m\u001b[43m \u001b[49m\u001b[43mimage\u001b[49m\u001b[43m}\u001b[49m\u001b[43m)\u001b[49m\n",
      "File \u001b[1;32m~\\AppData\\Roaming\\Python\\Python39\\site-packages\\mediapipe\\python\\solution_base.py:364\u001b[0m, in \u001b[0;36mSolutionBase.process\u001b[1;34m(self, input_data)\u001b[0m\n\u001b[0;32m    358\u001b[0m   \u001b[38;5;28;01melse\u001b[39;00m:\n\u001b[0;32m    359\u001b[0m     \u001b[38;5;28mself\u001b[39m\u001b[38;5;241m.\u001b[39m_graph\u001b[38;5;241m.\u001b[39madd_packet_to_input_stream(\n\u001b[0;32m    360\u001b[0m         stream\u001b[38;5;241m=\u001b[39mstream_name,\n\u001b[0;32m    361\u001b[0m         packet\u001b[38;5;241m=\u001b[39m\u001b[38;5;28mself\u001b[39m\u001b[38;5;241m.\u001b[39m_make_packet(input_stream_type,\n\u001b[0;32m    362\u001b[0m                                  data)\u001b[38;5;241m.\u001b[39mat(\u001b[38;5;28mself\u001b[39m\u001b[38;5;241m.\u001b[39m_simulated_timestamp))\n\u001b[1;32m--> 364\u001b[0m \u001b[38;5;28;43mself\u001b[39;49m\u001b[38;5;241;43m.\u001b[39;49m\u001b[43m_graph\u001b[49m\u001b[38;5;241;43m.\u001b[39;49m\u001b[43mwait_until_idle\u001b[49m\u001b[43m(\u001b[49m\u001b[43m)\u001b[49m\n\u001b[0;32m    365\u001b[0m \u001b[38;5;66;03m# Create a NamedTuple object where the field names are mapping to the graph\u001b[39;00m\n\u001b[0;32m    366\u001b[0m \u001b[38;5;66;03m# output stream names.\u001b[39;00m\n\u001b[0;32m    367\u001b[0m solution_outputs \u001b[38;5;241m=\u001b[39m collections\u001b[38;5;241m.\u001b[39mnamedtuple(\n\u001b[0;32m    368\u001b[0m     \u001b[38;5;124m'\u001b[39m\u001b[38;5;124mSolutionOutputs\u001b[39m\u001b[38;5;124m'\u001b[39m, \u001b[38;5;28mself\u001b[39m\u001b[38;5;241m.\u001b[39m_output_stream_type_info\u001b[38;5;241m.\u001b[39mkeys())\n",
      "\u001b[1;31mKeyboardInterrupt\u001b[0m: "
     ]
    }
   ],
   "source": [
    "hands_tracked = {}\n",
    "for filename in tqdm(os.listdir(path_to_videos)):\n",
    "    hands_tracked[filename] = get_all_tracked_hand(path_to_videos+'/'+filename)"
   ]
  },
  {
   "cell_type": "code",
   "execution_count": null,
   "id": "c5f0bc53-8f10-469c-842b-675627134102",
   "metadata": {},
   "outputs": [],
   "source": []
  }
 ],
 "metadata": {
  "kernelspec": {
   "display_name": "Yolo",
   "language": "python",
   "name": "yolo"
  },
  "language_info": {
   "codemirror_mode": {
    "name": "ipython",
    "version": 3
   },
   "file_extension": ".py",
   "mimetype": "text/x-python",
   "name": "python",
   "nbconvert_exporter": "python",
   "pygments_lexer": "ipython3",
   "version": "3.9.6"
  }
 },
 "nbformat": 4,
 "nbformat_minor": 5
}
